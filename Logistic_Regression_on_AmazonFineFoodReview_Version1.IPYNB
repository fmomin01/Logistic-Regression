{
  "nbformat": 4,
  "nbformat_minor": 0,
  "metadata": {
    "colab": {
      "name": "Logistic_Regression_on_AmazonFineFoodReview.ipynb",
      "provenance": [],
      "collapsed_sections": [],
      "toc_visible": true
    },
    "kernelspec": {
      "name": "python3",
      "display_name": "Python 3"
    },
    "accelerator": "TPU"
  },
  "cells": [
    {
      "cell_type": "markdown",
      "metadata": {
        "id": "4vaXbGMReX8r",
        "colab_type": "text"
      },
      "source": [
        "# LOGISTIC REGRESSION ALGORITHM on Amazon Fine Food Reviews\n",
        "\n",
        "The Amazon Fine Food Reviews dataset consists of reviews of fine foods from Amazon.<br>\n",
        "\n",
        "Number of reviews: 568,454<br>\n",
        "Number of users: 256,059<br>\n",
        "Number of products: 74,258<br>\n",
        "Timespan: Oct 1999 - Oct 2012<br>\n",
        "Number of Attributes/Columns in data: 10 \n",
        "\n",
        "Attribute Information:\n",
        "\n",
        "1. Id\n",
        "2. ProductId - unique identifier for the product\n",
        "3. UserId - unqiue identifier for the user\n",
        "4. ProfileName\n",
        "5. HelpfulnessNumerator - number of users who found the review helpful\n",
        "6. HelpfulnessDenominator - number of users who indicated whether they found the review helpful or not\n",
        "7. Score - rating between 1 and 5\n",
        "8. Time - timestamp for the review\n",
        "9. Summary - brief summary of the review\n",
        "10. Text - text of the review\n",
        "\n",
        "\n",
        "#### Objective:\n",
        "Given a review, determine whether the review is positive (Rating of 4 or 5) or negative (rating of 1 or 2)."
      ]
    },
    {
      "cell_type": "markdown",
      "metadata": {
        "id": "_rhf5hqHekGO",
        "colab_type": "text"
      },
      "source": [
        "## Loading,Cleaning & Preprocessing the data\n",
        "\n",
        "The dataset is available in two forms\n",
        "1. .csv file\n",
        "2. SQLite Database\n",
        "\n",
        "In order to load the data, We have used the SQLITE dataset as it easier to query the data and visualise the data efficiently.\n",
        "<br> \n",
        "\n",
        "Here as we only want to get the global sentiment of the recommendations (positive or negative), we will purposefully ignore all Scores equal to 3. If the score id above 3, then the recommendation wil be set to \"positive\". Otherwise, it will be set to \"negative\".*italicized text*"
      ]
    },
    {
      "cell_type": "code",
      "metadata": {
        "id": "0CNH5dqZdEba",
        "colab_type": "code",
        "colab": {}
      },
      "source": [
        "%matplotlib inline\n",
        "import warnings\n",
        "\n",
        "warnings.filterwarnings(\"ignore\")"
      ],
      "execution_count": 0,
      "outputs": []
    },
    {
      "cell_type": "markdown",
      "metadata": {
        "id": "PRRMT0Oyeq36",
        "colab_type": "text"
      },
      "source": [
        "####Import all Required Libraries "
      ]
    },
    {
      "cell_type": "code",
      "metadata": {
        "id": "zFlj8dcEenok",
        "colab_type": "code",
        "colab": {}
      },
      "source": [
        "import sqlite3\n",
        "import pandas as pd\n",
        "import numpy as np\n",
        "import nltk\n",
        "import string\n",
        "import matplotlib.pyplot as plt\n",
        "import seaborn as sns\n",
        "from sklearn.feature_extraction.text import TfidfTransformer\n",
        "from sklearn.feature_extraction.text import TfidfVectorizer\n",
        "from sklearn.feature_extraction.text import CountVectorizer\n",
        "from sklearn.metrics import confusion_matrix\n",
        "from sklearn import metrics\n",
        "from sklearn.metrics import roc_curve, auc\n",
        "from nltk.stem.porter import PorterStemmer\n",
        "\n",
        "import re\n",
        "import string\n",
        "from nltk.corpus import stopwords\n",
        "from nltk.stem import PorterStemmer\n",
        "from nltk.stem.wordnet import WordNetLemmatizer\n",
        "\n",
        "from gensim.models import Word2Vec\n",
        "from gensim.models import KeyedVectors\n",
        "import pickle\n",
        "\n",
        "from tqdm import tqdm\n",
        "import os"
      ],
      "execution_count": 0,
      "outputs": []
    },
    {
      "cell_type": "markdown",
      "metadata": {
        "id": "sjY5Nc9ve0jM",
        "colab_type": "text"
      },
      "source": [
        "#### Pull the dataset from Google Drive & mount"
      ]
    },
    {
      "cell_type": "code",
      "metadata": {
        "id": "AMYMELmge1TQ",
        "colab_type": "code",
        "outputId": "4b2050a5-638e-4301-9919-894e0059c54b",
        "colab": {
          "base_uri": "https://localhost:8080/",
          "height": 126
        }
      },
      "source": [
        "from google.colab import drive\n",
        "drive.mount('/content/drive')"
      ],
      "execution_count": 3,
      "outputs": [
        {
          "output_type": "stream",
          "text": [
            "Go to this URL in a browser: https://accounts.google.com/o/oauth2/auth?client_id=947318989803-6bn6qk8qdgf4n4g3pfee6491hc0brc4i.apps.googleusercontent.com&redirect_uri=urn%3aietf%3awg%3aoauth%3a2.0%3aoob&response_type=code&scope=email%20https%3a%2f%2fwww.googleapis.com%2fauth%2fdocs.test%20https%3a%2f%2fwww.googleapis.com%2fauth%2fdrive%20https%3a%2f%2fwww.googleapis.com%2fauth%2fdrive.photos.readonly%20https%3a%2f%2fwww.googleapis.com%2fauth%2fpeopleapi.readonly\n",
            "\n",
            "Enter your authorization code:\n",
            "··········\n",
            "Mounted at /content/drive\n"
          ],
          "name": "stdout"
        }
      ]
    },
    {
      "cell_type": "markdown",
      "metadata": {
        "id": "n_Izzv5Ue9-m",
        "colab_type": "text"
      },
      "source": [
        "#### Connect to sqlite and fetch the data using SQL Query"
      ]
    },
    {
      "cell_type": "code",
      "metadata": {
        "id": "oQwJhQhae-lA",
        "colab_type": "code",
        "outputId": "7be5a60b-0b03-43ec-dc5b-78d1cf9dd7ed",
        "colab": {
          "base_uri": "https://localhost:8080/",
          "height": 186
        }
      },
      "source": [
        "con = sqlite3.connect(\"/content/drive/My Drive/Colab Notebooks/database.sqlite\")\n",
        "\n",
        "filtered_data=pd.read_sql_query(\"\"\"SELECT * FROM Reviews WHERE Score != 3\"\"\",con);\n",
        "filtered_data.head(3)"
      ],
      "execution_count": 4,
      "outputs": [
        {
          "output_type": "execute_result",
          "data": {
            "text/html": [
              "<div>\n",
              "<style scoped>\n",
              "    .dataframe tbody tr th:only-of-type {\n",
              "        vertical-align: middle;\n",
              "    }\n",
              "\n",
              "    .dataframe tbody tr th {\n",
              "        vertical-align: top;\n",
              "    }\n",
              "\n",
              "    .dataframe thead th {\n",
              "        text-align: right;\n",
              "    }\n",
              "</style>\n",
              "<table border=\"1\" class=\"dataframe\">\n",
              "  <thead>\n",
              "    <tr style=\"text-align: right;\">\n",
              "      <th></th>\n",
              "      <th>Id</th>\n",
              "      <th>ProductId</th>\n",
              "      <th>UserId</th>\n",
              "      <th>ProfileName</th>\n",
              "      <th>HelpfulnessNumerator</th>\n",
              "      <th>HelpfulnessDenominator</th>\n",
              "      <th>Score</th>\n",
              "      <th>Time</th>\n",
              "      <th>Summary</th>\n",
              "      <th>Text</th>\n",
              "    </tr>\n",
              "  </thead>\n",
              "  <tbody>\n",
              "    <tr>\n",
              "      <th>0</th>\n",
              "      <td>1</td>\n",
              "      <td>B001E4KFG0</td>\n",
              "      <td>A3SGXH7AUHU8GW</td>\n",
              "      <td>delmartian</td>\n",
              "      <td>1</td>\n",
              "      <td>1</td>\n",
              "      <td>5</td>\n",
              "      <td>1303862400</td>\n",
              "      <td>Good Quality Dog Food</td>\n",
              "      <td>I have bought several of the Vitality canned d...</td>\n",
              "    </tr>\n",
              "    <tr>\n",
              "      <th>1</th>\n",
              "      <td>2</td>\n",
              "      <td>B00813GRG4</td>\n",
              "      <td>A1D87F6ZCVE5NK</td>\n",
              "      <td>dll pa</td>\n",
              "      <td>0</td>\n",
              "      <td>0</td>\n",
              "      <td>1</td>\n",
              "      <td>1346976000</td>\n",
              "      <td>Not as Advertised</td>\n",
              "      <td>Product arrived labeled as Jumbo Salted Peanut...</td>\n",
              "    </tr>\n",
              "    <tr>\n",
              "      <th>2</th>\n",
              "      <td>3</td>\n",
              "      <td>B000LQOCH0</td>\n",
              "      <td>ABXLMWJIXXAIN</td>\n",
              "      <td>Natalia Corres \"Natalia Corres\"</td>\n",
              "      <td>1</td>\n",
              "      <td>1</td>\n",
              "      <td>4</td>\n",
              "      <td>1219017600</td>\n",
              "      <td>\"Delight\" says it all</td>\n",
              "      <td>This is a confection that has been around a fe...</td>\n",
              "    </tr>\n",
              "  </tbody>\n",
              "</table>\n",
              "</div>"
            ],
            "text/plain": [
              "   Id  ...                                               Text\n",
              "0   1  ...  I have bought several of the Vitality canned d...\n",
              "1   2  ...  Product arrived labeled as Jumbo Salted Peanut...\n",
              "2   3  ...  This is a confection that has been around a fe...\n",
              "\n",
              "[3 rows x 10 columns]"
            ]
          },
          "metadata": {
            "tags": []
          },
          "execution_count": 4
        }
      ]
    },
    {
      "cell_type": "code",
      "metadata": {
        "id": "v5zW4qtqfEm8",
        "colab_type": "code",
        "outputId": "9df1d169-d870-42c5-a6b6-11166dd4bb5d",
        "colab": {
          "base_uri": "https://localhost:8080/",
          "height": 35
        }
      },
      "source": [
        "filtered_data.shape"
      ],
      "execution_count": 5,
      "outputs": [
        {
          "output_type": "execute_result",
          "data": {
            "text/plain": [
              "(525814, 10)"
            ]
          },
          "metadata": {
            "tags": []
          },
          "execution_count": 5
        }
      ]
    },
    {
      "cell_type": "code",
      "metadata": {
        "id": "jzqYWs3_fGs-",
        "colab_type": "code",
        "outputId": "47e84209-6b53-47df-8d54-12db23bdf112",
        "colab": {
          "base_uri": "https://localhost:8080/",
          "height": 204
        }
      },
      "source": [
        "def partition(x):\n",
        "  if x < 3 :\n",
        "    return 'negative'\n",
        "  return 'positive'\n",
        "\n",
        "actualScore=filtered_data['Score']\n",
        "positive_negative=actualScore.map(partition)\n",
        "filtered_data['Score']=positive_negative\n",
        "print(\"Number of datapoints\",filtered_data.shape)\n",
        "filtered_data.head(3)"
      ],
      "execution_count": 6,
      "outputs": [
        {
          "output_type": "stream",
          "text": [
            "Number of datapoints (525814, 10)\n"
          ],
          "name": "stdout"
        },
        {
          "output_type": "execute_result",
          "data": {
            "text/html": [
              "<div>\n",
              "<style scoped>\n",
              "    .dataframe tbody tr th:only-of-type {\n",
              "        vertical-align: middle;\n",
              "    }\n",
              "\n",
              "    .dataframe tbody tr th {\n",
              "        vertical-align: top;\n",
              "    }\n",
              "\n",
              "    .dataframe thead th {\n",
              "        text-align: right;\n",
              "    }\n",
              "</style>\n",
              "<table border=\"1\" class=\"dataframe\">\n",
              "  <thead>\n",
              "    <tr style=\"text-align: right;\">\n",
              "      <th></th>\n",
              "      <th>Id</th>\n",
              "      <th>ProductId</th>\n",
              "      <th>UserId</th>\n",
              "      <th>ProfileName</th>\n",
              "      <th>HelpfulnessNumerator</th>\n",
              "      <th>HelpfulnessDenominator</th>\n",
              "      <th>Score</th>\n",
              "      <th>Time</th>\n",
              "      <th>Summary</th>\n",
              "      <th>Text</th>\n",
              "    </tr>\n",
              "  </thead>\n",
              "  <tbody>\n",
              "    <tr>\n",
              "      <th>0</th>\n",
              "      <td>1</td>\n",
              "      <td>B001E4KFG0</td>\n",
              "      <td>A3SGXH7AUHU8GW</td>\n",
              "      <td>delmartian</td>\n",
              "      <td>1</td>\n",
              "      <td>1</td>\n",
              "      <td>positive</td>\n",
              "      <td>1303862400</td>\n",
              "      <td>Good Quality Dog Food</td>\n",
              "      <td>I have bought several of the Vitality canned d...</td>\n",
              "    </tr>\n",
              "    <tr>\n",
              "      <th>1</th>\n",
              "      <td>2</td>\n",
              "      <td>B00813GRG4</td>\n",
              "      <td>A1D87F6ZCVE5NK</td>\n",
              "      <td>dll pa</td>\n",
              "      <td>0</td>\n",
              "      <td>0</td>\n",
              "      <td>negative</td>\n",
              "      <td>1346976000</td>\n",
              "      <td>Not as Advertised</td>\n",
              "      <td>Product arrived labeled as Jumbo Salted Peanut...</td>\n",
              "    </tr>\n",
              "    <tr>\n",
              "      <th>2</th>\n",
              "      <td>3</td>\n",
              "      <td>B000LQOCH0</td>\n",
              "      <td>ABXLMWJIXXAIN</td>\n",
              "      <td>Natalia Corres \"Natalia Corres\"</td>\n",
              "      <td>1</td>\n",
              "      <td>1</td>\n",
              "      <td>positive</td>\n",
              "      <td>1219017600</td>\n",
              "      <td>\"Delight\" says it all</td>\n",
              "      <td>This is a confection that has been around a fe...</td>\n",
              "    </tr>\n",
              "  </tbody>\n",
              "</table>\n",
              "</div>"
            ],
            "text/plain": [
              "   Id  ...                                               Text\n",
              "0   1  ...  I have bought several of the Vitality canned d...\n",
              "1   2  ...  Product arrived labeled as Jumbo Salted Peanut...\n",
              "2   3  ...  This is a confection that has been around a fe...\n",
              "\n",
              "[3 rows x 10 columns]"
            ]
          },
          "metadata": {
            "tags": []
          },
          "execution_count": 6
        }
      ]
    },
    {
      "cell_type": "code",
      "metadata": {
        "id": "O1RZ-bDhfI3e",
        "colab_type": "code",
        "colab": {}
      },
      "source": [
        "display = pd.read_sql_query(\"\"\"\n",
        "SELECT UserId, ProductId, ProfileName, Time, Score, Text, COUNT(*)\n",
        "FROM Reviews\n",
        "GROUP BY UserId\n",
        "HAVING COUNT(*)>1\n",
        "\"\"\", con)"
      ],
      "execution_count": 0,
      "outputs": []
    },
    {
      "cell_type": "code",
      "metadata": {
        "id": "hl7AChpQfP7i",
        "colab_type": "code",
        "outputId": "78c56313-259d-45d3-ed68-442a9059d711",
        "colab": {
          "base_uri": "https://localhost:8080/",
          "height": 153
        }
      },
      "source": [
        "print(display.shape)\n",
        "display.head(3)"
      ],
      "execution_count": 8,
      "outputs": [
        {
          "output_type": "stream",
          "text": [
            "(80668, 7)\n"
          ],
          "name": "stdout"
        },
        {
          "output_type": "execute_result",
          "data": {
            "text/html": [
              "<div>\n",
              "<style scoped>\n",
              "    .dataframe tbody tr th:only-of-type {\n",
              "        vertical-align: middle;\n",
              "    }\n",
              "\n",
              "    .dataframe tbody tr th {\n",
              "        vertical-align: top;\n",
              "    }\n",
              "\n",
              "    .dataframe thead th {\n",
              "        text-align: right;\n",
              "    }\n",
              "</style>\n",
              "<table border=\"1\" class=\"dataframe\">\n",
              "  <thead>\n",
              "    <tr style=\"text-align: right;\">\n",
              "      <th></th>\n",
              "      <th>UserId</th>\n",
              "      <th>ProductId</th>\n",
              "      <th>ProfileName</th>\n",
              "      <th>Time</th>\n",
              "      <th>Score</th>\n",
              "      <th>Text</th>\n",
              "      <th>COUNT(*)</th>\n",
              "    </tr>\n",
              "  </thead>\n",
              "  <tbody>\n",
              "    <tr>\n",
              "      <th>0</th>\n",
              "      <td>#oc-R115TNMSPFT9I7</td>\n",
              "      <td>B007Y59HVM</td>\n",
              "      <td>Breyton</td>\n",
              "      <td>1331510400</td>\n",
              "      <td>2</td>\n",
              "      <td>Overall its just OK when considering the price...</td>\n",
              "      <td>2</td>\n",
              "    </tr>\n",
              "    <tr>\n",
              "      <th>1</th>\n",
              "      <td>#oc-R11D9D7SHXIJB9</td>\n",
              "      <td>B005HG9ET0</td>\n",
              "      <td>Louis E. Emory \"hoppy\"</td>\n",
              "      <td>1342396800</td>\n",
              "      <td>5</td>\n",
              "      <td>My wife has recurring extreme muscle spasms, u...</td>\n",
              "      <td>3</td>\n",
              "    </tr>\n",
              "    <tr>\n",
              "      <th>2</th>\n",
              "      <td>#oc-R11DNU2NBKQ23Z</td>\n",
              "      <td>B007Y59HVM</td>\n",
              "      <td>Kim Cieszykowski</td>\n",
              "      <td>1348531200</td>\n",
              "      <td>1</td>\n",
              "      <td>This coffee is horrible and unfortunately not ...</td>\n",
              "      <td>2</td>\n",
              "    </tr>\n",
              "  </tbody>\n",
              "</table>\n",
              "</div>"
            ],
            "text/plain": [
              "               UserId  ... COUNT(*)\n",
              "0  #oc-R115TNMSPFT9I7  ...        2\n",
              "1  #oc-R11D9D7SHXIJB9  ...        3\n",
              "2  #oc-R11DNU2NBKQ23Z  ...        2\n",
              "\n",
              "[3 rows x 7 columns]"
            ]
          },
          "metadata": {
            "tags": []
          },
          "execution_count": 8
        }
      ]
    },
    {
      "cell_type": "code",
      "metadata": {
        "id": "NQmEJ3YFfTbx",
        "colab_type": "code",
        "outputId": "9d7e45d7-8053-4d4a-f5ca-9dbc7308f22c",
        "colab": {
          "base_uri": "https://localhost:8080/",
          "height": 76
        }
      },
      "source": [
        "display[display[\"UserId\"]=='AZY10LLTJ71NX']"
      ],
      "execution_count": 9,
      "outputs": [
        {
          "output_type": "execute_result",
          "data": {
            "text/html": [
              "<div>\n",
              "<style scoped>\n",
              "    .dataframe tbody tr th:only-of-type {\n",
              "        vertical-align: middle;\n",
              "    }\n",
              "\n",
              "    .dataframe tbody tr th {\n",
              "        vertical-align: top;\n",
              "    }\n",
              "\n",
              "    .dataframe thead th {\n",
              "        text-align: right;\n",
              "    }\n",
              "</style>\n",
              "<table border=\"1\" class=\"dataframe\">\n",
              "  <thead>\n",
              "    <tr style=\"text-align: right;\">\n",
              "      <th></th>\n",
              "      <th>UserId</th>\n",
              "      <th>ProductId</th>\n",
              "      <th>ProfileName</th>\n",
              "      <th>Time</th>\n",
              "      <th>Score</th>\n",
              "      <th>Text</th>\n",
              "      <th>COUNT(*)</th>\n",
              "    </tr>\n",
              "  </thead>\n",
              "  <tbody>\n",
              "    <tr>\n",
              "      <th>80638</th>\n",
              "      <td>AZY10LLTJ71NX</td>\n",
              "      <td>B006P7E5ZI</td>\n",
              "      <td>undertheshrine \"undertheshrine\"</td>\n",
              "      <td>1334707200</td>\n",
              "      <td>5</td>\n",
              "      <td>I was recommended to try green tea extract to ...</td>\n",
              "      <td>5</td>\n",
              "    </tr>\n",
              "  </tbody>\n",
              "</table>\n",
              "</div>"
            ],
            "text/plain": [
              "              UserId  ... COUNT(*)\n",
              "80638  AZY10LLTJ71NX  ...        5\n",
              "\n",
              "[1 rows x 7 columns]"
            ]
          },
          "metadata": {
            "tags": []
          },
          "execution_count": 9
        }
      ]
    },
    {
      "cell_type": "code",
      "metadata": {
        "id": "mNxIDlngfV0B",
        "colab_type": "code",
        "outputId": "f791d082-d470-4272-f0e3-c7f6fad3aba9",
        "colab": {
          "base_uri": "https://localhost:8080/",
          "height": 35
        }
      },
      "source": [
        "display['COUNT(*)'].sum()"
      ],
      "execution_count": 10,
      "outputs": [
        {
          "output_type": "execute_result",
          "data": {
            "text/plain": [
              "393063"
            ]
          },
          "metadata": {
            "tags": []
          },
          "execution_count": 10
        }
      ]
    },
    {
      "cell_type": "code",
      "metadata": {
        "id": "MF5jb9XRfXyI",
        "colab_type": "code",
        "outputId": "3742035c-ff4a-42aa-e1c1-1e4d69e29b52",
        "colab": {
          "base_uri": "https://localhost:8080/",
          "height": 363
        }
      },
      "source": [
        "display= pd.read_sql_query(\"\"\"\n",
        "SELECT *\n",
        "FROM Reviews\n",
        "WHERE Score != 3 AND UserId=\"AR5J8UI46CURR\"\n",
        "ORDER BY ProductID\n",
        "\"\"\", con)\n",
        "display.head()"
      ],
      "execution_count": 11,
      "outputs": [
        {
          "output_type": "execute_result",
          "data": {
            "text/html": [
              "<div>\n",
              "<style scoped>\n",
              "    .dataframe tbody tr th:only-of-type {\n",
              "        vertical-align: middle;\n",
              "    }\n",
              "\n",
              "    .dataframe tbody tr th {\n",
              "        vertical-align: top;\n",
              "    }\n",
              "\n",
              "    .dataframe thead th {\n",
              "        text-align: right;\n",
              "    }\n",
              "</style>\n",
              "<table border=\"1\" class=\"dataframe\">\n",
              "  <thead>\n",
              "    <tr style=\"text-align: right;\">\n",
              "      <th></th>\n",
              "      <th>Id</th>\n",
              "      <th>ProductId</th>\n",
              "      <th>UserId</th>\n",
              "      <th>ProfileName</th>\n",
              "      <th>HelpfulnessNumerator</th>\n",
              "      <th>HelpfulnessDenominator</th>\n",
              "      <th>Score</th>\n",
              "      <th>Time</th>\n",
              "      <th>Summary</th>\n",
              "      <th>Text</th>\n",
              "    </tr>\n",
              "  </thead>\n",
              "  <tbody>\n",
              "    <tr>\n",
              "      <th>0</th>\n",
              "      <td>78445</td>\n",
              "      <td>B000HDL1RQ</td>\n",
              "      <td>AR5J8UI46CURR</td>\n",
              "      <td>Geetha Krishnan</td>\n",
              "      <td>2</td>\n",
              "      <td>2</td>\n",
              "      <td>5</td>\n",
              "      <td>1199577600</td>\n",
              "      <td>LOACKER QUADRATINI VANILLA WAFERS</td>\n",
              "      <td>DELICIOUS WAFERS. I FIND THAT EUROPEAN WAFERS ...</td>\n",
              "    </tr>\n",
              "    <tr>\n",
              "      <th>1</th>\n",
              "      <td>138317</td>\n",
              "      <td>B000HDOPYC</td>\n",
              "      <td>AR5J8UI46CURR</td>\n",
              "      <td>Geetha Krishnan</td>\n",
              "      <td>2</td>\n",
              "      <td>2</td>\n",
              "      <td>5</td>\n",
              "      <td>1199577600</td>\n",
              "      <td>LOACKER QUADRATINI VANILLA WAFERS</td>\n",
              "      <td>DELICIOUS WAFERS. I FIND THAT EUROPEAN WAFERS ...</td>\n",
              "    </tr>\n",
              "    <tr>\n",
              "      <th>2</th>\n",
              "      <td>138277</td>\n",
              "      <td>B000HDOPYM</td>\n",
              "      <td>AR5J8UI46CURR</td>\n",
              "      <td>Geetha Krishnan</td>\n",
              "      <td>2</td>\n",
              "      <td>2</td>\n",
              "      <td>5</td>\n",
              "      <td>1199577600</td>\n",
              "      <td>LOACKER QUADRATINI VANILLA WAFERS</td>\n",
              "      <td>DELICIOUS WAFERS. I FIND THAT EUROPEAN WAFERS ...</td>\n",
              "    </tr>\n",
              "    <tr>\n",
              "      <th>3</th>\n",
              "      <td>73791</td>\n",
              "      <td>B000HDOPZG</td>\n",
              "      <td>AR5J8UI46CURR</td>\n",
              "      <td>Geetha Krishnan</td>\n",
              "      <td>2</td>\n",
              "      <td>2</td>\n",
              "      <td>5</td>\n",
              "      <td>1199577600</td>\n",
              "      <td>LOACKER QUADRATINI VANILLA WAFERS</td>\n",
              "      <td>DELICIOUS WAFERS. I FIND THAT EUROPEAN WAFERS ...</td>\n",
              "    </tr>\n",
              "    <tr>\n",
              "      <th>4</th>\n",
              "      <td>155049</td>\n",
              "      <td>B000PAQ75C</td>\n",
              "      <td>AR5J8UI46CURR</td>\n",
              "      <td>Geetha Krishnan</td>\n",
              "      <td>2</td>\n",
              "      <td>2</td>\n",
              "      <td>5</td>\n",
              "      <td>1199577600</td>\n",
              "      <td>LOACKER QUADRATINI VANILLA WAFERS</td>\n",
              "      <td>DELICIOUS WAFERS. I FIND THAT EUROPEAN WAFERS ...</td>\n",
              "    </tr>\n",
              "  </tbody>\n",
              "</table>\n",
              "</div>"
            ],
            "text/plain": [
              "       Id  ...                                               Text\n",
              "0   78445  ...  DELICIOUS WAFERS. I FIND THAT EUROPEAN WAFERS ...\n",
              "1  138317  ...  DELICIOUS WAFERS. I FIND THAT EUROPEAN WAFERS ...\n",
              "2  138277  ...  DELICIOUS WAFERS. I FIND THAT EUROPEAN WAFERS ...\n",
              "3   73791  ...  DELICIOUS WAFERS. I FIND THAT EUROPEAN WAFERS ...\n",
              "4  155049  ...  DELICIOUS WAFERS. I FIND THAT EUROPEAN WAFERS ...\n",
              "\n",
              "[5 rows x 10 columns]"
            ]
          },
          "metadata": {
            "tags": []
          },
          "execution_count": 11
        }
      ]
    },
    {
      "cell_type": "code",
      "metadata": {
        "id": "R8A6NnwCfap4",
        "colab_type": "code",
        "outputId": "8e3cb77f-b180-4975-de7a-521eaa21b1cd",
        "colab": {
          "base_uri": "https://localhost:8080/",
          "height": 35
        }
      },
      "source": [
        "sorted_data=filtered_data.sort_values('ProductId',axis=0,ascending=True,inplace=False,kind='quicksort',na_position='last')\n",
        "\n",
        "final_data=sorted_data.drop_duplicates(subset={\"UserId\",\"ProfileName\",\"Time\",\"Text\"},keep='first',inplace=False)\n",
        "final_data.shape"
      ],
      "execution_count": 12,
      "outputs": [
        {
          "output_type": "execute_result",
          "data": {
            "text/plain": [
              "(364173, 10)"
            ]
          },
          "metadata": {
            "tags": []
          },
          "execution_count": 12
        }
      ]
    },
    {
      "cell_type": "code",
      "metadata": {
        "id": "r67zOh-vfc4n",
        "colab_type": "code",
        "outputId": "bc1e5c91-b841-4ac1-8195-86acc6ef542b",
        "colab": {
          "base_uri": "https://localhost:8080/",
          "height": 35
        }
      },
      "source": [
        "(final_data['Id'].size*1.0)/(filtered_data['Id'].size*1.0)*100"
      ],
      "execution_count": 13,
      "outputs": [
        {
          "output_type": "execute_result",
          "data": {
            "text/plain": [
              "69.25890143662969"
            ]
          },
          "metadata": {
            "tags": []
          },
          "execution_count": 13
        }
      ]
    },
    {
      "cell_type": "code",
      "metadata": {
        "id": "GdWiUOAJfe5T",
        "colab_type": "code",
        "outputId": "19efdd2e-f15a-4d56-9e57-caf182742578",
        "colab": {
          "base_uri": "https://localhost:8080/",
          "height": 140
        }
      },
      "source": [
        "display= pd.read_sql_query(\"\"\"\n",
        "SELECT *\n",
        "FROM Reviews\n",
        "WHERE Score != 3 AND Id=44737 OR Id=64422\n",
        "ORDER BY ProductID\n",
        "\"\"\", con)\n",
        "\n",
        "display.head()"
      ],
      "execution_count": 14,
      "outputs": [
        {
          "output_type": "execute_result",
          "data": {
            "text/html": [
              "<div>\n",
              "<style scoped>\n",
              "    .dataframe tbody tr th:only-of-type {\n",
              "        vertical-align: middle;\n",
              "    }\n",
              "\n",
              "    .dataframe tbody tr th {\n",
              "        vertical-align: top;\n",
              "    }\n",
              "\n",
              "    .dataframe thead th {\n",
              "        text-align: right;\n",
              "    }\n",
              "</style>\n",
              "<table border=\"1\" class=\"dataframe\">\n",
              "  <thead>\n",
              "    <tr style=\"text-align: right;\">\n",
              "      <th></th>\n",
              "      <th>Id</th>\n",
              "      <th>ProductId</th>\n",
              "      <th>UserId</th>\n",
              "      <th>ProfileName</th>\n",
              "      <th>HelpfulnessNumerator</th>\n",
              "      <th>HelpfulnessDenominator</th>\n",
              "      <th>Score</th>\n",
              "      <th>Time</th>\n",
              "      <th>Summary</th>\n",
              "      <th>Text</th>\n",
              "    </tr>\n",
              "  </thead>\n",
              "  <tbody>\n",
              "    <tr>\n",
              "      <th>0</th>\n",
              "      <td>64422</td>\n",
              "      <td>B000MIDROQ</td>\n",
              "      <td>A161DK06JJMCYF</td>\n",
              "      <td>J. E. Stephens \"Jeanne\"</td>\n",
              "      <td>3</td>\n",
              "      <td>1</td>\n",
              "      <td>5</td>\n",
              "      <td>1224892800</td>\n",
              "      <td>Bought This for My Son at College</td>\n",
              "      <td>My son loves spaghetti so I didn't hesitate or...</td>\n",
              "    </tr>\n",
              "    <tr>\n",
              "      <th>1</th>\n",
              "      <td>44737</td>\n",
              "      <td>B001EQ55RW</td>\n",
              "      <td>A2V0I904FH7ABY</td>\n",
              "      <td>Ram</td>\n",
              "      <td>3</td>\n",
              "      <td>2</td>\n",
              "      <td>4</td>\n",
              "      <td>1212883200</td>\n",
              "      <td>Pure cocoa taste with crunchy almonds inside</td>\n",
              "      <td>It was almost a 'love at first bite' - the per...</td>\n",
              "    </tr>\n",
              "  </tbody>\n",
              "</table>\n",
              "</div>"
            ],
            "text/plain": [
              "      Id  ...                                               Text\n",
              "0  64422  ...  My son loves spaghetti so I didn't hesitate or...\n",
              "1  44737  ...  It was almost a 'love at first bite' - the per...\n",
              "\n",
              "[2 rows x 10 columns]"
            ]
          },
          "metadata": {
            "tags": []
          },
          "execution_count": 14
        }
      ]
    },
    {
      "cell_type": "code",
      "metadata": {
        "id": "9w7fg_Sxfg58",
        "colab_type": "code",
        "colab": {}
      },
      "source": [
        "final_data=final_data[final_data.HelpfulnessNumerator<=final_data.HelpfulnessDenominator]"
      ],
      "execution_count": 0,
      "outputs": []
    },
    {
      "cell_type": "markdown",
      "metadata": {
        "id": "P8ZMUKn8fjVw",
        "colab_type": "text"
      },
      "source": [
        "#### Count the Positive and Negative Review Counts"
      ]
    },
    {
      "cell_type": "code",
      "metadata": {
        "id": "AOGV2v6Ffj4I",
        "colab_type": "code",
        "outputId": "5b106dea-88bd-4ee5-ea3e-0e1e1c7e41c2",
        "colab": {
          "base_uri": "https://localhost:8080/",
          "height": 88
        }
      },
      "source": [
        "print(final_data.shape)\n",
        "\n",
        "#How many positive and negative reviews are present in our dataset?\n",
        "final_data['Score'].value_counts()"
      ],
      "execution_count": 16,
      "outputs": [
        {
          "output_type": "stream",
          "text": [
            "(364171, 10)\n"
          ],
          "name": "stdout"
        },
        {
          "output_type": "execute_result",
          "data": {
            "text/plain": [
              "positive    307061\n",
              "negative     57110\n",
              "Name: Score, dtype: int64"
            ]
          },
          "metadata": {
            "tags": []
          },
          "execution_count": 16
        }
      ]
    },
    {
      "cell_type": "markdown",
      "metadata": {
        "id": "W1ZMXeblfoL5",
        "colab_type": "text"
      },
      "source": [
        "#### Import nltk library"
      ]
    },
    {
      "cell_type": "code",
      "metadata": {
        "id": "fDjvpyixfpBF",
        "colab_type": "code",
        "outputId": "0d54b330-1587-4afd-908f-c7f26f14a73a",
        "colab": {
          "base_uri": "https://localhost:8080/",
          "height": 70
        }
      },
      "source": [
        "nltk.download('stopwords')"
      ],
      "execution_count": 17,
      "outputs": [
        {
          "output_type": "stream",
          "text": [
            "[nltk_data] Downloading package stopwords to /root/nltk_data...\n",
            "[nltk_data]   Unzipping corpora/stopwords.zip.\n"
          ],
          "name": "stdout"
        },
        {
          "output_type": "execute_result",
          "data": {
            "text/plain": [
              "True"
            ]
          },
          "metadata": {
            "tags": []
          },
          "execution_count": 17
        }
      ]
    },
    {
      "cell_type": "markdown",
      "metadata": {
        "id": "NYrq4h9YfyDB",
        "colab_type": "text"
      },
      "source": [
        "#### Find the Stopping Words"
      ]
    },
    {
      "cell_type": "code",
      "metadata": {
        "id": "Np8-bFPxfwyc",
        "colab_type": "code",
        "outputId": "7e1863f0-b7a7-494d-eb51-2033489f424b",
        "colab": {
          "base_uri": "https://localhost:8080/",
          "height": 55
        }
      },
      "source": [
        "stopping_words = set(stopwords.words('english'))\n",
        "print(stopping_words)"
      ],
      "execution_count": 18,
      "outputs": [
        {
          "output_type": "stream",
          "text": [
            "{'what', \"hasn't\", 'which', 'in', 'd', 'haven', 'y', 'with', 'after', 'his', 'other', 'don', 'll', \"shouldn't\", 'won', 'of', 'down', 'from', 'couldn', 'didn', 'only', \"you're\", 'where', 's', 'and', 'or', 'who', 'had', \"she's\", 'further', 'myself', 'too', 'into', \"shan't\", 'ma', \"won't\", 'against', 'at', 'hers', 'them', 'same', 'their', \"you'll\", 'can', 'both', 'own', 'hasn', 'ourselves', 'herself', 'few', 'if', 're', \"doesn't\", 'once', 've', \"needn't\", 'not', 'but', 'about', \"hadn't\", 'out', 'all', 'until', 'here', 'mustn', 'for', \"you'd\", 'when', 'each', \"mightn't\", 'to', 'o', 'no', \"haven't\", 'any', 'an', 'm', 'i', 'been', 'nor', 'him', 'did', \"that'll\", 'our', 'on', 'through', 'should', 'very', 'most', 'is', \"didn't\", \"isn't\", \"weren't\", 'your', 'why', 'doesn', \"you've\", 'whom', 'than', 'we', 'under', 'again', 'the', 'were', 'then', 'doing', 'so', 'mightn', 'below', 'theirs', 'me', 'before', 'now', 'wasn', 'being', 'there', 'am', 'aren', 'ours', \"wasn't\", 'over', 'that', \"wouldn't\", \"it's\", 'does', 'they', 'a', 'such', 'while', 'its', 'he', 'be', 'itself', 'off', 'hadn', 'those', 't', \"couldn't\", 'her', \"don't\", 'shan', 'these', 'between', 'isn', 'my', 'above', 'some', 'will', 'weren', 'yourself', 'yours', 'she', 'are', 'during', 'up', 'just', \"aren't\", 'was', 'wouldn', 'has', 'themselves', 'as', 'because', 'how', 'shouldn', \"mustn't\", 'this', 'more', 'you', 'it', 'ain', 'needn', 'yourselves', 'have', \"should've\", 'by', 'do', 'himself', 'having'}\n"
          ],
          "name": "stdout"
        }
      ]
    },
    {
      "cell_type": "code",
      "metadata": {
        "id": "Xsz2--SAf2s2",
        "colab_type": "code",
        "colab": {}
      },
      "source": [
        "def clean_html(text):\n",
        "    clean_r = re.compile('<,*?>')\n",
        "    clean_text = re.sub(clean_r,'',text)\n",
        "    return clean_text\n",
        "\n",
        "def Clean_punc(text):\n",
        "    clean_sentence = re.sub(r'[?|!|\\'|\"|#]',r' ',text)\n",
        "    clean_data = re.sub(r'[.|,|)|(|\\|/)]',r' ',clean_sentence)\n",
        "    return clean_data"
      ],
      "execution_count": 0,
      "outputs": []
    },
    {
      "cell_type": "code",
      "metadata": {
        "id": "rNbMpoWGf6sx",
        "colab_type": "code",
        "outputId": "46ef8bb5-f6b8-43e2-bca1-905da6b640a9",
        "colab": {
          "base_uri": "https://localhost:8080/",
          "height": 35
        }
      },
      "source": [
        "from tqdm import tqdm\n",
        "import os\n",
        "import pdb\n",
        "import pickle\n",
        "\n",
        "from tqdm import tqdm\n",
        "import os\n",
        "import pdb\n",
        "import pickle\n",
        "\n",
        "stem_no = nltk.stem.SnowballStemmer('english')\n",
        "\n",
        "if not os.path.isfile('final_data.sqlite'):\n",
        "    final_string=[]\n",
        "    all_positive_words=[]\n",
        "    all_negative_words=[]\n",
        "    for i,sentence in enumerate(tqdm(final_data['Text'].values)):\n",
        "        filtered_sentence=[]\n",
        "        sent_without_html_tags=clean_html(sentence)\n",
        "        #pdb.set_trace()\n",
        "        for w in sent_without_html_tags.split():\n",
        "            for cleaned_words in Clean_punc(w).split():\n",
        "                if ((cleaned_words.isalpha()) & (len(cleaned_words) > 2)):\n",
        "                    if(cleaned_words.lower() not in stopping_words) :\n",
        "                        stemming=(stem_no.stem(cleaned_words.lower())).encode('utf8')\n",
        "                        filtered_sentence.append(stemming)\n",
        "                        if(final_data['Score'].values)[i]=='positive':\n",
        "                            all_positive_words.append(stemming)\n",
        "                        if(final_data['Score'].values)[i]=='negative':\n",
        "                            all_negative_words.append(stemming)\n",
        "        str1 = b\" \".join(filtered_sentence)\n",
        "        final_string.append(str1)\n",
        "        \n",
        "    final_data['Cleaned_text']=final_string\n",
        "    final_data['Cleaned_text']=final_data['Cleaned_text'].str.decode(\"utf-8\")    \n",
        "    \n",
        "    conn = sqlite3.connect('final_data.sqlite')\n",
        "    cursor=conn.cursor\n",
        "    conn.text_factory = str\n",
        "    final_data.to_sql('Reviews',conn,schema=None,if_exists='replace',index=True,index_label=None,chunksize=None,dtype=None)\n",
        "    conn.close()\n",
        "    \n",
        "    \n",
        "    with open('positive_words.pkl','wb') as f :\n",
        "        pickle.dump(all_positive_words,f)\n",
        "    with open('negative_words.pkl','wb') as f :\n",
        "        pickle.dump(all_negative_words,f)"
      ],
      "execution_count": 20,
      "outputs": [
        {
          "output_type": "stream",
          "text": [
            "100%|██████████| 364171/364171 [06:15<00:00, 970.86it/s]\n"
          ],
          "name": "stderr"
        }
      ]
    },
    {
      "cell_type": "markdown",
      "metadata": {
        "id": "oYwZsGb_iHSk",
        "colab_type": "text"
      },
      "source": [
        "#### Find the Total Number of Words in the Review Text"
      ]
    },
    {
      "cell_type": "code",
      "metadata": {
        "id": "qNopwwLviICF",
        "colab_type": "code",
        "colab": {}
      },
      "source": [
        "final_data['total_words'] = [len(x.split()) for x in final_data['Cleaned_text'].tolist()] "
      ],
      "execution_count": 0,
      "outputs": []
    },
    {
      "cell_type": "code",
      "metadata": {
        "id": "PZtMkUpEiYDz",
        "colab_type": "code",
        "outputId": "dbae78b1-b48b-4c91-8cf8-c5b87151232d",
        "colab": {
          "base_uri": "https://localhost:8080/",
          "height": 476
        }
      },
      "source": [
        "final_data.head(3)"
      ],
      "execution_count": 22,
      "outputs": [
        {
          "output_type": "execute_result",
          "data": {
            "text/html": [
              "<div>\n",
              "<style scoped>\n",
              "    .dataframe tbody tr th:only-of-type {\n",
              "        vertical-align: middle;\n",
              "    }\n",
              "\n",
              "    .dataframe tbody tr th {\n",
              "        vertical-align: top;\n",
              "    }\n",
              "\n",
              "    .dataframe thead th {\n",
              "        text-align: right;\n",
              "    }\n",
              "</style>\n",
              "<table border=\"1\" class=\"dataframe\">\n",
              "  <thead>\n",
              "    <tr style=\"text-align: right;\">\n",
              "      <th></th>\n",
              "      <th>Id</th>\n",
              "      <th>ProductId</th>\n",
              "      <th>UserId</th>\n",
              "      <th>ProfileName</th>\n",
              "      <th>HelpfulnessNumerator</th>\n",
              "      <th>HelpfulnessDenominator</th>\n",
              "      <th>Score</th>\n",
              "      <th>Time</th>\n",
              "      <th>Summary</th>\n",
              "      <th>Text</th>\n",
              "      <th>Cleaned_text</th>\n",
              "      <th>total_words</th>\n",
              "    </tr>\n",
              "  </thead>\n",
              "  <tbody>\n",
              "    <tr>\n",
              "      <th>138706</th>\n",
              "      <td>150524</td>\n",
              "      <td>0006641040</td>\n",
              "      <td>ACITT7DI6IDDL</td>\n",
              "      <td>shari zychinski</td>\n",
              "      <td>0</td>\n",
              "      <td>0</td>\n",
              "      <td>positive</td>\n",
              "      <td>939340800</td>\n",
              "      <td>EVERY book is educational</td>\n",
              "      <td>this witty little book makes my son laugh at l...</td>\n",
              "      <td>witti littl book make son laugh loud recit car...</td>\n",
              "      <td>34</td>\n",
              "    </tr>\n",
              "    <tr>\n",
              "      <th>138688</th>\n",
              "      <td>150506</td>\n",
              "      <td>0006641040</td>\n",
              "      <td>A2IW4PEEKO2R0U</td>\n",
              "      <td>Tracy</td>\n",
              "      <td>1</td>\n",
              "      <td>1</td>\n",
              "      <td>positive</td>\n",
              "      <td>1194739200</td>\n",
              "      <td>Love the book, miss the hard cover version</td>\n",
              "      <td>I grew up reading these Sendak books, and watc...</td>\n",
              "      <td>grew read sendak book watch realli rosi movi i...</td>\n",
              "      <td>27</td>\n",
              "    </tr>\n",
              "    <tr>\n",
              "      <th>138689</th>\n",
              "      <td>150507</td>\n",
              "      <td>0006641040</td>\n",
              "      <td>A1S4A3IQ2MU7V4</td>\n",
              "      <td>sally sue \"sally sue\"</td>\n",
              "      <td>1</td>\n",
              "      <td>1</td>\n",
              "      <td>positive</td>\n",
              "      <td>1191456000</td>\n",
              "      <td>chicken soup with rice months</td>\n",
              "      <td>This is a fun way for children to learn their ...</td>\n",
              "      <td>fun way children learn month year learn poem t...</td>\n",
              "      <td>15</td>\n",
              "    </tr>\n",
              "  </tbody>\n",
              "</table>\n",
              "</div>"
            ],
            "text/plain": [
              "            Id  ... total_words\n",
              "138706  150524  ...          34\n",
              "138688  150506  ...          27\n",
              "138689  150507  ...          15\n",
              "\n",
              "[3 rows x 12 columns]"
            ]
          },
          "metadata": {
            "tags": []
          },
          "execution_count": 22
        }
      ]
    },
    {
      "cell_type": "code",
      "metadata": {
        "id": "Rv9ql5-Mi_-I",
        "colab_type": "code",
        "colab": {}
      },
      "source": [
        "final_data.sort_values(by=['Time'], inplace=True, ascending=True)"
      ],
      "execution_count": 0,
      "outputs": []
    },
    {
      "cell_type": "code",
      "metadata": {
        "id": "xlqco8JdjBxU",
        "colab_type": "code",
        "outputId": "2a301624-645e-436f-e69f-e212123a435d",
        "colab": {
          "base_uri": "https://localhost:8080/",
          "height": 375
        }
      },
      "source": [
        "final_data.head(3)"
      ],
      "execution_count": 24,
      "outputs": [
        {
          "output_type": "execute_result",
          "data": {
            "text/html": [
              "<div>\n",
              "<style scoped>\n",
              "    .dataframe tbody tr th:only-of-type {\n",
              "        vertical-align: middle;\n",
              "    }\n",
              "\n",
              "    .dataframe tbody tr th {\n",
              "        vertical-align: top;\n",
              "    }\n",
              "\n",
              "    .dataframe thead th {\n",
              "        text-align: right;\n",
              "    }\n",
              "</style>\n",
              "<table border=\"1\" class=\"dataframe\">\n",
              "  <thead>\n",
              "    <tr style=\"text-align: right;\">\n",
              "      <th></th>\n",
              "      <th>Id</th>\n",
              "      <th>ProductId</th>\n",
              "      <th>UserId</th>\n",
              "      <th>ProfileName</th>\n",
              "      <th>HelpfulnessNumerator</th>\n",
              "      <th>HelpfulnessDenominator</th>\n",
              "      <th>Score</th>\n",
              "      <th>Time</th>\n",
              "      <th>Summary</th>\n",
              "      <th>Text</th>\n",
              "      <th>Cleaned_text</th>\n",
              "      <th>total_words</th>\n",
              "    </tr>\n",
              "  </thead>\n",
              "  <tbody>\n",
              "    <tr>\n",
              "      <th>138706</th>\n",
              "      <td>150524</td>\n",
              "      <td>0006641040</td>\n",
              "      <td>ACITT7DI6IDDL</td>\n",
              "      <td>shari zychinski</td>\n",
              "      <td>0</td>\n",
              "      <td>0</td>\n",
              "      <td>positive</td>\n",
              "      <td>939340800</td>\n",
              "      <td>EVERY book is educational</td>\n",
              "      <td>this witty little book makes my son laugh at l...</td>\n",
              "      <td>witti littl book make son laugh loud recit car...</td>\n",
              "      <td>34</td>\n",
              "    </tr>\n",
              "    <tr>\n",
              "      <th>138683</th>\n",
              "      <td>150501</td>\n",
              "      <td>0006641040</td>\n",
              "      <td>AJ46FKXOVC7NR</td>\n",
              "      <td>Nicholas A Mesiano</td>\n",
              "      <td>2</td>\n",
              "      <td>2</td>\n",
              "      <td>positive</td>\n",
              "      <td>940809600</td>\n",
              "      <td>This whole series is great way to spend time w...</td>\n",
              "      <td>I can remember seeing the show when it aired o...</td>\n",
              "      <td>rememb see show air televis year ago child sis...</td>\n",
              "      <td>30</td>\n",
              "    </tr>\n",
              "    <tr>\n",
              "      <th>417839</th>\n",
              "      <td>451856</td>\n",
              "      <td>B00004CXX9</td>\n",
              "      <td>AIUWLEQ1ADEG5</td>\n",
              "      <td>Elizabeth Medina</td>\n",
              "      <td>0</td>\n",
              "      <td>0</td>\n",
              "      <td>positive</td>\n",
              "      <td>944092800</td>\n",
              "      <td>Entertainingl Funny!</td>\n",
              "      <td>Beetlejuice is a well written movie ..... ever...</td>\n",
              "      <td>beetlejuic well written movi everyth excel act...</td>\n",
              "      <td>13</td>\n",
              "    </tr>\n",
              "  </tbody>\n",
              "</table>\n",
              "</div>"
            ],
            "text/plain": [
              "            Id  ... total_words\n",
              "138706  150524  ...          34\n",
              "138683  150501  ...          30\n",
              "417839  451856  ...          13\n",
              "\n",
              "[3 rows x 12 columns]"
            ]
          },
          "metadata": {
            "tags": []
          },
          "execution_count": 24
        }
      ]
    },
    {
      "cell_type": "code",
      "metadata": {
        "id": "38ANi7bkjbhV",
        "colab_type": "code",
        "outputId": "d25a2a7b-273c-462d-c441-8098791fce72",
        "colab": {
          "base_uri": "https://localhost:8080/",
          "height": 35
        }
      },
      "source": [
        "final_data.shape"
      ],
      "execution_count": 25,
      "outputs": [
        {
          "output_type": "execute_result",
          "data": {
            "text/plain": [
              "(364171, 12)"
            ]
          },
          "metadata": {
            "tags": []
          },
          "execution_count": 25
        }
      ]
    },
    {
      "cell_type": "code",
      "metadata": {
        "id": "EToJ83zRp_8k",
        "colab_type": "code",
        "outputId": "d164c518-0b0f-4615-9ac8-3d785d779db5",
        "colab": {
          "base_uri": "https://localhost:8080/",
          "height": 278
        }
      },
      "source": [
        "final_data_100K=final_data[0:100000]\n",
        "amazon_polarity_labels=final_data_100K['Score'].values\n",
        "final_data_100K.head(2)"
      ],
      "execution_count": 26,
      "outputs": [
        {
          "output_type": "execute_result",
          "data": {
            "text/html": [
              "<div>\n",
              "<style scoped>\n",
              "    .dataframe tbody tr th:only-of-type {\n",
              "        vertical-align: middle;\n",
              "    }\n",
              "\n",
              "    .dataframe tbody tr th {\n",
              "        vertical-align: top;\n",
              "    }\n",
              "\n",
              "    .dataframe thead th {\n",
              "        text-align: right;\n",
              "    }\n",
              "</style>\n",
              "<table border=\"1\" class=\"dataframe\">\n",
              "  <thead>\n",
              "    <tr style=\"text-align: right;\">\n",
              "      <th></th>\n",
              "      <th>Id</th>\n",
              "      <th>ProductId</th>\n",
              "      <th>UserId</th>\n",
              "      <th>ProfileName</th>\n",
              "      <th>HelpfulnessNumerator</th>\n",
              "      <th>HelpfulnessDenominator</th>\n",
              "      <th>Score</th>\n",
              "      <th>Time</th>\n",
              "      <th>Summary</th>\n",
              "      <th>Text</th>\n",
              "      <th>Cleaned_text</th>\n",
              "      <th>total_words</th>\n",
              "    </tr>\n",
              "  </thead>\n",
              "  <tbody>\n",
              "    <tr>\n",
              "      <th>138706</th>\n",
              "      <td>150524</td>\n",
              "      <td>0006641040</td>\n",
              "      <td>ACITT7DI6IDDL</td>\n",
              "      <td>shari zychinski</td>\n",
              "      <td>0</td>\n",
              "      <td>0</td>\n",
              "      <td>positive</td>\n",
              "      <td>939340800</td>\n",
              "      <td>EVERY book is educational</td>\n",
              "      <td>this witty little book makes my son laugh at l...</td>\n",
              "      <td>witti littl book make son laugh loud recit car...</td>\n",
              "      <td>34</td>\n",
              "    </tr>\n",
              "    <tr>\n",
              "      <th>138683</th>\n",
              "      <td>150501</td>\n",
              "      <td>0006641040</td>\n",
              "      <td>AJ46FKXOVC7NR</td>\n",
              "      <td>Nicholas A Mesiano</td>\n",
              "      <td>2</td>\n",
              "      <td>2</td>\n",
              "      <td>positive</td>\n",
              "      <td>940809600</td>\n",
              "      <td>This whole series is great way to spend time w...</td>\n",
              "      <td>I can remember seeing the show when it aired o...</td>\n",
              "      <td>rememb see show air televis year ago child sis...</td>\n",
              "      <td>30</td>\n",
              "    </tr>\n",
              "  </tbody>\n",
              "</table>\n",
              "</div>"
            ],
            "text/plain": [
              "            Id  ... total_words\n",
              "138706  150524  ...          34\n",
              "138683  150501  ...          30\n",
              "\n",
              "[2 rows x 12 columns]"
            ]
          },
          "metadata": {
            "tags": []
          },
          "execution_count": 26
        }
      ]
    },
    {
      "cell_type": "markdown",
      "metadata": {
        "id": "lWBqBjEln3yw",
        "colab_type": "text"
      },
      "source": [
        "#### Split the data into Train , Test and CV"
      ]
    },
    {
      "cell_type": "code",
      "metadata": {
        "id": "qLNtJvgsqEHc",
        "colab_type": "code",
        "colab": {}
      },
      "source": [
        "from sklearn.model_selection import train_test_split\n",
        "from sklearn.neighbors import KNeighborsClassifier\n",
        "from sklearn.metrics import accuracy_score\n",
        "from sklearn.model_selection import cross_val_score\n",
        "from collections import Counter\n",
        "from sklearn.metrics import confusion_matrix\n",
        "from sklearn.metrics import classification_report\n",
        "\n",
        "X_1,X_Test,Y_1,Y_Test = train_test_split(final_data_100K,amazon_polarity_labels,test_size=0.2,random_state=0)\n",
        "X_Train,X_CV,Y_Train,Y_CV = train_test_split(X_1,Y_1,test_size=0.2)"
      ],
      "execution_count": 0,
      "outputs": []
    },
    {
      "cell_type": "code",
      "metadata": {
        "id": "TLg-yGZqqGjX",
        "colab_type": "code",
        "colab": {}
      },
      "source": [
        "X_Train.to_csv('amazonfine_food_train_data.csv') "
      ],
      "execution_count": 0,
      "outputs": []
    },
    {
      "cell_type": "code",
      "metadata": {
        "id": "LRfqIZzhqIUO",
        "colab_type": "code",
        "outputId": "e658cc81-5e70-48d8-f6c9-5bd84d376017",
        "colab": {
          "base_uri": "https://localhost:8080/",
          "height": 408
        }
      },
      "source": [
        "X_Train.head(3)"
      ],
      "execution_count": 29,
      "outputs": [
        {
          "output_type": "execute_result",
          "data": {
            "text/html": [
              "<div>\n",
              "<style scoped>\n",
              "    .dataframe tbody tr th:only-of-type {\n",
              "        vertical-align: middle;\n",
              "    }\n",
              "\n",
              "    .dataframe tbody tr th {\n",
              "        vertical-align: top;\n",
              "    }\n",
              "\n",
              "    .dataframe thead th {\n",
              "        text-align: right;\n",
              "    }\n",
              "</style>\n",
              "<table border=\"1\" class=\"dataframe\">\n",
              "  <thead>\n",
              "    <tr style=\"text-align: right;\">\n",
              "      <th></th>\n",
              "      <th>Id</th>\n",
              "      <th>ProductId</th>\n",
              "      <th>UserId</th>\n",
              "      <th>ProfileName</th>\n",
              "      <th>HelpfulnessNumerator</th>\n",
              "      <th>HelpfulnessDenominator</th>\n",
              "      <th>Score</th>\n",
              "      <th>Time</th>\n",
              "      <th>Summary</th>\n",
              "      <th>Text</th>\n",
              "      <th>Cleaned_text</th>\n",
              "      <th>total_words</th>\n",
              "    </tr>\n",
              "  </thead>\n",
              "  <tbody>\n",
              "    <tr>\n",
              "      <th>360148</th>\n",
              "      <td>389532</td>\n",
              "      <td>B000EDBPO8</td>\n",
              "      <td>A1Y6YLMUA88TV7</td>\n",
              "      <td>J. Shaath</td>\n",
              "      <td>0</td>\n",
              "      <td>0</td>\n",
              "      <td>positive</td>\n",
              "      <td>1264204800</td>\n",
              "      <td>good quality</td>\n",
              "      <td>This white rice flour is fine instead of coars...</td>\n",
              "      <td>white rice flour fine instead coars like great...</td>\n",
              "      <td>18</td>\n",
              "    </tr>\n",
              "    <tr>\n",
              "      <th>86841</th>\n",
              "      <td>94545</td>\n",
              "      <td>B0006TV6OE</td>\n",
              "      <td>A3KG5T5FOXSCOV</td>\n",
              "      <td>Charlie Steinson \"Charlie\"</td>\n",
              "      <td>0</td>\n",
              "      <td>3</td>\n",
              "      <td>negative</td>\n",
              "      <td>1263513600</td>\n",
              "      <td>Don't order this if on a low carb diet or diab...</td>\n",
              "      <td>The wrapper claims only 4 net carbs per servin...</td>\n",
              "      <td>wrapper claim net carb per serv bar subtract f...</td>\n",
              "      <td>22</td>\n",
              "    </tr>\n",
              "    <tr>\n",
              "      <th>101615</th>\n",
              "      <td>110385</td>\n",
              "      <td>B000UW5M9W</td>\n",
              "      <td>A2L01339XV496V</td>\n",
              "      <td>Patricia Smith</td>\n",
              "      <td>6</td>\n",
              "      <td>6</td>\n",
              "      <td>positive</td>\n",
              "      <td>1267833600</td>\n",
              "      <td>Don't be afraid of buying in bulk!</td>\n",
              "      <td>We all know how expensive artichoke hearts are...</td>\n",
              "      <td>know expens artichok heart yet favorit recip d...</td>\n",
              "      <td>75</td>\n",
              "    </tr>\n",
              "  </tbody>\n",
              "</table>\n",
              "</div>"
            ],
            "text/plain": [
              "            Id  ... total_words\n",
              "360148  389532  ...          18\n",
              "86841    94545  ...          22\n",
              "101615  110385  ...          75\n",
              "\n",
              "[3 rows x 12 columns]"
            ]
          },
          "metadata": {
            "tags": []
          },
          "execution_count": 29
        }
      ]
    },
    {
      "cell_type": "code",
      "metadata": {
        "id": "JdnQ8387qM_D",
        "colab_type": "code",
        "outputId": "81a4eef2-48b6-4498-9ff9-f786348c7d65",
        "colab": {
          "base_uri": "https://localhost:8080/",
          "height": 177
        }
      },
      "source": [
        "print(X_Train.shape, Y_Train.shape)\n",
        "print(X_CV.shape, Y_CV.shape)\n",
        "print(X_Test.shape, Y_Test.shape)\n",
        "\n",
        "print(\"=\"*100)\n",
        "\n",
        "\n",
        "count_vector=CountVectorizer(min_df=1)\n",
        "X_Train_data_bow=(count_vector.fit_transform(X_Train['Cleaned_text'].values))\n",
        "X_Test_data_bow=(count_vector.transform(X_Test['Cleaned_text'].values))\n",
        "X_CV_data_bow=(count_vector.transform(X_CV['Cleaned_text'].values))\n",
        "\n",
        "print(\"After vectorizations\")\n",
        "print(X_Train_data_bow.shape, Y_Train.shape)\n",
        "print(X_CV_data_bow.shape, Y_CV.shape)\n",
        "print(X_Test_data_bow.shape, Y_Test.shape)\n",
        "print(\"=\"*100)"
      ],
      "execution_count": 30,
      "outputs": [
        {
          "output_type": "stream",
          "text": [
            "(64000, 12) (64000,)\n",
            "(16000, 12) (16000,)\n",
            "(20000, 12) (20000,)\n",
            "====================================================================================================\n",
            "After vectorizations\n",
            "(64000, 29469) (64000,)\n",
            "(16000, 29469) (16000,)\n",
            "(20000, 29469) (20000,)\n",
            "====================================================================================================\n"
          ],
          "name": "stdout"
        }
      ]
    },
    {
      "cell_type": "markdown",
      "metadata": {
        "id": "Wot9_L-0s9Nr",
        "colab_type": "text"
      },
      "source": [
        "### Use Logistic Regression Algorithm and GridSearchCV using 10 Fold Cross Validation to find Best Alpha"
      ]
    },
    {
      "cell_type": "code",
      "metadata": {
        "id": "By9qPAM7s7_b",
        "colab_type": "code",
        "colab": {}
      },
      "source": [
        "from sklearn.model_selection import GridSearchCV\n",
        "from scipy.stats import randint as sp_randint\n",
        "from sklearn.model_selection import cross_val_score\n",
        "from sklearn.linear_model import LogisticRegression\n",
        "\n",
        "def Logistic_Regression_Optimal_C(x_training_data,y_training_data):\n",
        "  grid_params = { 'C' : [10**x for x in range(-5,4)]              \n",
        "                 }\n",
        "  logistic_regression = LogisticRegression(random_state=None, class_weight=None)\n",
        "  clf=GridSearchCV(logistic_regression,grid_params,scoring='roc_auc',return_train_score=True,cv=10)\n",
        "  clf.fit(x_training_data,y_training_data)\n",
        "  results = pd.DataFrame.from_dict(clf.cv_results_)\n",
        "  results = results.sort_values(['param_C'])\n",
        "  train_auc= results['mean_train_score']\n",
        "  train_auc_std= results['std_train_score']\n",
        "  cv_auc = results['mean_test_score'] \n",
        "  cv_auc_std= results['std_test_score']\n",
        "  C =  results['param_C']\n",
        "  #print(type(alpha))\n",
        "  #print(alpha)\n",
        "  log_c=np.log10(list(results[\"param_C\"]))\n",
        "  print(clf.best_score_)\n",
        "  print(clf.best_params_)\n",
        "  plt.plot(log_c, train_auc, label='Train AUC')\n",
        "  plt.plot(log_c, cv_auc, label='CV AUC')\n",
        "  plt.scatter(log_c, train_auc, label='Train AUC points')\n",
        "  plt.scatter(log_c, cv_auc, label='CV AUC points')\n",
        "  plt.legend()\n",
        "  plt.xlabel(\"C: hyperparameter\")\n",
        "  plt.ylabel(\"AUC\")\n",
        "  plt.title(\"Hyper parameter Vs AUC plot\")\n",
        "  plt.grid()\n",
        "  plt.show()\n",
        "  return results,clf,logistic_regression"
      ],
      "execution_count": 0,
      "outputs": []
    },
    {
      "cell_type": "code",
      "metadata": {
        "id": "YG0F1xN7N2Bu",
        "colab_type": "code",
        "outputId": "091d7386-efbe-40a0-a4a8-1512551babee",
        "colab": {
          "base_uri": "https://localhost:8080/",
          "height": 612
        }
      },
      "source": [
        "results,best_c,Logistic_Regression_Optimal_C = Logistic_Regression_Optimal_C(X_Train_data_bow,Y_Train)\n",
        "results.head()"
      ],
      "execution_count": 32,
      "outputs": [
        {
          "output_type": "stream",
          "text": [
            "0.9296777946680457\n",
            "{'C': 0.1}\n"
          ],
          "name": "stdout"
        },
        {
          "output_type": "display_data",
          "data": {
            "image/png": "[encoded data removed]",
            "text/plain": [
              "<Figure size 432x288 with 1 Axes>"
            ]
          },
          "metadata": {
            "tags": []
          }
        },
        {
          "output_type": "execute_result",
          "data": {
            "text/html": [
              "<div>\n",
              "<style scoped>\n",
              "    .dataframe tbody tr th:only-of-type {\n",
              "        vertical-align: middle;\n",
              "    }\n",
              "\n",
              "    .dataframe tbody tr th {\n",
              "        vertical-align: top;\n",
              "    }\n",
              "\n",
              "    .dataframe thead th {\n",
              "        text-align: right;\n",
              "    }\n",
              "</style>\n",
              "<table border=\"1\" class=\"dataframe\">\n",
              "  <thead>\n",
              "    <tr style=\"text-align: right;\">\n",
              "      <th></th>\n",
              "      <th>mean_fit_time</th>\n",
              "      <th>std_fit_time</th>\n",
              "      <th>mean_score_time</th>\n",
              "      <th>std_score_time</th>\n",
              "      <th>param_C</th>\n",
              "      <th>params</th>\n",
              "      <th>split0_test_score</th>\n",
              "      <th>split1_test_score</th>\n",
              "      <th>split2_test_score</th>\n",
              "      <th>split3_test_score</th>\n",
              "      <th>split4_test_score</th>\n",
              "      <th>split5_test_score</th>\n",
              "      <th>split6_test_score</th>\n",
              "      <th>split7_test_score</th>\n",
              "      <th>split8_test_score</th>\n",
              "      <th>split9_test_score</th>\n",
              "      <th>mean_test_score</th>\n",
              "      <th>std_test_score</th>\n",
              "      <th>rank_test_score</th>\n",
              "      <th>split0_train_score</th>\n",
              "      <th>split1_train_score</th>\n",
              "      <th>split2_train_score</th>\n",
              "      <th>split3_train_score</th>\n",
              "      <th>split4_train_score</th>\n",
              "      <th>split5_train_score</th>\n",
              "      <th>split6_train_score</th>\n",
              "      <th>split7_train_score</th>\n",
              "      <th>split8_train_score</th>\n",
              "      <th>split9_train_score</th>\n",
              "      <th>mean_train_score</th>\n",
              "      <th>std_train_score</th>\n",
              "    </tr>\n",
              "  </thead>\n",
              "  <tbody>\n",
              "    <tr>\n",
              "      <th>0</th>\n",
              "      <td>0.429887</td>\n",
              "      <td>0.007426</td>\n",
              "      <td>0.028884</td>\n",
              "      <td>0.000816</td>\n",
              "      <td>1e-05</td>\n",
              "      <td>{'C': 1e-05}</td>\n",
              "      <td>0.816206</td>\n",
              "      <td>0.809677</td>\n",
              "      <td>0.824734</td>\n",
              "      <td>0.817418</td>\n",
              "      <td>0.822045</td>\n",
              "      <td>0.819689</td>\n",
              "      <td>0.826141</td>\n",
              "      <td>0.817344</td>\n",
              "      <td>0.826308</td>\n",
              "      <td>0.821997</td>\n",
              "      <td>0.820156</td>\n",
              "      <td>0.004926</td>\n",
              "      <td>9</td>\n",
              "      <td>0.826772</td>\n",
              "      <td>0.820489</td>\n",
              "      <td>0.823705</td>\n",
              "      <td>0.822478</td>\n",
              "      <td>0.825001</td>\n",
              "      <td>0.822966</td>\n",
              "      <td>0.823034</td>\n",
              "      <td>0.824072</td>\n",
              "      <td>0.824040</td>\n",
              "      <td>0.824915</td>\n",
              "      <td>0.823747</td>\n",
              "      <td>0.001601</td>\n",
              "    </tr>\n",
              "    <tr>\n",
              "      <th>1</th>\n",
              "      <td>0.412549</td>\n",
              "      <td>0.011324</td>\n",
              "      <td>0.028783</td>\n",
              "      <td>0.000618</td>\n",
              "      <td>0.0001</td>\n",
              "      <td>{'C': 0.0001}</td>\n",
              "      <td>0.840353</td>\n",
              "      <td>0.839678</td>\n",
              "      <td>0.849942</td>\n",
              "      <td>0.846365</td>\n",
              "      <td>0.846737</td>\n",
              "      <td>0.846633</td>\n",
              "      <td>0.849634</td>\n",
              "      <td>0.843252</td>\n",
              "      <td>0.849583</td>\n",
              "      <td>0.844921</td>\n",
              "      <td>0.845710</td>\n",
              "      <td>0.003498</td>\n",
              "      <td>8</td>\n",
              "      <td>0.851577</td>\n",
              "      <td>0.848682</td>\n",
              "      <td>0.849808</td>\n",
              "      <td>0.849367</td>\n",
              "      <td>0.849812</td>\n",
              "      <td>0.849239</td>\n",
              "      <td>0.849611</td>\n",
              "      <td>0.850193</td>\n",
              "      <td>0.849948</td>\n",
              "      <td>0.850859</td>\n",
              "      <td>0.849910</td>\n",
              "      <td>0.000783</td>\n",
              "    </tr>\n",
              "    <tr>\n",
              "      <th>2</th>\n",
              "      <td>0.543292</td>\n",
              "      <td>0.012814</td>\n",
              "      <td>0.028957</td>\n",
              "      <td>0.000383</td>\n",
              "      <td>0.001</td>\n",
              "      <td>{'C': 0.001}</td>\n",
              "      <td>0.886338</td>\n",
              "      <td>0.893569</td>\n",
              "      <td>0.895706</td>\n",
              "      <td>0.897847</td>\n",
              "      <td>0.893190</td>\n",
              "      <td>0.893653</td>\n",
              "      <td>0.894563</td>\n",
              "      <td>0.891146</td>\n",
              "      <td>0.893989</td>\n",
              "      <td>0.887294</td>\n",
              "      <td>0.892730</td>\n",
              "      <td>0.003386</td>\n",
              "      <td>6</td>\n",
              "      <td>0.900118</td>\n",
              "      <td>0.899511</td>\n",
              "      <td>0.899304</td>\n",
              "      <td>0.899208</td>\n",
              "      <td>0.898916</td>\n",
              "      <td>0.899245</td>\n",
              "      <td>0.899487</td>\n",
              "      <td>0.899539</td>\n",
              "      <td>0.899521</td>\n",
              "      <td>0.900303</td>\n",
              "      <td>0.899515</td>\n",
              "      <td>0.000395</td>\n",
              "    </tr>\n",
              "    <tr>\n",
              "      <th>3</th>\n",
              "      <td>1.095692</td>\n",
              "      <td>0.052711</td>\n",
              "      <td>0.028767</td>\n",
              "      <td>0.000523</td>\n",
              "      <td>0.01</td>\n",
              "      <td>{'C': 0.01}</td>\n",
              "      <td>0.921654</td>\n",
              "      <td>0.924067</td>\n",
              "      <td>0.924452</td>\n",
              "      <td>0.928075</td>\n",
              "      <td>0.920517</td>\n",
              "      <td>0.920799</td>\n",
              "      <td>0.921826</td>\n",
              "      <td>0.921261</td>\n",
              "      <td>0.921096</td>\n",
              "      <td>0.915475</td>\n",
              "      <td>0.921922</td>\n",
              "      <td>0.003080</td>\n",
              "      <td>2</td>\n",
              "      <td>0.936527</td>\n",
              "      <td>0.937018</td>\n",
              "      <td>0.936410</td>\n",
              "      <td>0.936658</td>\n",
              "      <td>0.936489</td>\n",
              "      <td>0.937079</td>\n",
              "      <td>0.936926</td>\n",
              "      <td>0.936854</td>\n",
              "      <td>0.936848</td>\n",
              "      <td>0.937467</td>\n",
              "      <td>0.936828</td>\n",
              "      <td>0.000304</td>\n",
              "    </tr>\n",
              "    <tr>\n",
              "      <th>4</th>\n",
              "      <td>2.264165</td>\n",
              "      <td>0.028399</td>\n",
              "      <td>0.028764</td>\n",
              "      <td>0.000349</td>\n",
              "      <td>0.1</td>\n",
              "      <td>{'C': 0.1}</td>\n",
              "      <td>0.934950</td>\n",
              "      <td>0.931076</td>\n",
              "      <td>0.930742</td>\n",
              "      <td>0.935660</td>\n",
              "      <td>0.926494</td>\n",
              "      <td>0.927150</td>\n",
              "      <td>0.928869</td>\n",
              "      <td>0.928481</td>\n",
              "      <td>0.927543</td>\n",
              "      <td>0.925812</td>\n",
              "      <td>0.929678</td>\n",
              "      <td>0.003237</td>\n",
              "      <td>1</td>\n",
              "      <td>0.962631</td>\n",
              "      <td>0.963186</td>\n",
              "      <td>0.963000</td>\n",
              "      <td>0.962991</td>\n",
              "      <td>0.963194</td>\n",
              "      <td>0.963148</td>\n",
              "      <td>0.962834</td>\n",
              "      <td>0.963340</td>\n",
              "      <td>0.962890</td>\n",
              "      <td>0.963483</td>\n",
              "      <td>0.963070</td>\n",
              "      <td>0.000239</td>\n",
              "    </tr>\n",
              "  </tbody>\n",
              "</table>\n",
              "</div>"
            ],
            "text/plain": [
              "   mean_fit_time  std_fit_time  ...  mean_train_score  std_train_score\n",
              "0       0.429887      0.007426  ...          0.823747         0.001601\n",
              "1       0.412549      0.011324  ...          0.849910         0.000783\n",
              "2       0.543292      0.012814  ...          0.899515         0.000395\n",
              "3       1.095692      0.052711  ...          0.936828         0.000304\n",
              "4       2.264165      0.028399  ...          0.963070         0.000239\n",
              "\n",
              "[5 rows x 31 columns]"
            ]
          },
          "metadata": {
            "tags": []
          },
          "execution_count": 32
        }
      ]
    },
    {
      "cell_type": "markdown",
      "metadata": {
        "id": "yIcSnt9roCCX",
        "colab_type": "text"
      },
      "source": [
        "## Using Logistic Regression on Bag OF Words , The Optimal Value of C = 0.1 and Accuracy = 0.9293..."
      ]
    },
    {
      "cell_type": "code",
      "metadata": {
        "id": "q-TtF-1ia0Qk",
        "colab_type": "code",
        "outputId": "6ca8573d-8feb-43d9-9c7e-f195cad003fa",
        "colab": {
          "base_uri": "https://localhost:8080/",
          "height": 35
        }
      },
      "source": [
        "best_C = best_c.best_params_\n",
        "best_c=best_C.get(\"C\")\n",
        "print(best_c)"
      ],
      "execution_count": 33,
      "outputs": [
        {
          "output_type": "stream",
          "text": [
            "0.1\n"
          ],
          "name": "stdout"
        }
      ]
    },
    {
      "cell_type": "code",
      "metadata": {
        "id": "-N83cJFDdqbM",
        "colab_type": "code",
        "outputId": "376655af-5ad9-4d48-9a0b-337027b57cd7",
        "colab": {
          "base_uri": "https://localhost:8080/",
          "height": 295
        }
      },
      "source": [
        "from sklearn.metrics import roc_curve, auc\n",
        "\n",
        "logistic_reg = LogisticRegression(C=best_c,random_state=None, class_weight=None)\n",
        "logistic_reg.fit(X_Train_data_bow,Y_Train)\n",
        "pred_test_data=logistic_reg.predict(X_Test_data_bow)\n",
        "y_train_predicted_prob = logistic_reg.predict_proba(X_Train_data_bow)[:,1]\n",
        "y_test_predicted_prob=logistic_reg.predict_proba(X_Test_data_bow)[:,1]\n",
        "train_fpr, train_tpr, train_thresholds=roc_curve(Y_Train,y_train_predicted_prob,pos_label='positive')\n",
        "test_fpr, test_tpr, test_thresholds = roc_curve(Y_Test, y_test_predicted_prob,pos_label='positive')\n",
        "plt.plot(train_fpr, train_tpr, label=\"train AUC =\"+str(auc(train_fpr, train_tpr)))\n",
        "plt.plot(test_fpr, test_tpr, label=\"test AUC =\"+str(auc(test_fpr, test_tpr)))\n",
        "plt.legend()\n",
        "plt.xlabel(\"C: hyperparameter\")\n",
        "plt.ylabel(\"AUC\")\n",
        "plt.title(\"ERROR PLOTS\")\n",
        "plt.grid()\n",
        "plt.show()"
      ],
      "execution_count": 34,
      "outputs": [
        {
          "output_type": "display_data",
          "data": {
            "image/png": "[encoded data removed]",
            "text/plain": [
              "<Figure size 432x288 with 1 Axes>"
            ]
          },
          "metadata": {
            "tags": []
          }
        }
      ]
    },
    {
      "cell_type": "markdown",
      "metadata": {
        "id": "dk3bf6tyoX8c",
        "colab_type": "text"
      },
      "source": [
        "### BY LOOKING AT THE GRAPH , THE TRAIN AUC = 0.9614.. AND TEST AUC = 0.9300.."
      ]
    },
    {
      "cell_type": "markdown",
      "metadata": {
        "id": "71Ni3lP6okmv",
        "colab_type": "text"
      },
      "source": [
        "### FIND THE TOP 20 POSITIVE AND NEGATIVE FEATURES"
      ]
    },
    {
      "cell_type": "code",
      "metadata": {
        "id": "ZDi-bAQ3fofu",
        "colab_type": "code",
        "outputId": "104e20ba-f096-4721-c47e-808565fd3709",
        "colab": {
          "base_uri": "https://localhost:8080/",
          "height": 410
        }
      },
      "source": [
        "feature_names = count_vector.get_feature_names()\n",
        "print(feature_names)\n",
        "coefs_with_fns = sorted(zip(logistic_reg.coef_[0], feature_names))\n",
        "top_features = zip(coefs_with_fns[:20], coefs_with_fns[:-(20 + 1):-1])\n",
        "list(top_features)"
      ],
      "execution_count": 35,
      "outputs": [
        {
          "output_type": "stream",
          "text": [
            "['aaa', 'aaaaaaaaagghh', 'aaaaah', 'aaaaahhhhhhhhhhhhhhhh', 'aaaah', 'aaah', 'aaahhhhhh', 'aachen', 'aacur', 'aaf', 'aafco', 'aah', 'aahh', 'aalmost', 'aand', 'aardvark', 'ab', 'aback', 'abandon', 'abattoir', 'abba', 'abbey', 'abbi', 'abbott', 'abbrevi', 'abc', 'abd', 'abdomen', 'abdomin', 'aber', 'aberdeen', 'abhor', 'abhorr', 'abi', 'abid', 'abigirl', 'abil', 'abit', 'abita', 'abj', 'abl', 'ablaz', 'abliti', 'abnorm', 'abod', 'abomin', 'abondanza', 'aboout', 'aborio', 'abosolut', 'abot', 'aboth', 'abou', 'abound', 'abour', 'abouy', 'abouyt', 'abovement', 'aboveour', 'abp', 'abpv', 'abras', 'abreva', 'abrevi', 'abroad', 'abrupt', 'abruzzo', 'abscess', 'abscond', 'absenc', 'absens', 'absensc', 'absent', 'absinth', 'absolu', 'absolulti', 'absolut', 'absolutali', 'absoluteki', 'absolutelli', 'absolutelti', 'absolutley', 'absolv', 'absorb', 'absorbt', 'absorpt', 'absoult', 'absoulut', 'absout', 'abstain', 'abstract', 'absulut', 'absurd', 'abt', 'abu', 'abud', 'abuela', 'abuelita', 'abum', 'abund', 'abundunc', 'abus', 'abut', 'abvious', 'abysm', 'abyssinian', 'acacia', 'academ', 'academi', 'acai', 'acana', 'accedi', 'acceler', 'accelerad', 'accent', 'accentu', 'accepet', 'accept', 'acceptalbl', 'acceptd', 'acces', 'access', 'accessori', 'accid', 'accidc', 'accident', 'acciugh', 'acclaim', 'acclam', 'acclim', 'accolad', 'accomad', 'accommod', 'accomod', 'accomond', 'accompani', 'accomplish', 'accor', 'accord', 'accordian', 'accostum', 'account', 'accoutr', 'accpet', 'accredit', 'accross', 'acctural', 'accummil', 'accumstom', 'accumul', 'accupuncturest', 'accur', 'accuraci', 'accus', 'accusatori', 'accustom', 'accustum', 'accutec', 'ace', 'aceit', 'acerola', 'acess', 'acesufam', 'acesuflamek', 'acesulfam', 'acet', 'acetaia', 'acetaminophen', 'aceto', 'aceton', 'acetylcholin', 'ach', 'achallang', 'achey', 'achi', 'achiev', 'achiot', 'achva', 'acia', 'acid', 'acidet', 'acidi', 'acidifi', 'acidolphilus', 'acidophil', 'acidophilus', 'ack', 'ackag', 'acke', 'acki', 'acknowled', 'acknowledg', 'acknowleg', 'ackward', 'acm', 'acn', 'acommod', 'acord', 'acorn', 'acoust', 'acpuncturist', 'acquaint', 'acquarium', 'acquint', 'acquir', 'acquisit', 'acquista', 'acr', 'acrid', 'acronym', 'across', 'acruakki', 'acryl', 'acspect', 'act', 'actal', 'actii', 'action', 'activ', 'activa', 'activateand', 'activia', 'activit', 'actor', 'actress', 'actual', 'actuali', 'actuallli', 'actulli', 'acuiti', 'acumen', 'acupressur', 'acupunctur', 'acur', 'acura', 'acuraci', 'acut', 'acv', 'ad', 'adabi', 'adag', 'adagio', 'adam', 'adapt', 'adapta', 'adaptogen', 'adaptor', 'adav', 'add', 'adda', 'addag', 'addat', 'addendum', 'adder', 'addi', 'addic', 'addicitv', 'addict', 'addin', 'addison', 'addit', 'additiion', 'additioon', 'additon', 'additt', 'addmixur', 'address', 'addtion', 'ade', 'adel', 'adelaid', 'adelman', 'adept', 'adequ', 'adequit', 'adhd', 'adher', 'adhes', 'adiago', 'adict', 'adit', 'adivc', 'adjac', 'adject', 'adjunct', 'adjust', 'adkin', 'adm', 'administ', 'administr', 'admir', 'admiss', 'admit', 'admitt', 'admoit', 'admonish', 'admonit', 'adn', 'ado', 'adobo', 'adolesc', 'adolph', 'adomin', 'adop', 'adopt', 'adopte', 'adoptogen', 'ador', 'adorn', 'adren', 'adrenalin', 'adress', 'adrian', 'adrianna', 'adujst', 'adult', 'adulter', 'adulthood', 'adultur', 'adust', 'advanc', 'advanceshield', 'advantag', 'advantix', 'advent', 'adventist', 'adventur', 'adver', 'advers', 'advert', 'advertis', 'advic', 'advid', 'advil', 'advis', 'advisor', 'advisori', 'advoc', 'advocaci', 'adzuki', 'aebleskiv', 'aegean', 'aer', 'aerat', 'aero', 'aerob', 'aerocat', 'aerodynam', 'aerogarden', 'aerogrow', 'aerolatt', 'aeropress', 'aerosol', 'aesom', 'aesthet', 'aestivum', 'afb', 'afer', 'afew', 'affaid', 'affair', 'affect', 'affectianco', 'affection', 'affectionado', 'affi', 'afficiado', 'afficianado', 'afficiando', 'afficionada', 'afficionado', 'afficionda', 'affili', 'affin', 'affinoi', 'affix', 'afflict', 'affluent', 'afforad', 'afford', 'affordablil', 'affraid', 'afganistan', 'afghan', 'afghanistan', 'afi', 'aficianado', 'aficienado', 'aficionado', 'aflatoxin', 'afloat', 'afor', 'aforement', 'aforesaid', 'afr', 'afraid', 'africa', 'africaf', 'african', 'africanredteacompani', 'afrikaan', 'afrikan', 'afro', 'aften', 'after', 'afteraffect', 'afteral', 'afterbit', 'afterdeath', 'afterdinn', 'aftereffect', 'afterlif', 'aftermath', 'afternoon', 'afternooon', 'afternot', 'afteroon', 'afterschool', 'aftershav', 'aftertas', 'aftertast', 'afterthought', 'afterton', 'aftertrac', 'afterward', 'afterword', 'againgst', 'aganin', 'agao', 'agar', 'agatha', 'agav', 'agava', 'age', 'ageless', 'agenc', 'agenda', 'agent', 'ager', 'aggrav', 'aggre', 'aggres', 'aggress', 'aggrev', 'aggro', 'aghast', 'agian', 'agil', 'agin', 'agit', 'aglio', 'agneau', 'agni', 'ago', 'agog', 'agon', 'agoni', 'agre', 'agreat', 'agreeabl', 'agreement', 'agress', 'agricultur', 'agrumato', 'agrument', 'agrumento', 'agsin', 'agua', 'aguav', 'aguilar', 'ah', 'aha', 'ahd', 'ahe', 'ahead', 'ahem', 'ahh', 'ahhh', 'ahhhaahhh', 'ahhhh', 'ahhhhh', 'ahhhhhh', 'ahhhhhhhh', 'ahi', 'ahm', 'ahmad', 'ahnd', 'ahold', 'ahoy', 'ahv', 'aicr', 'aid', 'aidel', 'aig', 'ail', 'ailment', 'aim', 'aint', 'aioli', 'air', 'airbag', 'airborn', 'airbrush', 'airedal', 'airey', 'airfar', 'airflight', 'airforc', 'airfreight', 'airhead', 'airi', 'airier', 'airlin', 'airlock', 'airplan', 'airpop', 'airport', 'airspac', 'airtight', 'airtran', 'airwav', 'airway', 'aisian', 'aisl', 'ajanta', 'ajar', 'aji', 'ajika', 'ajinomoto', 'ajishima', 'ajvar', 'ajwright', 'aka', 'akami', 'akbb', 'akc', 'ake', 'akin', 'akita', 'akmak', 'akron', 'akway', 'al', 'ala', 'alabama', 'alabamian', 'alacr', 'alaea', 'alameda', 'alamosa', 'alan', 'alareadi', 'alarm', 'alaska', 'alaskan', 'alawi', 'alba', 'albacor', 'albanees', 'albanes', 'albani', 'albeit', 'albert', 'alberta', 'alberton', 'albertson', 'albican', 'albiet', 'albit', 'album', 'albumen', 'albuquerq', 'albuquerqu', 'albuqueruq', 'albuterol', 'alcat', 'alchemi', 'alchohol', 'alchol', 'alcohol', 'aldent', 'alder', 'alderwood', 'aldi', 'aldridg', 'ale', 'alec', 'aleergi', 'aleighten', 'aleist', 'alerg', 'alergec', 'alergi', 'alert', 'alessi', 'alev', 'alex', 'alexand', 'alexandra', 'alexandria', 'alexi', 'alexia', 'alfa', 'alfajor', 'alfalfa', 'alford', 'alfredo', 'alga', 'algaecid', 'algarv', 'algav', 'algebra', 'algerian', 'algin', 'algorithm', 'ali', 'alia', 'alic', 'alien', 'aliev', 'align', 'aliitl', 'alik', 'alimentari', 'alimentum', 'alio', 'alittl', 'aliv', 'alix', 'alka', 'alkal', 'alkali', 'alkalin', 'alkaloid', 'alkylamid', 'all', 'alla', 'allay', 'allday', 'alldirect', 'alleg', 'allegen', 'alleger', 'allegi', 'allegor', 'allegro', 'allen', 'allerg', 'allergen', 'allergi', 'allergic', 'allergin', 'allergist', 'alleri', 'allert', 'allessi', 'allevi', 'alley', 'alli', 'allianc', 'allig', 'allimentum', 'allison', 'allium', 'allk', 'alll', 'alloc', 'allot', 'allow', 'allowng', 'allreadi', 'allrecip', 'allright', 'allsort', 'allspic', 'allstar', 'allstarhealth', 'alltea', 'allthough', 'alltim', 'alltogeth', 'allud', 'alluminum', 'allupset', 'allur', 'allus', 'allway', 'alma', 'almighti', 'almod', 'almold', 'almond', 'almondi', 'almondin', 'almondina', 'almonduo', 'almosi', 'almost', 'almsot', 'alnatura', 'alnog', 'alo', 'aloha', 'alohaisland', 'alohaislandcoffe', 'aloi', 'alomost', 'alomst', 'alon', 'along', 'alongsid', 'aloo', 'alot', 'aloud', 'alow', 'alp', 'alpen', 'alpenmilch', 'alpenz', 'alpha', 'alphabet', 'alphi', 'alpin', 'alpo', 'alpsnack', 'alreadi', 'alreday', 'alright', 'also', 'alsosalt', 'alsway', 'altaj', 'altar', 'alten', 'alter', 'alteran', 'altern', 'alterna', 'alternativw', 'alternatv', 'alternit', 'altheim', 'althet', 'altho', 'althog', 'althogh', 'although', 'althought', 'althouh', 'althugh', 'altiod', 'altioid', 'altitud', 'alto', 'altogeth', 'altoid', 'alton', 'altria', 'altruist', 'altura', 'alturnit', 'alum', 'alumin', 'aluminium', 'aluminum', 'alumnus', 'alvita', 'alwadi', 'alway', 'alwaysdirect', 'alweay', 'alwi', 'alwya', 'alzheim', 'ama', 'amadeus', 'amaiz', 'amalfi', 'amalgam', 'amamaz', 'amamz', 'amamzon', 'amanda', 'amano', 'amanzon', 'amaranth', 'amaranthtast', 'amarena', 'amaretti', 'amarettini', 'amaretto', 'amaron', 'amart', 'amarylli', 'amason', 'amass', 'amateur', 'amatriciana', 'amatur', 'amaz', 'amaza', 'amazamaz', 'amazaon', 'amazi', 'amazin', 'amazing', 'amazom', 'amazon', 'amazonb', 'amazonia', 'amazonian', 'amazononian', 'amazoo', 'ambassador', 'amber', 'ambianc', 'ambien', 'ambient', 'ambigi', 'ambigu', 'ambit', 'ambiti', 'ambival', 'ambrosi', 'ambrosia', 'ambrosoli', 'ambul', 'amc', 'amd', 'ame', 'ameda', 'amedei', 'ameerican', 'amelior', 'amen', 'amend', 'amenorrhea', 'amer', 'amercian', 'america', 'american', 'americana', 'americano', 'americolor', 'amerika', 'amerimist', 'amesom', 'amethyst', 'amex', 'amhuff', 'ami', 'amid', 'amidst', 'amino', 'amish', 'amiss', 'amit', 'amitriptylin', 'amizon', 'amjad', 'amk', 'amla', 'ammazon', 'ammino', 'ammish', 'ammoni', 'ammonia', 'ammonium', 'ammount', 'amnim', 'amo', 'amoma', 'amond', 'among', 'amongst', 'amont', 'amoount', 'amor', 'amorph', 'amort', 'amoskeag', 'amoung', 'amoungst', 'amount', 'amour', 'amout', 'amoxicillin', 'amozon', 'amp', 'ampl', 'ampli', 'ampliament', 'amplifi', 'ampong', 'amput', 'amri', 'amrican', 'amstaf', 'amsterdam', 'amt', 'amus', 'amylas', 'amyon', 'amz', 'amza', 'amzaon', 'amzazon', 'amzn', 'amzon', 'an', 'ana', 'anad', 'anadama', 'anaesthet', 'anaheim', 'anal', 'analog', 'analogu', 'analon', 'analys', 'analysi', 'analyt', 'analyz', 'anand', 'anaphylact', 'anasazi', 'anathema', 'anatomi', 'anazon', 'ancestor', 'ancestr', 'anchiot', 'ancho', 'anchor', 'anchorag', 'anchovey', 'anchovi', 'anchovit', 'ancient', 'and', 'anda', 'andaluz', 'andao', 'andd', 'anderson', 'andes', 'andhalf', 'andhra', 'andi', 'andit', 'andnew', 'andoill', 'andouill', 'andov', 'andr', 'andrea', 'andreja', 'andrew', 'andship', 'andtoo', 'andwa', 'andyson', 'ane', 'anecdot', 'anecdotelli', 'anem', 'anemia', 'anesthesia', 'anesthet', 'anf', 'ang', 'angebot', 'angel', 'angelfood', 'angelica', 'angelina', 'angelo', 'anger', 'angiosarcoma', 'angl', 'anglais', 'anglophil', 'angola', 'angolina', 'angora', 'angostura', 'angri', 'angrili', 'angst', 'anguish', 'angustifolia', 'angustura', 'anh', 'anhui', 'ani', 'ania', 'anic', 'anihli', 'anim', 'anip', 'anis', 'anise', 'anisum', 'anita', 'ankl', 'anko', 'anmd', 'ann', 'anna', 'annabell', 'annalovesbook', 'annato', 'annatto', 'annd', 'annett', 'anni', 'anniv', 'anniversari', 'announc', 'annoy', 'annual', 'annum', 'annuum', 'anodyn', 'anolon', 'anomali', 'anon', 'anond', 'anonym', 'anorex', 'anorexia', 'anoth', 'another', 'anough', 'anount', 'answer', 'ant', 'antacid', 'antagon', 'antagonist', 'antarctica', 'anteadot', 'anth', 'anthesi', 'anthocyanin', 'anthon', 'anthoni', 'anti', 'antibacteri', 'antibiot', 'antibodi', 'antic', 'antica', 'anticanc', 'anticarcinogen', 'antichrist', 'anticip', 'antico', 'anticoagul', 'antidepres', 'antidot', 'antifreez', 'antifung', 'antihistamin', 'antihistim', 'antihypertens', 'antiioxid', 'antimicrobi', 'antioccid', 'antioch', 'antionid', 'antioxi', 'antioxid', 'antioxod', 'antipasta', 'antipasti', 'antipasto', 'antipersper', 'antiperspir', 'antiqi', 'antiqu', 'antiquarian', 'antirheumat', 'antisept', 'antispasmod', 'antitrust', 'antivir', 'antler', 'anto', 'antonio', 'antsi', 'antyh', 'anway', 'anxieti', 'anxious', 'anya', 'anybodi', 'anyday', 'anyhoo', 'anyhow', 'anyht', 'anylong', 'anymon', 'anymor', 'anyon', 'anyoth', 'anyplac', 'anyrhinf', 'anyseti', 'anyth', 'anythign', 'anytim', 'anywar', 'anyway', 'anywer', 'anywh', 'anywher', 'anywho', 'anywhoo', 'anzac', 'aol', 'aorund', 'aosta', 'aouselv', 'aouthwest', 'apal', 'apar', 'apart', 'apartam', 'apartheid', 'apathi', 'apatit', 'apbt', 'ape', 'apeal', 'apear', 'apeas', 'aper', 'aperatif', 'aperitif', 'aperitivo', 'apet', 'apetit', 'apettit', 'apex', 'aphid', 'aphrodisiac', 'apiari', 'apiec', 'aplenti', 'aplic', 'aplli', 'aplomb', 'apnea', 'apo', 'apocalyps', 'apocaraten', 'apocarotenol', 'apol', 'apollinari', 'apollo', 'apolog', 'apologet', 'apon', 'apothecari', 'app', 'appal', 'appar', 'apparatus', 'apparen', 'apparnt', 'appart', 'appassianato', 'appassionato', 'appeal', 'appear', 'appearac', 'appeas', 'appel', 'append', 'apper', 'appet', 'appetis', 'appetit', 'appetitit', 'appetito', 'appian', 'appit', 'appitit', 'appl', 'applaud', 'appleappl', 'applebe', 'applebutt', 'applecak', 'applemon', 'appleonius', 'applesauc', 'applesaus', 'applestrawberri', 'appletis', 'applewood', 'appley', 'appli', 'applianc', 'applic', 'appoint', 'apppl', 'apprais', 'apprecait', 'appreci', 'apprehend', 'apprehens', 'apprentic', 'apprenticeship', 'apprici', 'appricot', 'approach', 'approch', 'appropi', 'appropri', 'appropriat', 'approv', 'approx', 'approxim', 'approximat', 'apprx', 'appx', 'aprehens', 'apricot', 'apricotk', 'apricotti', 'april', 'apron', 'apropo', 'aprovech', 'aprox', 'apsect', 'apso', 'apsoluten', 'apt', 'apulia', 'aqua', 'aquaint', 'aqualur', 'aquarium', 'aquasana', 'aquat', 'aqueduct', 'aquir', 'ara', 'arab', 'arabia', 'arabian', 'arabica', 'arabl', 'aram', 'aranciata', 'arar', 'arbequina', 'arbi', 'arbitrari', 'arbonn', 'arbor', 'arborio', 'arbuckl', 'arbukl', 'arc', 'arcachon', 'arcadia', 'arcan', 'arch', 'archaic', 'archer', 'archi', 'archiv', 'archway', 'arco', 'arctic', 'arde', 'ardent', 'arder', 'ardi', 'ardor', 'arduous', 'are', 'area', 'areagarden', 'areal', 'areat', 'arena', 'arenotyet', 'arent', 'areogarden', 'areogrow', 'arepa', 'aresen', 'arf', 'arg', 'argan', 'arge', 'argentin', 'argentina', 'argentinian', 'argggggh', 'argh', 'arghh', 'arghhh', 'argu', 'arguabl', 'argument', 'ariana', 'ariet', 'arigato', 'aril', 'aris', 'arisen', 'aristocat', 'aristocrat', 'aristotl', 'arithmet', 'aritifici', 'ariv', 'arizona', 'arkansa', 'arla', 'arlington', 'arm', 'armadillo', 'armagnac', 'armchair', 'armenia', 'armi', 'armor', 'armour', 'armpit', 'armstrong', 'arn', 'arnold', 'arnott', 'aroma', 'aromas', 'aromat', 'aromatherapi', 'aromma', 'aromont', 'aroound', 'aros', 'arouma', 'around', 'aroundd', 'aroundl', 'arous', 'arp', 'arpound', 'arrabbiata', 'arrabiata', 'arrang', 'arrant', 'array', 'arrest', 'arriba', 'arrithmia', 'arriv', 'arrivedon', 'arrog', 'arroma', 'arround', 'arrow', 'arrowhead', 'arrowroot', 'arroz', 'arrriv', 'arrrrroooooooooroooooo', 'arrvi', 'arsenal', 'arsenic', 'arsom', 'art', 'artagnon', 'artemi', 'artemiscompani', 'arteri', 'artesian', 'artfici', 'arthrit', 'arthriti', 'arthrti', 'arthur', 'arti', 'artic', 'artichok', 'artici', 'articifi', 'articifici', 'articl', 'articul', 'artif', 'artifact', 'artifi', 'artifici', 'artificu', 'artimus', 'artisan', 'artisana', 'artisen', 'artisian', 'artisin', 'artist', 'artisticali', 'artofappreci', 'artsi', 'artwork', 'arugala', 'arugula', 'arwest', 'aryl', 'arzak', 'asad', 'asada', 'asain', 'asap', 'asapartam', 'asbach', 'ascarsi', 'ascend', 'ascept', 'ascerb', 'ascertain', 'ascorb', 'ascrib', 'asd', 'ase', 'asept', 'ash', 'asha', 'asham', 'ashbi', 'ashevill', 'ashi', 'ashland', 'ashley', 'ashtray', 'asia', 'asiago', 'asian', 'asianfoodgroc', 'asid', 'asin', 'ask', 'aska', 'askanc', 'askew', 'aslan', 'asleep', 'aslo', 'aso', 'asorb', 'asp', 'aspagarus', 'aspalathus', 'asparaga', 'asparagus', 'aspart', 'aspartam', 'aspartan', 'aspartasm', 'asparteem', 'aspartem', 'aspartm', 'aspca', 'aspect', 'aspen', 'asperagus', 'asperg', 'aspergillus', 'aspers', 'aspertam', 'aspertan', 'asphalt', 'aspir', 'aspirin', 'aspirn', 'aspx', 'ass', 'assam', 'assasin', 'assault', 'asschowd', 'assembl', 'assert', 'assess', 'asset', 'assi', 'assici', 'assign', 'assimil', 'assist', 'assit', 'assn', 'associ', 'assor', 'assort', 'asst', 'assuag', 'assum', 'assumpt', 'assur', 'asta', 'astartam', 'astburi', 'asteracea', 'asthma', 'asthmat', 'astonish', 'astor', 'astoria', 'astound', 'astragalus', 'astranaut', 'astray', 'astring', 'astringecni', 'astrolog', 'astromom', 'astronaut', 'astronom', 'astrup', 'astut', 'asum', 'aswel', 'atascadero', 'atca', 'ate', 'ateco', 'ater', 'ateri', 'atern', 'athen', 'atherosclerosi', 'athlet', 'athletic', 'atho', 'athough', 'athrax', 'atk', 'atkin', 'atkinson', 'atl', 'atlant', 'atlanta', 'atlas', 'atleast', 'atmospher', 'atom', 'atop', 'atot', 'atound', 'atroc', 'atroci', 'atst', 'atta', 'attach', 'attack', 'attain', 'attatch', 'attempt', 'attend', 'attende', 'attent', 'attest', 'attibassi', 'attic', 'attiki', 'attitud', 'attorney', 'attract', 'attractic', 'attractor', 'attrat', 'attribut', 'attun', 'atwat', 'aubrey', 'aubuchon', 'auburn', 'auction', 'audac', 'audibl', 'audienc', 'audio', 'audit', 'auditor', 'audrey', 'auf', 'aug', 'augment', 'auguri', 'august', 'aunt', 'aunti', 'aupperl', 'aura', 'auroma', 'auspici', 'aussi', 'austin', 'austrailian', 'australia', 'australian', 'austria', 'austrian', 'aut', 'autheic', 'authen', 'authenc', 'authent', 'authet', 'author', 'authoritarian', 'autism', 'autist', 'auto', 'autocrat', 'autodeliveri', 'autograph', 'autoimmun', 'autolyz', 'autom', 'automat', 'automatc', 'automobil', 'automot', 'autopilot', 'autopsi', 'autopuchas', 'autoship', 'autostrada', 'autosubscrib', 'autum', 'autumn', 'autunno', 'auvergn', 'aux', 'av', 'ava', 'avabil', 'avacado', 'avaerag', 'avaiabl', 'avaibl', 'avail', 'availab', 'availabal', 'availabili', 'availabilti', 'availabiltiy', 'availabl', 'availbl', 'availi', 'aval', 'avali', 'avalon', 'avatar', 'ave', 'aveda', 'aveng', 'avenu', 'avenunu', 'aver', 'averag', 'averi', 'avers', 'avert', 'avg', 'avian', 'aviat', 'avid', 'avil', 'avion', 'avita', 'avma', 'avocado', 'avocaodo', 'avoderm', 'avodern', 'avoid', 'aw', 'await', 'awak', 'awaken', 'awar', 'award', 'awash', 'away', 'awckward', 'awe', 'aweful', 'awesom', 'awhil', 'awkward', 'awlway', 'awn', 'awok', 'awsom', 'awwfuul', 'awwwful', 'awwwww', 'awwwwwwwwwwwwwwwwwesom', 'axe', 'axelrod', 'axiom', 'axl', 'aye', 'ayhan', 'aynyway', 'ayso', 'ayurved', 'ayurveda', 'azalea', 'azar', 'aztec', 'azteca', 'azuki', 'azzuri', 'baa', 'baaa', 'baaaaad', 'baar', 'baarrel', 'bab', 'baba', 'babaganoug', 'babbett', 'babe', 'babi', 'babiesrus', 'babovka', 'babycak', 'babycat', 'babycook', 'babyfood', 'babysit', 'babysitt', 'babytear', 'bac', 'bacam', 'bacan', 'bacaon', 'bacardi', 'bacaus', 'bacetti', 'bachelor', 'bachelorett', 'baci', 'bacillum', 'bacillus', 'bacio', 'back', 'backach', 'backbit', 'backbon', 'backcountri', 'backdoor', 'backdrop', 'backend', 'backet', 'backfir', 'background', 'backlog', 'backnot', 'backord', 'backpack', 'backroom', 'backround', 'backseat', 'backsid', 'backslid', 'backslop', 'backstag', 'backstrap', 'backup', 'backward', 'backwash', 'backwheat', 'backyard', 'baco', 'bacom', 'bacon', 'baconais', 'baconey', 'baconi', 'baconless', 'baconnais', 'baconni', 'baconsalt', 'bacopa', 'bacteri', 'bacteria', 'bacterium', 'bad', 'badboy', 'baddest', 'badescu', 'badia', 'badoit', 'badoodl', 'badshah', 'baffl', 'bag', 'bagain', 'bagel', 'baggag', 'bagger', 'baggett', 'baggi', 'baghdad', 'bagl', 'bagna', 'bagperson', 'bagsonboard', 'baguett', 'bah', 'bahama', 'bahlsen', 'bahlson', 'bahrain', 'bai', 'bail', 'bailey', 'bailout', 'bain', 'bait', 'baja', 'bajillion', 'bak', 'bake', 'bakehous', 'baker', 'bakeri', 'bakewar', 'bakewel', 'baklava', 'baklavah', 'baklawa', 'baklawah', 'bakoula', 'bakto', 'balanc', 'balboa', 'balck', 'balconi', 'bald', 'baldwin', 'bale', 'balein', 'balenc', 'bali', 'balk', 'balkan', 'balkin', 'ball', 'baller', 'ballerina', 'ballet', 'ballgam', 'ballist', 'balloon', 'ballotin', 'ballpark', 'balm', 'balmi', 'baloney', 'baloni', 'balsalm', 'balsam', 'balsamica', 'balsamico', 'balsen', 'baltasar', 'baltimor', 'bam', 'bama', 'bamba', 'bambi', 'bamboo', 'bamboozl', 'bami', 'bamm', 'bammer', 'ban', 'banana', 'bananamon', 'bananna', 'bancha', 'band', 'bandag', 'bandaid', 'bandera', 'bandini', 'bandit', 'bandwagon', 'bane', 'bang', 'banger', 'bangladesh', 'bangladeshi', 'bangor', 'banh', 'banish', 'banjo', 'bank', 'banker', 'bankrupt', 'bankruptci', 'banna', 'bannana', 'banner', 'bannist', 'banquet', 'banshe', 'baquett', 'bar', 'baragain', 'baratza', 'barb', 'barbabdo', 'barbado', 'barbaqu', 'barbara', 'barbarum', 'barbebecu', 'barbecu', 'barbequ', 'barbera', 'barberi', 'barbero', 'barberra', 'barbi', 'barbq', 'barbqu', 'barbra', 'barcod', 'bare', 'barefoot', 'barel', 'barest', 'barf', 'bargain', 'bargin', 'barharbor', 'bari', 'bariani', 'bariatr', 'barilla', 'barista', 'barium', 'bark', 'barkeep', 'barkier', 'barlean', 'barley', 'barleygrass', 'barlo', 'barn', 'barney', 'barni', 'barnier', 'barnum', 'barnyard', 'baromet', 'baron', 'baronet', 'barq', 'barrel', 'barren', 'barri', 'barrier', 'barrista', 'barritt', 'barrow', 'bartel', 'bartend', 'barter', 'barth', 'bartha', 'bartista', 'bartlet', 'bartolini', 'bartram', 'barvarian', 'barx', 'barz', 'basalm', 'bascial', 'basciano', 'base', 'basebal', 'baseboard', 'basecamp', 'baseless', 'baselin', 'basement', 'basenji', 'bash', 'basi', 'basic', 'basiclli', 'basil', 'basilico', 'basilio', 'basin', 'bask', 'basket', 'basketbal', 'baskin', 'basmati', 'basqu', 'bass', 'basset', 'bassett', 'bast', 'bastami', 'bastard', 'bastianich', 'bastion', 'bat', 'batali', 'batavia', 'batch', 'batdorf', 'bate', 'bath', 'bathroom', 'bathtub', 'bathwat', 'batman', 'batmanghelidj', 'baton', 'batra', 'batt', 'battenberg', 'batter', 'batteri', 'battl', 'battler', 'batut', 'batya', 'baubl', 'baught', 'bauli', 'baumer', 'bavaria', 'bavarian', 'bawl', 'baxi', 'baxter', 'bay', 'bayer', 'bayless', 'bayou', 'bazaar', 'bazar', 'bazonk', 'bazooka', 'bbb', 'bbbt', 'bbetween', 'bbk', 'bbox', 'bbq', 'bbqing', 'bbqs', 'bbs', 'bcc', 'bcome', 'bcs', 'bcuz', 'bday', 'be', 'beaba', 'beacaus', 'beach', 'beachbum', 'beacon', 'beacus', 'bead', 'beadi', 'beaf', 'beagl', 'beak', 'beaker', 'bealzibub', 'beam', 'bean', 'beana', 'beand', 'beaneri', 'beaney', 'beani', 'beanier', 'beanilla', 'beano', 'beansprout', 'bear', 'bearabl', 'beard', 'beardi', 'bearen', 'bearer', 'bearito', 'bearnais', 'bearnak', 'beast', 'beasti', 'beat', 'beaten', 'beater', 'beatha', 'beati', 'beatl', 'beatlejuic', 'beau', 'beaumont', 'beaus', 'beauti', 'beautician', 'beautifi', 'beautiful', 'beautifuli', 'beaver', 'beaverton', 'beawar', 'beber', 'bebop', 'bec', 'becam', 'becar', 'becas', 'becasu', 'becau', 'becaus', 'becausew', 'becca', 'beccaus', 'bechamel', 'bechtl', 'becker', 'beckon', 'becom', 'becomenatur', 'becoz', 'becuas', 'becus', 'becuz', 'bed', 'bedbathandbeyond', 'bedevil', 'bedlam', 'bedlington', 'bedouin', 'bedpost', 'bedrest', 'bedridden', 'bedroom', 'bedsid', 'bedsor', 'bedtim', 'bee', 'beeb', 'beech', 'beechnut', 'beedl', 'beeee', 'beeen', 'beef', 'beefaroni', 'beefcak', 'beefeat', 'beefeeat', 'beefhid', 'beefi', 'beefsteak', 'beehiv', 'beehous', 'beekeep', 'beelin', 'beem', 'beeman', 'beemster', 'beep', 'beer', 'beerish', 'beesewax', 'beeswax', 'beet', 'beetejuic', 'beethoven', 'beetl', 'beetlejuic', 'beetljuic', 'befo', 'befor', 'beforehand', 'befuddl', 'beg', 'begain', 'began', 'begg', 'beggar', 'begger', 'beggin', 'begin', 'beginn', 'begrudg', 'beguil', 'begun', 'behalf', 'behav', 'behavior', 'behaviour', 'behe', 'beheld', 'behemoth', 'behind', 'behold', 'behr', 'behring', 'bei', 'beich', 'beig', 'beigel', 'beignet', 'beij', 'beirut', 'beisd', 'bekiev', 'bekir', 'bel', 'belafont', 'belay', 'belch', 'belcolad', 'beleiv', 'belgian', 'belgium', 'belgiun', 'beli', 'beliav', 'belief', 'believ', 'beliv', 'beliz', 'bell', 'bella', 'bellacino', 'bellagio', 'bellato', 'bellevill', 'belli', 'bellingham', 'bellini', 'bellino', 'bellisimo', 'bellota', 'bellow', 'bellpepp', 'bellplant', 'bellyflop', 'belmont', 'belnd', 'belong', 'belov', 'belt', 'beluga', 'belveder', 'belvoir', 'bemka', 'bemoan', 'bemus', 'ben', 'benacol', 'benadryl', 'bench', 'benchmark', 'bend', 'bendabl', 'bender', 'bendi', 'bene', 'beneath', 'benecol', 'benedict', 'benedryl', 'benefib', 'benefici', 'benefit', 'benefiti', 'benefitsofgreentea', 'benevol', 'benfit', 'bengal', 'bengales', 'beni', 'benicol', 'benifit', 'benifitt', 'benight', 'benign', 'benjamin', 'benji', 'benn', 'bennett', 'benni', 'bensdorp', 'benson', 'bensonhurst', 'bent', 'bentley', 'bentli', 'bento', 'bentz', 'benwick', 'benz', 'benzen', 'benzoat', 'benzoyl', 'beofr', 'beoynd', 'ber', 'beranbaum', 'berat', 'berber', 'berdi', 'berg', 'bergamia', 'bergamont', 'bergamot', 'bergamoti', 'bergemot', 'berger', 'bergin', 'bergomot', 'berio', 'berkeley', 'berkshir', 'berlin', 'bermuda', 'bern', 'bernais', 'bernard', 'bernes', 'berni', 'bernic', 'bernstein', 'berr', 'berri', 'berrier', 'berrri', 'berthaut', 'berti', 'bertoli', 'bertolli', 'berzerk', 'besan', 'beschuitj', 'beset', 'besid', 'bessi', 'best', 'bestest', 'bestow', 'bestsel', 'besttt', 'bet', 'beta', 'betain', 'betcha', 'betelgeus', 'betelgues', 'betelguis', 'beter', 'beth', 'betray', 'betsi', 'bett', 'betta', 'bettancourt', 'better', 'bettermad', 'bettern', 'betterpod', 'betti', 'bettlejuic', 'bettr', 'bettter', 'bettuzzi', 'beuati', 'beuracrat', 'beurr', 'beuti', 'bev', 'bevarag', 'bever', 'beverag', 'beveragegourmet', 'beverin', 'bevmo', 'bew', 'bewar', 'bewild', 'bewley', 'bewteen', 'beyon', 'beyond', 'beyound', 'bezo', 'bfast', 'bff', 'bfs', 'bha', 'bhaat', 'bhaji', 'bhattacharya', 'bhindi', 'bht', 'bhut', 'bhutan', 'bhutanes', 'biaglut', 'bialetti', 'biali', 'bialletti', 'biallita', 'biancolilla', 'biannual', 'bias', 'bib', 'bibb', 'bibbi', 'bibimbap', 'bibl', 'biblic', 'bibliog', 'bica', 'bicarb', 'bicarbon', 'bichon', 'bicker', 'bicotti', 'bicuit', 'bicycl', 'bid', 'biegel', 'bieng', 'biermann', 'bifidobacgterium', 'bifidobacterium', 'bifidus', 'big', 'bigalow', 'bigbox', 'bigbuck', 'bigelo', 'bigelow', 'bigger', 'biggest', 'biggi', 'biggun', 'bight', 'biglot', 'bigmart', 'bigot', 'bigtim', 'bigum', 'bih', 'biiig', 'biiter', 'biitter', 'bija', 'bike', 'bikini', 'bikram', 'bil', 'bilardo', 'bilberri', 'bile', 'bilg', 'biljac', 'bill', 'billabl', 'billi', 'billig', 'billington', 'billion', 'biloba', 'biltmor', 'biltong', 'bimbo', 'bimpl', 'bin', 'binaca', 'bind', 'binder', 'bing', 'binghamton', 'bingo', 'bininji', 'bio', 'bioavail', 'biobag', 'biocar', 'biochem', 'biochemist', 'biocompat', 'biodegr', 'biodegrad', 'biodiesel', 'biodym', 'biodynam', 'bioexercist', 'bioflavinoid', 'bioflavonoid', 'biographi', 'biohazard', 'biolog', 'biologist', 'biomed', 'bionatur', 'bionatura', 'bioneem', 'biopack', 'biopsi', 'bioreactor', 'bioten', 'biotin', 'biotoxin', 'birch', 'bircher', 'bird', 'birddouga', 'birdey', 'birdfeed', 'birdi', 'birdse', 'birdsey', 'birdshot', 'birdsong', 'birdwatch', 'birhtday', 'biriyani', 'birman', 'birmingham', 'birtday', 'birth', 'birthday', 'birthright', 'biryani', 'bisccotti', 'bischon', 'bisciotti', 'biscoff', 'biscoti', 'biscotti', 'biscottin', 'biscuit', 'biscut', 'bishop', 'bisibelebath', 'bisli', 'bismal', 'bismol', 'bison', 'bisphenol', 'bisqu', 'bisquick', 'bisquik', 'bisquit', 'bisto', 'bistro', 'bisulf', 'bisulfit', 'bit', 'bitch', 'bitchi', 'bite', 'biter', 'bites', 'bitey', 'bitoluv', 'bitsi', 'bitsnpiec', 'bitten', 'bitter', 'bitterish', 'bittern', 'bittersweet', 'bitterwseet', 'bitti', 'bittman', 'bittner', 'bitz', 'bivalvia', 'biz', 'bizarr', 'bjs', 'bkh', 'bla', 'blaaaah', 'blaah', 'black', 'blackberi', 'blackberri', 'blackbird', 'blackcurr', 'blackeberri', 'blacken', 'blackend', 'blackest', 'blackey', 'blackhead', 'blackish', 'blackout', 'blackstrap', 'blackw', 'blackwel', 'bladder', 'blade', 'blah', 'blair', 'blake', 'blam', 'blame', 'blanc', 'blanch', 'blanco', 'bland', 'blander', 'blandest', 'blandifi', 'blank', 'blanket', 'blanki', 'blare', 'blarney', 'blasphem', 'blasphemi', 'blast', 'blastin', 'blatant', 'blavatski', 'blaze', 'blazek', 'bleach', 'bleah', 'bleak', 'bleakest', 'blech', 'blechh', 'blechhh', 'blechhhh', 'blechhhhh', 'bleck', 'bled', 'bleed', 'bleeeecchh', 'bleep', 'bleepin', 'blegggh', 'bleh', 'blehh', 'blek', 'blemis', 'blemish', 'blend', 'blender', 'blenderbal', 'blenheim', 'bless', 'bleu', 'bleus', 'blew', 'blight', 'blimp', 'blind', 'blinder', 'blindfold', 'blini', 'blink', 'blintz', 'bliss', 'blister', 'blitz', 'blizzard', 'blizzardi', 'bloat', 'bloated', 'blob', 'block', 'blockag', 'blockbust', 'blocker', 'blocki', 'blog', 'blogger', 'blogspot', 'blok', 'blond', 'blondi', 'blood', 'bloodhound', 'bloodi', 'bloodlust', 'bloodshot', 'bloodstream', 'bloodsug', 'bloodsugar', 'bloodtyp', 'bloodwork', 'blook', 'bloom', 'bloomberg', 'bloomin', 'blop', 'blossm', 'blossom', 'blot', 'blotter', 'blow', 'blowdri', 'blower', 'blown', 'blowout', 'blowpop', 'blowtorch', 'blowup', 'blox', 'blt', 'blu', 'bluberri', 'bludgeon', 'blue', 'bluebarri', 'bluebel', 'blueberri', 'bluebird', 'bluebran', 'blueish', 'blueprint', 'bluerri', 'bluetick', 'bluetooth', 'bluff', 'bluish', 'bluk', 'blum', 'blunder', 'blunt', 'blur', 'blurb', 'blurp', 'blurri', 'blush', 'blusteri', 'bluto', 'blvd', 'bma', 'bmi', 'bms', 'boar', 'board', 'boarder', 'boardroom', 'boardwalk', 'boast', 'boat', 'boatload', 'bob', 'boba', 'bobbaaayyy', 'bobbi', 'bobbl', 'bobcat', 'bobett', 'bobo', 'boboli', 'boca', 'boccaccio', 'boccherini', 'bock', 'bod', 'bodaci', 'bode', 'bodega', 'boderlin', 'bodhi', 'bodi', 'bodum', 'bodybuild', 'bodyfat', 'boehm', 'boerwor', 'bog', 'boggl', 'boght', 'bogota', 'bogus', 'bohemian', 'boi', 'boil', 'boilabl', 'boiler', 'boilt', 'bois', 'boister', 'bok', 'bokar', 'boken', 'bolay', 'bold', 'bolder', 'boldest', 'bolduc', 'bole', 'boletus', 'bolivia', 'boll', 'bollion', 'bologna', 'bolognes', 'bolognesi', 'bolsa', 'bolster', 'bolt', 'bom', 'bomb', 'bomba', 'bombard', 'bombay', 'bombilla', 'bombshel', 'bon', 'bona', 'bonafid', 'bonapart', 'bonbon', 'bond', 'bone', 'bonefish', 'bonehead', 'boneless', 'boney', 'boni', 'bonita', 'bonito', 'bonjour', 'bonk', 'bonker', 'bonn', 'bonnat', 'bonner', 'bonnet', 'bonni', 'bonsai', 'bonus', 'bonz', 'bonzai', 'boo', 'booda', 'boodi', 'booger', 'book', 'bookbag', 'bookbind', 'bookcas', 'booklet', 'bookmark', 'bookshelf', 'bookshop', 'bookstor', 'boom', 'boomer', 'boon', 'boondi', 'boondock', 'booni', 'booo', 'boooooo', 'boorish', 'boos', 'boost', 'booster', 'boot', 'booth', 'booti', 'boought', 'booyah', 'booz', 'boozi', 'bop', 'boquet', 'borag', 'bord', 'bordeaux', 'borden', 'border', 'borderlin', 'bordom', 'bordon', 'bore', 'boredom', 'bori', 'boric', 'born', 'borracho', 'borrow', 'borsari', 'bosch', 'bosco', 'boscoli', 'boscoworld', 'bosnia', 'boss', 'bossi', 'bosten', 'boston', 'bostonian', 'bot', 'botan', 'botch', 'bother', 'bothersom', 'bott', 'bottarga', 'botten', 'bottl', 'bottler', 'bottlework', 'bottom', 'bottomless', 'bottomlin', 'botton', 'botul', 'boudain', 'boudin', 'boudoir', 'bouganvillea', 'bough', 'bought', 'boughten', 'bougth', 'bouguet', 'bouillabaiss', 'bouillion', 'bouillon', 'bouilon', 'boulder', 'boulevard', 'boullion', 'boulud', 'bounc', 'bounceback', 'bounci', 'bound', 'boundari', 'boundless', 'bounti', 'bounzer', 'bouquest', 'bouquet', 'bourbena', 'bourbon', 'bourdain', 'bourgeoi', 'bourgeoisi', 'bourgogn', 'bournvita', 'boursin', 'bout', 'boutiqu', 'bouvier', 'bovin', 'bow', 'bowel', 'bowl', 'bowser', 'bowti', 'box', 'boxador', 'boxer', 'boxload', 'boxwood', 'boy', 'boyajian', 'boyarde', 'boyardi', 'boycot', 'boycott', 'boyd', 'boyer', 'boyfriend', 'boylan', 'boylanbottl', 'boylen', 'boynton', 'boysenberri', 'boyz', 'bozo', 'bpa', 'bpimp', 'bqq', 'bra', 'brace', 'bracelet', 'bracer', 'brach', 'bracket', 'brackish', 'brad', 'braddock', 'bradham', 'bradle', 'braeburn', 'brag', 'bragg', 'braggabl', 'bragu', 'brah', 'braid', 'brain', 'brainer', 'brainiac', 'brainier', 'brainless', 'brainpow', 'braintoniq', 'brainwash', 'brainwork', 'brais', 'brake', 'brakefast', 'bran', 'branch', 'brand', 'brandi', 'brandnam', 'brando', 'brank', 'branson', 'branston', 'brash', 'brasil', 'brasilia', 'brasilian', 'brass', 'brat', 'bratwurst', 'bratz', 'braun', 'brauner', 'brautworst', 'brautwurst', 'brava', 'bravado', 'brave', 'braveheart', 'braveri', 'bravissimo', 'bravo', 'brazen', 'brazier', 'brazil', 'brazilian', 'brazillian', 'brc', 'bread', 'breadback', 'breadbak', 'breadboard', 'breadcrumb', 'breader', 'breadi', 'breadmachin', 'breadmak', 'breadman', 'breadmix', 'breadshop', 'breadstick', 'breadth', 'breafast', 'break', 'breakabl', 'breakag', 'breakast', 'breakaway', 'breakdown', 'breaker', 'breakeven', 'breakfa', 'breakfast', 'breakfat', 'breakfeast', 'breakfest', 'breaki', 'breakout', 'breakroom', 'breaksfast', 'breakthrough', 'breakup', 'breast', 'breastf', 'breastfe', 'breastfeed', 'breastmilk', 'breat', 'breatfast', 'breath', 'breathalys', 'breather', 'breathi', 'breathless', 'breathmint', 'breathsav', 'breathtak', 'breatkfast', 'bred', 'breed', 'breeder', 'breen', 'breez', 'breezi', 'breifcas', 'brekafast', 'brekki', 'bremzen', 'brenda', 'brendan', 'brengelman', 'brer', 'brerrabbit', 'bresaola', 'brethren', 'breton', 'brett', 'bretzel', 'brevell', 'brevil', 'brevill', 'brew', 'brewer', 'breweri', 'brewhous', 'brewpub', 'breyer', 'bri', 'brian', 'brianna', 'bribe', 'briberi', 'brick', 'bricklik', 'bridal', 'bride', 'bridg', 'bridgeford', 'bridget', 'bridgework', 'brie', 'brief', 'briefcas', 'briefest', 'briefli', 'briel', 'brien', 'briesl', 'brigad', 'brigg', 'bright', 'brighten', 'brighter', 'brightest', 'brighton', 'brigittin', 'brigth', 'brika', 'brikka', 'brillianc', 'brilliant', 'brillig', 'brim', 'brimley', 'brine', 'briney', 'bring', 'brini', 'brink', 'brio', 'brioch', 'brisk', 'brisker', 'brisket', 'brisl', 'bristl', 'bristol', 'bristot', 'brit', 'brita', 'britain', 'brite', 'british', 'briton', 'britt', 'brittani', 'brittish', 'brittl', 'britvic', 'brix', 'briyani', 'brm', 'brn', 'bro', 'broad', 'broadacr', 'broadcast', 'broaden', 'broader', 'broadway', 'broast', 'broc', 'brocc', 'broccoli', 'broccolli', 'brochur', 'brocken', 'brocolli', 'brodi', 'broil', 'broiler', 'brok', 'broke', 'brokedown', 'broken', 'broker', 'bromat', 'bromin', 'bromley', 'bronchiti', 'bronchodil', 'bronco', 'bronner', 'bronson', 'bronx', 'bronz', 'bronzi', 'brood', 'brook', 'brooken', 'brookfarm', 'brooklin', 'brooklyn', 'brooklynit', 'brookshir', 'brooksid', 'broom', 'broomfield', 'bros', 'broth', 'brother', 'brothi', 'brough', 'brought', 'brous', 'brow', 'browin', 'browish', 'brown', 'browner', 'browni', 'brownier', 'brownish', 'brownsauc', 'brownsvill', 'brows', 'browser', 'brrrrrrrrrrrrrp', 'bru', 'bruce', 'bruinswick', 'bruis', 'brule', 'brum', 'brummel', 'brunch', 'brunello', 'brunswick', 'brunvand', 'bruscetta', 'bruschetta', 'brush', 'brusher', 'brushetta', 'brushi', 'brussel', 'brut', 'brutal', 'brute', 'brutish', 'brutus', 'brux', 'bryanna', 'bryant', 'brylcrem', 'bse', 'bset', 'bsm', 'bsn', 'btach', 'btb', 'bthey', 'btm', 'btn', 'bttle', 'bttls', 'btv', 'btw', 'bu', 'bub', 'bubba', 'bubbi', 'bubbili', 'bubbl', 'bubblegum', 'bubblemint', 'bubblier', 'buccan', 'buccatini', 'buch', 'buchanan', 'buck', 'bucket', 'buckey', 'buckl', 'buckmast', 'buckthorn', 'buckweat', 'buckwheat', 'bud', 'buddah', 'buddi', 'buddist', 'budg', 'budget', 'budgetari', 'budgi', 'budi', 'budmillcoor', 'budweis', 'bue', 'bueberri', 'bueller', 'buen', 'buena', 'bueno', 'buerr', 'bufalo', 'buff', 'buffalo', 'buffer', 'buffet', 'buffi', 'buford', 'bug', 'bugaboo', 'buger', 'buget', 'bugger', 'bugl', 'bugout', 'bugsi', 'buick', 'build', 'builder', 'buildup', 'built', 'buis', 'buiscuit', 'buiscut', 'bukhail', 'bukhara', 'bulb', 'bulbi', 'bulbous', 'bulcki', 'buldg', 'bulg', 'bulgar', 'bulgaria', 'bulgarian', 'bulger', 'bulghar', 'bulghur', 'bulgogi', 'bulgur', 'bulk', 'bulki', 'bulkier', 'bull', 'bulldog', 'bullet', 'bulli', 'bullion', 'bullmastiff', 'bullsburg', 'bullsey', 'bullshot', 'bult', 'bum', 'bumbl', 'bumblebar', 'bumblebe', 'bummer', 'bump', 'bumper', 'bumpi', 'bun', 'bunch', 'buncha', 'bunco', 'bundl', 'bundt', 'buni', 'bunk', 'bunless', 'bunn', 'bunni', 'bunt', 'bunus', 'buon', 'buonissimo', 'buono', 'bur', 'burb', 'burbank', 'burden', 'burdensom', 'burdock', 'bureau', 'bureaucraci', 'bureaucrat', 'burg', 'burger', 'burggraf', 'burgh', 'burghul', 'burgundi', 'buri', 'burial', 'buritto', 'burlap', 'burlingham', 'burlington', 'burma', 'burmes', 'burmil', 'burn', 'burner', 'burni', 'burnout', 'burnt', 'burough', 'burp', 'burpe', 'burr', 'burrel', 'burri', 'burrito', 'burritto', 'burrough', 'burrow', 'burst', 'burt', 'burton', 'burtonesqu', 'bus', 'busch', 'buscuit', 'buse', 'bush', 'busha', 'bushel', 'bushi', 'bushmen', 'busi', 'busier', 'busiest', 'businesslik', 'businessmen', 'businesswoman', 'businesswomen', 'buss', 'bussetto', 'bussi', 'bussian', 'bust', 'bustello', 'bustelo', 'buster', 'busybodi', 'but', 'butaman', 'butcher', 'bute', 'buti', 'butif', 'butler', 'butt', 'butta', 'butter', 'buttercream', 'butterfat', 'butterfield', 'butterfing', 'butterfli', 'butterhead', 'butteri', 'butterkek', 'butterless', 'buttermilk', 'buttermint', 'butternut', 'butterscotch', 'butterscotchey', 'butterscotchi', 'butterworth', 'butti', 'buttjuic', 'buttload', 'buttock', 'button', 'buttonless', 'buttress', 'buttteri', 'butttom', 'butttttt', 'butyl', 'buussel', 'buuuut', 'bux', 'buy', 'buyer', 'buyin', 'buyit', 'buyt', 'buywel', 'buzz', 'buzzag', 'buzzer', 'buzzi', 'buzzworthi', 'buzzzz', 'by', 'bye', 'byeby', 'byfiend', 'bygon', 'byo', 'bypass', 'byproduct', 'byrd', 'byron', 'bystand', 'byt', 'byte', 'byzantin', 'bzz', 'bzzcampaign', 'caarnauba', 'cab', 'cabag', 'cabal', 'cabalos', 'cabaret', 'cabbag', 'cabernet', 'cabin', 'cabinet', 'cabl', 'cabnet', 'cabo', 'cacao', 'cacaol', 'cacciator', 'cach', 'cacher', 'cachet', 'cachou', 'cacium', 'cackl', 'cacoa', 'cacol', 'cactus', 'cadburi', 'caddi', 'cadet', 'cadi', 'cadillac', 'cadiz', 'cae', 'caesar', 'caf', 'cafe', 'cafechroma', 'cafecito', 'cafeein', 'cafein', 'cafeteria', 'caff', 'caffe', 'caffeen', 'caffeic', 'caffein', 'caffeinn', 'caffeint', 'caffen', 'caffetteria', 'caffettier', 'caffien', 'caffin', 'caffinate', 'caffrey', 'cafix', 'cage', 'cahil', 'cahterin', 'caight', 'caiman', 'cain', 'caipirinha', 'cairn', 'cairo', 'cajol', 'cajum', 'cajun', 'cake', 'cakehol', 'cakeless', 'cakelik', 'cakest', 'cakey', 'cal', 'calabria', 'calabrian', 'calabro', 'calai', 'calalog', 'calamari', 'calamondin', 'calari', 'calbe', 'calcif', 'calcifi', 'calcium', 'calcul', 'calcutta', 'caleb', 'caledonian', 'calendar', 'calendula', 'caleri', 'calf', 'calgon', 'calhoun', 'cali', 'calib', 'calibr', 'calibur', 'calicium', 'calico', 'calient', 'calif', 'califig', 'california', 'californian', 'calimari', 'calimyrna', 'calistoga', 'call', 'calla', 'callard', 'callebaut', 'caller', 'callet', 'calligraphi', 'callinbg', 'callori', 'calm', 'calmer', 'calor', 'calori', 'caloriesand', 'calorif', 'calorii', 'calorit', 'calphalon', 'caltran', 'calumet', 'calypso', 'calzon', 'cam', 'camano', 'camargu', 'cambel', 'cambl', 'cambodia', 'cambodian', 'cambridg', 'camcord', 'came', 'camel', 'camelback', 'camelia', 'camellia', 'camembert', 'cameo', 'camera', 'cameron', 'camill', 'cammomil', 'camo', 'camoflag', 'camomil', 'camouflag', 'camp', 'campagin', 'campaign', 'campania', 'campari', 'campbel', 'camper', 'campfir', 'campi', 'campofrio', 'campsit', 'campus', 'can', 'canaan', 'canada', 'canadi', 'canadian', 'canal', 'canap', 'canarino', 'canario', 'canberri', 'canceal', 'cancel', 'cancer', 'cancun', 'candelabra', 'candi', 'candian', 'candid', 'candida', 'candiew', 'candl', 'candlefish', 'candlelight', 'candybar', 'candycan', 'candycr', 'candymachin', 'cane', 'canela', 'canella', 'canellini', 'canfield', 'cani', 'canida', 'canidea', 'canidida', 'canin', 'canina', 'canist', 'canker', 'cann', 'cannellini', 'canneloni', 'canner', 'canneri', 'cannib', 'cannibalist', 'canning', 'cannist', 'cannnot', 'cannoli', 'cannot', 'cano', 'canola', 'cant', 'cantalop', 'cantaloup', 'canteen', 'cantelop', 'canterburi', 'canton', 'cantones', 'cantuccini', 'canuba', 'canva', 'canvass', 'canyon', 'canz', 'caori', 'cap', 'capabl', 'capac', 'capacchino', 'capacitor', 'cape', 'capelin', 'capelini', 'capella', 'capelli', 'caper', 'caperberri', 'capilari', 'capit', 'capita', 'capitalist', 'capitol', 'capn', 'caponata', 'capot', 'capp', 'cappaccino', 'cappachino', 'cappacino', 'cappucccino', 'cappuccinahol', 'cappuccinno', 'cappuccino', 'cappuccio', 'cappuccion', 'cappuchino', 'cappucinno', 'cappucino', 'cappuuccino', 'capres', 'capresso', 'capri', 'capsaicin', 'capsicum', 'capsul', 'capt', 'captain', 'captav', 'captiv', 'captur', 'capuccino', 'car', 'caraemsl', 'caraf', 'carageenan', 'caram', 'caramba', 'caramel', 'carameley', 'carameli', 'caramello', 'caramilk', 'caramoo', 'caranavi', 'carandini', 'caranel', 'carapelli', 'caravan', 'caraway', 'carb', 'carba', 'carban', 'carbawhey', 'carber', 'carbi', 'carbin', 'carbnada', 'carbo', 'carboard', 'carbohydr', 'carbolici', 'carbolit', 'carbon', 'carbona', 'carbonara', 'carboten', 'carboxymethylcellulos', 'carboy', 'carbquick', 'carbquik', 'carbrit', 'carbsmart', 'carcass', 'carcenogen', 'carcinogen', 'card', 'cardamom', 'cardamon', 'cardboard', 'cardboardi', 'cardbord', 'cardena', 'cardiac', 'cardigan', 'cardin', 'cardinal', 'cardini', 'cardio', 'cardioelectrophysicist', 'cardiolog', 'cardiologist', 'cardiomyopathi', 'cardiovascular', 'cardo', 'cardona', 'care', 'career', 'carefre', 'carefresh', 'careful', 'carefuli', 'caregiv', 'careless', 'caress', 'caretak', 'cargil', 'cargo', 'cari', 'caribbean', 'caribou', 'caricatur', 'carl', 'carlo', 'carlsbad', 'carlson', 'carlton', 'carmel', 'carmelina', 'carmellini', 'carmello', 'carmik', 'carn', 'carnag', 'carnaroli', 'carnat', 'carnauba', 'carneceria', 'carnegi', 'carniceria', 'carnita', 'carniv', 'carniver', 'carnivor', 'carnosa', 'carnuba', 'carob', 'carol', 'carolin', 'carolina', 'carolyn', 'caron', 'caroten', 'carotenoid', 'carousel', 'carpent', 'carpet', 'carpinteria', 'carport', 'carr', 'carraba', 'carracastl', 'carrageenan', 'carrat', 'carri', 'carribbean', 'carribean', 'carribou', 'carrier', 'carriess', 'carrington', 'carrol', 'carrot', 'carroti', 'carrrot', 'carryon', 'carseat', 'cart', 'carter', 'cartilag', 'cartileg', 'carton', 'cartoon', 'cartooni', 'cartoonish', 'cartoonnetwork', 'cartridg', 'carv', 'carver', 'caryy', 'cas', 'casa', 'casarol', 'casbah', 'cascad', 'cascadia', 'cascadian', 'case', 'casei', 'casein', 'casera', 'caserol', 'casework', 'casey', 'cash', 'cashew', 'cashier', 'cashmer', 'casi', 'casien', 'casina', 'casino', 'cask', 'casper', 'casr', 'cassarol', 'cassein', 'casserol', 'casseroul', 'cassett', 'cassi', 'cassia', 'cassiopia', 'cassorol', 'cassoulet', 'cast', 'castagn', 'castanza', 'castellana', 'castelvetro', 'caster', 'castl', 'castor', 'casual', 'casualti', 'casul', 'cat', 'catacomb', 'catagori', 'catalano', 'catalina', 'catalog', 'catalogu', 'catalyst', 'catalyz', 'cataract', 'catastophr', 'cataton', 'catch', 'catcher', 'catchi', 'catchphras', 'catchup', 'catechin', 'catechu', 'categor', 'categori', 'cater', 'caterpillar', 'catfish', 'catfood', 'catharin', 'cathart', 'cathechin', 'cather', 'catherin', 'cathet', 'cathi', 'cathol', 'catimor', 'catit', 'catkin', 'catnap', 'catnip', 'catrri', 'catserol', 'catsup', 'catsur', 'catswel', 'catteri', 'cattl', 'cattledog', 'cattlemen', 'cauda', 'caught', 'cauldron', 'cauliflow', 'caus', 'causer', 'causion', 'cauter', 'caution', 'cautionari', 'cautious', 'cav', 'cavachon', 'cavali', 'cavan', 'cavand', 'cavapoo', 'cavatappi', 'cave', 'caveat', 'caveman', 'cavend', 'cavendar', 'cavendish', 'cavett', 'caviar', 'cavili', 'caviti', 'cavort', 'cawfe', 'cayann', 'cayen', 'cayenn', 'cayman', 'caymen', 'cayot', 'cba', 'cbc', 'cbd', 'cbk', 'cbs', 'ccc', 'ccd', 'ccr', 'cdc', 'cdg', 'cds', 'ceafalu', 'ceamer', 'cearal', 'ceareal', 'cearel', 'ceas', 'ceasar', 'ceaser', 'cecco', 'cecil', 'cedar', 'cedarberg', 'ceddar', 'cederberg', 'cedrinca', 'cee', 'ceiac', 'ceil', 'ceili', 'celantro', 'celcius', 'celeb', 'celebr', 'celephan', 'celerac', 'celeri', 'celest', 'celesti', 'celiac', 'cell', 'cella', 'cellar', 'celler', 'celleri', 'cello', 'cellophan', 'cellphon', 'cellucos', 'cellular', 'cellulas', 'cellulit', 'cellulos', 'celluls', 'celophan', 'celray', 'celsius', 'celstial', 'celtic', 'cement', 'cemetari', 'cemeteri', 'censor', 'censorship', 'cent', 'cental', 'centaurea', 'centenarian', 'centenni', 'center', 'centercut', 'centerpiec', 'centimet', 'centiped', 'cento', 'centr', 'central', 'centrifug', 'centrist', 'centuri', 'ceo', 'cepe', 'cer', 'cerael', 'cerain', 'ceral', 'ceram', 'ceratin', 'cereal', 'cerebr', 'cerelac', 'ceremoni', 'cerer', 'cerevesia', 'cerevisia', 'cerial', 'cerona', 'cerro', 'cert', 'certain', 'certainlyn', 'certaint', 'certainti', 'certan', 'certfi', 'certian', 'certif', 'certifi', 'certo', 'cervic', 'cesaer', 'cesar', 'ceski', 'cet', 'cetain', 'cetara', 'cetera', 'ceylon', 'ceylones', 'cfh', 'cfia', 'cfid', 'cfl', 'cfls', 'cfound', 'cfs', 'cgb', 'cgm', 'cha', 'chaat', 'chabli', 'chacher', 'chachero', 'chaco', 'chacol', 'chacun', 'chado', 'chaf', 'chafe', 'chaff', 'chage', 'chagrin', 'chai', 'chaim', 'chain', 'chair', 'chairman', 'chajang', 'chaka', 'chakki', 'chakra', 'chaleng', 'chalk', 'chalkboard', 'chalki', 'challah', 'challang', 'challeneg', 'challeng', 'challinor', 'chalupa', 'cham', 'chamaordd', 'chamba', 'chamber', 'chamberlain', 'chambl', 'chammer', 'chammomil', 'chamomeill', 'chamomil', 'chamomill', 'chamomilla', 'chamomli', 'chamonix', 'champ', 'champagn', 'champaign', 'champang', 'champangn', 'champayn', 'champignon', 'champion', 'championship', 'champurrado', 'chana', 'chanag', 'chanakara', 'chanc', 'chane', 'chanel', 'chang', 'changemak', 'changeov', 'changhai', 'changin', 'channel', 'chant', 'chantal', 'chantrell', 'chanukah', 'chao', 'chaokoh', 'chaotic', 'chap', 'chapati', 'chapel', 'chaper', 'chaperon', 'chaplain', 'chappell', 'chappli', 'chapstick', 'chapter', 'chaptiz', 'char', 'charact', 'character', 'characterist', 'charactertist', 'charag', 'charaku', 'charater', 'charbuck', 'charcoal', 'charcuteri', 'chard', 'chardani', 'chardonnay', 'chare', 'charg', 'charger', 'chargril', 'chari', 'charismat', 'charit', 'chariti', 'charl', 'charlatan', 'charle', 'charlemagn', 'charleston', 'charley', 'charli', 'charliebear', 'charlott', 'charlottesvill', 'charlton', 'charm', 'charmer', 'chart', 'charter', 'chartreus', 'chase', 'chasen', 'chaser', 'chashaku', 'chastis', 'chat', 'chatchi', 'chateau', 'chateaus', 'chatfield', 'chatham', 'chatswood', 'chattanooga', 'chatter', 'chatti', 'chauffeur', 'chautauqua', 'chawan', 'chawin', 'chaze', 'chazuk', 'chcken', 'chcolat', 'chd', 'che', 'cheap', 'cheapen', 'cheaper', 'cheapest', 'cheapi', 'cheapist', 'cheapli', 'cheapo', 'cheapskak', 'cheapskat', 'cheat', 'cheater', 'cheatham', 'chebe', 'chech', 'check', 'checkbook', 'checken', 'checker', 'checkout', 'checkup', 'chedar', 'cheddar', 'cheddari', 'chedder', 'cheecha', 'cheedar', 'cheees', 'cheek', 'cheeki', 'cheep', 'cheeper', 'cheepest', 'cheer', 'cheeri', 'cheerio', 'cheerwin', 'chees', 'cheescak', 'cheesebal', 'cheeseburg', 'cheesecak', 'cheesecloth', 'cheeseless', 'cheeselik', 'cheesewhiz', 'cheesey', 'cheesh', 'cheesi', 'cheesier', 'cheesiest', 'cheeson', 'cheessi', 'cheetah', 'cheeto', 'cheetoh', 'cheez', 'cheezi', 'cheezit', 'chef', 'chefmast', 'chefsbest', 'chefshop', 'chefstop', 'cheifli', 'chelat', 'chelsea', 'chemcial', 'chemex', 'chemic', 'chemicel', 'chemici', 'chemist', 'chemistri', 'chemo', 'chemotherapi', 'chen', 'cheney', 'cheper', 'chequerboard', 'chereo', 'cheri', 'cherio', 'cherish', 'cheriyaki', 'cherri', 'cherrio', 'cherrybrook', 'cherrybrrok', 'cherryish', 'cherrylik', 'cherryz', 'chervil', 'cheryl', 'ches', 'chesapeak', 'chese', 'cheshir', 'chesnut', 'chess', 'chessi', 'chessmen', 'chest', 'chester', 'chestnut', 'chet', 'chevr', 'chew', 'chewabl', 'cheweez', 'chewer', 'chewey', 'chewi', 'chewier', 'chewish', 'chewtoy', 'chewy', 'chewz', 'chex', 'cheyenn', 'cheyney', 'chf', 'chi', 'chia', 'chiabatta', 'chiang', 'chianti', 'chiap', 'chiara', 'chiavetta', 'chic', 'chicago', 'chicagoland', 'chicaronn', 'chice', 'chicharron', 'chichen', 'chick', 'chickem', 'chicken', 'chickeni', 'chicki', 'chicklet', 'chickn', 'chickori', 'chickpea', 'chiclet', 'chico', 'chicori', 'chidlhood', 'chidlren', 'chidren', 'chief', 'chiefli', 'chien', 'chiffon', 'chigger', 'chih', 'chihauhau', 'chihuahua', 'chik', 'chiken', 'chilaquil', 'child', 'childcar', 'childen', 'childhood', 'childish', 'childlik', 'childproof', 'children', 'chile', 'chilean', 'chilehead', 'chilhood', 'chili', 'chilihead', 'chililand', 'chill', 'chilli', 'chillier', 'chimay', 'chimbot', 'chime', 'chimichurri', 'chimney', 'chimpanze', 'chin', 'china', 'chinamart', 'chinata', 'chinatown', 'chinchilla', 'chincoteagu', 'chine', 'chineas', 'chinees', 'chines', 'chinnotto', 'chinotto', 'chintzi', 'chioc', 'chiou', 'chip', 'chipahol', 'chiplet', 'chiplotl', 'chipmunk', 'chipol', 'chipolt', 'chipotl', 'chippi', 'chiriqui', 'chiristma', 'chiropract', 'chiropractor', 'chirstma', 'chis', 'chisel', 'chitarra', 'chitl', 'chitosan', 'chiu', 'chiuaua', 'chive', 'chivi', 'chiweeni', 'chix', 'chloe', 'chlorela', 'chlorella', 'chloresterol', 'chlorhexidin', 'chlorid', 'chlorin', 'chlorophyl', 'chlosterol', 'choatic', 'chobani', 'choc', 'choca', 'chocahol', 'chocal', 'chocalot', 'chocalt', 'chocaluah', 'chocat', 'chochol', 'chocil', 'chock', 'chockablock', 'chocki', 'choclat', 'choclatey', 'chocloat', 'choclolati', 'choco', 'chocoalt', 'chocoat', 'chocobanana', 'chococ', 'chococino', 'chocohal', 'chocohol', 'chocoholic', 'chocol', 'chocola', 'chocolahol', 'chocolat', 'chocolateri', 'chocolatesscharffen', 'chocolatey', 'chocolati', 'chocolatt', 'chocolaty', 'chocolet', 'chocolhol', 'chocolici', 'chocolit', 'chocolo', 'chocolot', 'chocolov', 'chocomint', 'choconut', 'chocoperfect', 'chocotl', 'choctow', 'chocula', 'choffi', 'choic', 'choindroitin', 'chok', 'choke', 'chokeabl', 'chokecherri', 'choker', 'chokiest', 'cholburi', 'cholcat', 'cholcol', 'chole', 'cholera', 'cholersterol', 'cholester', 'cholesterol', 'cholestorol', 'cholestrol', 'choley', 'cholin', 'choloc', 'cholol', 'cholrid', 'cholula', 'chometz', 'chomp', 'chomper', 'chond', 'chondroitin', 'chondrotin', 'choo', 'choochino', 'choochoo', 'chooos', 'choos', 'choosen', 'chooser', 'choosey', 'choosi', 'chop', 'chope', 'choplet', 'chopper', 'chopstick', 'chopstickful', 'chord', 'chore', 'chorizo', 'chortl', 'chorus', 'chose', 'chosen', 'chouquett', 'choux', 'chovlat', 'chow', 'choward', 'chowder', 'chowdown', 'chower', 'chowhound', 'chowin', 'choy', 'choyung', 'chozapin', 'chp', 'chracterist', 'chrees', 'chris', 'christ', 'christel', 'christen', 'christian', 'christin', 'christma', 'christmas', 'christmasi', 'christmastim', 'christstollen', 'chromatographi', 'chrome', 'chromium', 'chron', 'chrondroitin', 'chronic', 'chronicl', 'chruch', 'chrysanthemum', 'chrysina', 'chrystal', 'chuao', 'chub', 'chubbi', 'chuck', 'chucki', 'chuckl', 'chuen', 'chug', 'chuildren', 'chukar', 'chum', 'chummi', 'chump', 'chun', 'chunchi', 'chunck', 'chuncki', 'chunk', 'chunka', 'chunkc', 'chunki', 'chunkier', 'chup', 'chupa', 'church', 'churchil', 'churn', 'chute', 'chutney', 'chx', 'chylothorax', 'cia', 'ciabatta', 'ciaccio', 'ciald', 'ciao', 'cib', 'cicada', 'cicero', 'cichlid', 'cichor', 'cichorium', 'cidar', 'cider', 'cideri', 'cielo', 'cifa', 'cig', 'cigar', 'cigarett', 'cilantro', 'cilatro', 'ciliac', 'cin', 'cinamin', 'cinammon', 'cinamom', 'cinamon', 'cinamonni', 'cinanaman', 'cinch', 'cinci', 'cincinnati', 'cinco', 'cinder', 'cindi', 'cinema', 'cinemat', 'cinematographi', 'cininnati', 'cinn', 'cinnabon', 'cinnaman', 'cinnamin', 'cinnammon', 'cinnamom', 'cinnamon', 'cinnamoni', 'cinnimon', 'cinnnamon', 'cinnomi', 'cioccolattino', 'ciociara', 'cip', 'cipro', 'circl', 'circlevill', 'circuit', 'circul', 'circular', 'circulatori', 'circumfer', 'circumfr', 'circumspect', 'circumst', 'circus', 'cirl', 'cirrhosi', 'cirtric', 'cirtus', 'cis', 'citadell', 'citarella', 'cite', 'citi', 'citizen', 'citral', 'citrat', 'citratus', 'citri', 'citric', 'citrimax', 'citrisi', 'citrizen', 'citron', 'citrus', 'citrusi', 'citrusmint', 'citymad', 'cityroast', 'civet', 'civil', 'civilian', 'ckae', 'ckd', 'cla', 'clad', 'claim', 'claimant', 'claimit', 'clair', 'clairemont', 'clam', 'clamm', 'clammi', 'clamp', 'clan', 'clandestin', 'clang', 'clank', 'clap', 'clapton', 'claremont', 'clarenc', 'clarif', 'clarifi', 'clariti', 'clark', 'clash', 'clasico', 'clasp', 'class', 'classi', 'classic', 'classick', 'classico', 'classier', 'classiest', 'classif', 'classifi', 'classiqu', 'classmat', 'classroom', 'claud', 'claus', 'claussen', 'claw', 'claxton', 'clay', 'claymat', 'clc', 'clean', 'cleanab', 'cleaner', 'cleaness', 'cleanest', 'cleanli', 'cleans', 'cleanser', 'cleanup', 'clear', 'clearanc', 'clearbrook', 'clearer', 'clearfield', 'clearisil', 'clearjel', 'clearsil', 'clearwat', 'cleaver', 'cleft', 'cleiac', 'clement', 'clementin', 'clemetin', 'clemintin', 'clemmi', 'clemntin', 'clen', 'clench', 'clens', 'cleo', 'clerk', 'cleveland', 'clever', 'cliam', 'clich', 'click', 'clicker', 'clicki', 'clickin', 'client', 'clientel', 'clif', 'clifbar', 'cliff', 'cliffbar', 'clifton', 'climat', 'climax', 'climb', 'clin', 'clincher', 'cling', 'clinic', 'clink', 'clint', 'clinton', 'clip', 'clipper', 'cliqu', 'cloak', 'clobber', 'clock', 'clockwork', 'clocol', 'clod', 'clog', 'cloggin', 'clomicalm', 'clomplain', 'clone', 'cloret', 'clorox', 'close', 'closeabl', 'closebi', 'closeout', 'closer', 'closest', 'closet', 'closeup', 'closur', 'clot', 'cloth', 'clothespin', 'cloud', 'cloudberri', 'cloudi', 'cloudstar', 'cloudy', 'clove', 'clover', 'cloverdal', 'clovey', 'clown', 'cloy', 'cloying', 'clsoe', 'clu', 'club', 'clubhous', 'clue', 'clueless', 'cluizel', 'clumb', 'clump', 'clumpi', 'clumsi', 'clung', 'clunki', 'clus', 'cluster', 'clusteri', 'clutch', 'clutter', 'clyde', 'cmas', 'cmon', 'cna', 'cnadi', 'cni', 'cnn', 'coach', 'coaco', 'coagul', 'coal', 'coalesc', 'coampni', 'coars', 'coarsen', 'coarser', 'coarsest', 'coarsli', 'coast', 'coastal', 'coaster', 'coastlin', 'coat', 'coax', 'cob', 'cobalt', 'cobbett', 'cobbl', 'cobbler', 'cobbleston', 'coca', 'cocain', 'cocao', 'cocayerb', 'cocco', 'coccoa', 'cochocha', 'cocido', 'cocina', 'cock', 'cockapoo', 'cockel', 'cocker', 'cockerpoo', 'cockerspaniel', 'cocki', 'cockroach', 'cocktail', 'cocnut', 'coco', 'cocoa', 'cocoanut', 'cocoay', 'cococt', 'cococunt', 'cocol', 'cocomot', 'coconat', 'coconu', 'coconut', 'coconuti', 'coconutoil', 'coconutti', 'coconutwat', 'cocoon', 'cocount', 'cocunut', 'cod', 'coddler', 'code', 'codeword', 'coerc', 'coexist', 'cof', 'cofe', 'coff', 'coffe', 'coffee', 'coffeeahol', 'coffeeam', 'coffeebean', 'coffeebeandirect', 'coffeecak', 'coffeecow', 'coffeecup', 'coffeeduck', 'coffeegeek', 'coffeegi', 'coffeehol', 'coffeehous', 'coffeelik', 'coffeem', 'coffeemak', 'coffeepod', 'coffeepot', 'coffeeshop', 'coffeet', 'coffein', 'coffem', 'coffemak', 'coffer', 'coffess', 'cofff', 'cofffe', 'coffi', 'coffin', 'cogent', 'cognac', 'cognat', 'cognit', 'cohabit', 'cohen', 'coher', 'cohes', 'coil', 'coin', 'coinag', 'coincid', 'coincident', 'coinsid', 'cointreau', 'coke', 'cokehead', 'cokki', 'cola', 'colada', 'coland', 'colaps', 'colata', 'colavita', 'colbert', 'colbi', 'cold', 'colder', 'coldest', 'coldpak', 'coldpress', 'coldston', 'cole', 'coleman', 'coleslaw', 'colester', 'colesterol', 'colestrol', 'coleus', 'colgat', 'colgin', 'colic', 'colick', 'colicki', 'colin', 'coliti', 'colivata', 'coll', 'colland', 'collaps', 'collar', 'collard', 'collater', 'colleagu', 'colleagur', 'collect', 'collector', 'colleen', 'colleg', 'collegu', 'colli', 'collid', 'colliervill', 'collin', 'colloid', 'colloqui', 'collus', 'colman', 'colmbian', 'colo', 'cologn', 'colombia', 'colombian', 'colombo', 'colon', 'colonel', 'coloni', 'colonoscopi', 'color', 'colorado', 'colorfast', 'colori', 'colorist', 'colorless', 'coloss', 'colostrum', 'colour', 'colposcopi', 'coltibuono', 'columbia', 'columbian', 'columbus', 'columela', 'columibia', 'column', 'com', 'coma', 'comal', 'comapar', 'comapni', 'comar', 'comarison', 'comatos', 'comb', 'combat', 'combin', 'combo', 'combust', 'comcntrat', 'come', 'comeback', 'comed', 'comedi', 'comedian', 'comedown', 'coment', 'comentario', 'comer', 'comerci', 'comest', 'comet', 'cometh', 'comeupp', 'comfi', 'comfort', 'comian', 'comic', 'comida', 'comimg', 'comin', 'comit', 'comlet', 'comm', 'command', 'commando', 'commannd', 'commemor', 'commenc', 'commend', 'commensor', 'comment', 'commentari', 'commer', 'commerc', 'commerci', 'commeri', 'commet', 'commetn', 'commis', 'commiss', 'commissari', 'commission', 'commit', 'committ', 'committe', 'commmonwealth', 'commod', 'commodit', 'commom', 'common', 'commondream', 'commonplac', 'commonwealth', 'communal', 'communic', 'communion', 'communism', 'communiti', 'commut', 'como', 'comp', 'compact', 'compadr', 'compair', 'compak', 'compani', 'companion', 'companionship', 'compar', 'compard', 'compari', 'comparis', 'comparison', 'comparit', 'comparson', 'compart', 'compartment', 'compass', 'compat', 'compel', 'compelet', 'compens', 'compensatori', 'compet', 'competit', 'competitor', 'compil', 'complac', 'complain', 'complaint', 'complani', 'complant', 'comple', 'compleat', 'complement', 'complementari', 'complet', 'completey', 'completley', 'completr', 'complex', 'complexion', 'complexli', 'compli', 'complianc', 'compliant', 'complic', 'complicit', 'compliment', 'complimentari', 'complimentri', 'complt', 'compnay', 'compnent', 'compomis', 'compon', 'compos', 'composit', 'compost', 'compot', 'compound', 'compr', 'comprabl', 'comprar', 'comprehend', 'comprehens', 'compress', 'comprimis', 'compris', 'compromis', 'compuls', 'compulsori', 'comput', 'computer', 'computor', 'comsum', 'comt', 'comtain', 'comtinu', 'comut', 'comvita', 'con', 'conagra', 'conasu', 'conatin', 'concav', 'conceal', 'conced', 'conceiv', 'concenr', 'concent', 'concentr', 'concept', 'conceptu', 'concer', 'conceren', 'concerend', 'concern', 'concert', 'concerto', 'concess', 'concetr', 'conch', 'conchigli', 'conchita', 'concid', 'concider', 'concientr', 'concierg', 'conciev', 'conciliatori', 'concious', 'concis', 'conclud', 'conclus', 'concockt', 'concoct', 'concomit', 'concord', 'concot', 'concret', 'concur', 'concurr', 'condadina', 'condement', 'condemn', 'condens', 'condensor', 'condescend', 'condidion', 'condiiton', 'condiment', 'condimento', 'condit', 'condition', 'conditon', 'condo', 'condol', 'condor', 'condroitin', 'condtion', 'conduc', 'conduct', 'cone', 'conentr', 'conesseiur', 'coney', 'confect', 'confection', 'confectionari', 'confectioneri', 'confer', 'confess', 'confetti', 'confid', 'confidenti', 'configur', 'confin', 'confirm', 'confisc', 'confit', 'conflict', 'conform', 'confort', 'confound', 'confront', 'confus', 'congeal', 'congenit', 'congest', 'conglomer', 'congou', 'congradul', 'congrat', 'congratualt', 'congratul', 'congreg', 'congress', 'congruent', 'conic', 'conifer', 'coniseur', 'conisseur', 'conist', 'conitnu', 'conitu', 'conjou', 'conjug', 'conjunct', 'conjur', 'conlus', 'connaisseur', 'connamon', 'connect', 'connecticut', 'connector', 'connelli', 'conner', 'conneseiur', 'connesieur', 'connesiur', 'connesseur', 'conni', 'conniseur', 'connoiseur', 'connoisseur', 'connor', 'connoseur', 'connot', 'conntribut', 'conoisseur', 'conossui', 'conparison', 'conquer', 'conquest', 'conquistador', 'conscienc', 'conscienti', 'conscious', 'consder', 'consecr', 'consecut', 'consensus', 'consent', 'consequ', 'consequect', 'conserv', 'conserva', 'conservation', 'consid', 'consider', 'considerationt', 'consipaton', 'consiss', 'consist', 'consistani', 'consisten', 'consisteni', 'consistennci', 'consistensi', 'consistentci', 'consit', 'consitiut', 'consol', 'consolid', 'consomm', 'consortium', 'conspicu', 'conspir', 'conspiraci', 'constanc', 'constant', 'constap', 'constatn', 'constern', 'constip', 'constitu', 'constitut', 'constraint', 'constru', 'construct', 'consult', 'consum', 'consumeraffair', 'consumersearch', 'consumm', 'consumpion', 'consumpt', 'cont', 'conta', 'contact', 'contadina', 'contagi', 'contain', 'containd', 'containt', 'contamin', 'contan', 'contanin', 'contant', 'contast', 'contech', 'contempl', 'contemporari', 'contempt', 'contend', 'content', 'contessa', 'contest', 'context', 'contian', 'contigu', 'contin', 'continent', 'conting', 'contini', 'continu', 'continuesli', 'continuosli', 'contiu', 'contort', 'contortionist', 'contour', 'contra', 'contraband', 'contract', 'contractor', 'contradict', 'contradictori', 'contraind', 'contrapt', 'contrari', 'contrast', 'contreau', 'contribut', 'contributor', 'contrit', 'contriv', 'control', 'controversi', 'convect', 'conveienc', 'convein', 'conveinc', 'conveini', 'conven', 'convenc', 'conveni', 'convenientand', 'convent', 'conventi', 'convenyen', 'converg', 'convers', 'convert', 'convex', 'convey', 'conveyor', 'convict', 'convien', 'convienc', 'convienec', 'convieni', 'convient', 'convin', 'convinc', 'convinec', 'convini', 'convo', 'convolut', 'coo', 'coob', 'cooconut', 'cook', 'cookabl', 'cookag', 'cookbook', 'cookei', 'cooker', 'cookeri', 'cooki', 'cookier', 'cookin', 'cookli', 'cookout', 'cookpot', 'cookwar', 'cool', 'coolant', 'coolbrew', 'cooler', 'coolest', 'cooli', 'coolwhip', 'coomb', 'coon', 'coonhound', 'coooki', 'coop', 'cooper', 'coopersmith', 'coor', 'coordin', 'coot', 'cop', 'copani', 'copco', 'cope', 'copenhagen', 'copi', 'copious', 'copntinu', 'copper', 'coppicino', 'coppola', 'copycat', 'copyright', 'copywrit', 'cor', 'coral', 'corbin', 'cord', 'cordboard', 'cordial', 'cordless', 'cordon', 'core', 'corect', 'coreleon', 'corer', 'corgi', 'coriand', 'cork', 'corkscrew', 'corm', 'cormoro', 'corn', 'cornbr', 'cornbread', 'corncak', 'corndog', 'corner', 'cornerston', 'corney', 'cornfield', 'cornflak', 'cornflour', 'cornflow', 'cornhusk', 'corni', 'cornichon', 'corningwar', 'cornish', 'cornmeal', 'cornnut', 'cornpuff', 'cornrow', 'cornstarch', 'cornstart', 'cornucopia', 'cornut', 'cornzapoppin', 'corolina', 'coromega', 'corona', 'coronari', 'corp', 'corpor', 'corprat', 'corps', 'corral', 'correct', 'correl', 'correspond', 'corriand', 'corridor', 'corrod', 'corrug', 'corrupt', 'corsag', 'corsair', 'corso', 'cort', 'corta', 'cortes', 'cortison', 'cortizon', 'corton', 'corylus', 'cos', 'cosbi', 'cosco', 'cosequin', 'cosequinn', 'cosi', 'cosist', 'cosmet', 'cosmic', 'cosmo', 'cosmopolitan', 'cost', 'costa', 'costarican', 'costco', 'costena', 'costlier', 'costliest', 'costo', 'costom', 'costoya', 'costplus', 'costsco', 'costum', 'costwis', 'cot', 'cote', 'cotija', 'coton', 'cotswold', 'cotta', 'cottag', 'cotto', 'cotton', 'cottoni', 'cottonse', 'cottontail', 'couch', 'coucous', 'coudln', 'coudn', 'cougar', 'cough', 'coujld', 'coul', 'could', 'couldm', 'couldnot', 'couldnt', 'couli', 'couln', 'coulnd', 'coumadin', 'coumarin', 'council', 'counsel', 'counselor', 'count', 'counten', 'counter', 'counteract', 'counterattack', 'counterbal', 'counterbalanc', 'counterfeit', 'counterpart', 'counterpoint', 'countertop', 'counti', 'countless', 'countri', 'countrysid', 'countrywild', 'coup', 'coupl', 'coupld', 'coupno', 'coupon', 'courag', 'courant', 'courios', 'courmet', 'cours', 'courser', 'court', 'courteous', 'courtesi', 'cous', 'couscous', 'cousin', 'cousinpaco', 'cousous', 'cousr', 'cousum', 'couton', 'couvillion', 'covav', 'cove', 'cover', 'coverag', 'covert', 'covet', 'covor', 'cow', 'coward', 'cowboy', 'cower', 'cowgirl', 'cowork', 'cowpi', 'cowtail', 'cox', 'coyl', 'coyli', 'coyot', 'coz', 'cozi', 'cpap', 'cpr', 'cps', 'crab', 'crabappl', 'crabber', 'crabfish', 'crabtre', 'crack', 'cracker', 'crackerm', 'crackerthin', 'crackertilla', 'crackhead', 'crackl', 'cracklin', 'crackln', 'cradl', 'craft', 'crafti', 'craftsmanship', 'craggi', 'craig', 'craigslist', 'craisin', 'craisn', 'craker', 'craklin', 'cram', 'crami', 'cramp', 'cranappl', 'cranberi', 'cranberri', 'cranblueberri', 'crane', 'cranium', 'crank', 'cranki', 'cranni', 'cranraisin', 'crap', 'crapacola', 'crape', 'crapemyrtl', 'crapi', 'crapload', 'crappi', 'crappiest', 'craptacular', 'crash', 'crasin', 'crate', 'crater', 'crave', 'craveabl', 'craven', 'craver', 'cravin', 'crawfish', 'crawford', 'crawl', 'crawler', 'crawli', 'crawlspac', 'crayon', 'craze', 'crazi', 'crdboard', 'creacker', 'creaki', 'creal', 'cream', 'creama', 'creamchees', 'creamer', 'creameri', 'creamett', 'creami', 'creamier', 'creamiest', 'creamora', 'creampuff', 'creamsicl', 'creamy', 'creas', 'creat', 'creatd', 'creatin', 'creatinin', 'creation', 'creativ', 'creativli', 'creator', 'creatur', 'creb', 'cred', 'credenc', 'credibl', 'credit', 'creed', 'creek', 'creep', 'creeper', 'creepi', 'crefu', 'crem', 'crema', 'creme', 'cremier', 'cremor', 'cremoso', 'creol', 'creosot', 'crepe', 'crescent', 'cress', 'crest', 'crete', 'cretin', 'creusut', 'crevic', 'crew', 'crewi', 'crewmen', 'crf', 'cri', 'crib', 'cricket', 'crime', 'crimin', 'crimini', 'crimp', 'crimson', 'crinckl', 'cring', 'crink', 'crinkl', 'crip', 'cripsi', 'cris', 'crisco', 'crisi', 'crisp', 'crispbread', 'crisper', 'crispex', 'crispi', 'crispier', 'crispiest', 'crispli', 'crispy', 'cristma', 'criteria', 'criterion', 'critic', 'criticis', 'critiqu', 'critiz', 'critter', 'crix', 'crm', 'crnberri', 'croak', 'croatia', 'croccodil', 'crochet', 'crock', 'crocker', 'crockeri', 'crocket', 'crockett', 'crockpot', 'crocodil', 'crofter', 'crohn', 'croil', 'croisandwich', 'croissant', 'croix', 'cronat', 'crook', 'crooker', 'crop', 'croquett', 'cross', 'crossfit', 'crosspack', 'crosswis', 'crostini', 'crotcheti', 'crountri', 'croustad', 'crouton', 'crow', 'crowd', 'crowley', 'crown', 'crowner', 'croy', 'croûton', 'cru', 'cruch', 'cruchi', 'cruchier', 'crucial', 'crud', 'cruddi', 'crude', 'crudit', 'cruel', 'cruelti', 'cruet', 'cruis', 'cruisin', 'cruller', 'crum', 'crumb', 'crumbi', 'crumbl', 'crumbli', 'crumblier', 'crummi', 'crumpet', 'crumpl', 'crunch', 'crunchabl', 'crunchci', 'cruncher', 'crunchi', 'crunchier', 'crunchiest', 'crunchin', 'crunchmast', 'crunchy', 'crunci', 'crunh', 'crunshi', 'crusad', 'cruse', 'crush', 'crust', 'crustacean', 'crusti', 'crutch', 'cruton', 'cruz', 'cruzan', 'crybabi', 'cryin', 'cryopack', 'cryovac', 'crys', 'crystal', 'crystallin', 'crystallit', 'csa', 'csabai', 'csc', 'cse', 'csi', 'csr', 'cstli', 'ctc', 'ctcrunch', 'cuaght', 'cub', 'cuba', 'cuban', 'cubanell', 'cubano', 'cube', 'cubic', 'cubicl', 'cubist', 'cubita', 'cucamonga', 'cucazza', 'cucina', 'cucumb', 'cud', 'cudd', 'cuddl', 'cudo', 'cue', 'cuervo', 'cugino', 'cuilan', 'cuisan', 'cuisin', 'cuisinart', 'cuisipro', 'cuke', 'cul', 'culantro', 'culinari', 'culinarytea', 'cull', 'cullinari', 'culmin', 'culpep', 'culprit', 'cult', 'cultiv', 'cultur', 'culturell', 'culver', 'cumbersom', 'cumin', 'cumino', 'cumul', 'cuo', 'cup', 'cupboard', 'cupborad', 'cupcak', 'cuppa', 'cur', 'curb', 'curbsid', 'curch', 'curd', 'curdl', 'cure', 'curio', 'curios', 'curious', 'curl', 'curler', 'curli', 'currant', 'currenc', 'current', 'curri', 'currii', 'currri', 'curs', 'curser', 'cursor', 'cursori', 'curt', 'curtail', 'curtain', 'curteous', 'curtiss', 'curv', 'curvebal', 'curvi', 'cus', 'cush', 'cushion', 'cusin', 'cusinart', 'cusp', 'cuss', 'custard', 'custodian', 'custom', 'customari', 'customis', 'customiz', 'customr', 'cut', 'cute', 'cuter', 'cutesi', 'cutest', 'cuticl', 'cutleri', 'cutlet', 'cutney', 'cutom', 'cutout', 'cutter', 'cuttlefish', 'cuz', 'cvb', 'cverpow', 'cvs', 'cvtutu', 'cwpvb', 'cya', 'cyanid', 'cyanocobalamin', 'cyanus', 'cyar', 'cyber', 'cycl', 'cyclic', 'cyclist', 'cyle', 'cylind', 'cylindr', 'cymbopogen', 'cynar', 'cynic', 'cynthia', 'cypress', 'cypriot', 'cyprus', 'cyst', 'cystal', 'cystiti', 'cytomax', 'cytosport', 'cytoxan', 'czech', 'daal', 'dab', 'dabbl', 'dabl', 'dachshund', 'dachsi', 'dachsund', 'dachund', 'dacshaund', 'dad', 'daddi', 'daddio', 'daewoo', 'daffi', 'daffodil', 'daft', 'dafuer', 'dag', 'daggum', 'dagoba', 'dagu', 'dah', 'dahh', 'dahl', 'dai', 'daili', 'dain', 'dainti', 'daintili', 'daiquiri', 'dairi', 'dairyfre', 'dairymen', 'dairyperson', 'dairywomen', 'daisi', 'daisyma', 'dakota', 'dal', 'dale', 'dalfour', 'dalla', 'dallianc', 'dallmayr', 'dallop', 'dalmat', 'dalmatian', 'dalpouri', 'dam', 'damag', 'damask', 'damger', 'damiana', 'dammag', 'damn', 'damp', 'dampen', 'damper', 'damrei', 'damsel', 'damson', 'dan', 'dana', 'danact', 'danc', 'dancer', 'dancin', 'dandelion', 'dander', 'dandi', 'dandilion', 'dandruff', 'dane', 'daneman', 'danes', 'danesi', 'dang', 'danger', 'dangl', 'daniel', 'daniell', 'danish', 'daniti', 'dank', 'danni', 'dannon', 'dappa', 'dar', 'darbi', 'dare', 'daresay', 'darifre', 'darje', 'darjeel', 'darjeerl', 'dark', 'darken', 'darker', 'darkest', 'darkish', 'darl', 'darlin', 'darljeel', 'darn', 'darrel', 'dart', 'darwish', 'das', 'dasani', 'daschund', 'dash', 'dashboard', 'dasher', 'dashi', 'dass', 'dassant', 'dasuquin', 'dat', 'data', 'databas', 'date', 'datsun', 'dauaghter', 'daub', 'daugher', 'daughert', 'daughter', 'daugter', 'daugther', 'daunt', 'dauschund', 'dautgher', 'dav', 'dave', 'davi', 'david', 'davidson', 'davinci', 'daviola', 'davisdon', 'davison', 'daviti', 'dawg', 'dawn', 'day', 'daybreak', 'daycar', 'dayglow', 'daylight', 'daylili', 'daytim', 'dayton', 'daytona', 'dayumm', 'daz', 'daze', 'dazzl', 'dbl', 'dcide', 'dcp', 'dds', 'dduckbokki', 'dea', 'dead', 'deadest', 'deadlin', 'deaf', 'deal', 'dealbreak', 'dealer', 'dealership', 'deali', 'dealt', 'dean', 'deang', 'dear', 'dearest', 'death', 'deb', 'debacl', 'debat', 'debbi', 'debi', 'debili', 'debilit', 'debit', 'debitt', 'debol', 'debon', 'deborah', 'debra', 'debri', 'debt', 'debussi', 'debut', 'dec', 'deca', 'decad', 'decaf', 'decafein', 'decaff', 'decaffein', 'decaffeinato', 'decaffeint', 'decaffen', 'decaffenait', 'decaffeni', 'decaffenin', 'decaffien', 'decaffin', 'decafin', 'decal', 'decalf', 'decant', 'decapit', 'decat', 'decathalon', 'decatur', 'decay', 'deceas', 'dececco', 'deced', 'deceit', 'deceiv', 'decemb', 'decenc', 'decend', 'decent', 'decept', 'decern', 'deci', 'decid', 'deciev', 'decifer', 'decim', 'deciph', 'decis', 'deck', 'decker', 'declar', 'declaw', 'declici', 'declin', 'deco', 'decocain', 'decompos', 'decongest', 'decor', 'decoratif', 'decort', 'decreas', 'decrem', 'decrib', 'decript', 'dedic', 'deduc', 'deduct', 'dee', 'deed', 'deeeeeelici', 'deeeelici', 'deeelish', 'deelici', 'deelish', 'deelop', 'deem', 'deen', 'deep', 'deepen', 'deeper', 'deepest', 'deepli', 'deer', 'deermeat', 'deet', 'deetz', 'def', 'defan', 'defat', 'default', 'defeat', 'defect', 'defenalti', 'defenc', 'defend', 'defenet', 'defenit', 'defens', 'defenseless', 'defent', 'defer', 'deffenit', 'deffent', 'deffin', 'deffinat', 'deffinet', 'deffo', 'defi', 'defiant', 'defibril', 'deficaci', 'defici', 'deficit', 'defin', 'definali', 'definat', 'definateley', 'definatl', 'definatley', 'definet', 'defini', 'definiit', 'definint', 'defininti', 'definit', 'definitaley', 'definitali', 'definitey', 'definitley', 'defint', 'defintilti', 'deflat', 'defn', 'defnit', 'deforest', 'deform', 'defray', 'defrost', 'deft', 'defunct', 'deg', 'degass', 'degen', 'degener', 'degest', 'degrad', 'degre', 'degreef', 'degress', 'deh', 'dehul', 'dehydr', 'dei', 'deic', 'deign', 'deiti', 'deja', 'deject', 'dek', 'dekalb', 'dekuyp', 'del', 'delallo', 'delawar', 'delawarian', 'delay', 'delcious', 'deleat', 'deleci', 'delect', 'deleiv', 'deleiveri', 'delet', 'deleteri', 'delev', 'deleveri', 'delfa', 'delhi', 'deli', 'delia', 'deliber', 'delic', 'delicaci', 'delicasi', 'delicat', 'delicatessan', 'delicatessen', 'delici', 'delicii', 'delicio', 'delicioius', 'delicioso', 'deliciosossssss', 'delicious', 'deliciouuuuuuus', 'deliciozoooo', 'delicisi', 'deliciuo', 'delicoius', 'delicousi', 'delicsi', 'delicu', 'delieious', 'deliev', 'delievi', 'deligh', 'delight', 'delightfuli', 'deligt', 'deliious', 'delious', 'delirium', 'delisci', 'delisciouso', 'delish', 'delist', 'delit', 'deliv', 'deliver', 'deliverd', 'deliveri', 'deliveryman', 'delivr', 'delizioso', 'dell', 'delliveri', 'delmonico', 'delmont', 'deloba', 'delonghi', 'deloui', 'delspensa', 'delta', 'deluca', 'delud', 'delug', 'delus', 'delut', 'delux', 'delv', 'dem', 'demand', 'demeain', 'demean', 'demeanor', 'demens', 'dement', 'demerara', 'demerrara', 'demi', 'demiglac', 'deminish', 'demis', 'demo', 'demodex', 'demolish', 'demoloish', 'demon', 'demonstr', 'demor', 'demot', 'den', 'denatur', 'deni', 'denial', 'denigr', 'denist', 'denmark', 'denna', 'denneri', 'denni', 'denomin', 'denot', 'denounc', 'dens', 'denser', 'densiti', 'densli', 'dent', 'denta', 'dentabit', 'dental', 'dentashield', 'dentastix', 'dentin', 'dentist', 'dentistri', 'dentrific', 'dentur', 'dentyn', 'denver', 'deoder', 'deodor', 'deordor', 'deosn', 'depart', 'departur', 'depend', 'depict', 'depleat', 'deplet', 'deploy', 'deposit', 'depot', 'deprav', 'depress', 'depriv', 'dept', 'depth', 'der', 'derang', 'derbi', 'derelict', 'deris', 'deriv', 'dermat', 'dermatologist', 'derog', 'dervish', 'des', 'desappear', 'desast', 'desc', 'descal', 'descend', 'descent', 'descib', 'descov', 'describ', 'descript', 'descripton', 'descriptor', 'descropt', 'descrption', 'deseas', 'desensit', 'desert', 'desertless', 'deserv', 'deshed', 'desi', 'desic', 'desicc', 'desid', 'desieas', 'design', 'desing', 'desintegrad', 'desir', 'desist', 'desk', 'desktop', 'desolv', 'despair', 'despar', 'despens', 'desper', 'despic', 'despis', 'despit', 'despond', 'desrcript', 'dess', 'dessaux', 'dessert', 'dessic', 'destest', 'destin', 'destinc', 'destinct', 'destini', 'destroop', 'destroy', 'destruct', 'detach', 'detail', 'detect', 'detector', 'deter', 'deterg', 'deterior', 'determiend', 'determin', 'deterori', 'deterr', 'detest', 'dethaw', 'dethron', 'detour', 'detox', 'detoxif', 'detoxifi', 'detra', 'detract', 'detractor', 'detriment', 'detritus', 'detroit', 'detz', 'deutchland', 'deutschland', 'deux', 'devast', 'devastast', 'devein', 'develop', 'development', 'devest', 'deviat', 'devic', 'devid', 'devil', 'devilish', 'devin', 'devinci', 'devis', 'devita', 'deviti', 'devliveri', 'devnot', 'devoid', 'devolop', 'devolv', 'devon', 'devoon', 'devot', 'devote', 'devour', 'devout', 'dew', 'dewi', 'deworm', 'dexter', 'dextrin', 'dextros', 'dfa', 'dfw', 'dha', 'dhabi', 'dharana', 'dhl', 'dia', 'diabet', 'diabeti', 'diabeticfriend', 'diabeticlifediet', 'diabetisweet', 'diablo', 'diabolo', 'diacet', 'diacetyl', 'diagnois', 'diagnos', 'diagnosd', 'diagnosi', 'diagnost', 'diagon', 'diagram', 'diaheria', 'diaherra', 'diahhera', 'diahhrea', 'diahorrea', 'diahrea', 'diahrhea', 'dial', 'dialog', 'dialogu', 'dialysi', 'diamet', 'diamon', 'diamond', 'dian', 'diana', 'diann', 'dianos', 'diaper', 'diaphoret', 'diaphragm', 'diaphram', 'diappoint', 'diarhea', 'diarheaa', 'diarhia', 'diarhrea', 'diari', 'diarrea', 'diarreah', 'diarreha', 'diarrhea', 'diastol', 'diatet', 'diatrib', 'dib', 'dibet', 'dibilit', 'dic', 'dicalcium', 'dice', 'dicen', 'dicern', 'dicey', 'dick', 'dickason', 'dicken', 'dickensian', 'dickinson', 'dicontinu', 'dictat', 'dictionari', 'dictu', 'diddlyic', 'dident', 'didi', 'didin', 'didnot', 'didnt', 'die', 'dieatari', 'diebet', 'diection', 'diedrich', 'diego', 'diehard', 'dier', 'dieria', 'diesel', 'dieser', 'diet', 'dietari', 'dieter', 'dietet', 'dietician', 'dietit', 'dietitian', 'dietrich', 'dietz', 'difer', 'diff', 'diffeent', 'diffeernt', 'diffen', 'diffenc', 'diffent', 'diffentlli', 'differ', 'differec', 'differenct', 'differenti', 'differernc', 'differetn', 'differnc', 'differnet', 'differnt', 'differr', 'difffer', 'difficault', 'difficult', 'difficulti', 'difficut', 'diffid', 'diffinit', 'diffreanc', 'diffrenc', 'diffrent', 'diffrer', 'diffucult', 'diffuculti', 'diffult', 'diffus', 'dificult', 'difinit', 'difus', 'dig', 'digest', 'digestif', 'digestivo', 'digger', 'diggest', 'diggiti', 'digit', 'diglycerid', 'dignifi', 'digniti', 'digress', 'digrycerig', 'digust', 'diharrea', 'dihydriodid', 'dijon', 'dijonnais', 'dil', 'dilamh', 'dilat', 'dilemma', 'dilettant', 'dilig', 'dilight', 'diliv', 'dill', 'dillettant', 'dilllut', 'dillut', 'dilmah', 'dilut', 'dim', 'dimah', 'dimbula', 'dime', 'dimens', 'dimension', 'diment', 'dimestor', 'dimethylpyrimidinol', 'dimi', 'diminish', 'dimins', 'diminu', 'diminut', 'dimitria', 'dimm', 'dimmer', 'dimmest', 'dimmi', 'dimpl', 'din', 'dine', 'diner', 'ding', 'dingi', 'dingo', 'dink', 'dinki', 'dinner', 'dinnertim', 'dino', 'dinosaur', 'dinti', 'dioica', 'diorama', 'dios', 'dioxid', 'dioxin', 'dip', 'dipe', 'diplom', 'diplomat', 'dipp', 'dipper', 'dippi', 'dippin', 'dippingthem', 'diptheria', 'dirction', 'dire', 'direclti', 'direct', 'directley', 'director', 'dirnk', 'dirt', 'dirti', 'dirtier', 'dirty', 'dis', 'disabl', 'disabus', 'disadvantag', 'disagr', 'disagre', 'disallow', 'disanc', 'disapear', 'disapiont', 'disapoint', 'disapp', 'disappear', 'disappera', 'disappesar', 'disappint', 'disappoin', 'disappoint', 'disappoipnt', 'disappont', 'disapprov', 'disarm', 'disassembl', 'disast', 'disastr', 'disatisfact', 'disatisfi', 'disbelief', 'disbeliev', 'disc', 'discard', 'discern', 'discharg', 'disciplin', 'disclaim', 'disclos', 'disclosur', 'disco', 'discolor', 'discolr', 'discomfort', 'disconcert', 'disconnect', 'disconnected', 'discontinu', 'discontiun', 'discontnu', 'discorag', 'discord', 'discordia', 'discordian', 'discound', 'discount', 'discountinu', 'discourag', 'discov', 'discoverd', 'discoveri', 'discreet', 'discrep', 'discret', 'discrib', 'discribedand', 'discrimin', 'discriminatori', 'discript', 'discuss', 'discust', 'disdain', 'diseas', 'disect', 'disembowl', 'disengeni', 'disentegr', 'disgrac', 'disgruntl', 'disguis', 'disguist', 'disgus', 'disgust', 'dish', 'dishearten', 'disher', 'dishonest', 'dishwash', 'dishwat', 'disillus', 'disillusion', 'disinclin', 'disinfect', 'disinfenct', 'disingen', 'disingenu', 'disintegr', 'disinterest', 'disintigr', 'disk', 'dislik', 'disllik', 'dislodg', 'dismal', 'dismantl', 'dismay', 'dismemb', 'dismiss', 'disney', 'disneyland', 'disneyworld', 'disodium', 'disolv', 'disontinu', 'disord', 'disorgan', 'disown', 'dispar', 'dispatch', 'dispel', 'dispens', 'dispensari', 'dispers', 'dispirito', 'dispit', 'displac', 'display', 'displaysia', 'displeas', 'displeasur', 'displi', 'dispoint', 'dispos', 'disposit', 'disppear', 'disppoint', 'disproport', 'disproportion', 'disprov', 'dispurs', 'disput', 'disquis', 'disregard', 'disrespect', 'disrupt', 'disruptor', 'diss', 'dissap', 'dissapear', 'dissapiont', 'dissapoin', 'dissapoint', 'dissappear', 'dissappoint', 'dissatisfact', 'dissatisfi', 'dissect', 'dissembl', 'dissent', 'disservic', 'dissimilar', 'dissip', 'dissolut', 'dissolv', 'dissov', 'disspoint', 'disstributor', 'dissuad', 'dist', 'distain', 'distanc', 'distant', 'distast', 'distend', 'distict', 'distil', 'distilleri', 'distinct', 'distinguish', 'distinquish', 'distint', 'distinto', 'distort', 'distract', 'distraught', 'distress', 'distribtuion', 'distribut', 'distributor', 'district', 'distroy', 'distrubtor', 'distruct', 'distrust', 'disturb', 'disulfit', 'dit', 'ditalia', 'ditalini', 'ditch', 'ditto', 'ditzi', 'diuret', 'diva', 'dive', 'diverg', 'divers', 'diversifi', 'divert', 'diverticul', 'divid', 'dividend', 'divin', 'divina', 'divis', 'divorc', 'divulg', 'divvi', 'dix', 'dixi', 'dixieland', 'diy', 'dizzi', 'djarum', 'djungelvr', 'dlim', 'dliveri', 'dls', 'dlution', 'dmdm', 'dna', 'doa', 'doabl', 'dobbi', 'dobe', 'dobergirl', 'doberman', 'dobi', 'doc', 'docil', 'dock', 'docksid', 'doctor', 'document', 'documentari', 'dodg', 'dodger', 'dodgi', 'dodo', 'doe', 'doen', 'doent', 'doesent', 'doesnot', 'doesnt', 'doest', 'dof', 'dog', 'doge', 'dogfood', 'dogfoodanalysi', 'dogfoodproject', 'dogg', 'doggi', 'doggon', 'dogi', 'doglov', 'dogma', 'dogsitt', 'dogswel', 'dogswellwould', 'dogu', 'doh', 'doili', 'doin', 'doinki', 'dolbi', 'dolc', 'dolcetto', 'dolch', 'dolcu', 'doldrum', 'dole', 'doll', 'dollar', 'dolli', 'dollop', 'dollor', 'dollup', 'dolma', 'dolomit', 'dolphin', 'dolt', 'dom', 'domag', 'domain', 'domata', 'domatcha', 'dome', 'domest', 'domin', 'dominican', 'dominick', 'dominizion', 'domino', 'domperidon', 'donahu', 'donald', 'donat', 'doncha', 'donckel', 'done', 'doneski', 'dong', 'donkey', 'donna', 'donnelli', 'donner', 'donor', 'donot', 'donovan', 'donr', 'dont', 'donu', 'donut', 'donuti', 'donvier', 'donwright', 'doo', 'doodi', 'doodl', 'doogi', 'doom', 'doomsday', 'doomur', 'doon', 'door', 'doorbel', 'doorstep', 'doorstop', 'doorway', 'dooti', 'doozi', 'dop', 'dopamin', 'dope', 'dopey', 'dorado', 'dori', 'dorita', 'dorito', 'dork', 'dorki', 'dorm', 'dormant', 'dormitori', 'dorota', 'dorothi', 'dorset', 'dorway', 'dos', 'dosa', 'dosag', 'dosai', 'dose', 'doseag', 'dosen', 'dosent', 'dosh', 'dosn', 'dosom', 'dot', 'doubl', 'doublem', 'doublemint', 'doubleshot', 'doubletre', 'doubli', 'doubt', 'doubtless', 'doug', 'dougal', 'dough', 'doughboy', 'doughi', 'doughnut', 'doughtnut', 'dougla', 'dougnut', 'doula', 'dounut', 'dous', 'douw', 'dove', 'dover', 'dow', 'dowag', 'dowel', 'dowl', 'down', 'downer', 'downfal', 'downgrad', 'downhil', 'download', 'downplay', 'downright', 'downsid', 'downsiz', 'downstair', 'downtim', 'downtown', 'downunda', 'downward', 'dowsid', 'doxi', 'doyl', 'doz', 'doze', 'dozen', 'drab', 'draco', 'draft', 'drag', 'drage', 'draggi', 'dragoba', 'dragon', 'dragonasbro', 'dragonfruit', 'dragonwel', 'drain', 'drainag', 'drainer', 'drakar', 'drake', 'dram', 'drama', 'dramat', 'drambui', 'dramimin', 'drank', 'drastic', 'draught', 'dravi', 'draw', 'drawback', 'drawer', 'drawn', 'drawstr', 'drbass', 'dread', 'dream', 'dreambar', 'dreamfield', 'dreami', 'dreamland', 'dreamsicl', 'dreari', 'dreck', 'dredg', 'dreena', 'dreg', 'drei', 'drek', 'dremmel', 'drench', 'drenna', 'dresden', 'drese', 'dress', 'dresser', 'dressi', 'dressingnow', 'drew', 'drewfus', 'dri', 'drib', 'dribbl', 'drier', 'driest', 'drift', 'drike', 'drill', 'drine', 'dring', 'dringk', 'drink', 'drinkabl', 'drinker', 'drinkin', 'drinkit', 'drinkn', 'drinkng', 'drinknig', 'drinkwel', 'drip', 'dripless', 'dripol', 'dripper', 'drippi', 'drive', 'driven', 'driver', 'driveway', 'drizzel', 'drizzl', 'drk', 'drliveri', 'drm', 'drmcdougal', 'droewor', 'drogheria', 'drollop', 'drone', 'drool', 'drooler', 'droolin', 'droop', 'droopi', 'drop', 'dropkick', 'droplet', 'dropoff', 'dropper', 'drost', 'drought', 'drousi', 'drove', 'drown', 'drowsi', 'drs', 'drug', 'drugstor', 'drum', 'drummi', 'drumstick', 'drunch', 'drunk', 'drunken', 'drunkin', 'druri', 'druther', 'dryer', 'dryish', 'dryness', 'drys', 'drysdal', 'dsc', 'dsh', 'dsm', 'dsps', 'duaghter', 'dual', 'dualli', 'duan', 'dub', 'dubai', 'dubba', 'dubbel', 'dubbl', 'dubious', 'dublin', 'dubuqu', 'duck', 'ducki', 'duckl', 'duct', 'dud', 'dude', 'due', 'duet', 'duff', 'dug', 'dugar', 'dugout', 'duh', 'duke', 'duki', 'dulc', 'dulch', 'dull', 'duller', 'dullish', 'duls', 'duluth', 'dum', 'duma', 'dumb', 'dumbbel', 'dumbel', 'dummi', 'dump', 'dumpl', 'dumplin', 'dumpling', 'dumpong', 'dumpster', 'dunaliella', 'duncan', 'dunde', 'dune', 'dung', 'dunk', 'dunkabl', 'dunkel', 'dunker', 'dunkin', 'dunlop', 'dunno', 'duo', 'duoden', 'duomo', 'dup', 'dupe', 'duper', 'duplex', 'duplic', 'durabl', 'durachew', 'durango', 'durat', 'durban', 'duress', 'durhum', 'durke', 'durn', 'durum', 'dusk', 'duski', 'dusl', 'dust', 'dustbust', 'dusti', 'dutch', 'dutchman', 'duti', 'dutour', 'dutto', 'duyvel', 'dvd', 'dvds', 'dvm', 'dvp', 'dwarf', 'dwarft', 'dwayn', 'dwell', 'dweller', 'dwindl', 'dwipa', 'dxed', 'dy', 'dye', 'dyglercid', 'dylan', 'dynam', 'dynamit', 'dynamo', 'dynasti', 'dyno', 'dysfunct', 'dyslipidemia', 'dyspepsiaand', 'dysphasia', 'dysplasia', 'dysplsia', 'eachoth', 'ead', 'eager', 'eageri', 'eagl', 'eah', 'eaier', 'eaili', 'eaiser', 'eals', 'eanjoy', 'ear', 'earbud', 'earger', 'eari', 'earl', 'earli', 'earlier', 'earliest', 'earliey', 'earlyshield', 'earmark', 'earn', 'earnest', 'earpiec', 'earshot', 'earth', 'earthfar', 'earthi', 'earthier', 'earthmat', 'earthquak', 'earthworm', 'earwig', 'eas', 'easer', 'easey', 'easi', 'easier', 'easiest', 'easili', 'easilli', 'easir', 'easiy', 'easli', 'easliy', 'eason', 'eassi', 'east', 'easter', 'eastern', 'eastwood', 'easygo', 'easymac', 'easyy', 'eat', 'eatabl', 'eatbal', 'eaten', 'eater', 'eateri', 'eath', 'eather', 'eatig', 'eatin', 'eatten', 'eau', 'ebay', 'ebb', 'ebbert', 'eben', 'ebenso', 'ebest', 'ebough', 'ec', 'ecc', 'eccentr', 'ecclect', 'ecg', 'ecgc', 'echenacia', 'echinacea', 'echir', 'echnicea', 'echo', 'ecit', 'ecj', 'eckart', 'eclair', 'eclect', 'eclips', 'eco', 'ecog', 'ecolog', 'ecommend', 'econ', 'econom', 'economi', 'economici', 'ecopad', 'ecopod', 'ecosystem', 'ecpeci', 'ecstaci', 'ecstasi', 'ecstat', 'ect', 'ectoplasm', 'ecuador', 'ecx', 'ecxel', 'eczema', 'eda', 'edam', 'edamam', 'edbert', 'eddi', 'eden', 'edensoy', 'edg', 'edgi', 'edgier', 'edi', 'edibl', 'ediet', 'edinburgh', 'edit', 'editor', 'edmund', 'edna', 'edo', 'edta', 'edtv', 'educ', 'eduli', 'edward', 'eeeeek', 'eeeek', 'eeewwww', 'eek', 'eel', 'eensi', 'eerbeer', 'eeri', 'eespeci', 'eevo', 'eew', 'eeyew', 'eeyor', 'ef', 'efa', 'efagold', 'efe', 'efect', 'efendi', 'effac', 'effect', 'effectic', 'effeic', 'effervesc', 'effet', 'effic', 'efficaci', 'effici', 'effort', 'effortless', 'effus', 'efinit', 'efooddepot', 'eg', 'egad', 'egbert', 'egbertt', 'egcg', 'egg', 'eggbeat', 'eggcel', 'eggesbo', 'eggi', 'eggland', 'egglant', 'eggless', 'eggnog', 'eggnogg', 'eggo', 'eggplant', 'eggrol', 'eggsalad', 'eggwhit', 'ego', 'egotist', 'egplant', 'egregi', 'egypt', 'egyptian', 'ehanc', 'ehem', 'ehh', 'ehhhh', 'ehr', 'eiermann', 'eiffel', 'eiffeltow', 'eight', 'eighteen', 'eighth', 'eighti', 'eigth', 'eigthi', 'eileen', 'eilimin', 'einstein', 'eith', 'either', 'ejacul', 'eject', 'ekt', 'elabor', 'elaichi', 'elain', 'elaina', 'elana', 'elanaspantri', 'elaps', 'elast', 'elastis', 'elat', 'elbow', 'elder', 'elderberri', 'elderflow', 'elderi', 'eldest', 'ele', 'elecronet', 'elect', 'electr', 'electrician', 'electrocut', 'electrolit', 'electroly', 'electrolyt', 'electron', 'electronet', 'electrophoresi', 'eleg', 'eleimin', 'element', 'elementari', 'eleph', 'elephan', 'elequ', 'eles', 'eleuthero', 'eleutherococcus', 'elev', 'elevag', 'eleven', 'elf', 'elfman', 'elgibl', 'elici', 'elicit', 'elig', 'elimin', 'elit', 'elitist', 'elixir', 'eliya', 'elizabeth', 'elk', 'elkhound', 'ella', 'ellen', 'ellenton', 'elli', 'ellig', 'elliott', 'ellipt', 'ellsworth', 'elm', 'elmer', 'elmo', 'elong', 'eloqu', 'els', 'elsa', 'elsewar', 'elsewher', 'elud', 'elus', 'elv', 'elvi', 'em', 'emaci', 'email', 'eman', 'embalm', 'embaras', 'embarass', 'embaress', 'embark', 'embarras', 'embarrass', 'embasa', 'embassi', 'embed', 'embellish', 'ember', 'embitt', 'emblem', 'emblic', 'embodi', 'embolden', 'emboss', 'embrac', 'embroid', 'embu', 'emdd', 'emelio', 'emelmet', 'emerald', 'emeraldforest', 'emerel', 'emerg', 'emergen', 'emergenc', 'emergeni', 'emeril', 'emiel', 'emigr', 'emil', 'emili', 'emilia', 'emin', 'emirl', 'emiss', 'emit', 'emma', 'emmens', 'emmi', 'emmin', 'emmit', 'emori', 'emot', 'emough', 'empacadora', 'empanada', 'emperor', 'emphas', 'emphasi', 'emphasis', 'emphat', 'emphysima', 'empi', 'empir', 'employ', 'employe', 'employess', 'empor', 'emporium', 'empow', 'empress', 'empti', 'emptor', 'emti', 'emul', 'emuls', 'emulsifi', 'enabl', 'enact', 'enafamil', 'enamel', 'enamor', 'encamp', 'encapsul', 'encas', 'encephalomy', 'enchalada', 'enchanc', 'enchant', 'enchilada', 'enchillada', 'enclos', 'enclosur', 'enclous', 'encompass', 'encorag', 'encount', 'encourag', 'encourang', 'encourg', 'encoutn', 'encrust', 'encyclopaed', 'encyclopedia', 'end', 'endang', 'endcap', 'endear', 'endeavor', 'endeavour', 'endem', 'endicott', 'endiv', 'endless', 'endocrin', 'endocrinologist', 'endores', 'endorphin', 'endors', 'endos', 'endoscopi', 'endosperm', 'endotheli', 'endow', 'endulg', 'endulza', 'endur', 'endurox', 'enebri', 'eneget', 'enegri', 'enema', 'enemi', 'ener', 'energ', 'energen', 'energet', 'energi', 'energyboost', 'energyo', 'energywis', 'eneri', 'enerv', 'enevit', 'enfacar', 'enfamil', 'enflora', 'enforc', 'eng', 'engag', 'engelesia', 'engend', 'engergi', 'engergis', 'engeri', 'engin', 'engish', 'englai', 'englan', 'england', 'english', 'englishman', 'englishmen', 'engllish', 'engorg', 'engrav', 'engulf', 'enhanc', 'enhans', 'enigma', 'enigmat', 'enjoy', 'enjoyabl', 'enjoyingtea', 'enlarg', 'enlighten', 'enlist', 'enliven', 'ennova', 'enoough', 'enopugh', 'enorm', 'enough', 'enought', 'enoy', 'enpti', 'enquir', 'enrag', 'enrich', 'enrichen', 'enrob', 'enrout', 'ensconc', 'ensu', 'ensur', 'entail', 'entangl', 'entendr', 'entenmann', 'enter', 'enterococcus', 'enterpris', 'entertai', 'entertain', 'entertwin', 'enthral', 'enthuis', 'enthus', 'enthusiasit', 'enthusiasm', 'enthusiast', 'entic', 'entir', 'entirelypet', 'entireti', 'entiti', 'entitl', 'entomb', 'entomolog', 'entomologist', 'entourag', 'entranc', 'entre', 'entreat', 'entrench', 'entrepreneur', 'entri', 'entrust', 'entryway', 'enuf', 'enumer', 'envelop', 'envi', 'enviabl', 'envio', 'enviorn', 'enviro', 'envirokid', 'envirokidz', 'enviromentalist', 'environ', 'environment', 'environmentalist', 'environmment', 'envis', 'envoiron', 'envor', 'enzad', 'enzym', 'enzymat', 'enzymolysi', 'eoc', 'eoj', 'eon', 'epa', 'epazot', 'epcot', 'ephedra', 'epic', 'epicatchin', 'epiceri', 'epicur', 'epicurean', 'epicuri', 'epidem', 'epidemiolog', 'epidermi', 'epigallocatechin', 'epigallocatechingal', 'epiglotti', 'epilepsi', 'epilept', 'epilespi', 'epilogu', 'epinion', 'episod', 'epitom', 'eplorateur', 'epoiss', 'eponym', 'epoxi', 'epoz', 'epresso', 'epseci', 'epsom', 'epstein', 'eqiuival', 'equador', 'equal', 'equat', 'equilibrium', 'equiliv', 'equin', 'equip', 'equipt', 'equisit', 'equit', 'equival', 'equivel', 'equivil', 'er', 'era', 'erad', 'eras', 'erasmus', 'erasur', 'ere', 'erect', 'erehwon', 'erewhon', 'erg', 'ergh', 'ergo', 'ergon', 'ergonom', 'erh', 'eri', 'eric', 'erica', 'erin', 'erl', 'erma', 'erogonom', 'err', 'errand', 'errant', 'errat', 'erron', 'error', 'errrr', 'errupt', 'ersatz', 'erstwhil', 'erupt', 'erwachsen', 'erythorb', 'erythritol', 'erytritol', 'esay', 'escabach', 'escal', 'escallop', 'escap', 'escargot', 'escarol', 'escarot', 'eschew', 'escondido', 'esdp', 'ese', 'eski', 'eskimo', 'eslewher', 'esmal', 'esophag', 'esophagus', 'esoter', 'esp', 'espcial', 'espeaciali', 'espec', 'especailli', 'especi', 'especial', 'especiali', 'espesci', 'espic', 'espici', 'espn', 'espoo', 'esposito', 'espous', 'espress', 'espression', 'espressli', 'espresso', 'espressomerch', 'espressp', 'espressso', 'esq', 'essay', 'essen', 'essenc', 'essens', 'essenti', 'essentianl', 'essex', 'essiac', 'essn', 'essoil', 'esspreso', 'esspresso', 'est', 'esta', 'estabish', 'establish', 'estamboli', 'estancia', 'estat', 'esteban', 'esteem', 'ester', 'esthet', 'estim', 'esto', 'estor', 'estra', 'estrella', 'estrogen', 'et', 'etc', 'etcetc', 'etch', 'etern', 'ethan', 'ethanol', 'ethel', 'ether', 'ethernet', 'ethic', 'ethiopia', 'ethiopian', 'ethnic', 'etho', 'ethonol', 'ethoxyquin', 'ethylen', 'ethylenediamin', 'etiquett', 'etoufe', 'etouffe', 'etruria', 'ettoufe', 'eucalyptus', 'euclypat', 'eucryphia', 'eugen', 'eugenia', 'euk', 'eukanaba', 'eukanuba', 'eulog', 'eun', 'eunic', 'euopean', 'euphor', 'eureka', 'euro', 'eurocrem', 'eurofoodmart', 'eurogroc', 'europ', 'europa', 'european', 'eurpoean', 'eustachio', 'euthan', 'euthanasia', 'eva', 'evacu', 'evad', 'evagold', 'evah', 'evalu', 'evalut', 'evan', 'evanesc', 'evang', 'evangelin', 'evangelist', 'evanovich', 'evansvill', 'evap', 'evaper', 'evapor', 'evas', 'evauat', 'evco', 'eve', 'evelyn', 'evem', 'even', 'evenflo', 'evenig', 'event', 'eventho', 'eventhough', 'eventu', 'eventuali', 'eventulli', 'eveo', 'ever', 'everclear', 'evercompanion', 'evercook', 'everday', 'everest', 'evergreen', 'everhard', 'everi', 'everlast', 'evermor', 'evern', 'everon', 'eversinc', 'everth', 'everwher', 'everybodi', 'everyday', 'everyh', 'everyman', 'everymorn', 'everynight', 'everyoen', 'everyon', 'everyonc', 'everyonyon', 'everyt', 'everyth', 'everytiim', 'everytim', 'everyway', 'everywher', 'evey', 'eveyday', 'eveyon', 'eveyth', 'evi', 'evian', 'evid', 'evidenc', 'evil', 'evilspeak', 'evinc', 'eviscer', 'evo', 'evoc', 'evok', 'evolut', 'evolv', 'evoo', 'evribodi', 'evrsus', 'evrywher', 'evwn', 'ewe', 'eww', 'ewww', 'ewwww', 'ewwwww', 'exac', 'exacerb', 'exaclti', 'exact', 'exactley', 'exactlti', 'exager', 'exagerr', 'exagger', 'exal', 'exam', 'examin', 'exampl', 'exasper', 'exaust', 'exc', 'excal', 'excav', 'exceed', 'excel', 'excell', 'excellect', 'excellet', 'excelletn', 'excelletnt', 'excellnt', 'excelsa', 'excema', 'excentr', 'excepi', 'except', 'excerc', 'excercis', 'excerpt', 'excess', 'exchang', 'excit', 'exciti', 'excitotoxin', 'exclaim', 'exclam', 'excllent', 'exclud', 'exclus', 'exclusif', 'excommun', 'excpect', 'excret', 'excruci', 'excurs', 'excus', 'excut', 'execel', 'execept', 'execis', 'execpt', 'execut', 'exel', 'exemplar', 'exemplari', 'exemplifi', 'exempt', 'exepect', 'exept', 'exerc', 'exercis', 'exert', 'exetrem', 'exfoli', 'exhal', 'exhast', 'exhaust', 'exhibit', 'exhilar', 'exhiler', 'exhorbat', 'exhorbit', 'exil', 'exir', 'exist', 'existenti', 'exit', 'exjoy', 'exlus', 'exogen', 'exon', 'exorb', 'exorbit', 'exorcist', 'exot', 'exotica', 'exp', 'expand', 'expans', 'expar', 'expat', 'expatri', 'expct', 'expec', 'expeci', 'expect', 'expectaion', 'expector', 'exped', 'expedi', 'expedit', 'expediti', 'expel', 'expenc', 'expend', 'expenditur', 'expenis', 'expenisv', 'expens', 'exper', 'experei', 'expereinc', 'experi', 'experiec', 'experienc', 'experiment', 'experinc', 'expert', 'expertis', 'expesn', 'expext', 'expiat', 'expiernc', 'expir', 'expirement', 'expiri', 'expl', 'explain', 'explan', 'explanant', 'explanatori', 'explicit', 'explod', 'exploit', 'explor', 'explos', 'expo', 'expobar', 'expoit', 'expoloratori', 'exponenti', 'export', 'expos', 'exposit', 'exposur', 'exprens', 'express', 'expressli', 'expresso', 'expri', 'expsur', 'expurg', 'exquisit', 'exrem', 'exspens', 'exta', 'extaci', 'extant', 'extar', 'extem', 'extend', 'extendbar', 'extendsnack', 'extens', 'extent', 'exterior', 'extermin', 'extern', 'externel', 'extinct', 'extinguish', 'extol', 'extra', 'extract', 'extractish', 'extradinari', 'extran', 'extrani', 'extraordinari', 'extraordinarili', 'extrat', 'extravag', 'extravaganza', 'extravecchio', 'extravergin', 'extream', 'extreem', 'extrem', 'extremelli', 'extremem', 'extren', 'extric', 'extrud', 'extrus', 'exuber', 'exud', 'exxercis', 'eyar', 'eye', 'eyebal', 'eyebrow', 'eyelash', 'eyelid', 'eyesight', 'eyewash', 'ezcema', 'ezeki', 'ezekiel', 'ezin', 'fab', 'fabada', 'fabian', 'faboo', 'faboul', 'fabouli', 'fabric', 'fabriqu', 'fabul', 'fabula', 'fabulosa', 'face', 'facebook', 'facer', 'facet', 'facial', 'facil', 'facilit', 'facimili', 'facorit', 'facsimil', 'fact', 'faction', 'factoid', 'factor', 'factori', 'factual', 'facult', 'faculti', 'fad', 'fade', 'faecium', 'faeri', 'faeriesfinest', 'fage', 'fagin', 'fagioli', 'fagoili', 'fagor', 'fahrenheidt', 'fahrenheit', 'fail', 'faili', 'faillac', 'failproof', 'failur', 'faint', 'faintest', 'fair', 'fairbank', 'fairer', 'fairest', 'fairfield', 'fairhaven', 'fairi', 'fairmont', 'fairtrad', 'fairview', 'fairway', 'faith', 'fajita', 'fake', 'fakey', 'falaf', 'falafel', 'falcoln', 'falcom', 'falcon', 'falen', 'falernum', 'falfel', 'falili', 'fall', 'fallaci', 'fallback', 'fallen', 'fallon', 'fallot', 'fallow', 'fallsbrand', 'fals', 'falsifi', 'falter', 'falvor', 'falvour', 'fam', 'fame', 'fameous', 'famer', 'famila', 'familair', 'familar', 'familay', 'familglia', 'famili', 'familia', 'familiar', 'familiy', 'familli', 'famin', 'famish', 'famiy', 'famoulsi', 'famous', 'fan', 'fanat', 'fanatast', 'fanatic', 'fanatst', 'fanboy', 'fanci', 'fancier', 'fanciest', 'fanconi', 'faneuil', 'fanfar', 'fanfreakintast', 'fang', 'fangl', 'fanni', 'fanta', 'fantabul', 'fantas', 'fantasat', 'fantasi', 'fantasia', 'fantast', 'fantstic', 'fanucci', 'faorit', 'faq', 'far', 'faraway', 'farazi', 'farberwar', 'farc', 'fare', 'farewel', 'farfallin', 'farili', 'farina', 'farley', 'farm', 'farmer', 'farmhand', 'farmhous', 'farmingtonhil', 'farmstead', 'farraig', 'farrara', 'farriag', 'farrier', 'farro', 'fart', 'farther', 'farthest', 'fas', 'fascin', 'fashion', 'fashiond', 'fashon', 'fasig', 'fasion', 'fast', 'fasta', 'fastachi', 'fasten', 'faster', 'fastest', 'fat', 'fatal', 'fatass', 'fate', 'faten', 'fatful', 'fath', 'father', 'fathi', 'fathom', 'fatigu', 'fatman', 'fatoush', 'fatrikcherra', 'fatso', 'fatten', 'fatter', 'fattest', 'fatti', 'fattier', 'fattiest', 'fatwallet', 'faucet', 'faucett', 'fauchon', 'faugier', 'fault', 'faulti', 'faultless', 'faux', 'fav', 'fava', 'fave', 'faver', 'favoirt', 'favoit', 'favor', 'favori', 'favoriot', 'favorit', 'favoritest', 'favorti', 'favotit', 'favour', 'favourit', 'fax', 'fay', 'faygo', 'faze', 'fazer', 'fazermint', 'fbi', 'fbop', 'fbopf', 'fda', 'fear', 'fearless', 'feasabl', 'feasibl', 'feast', 'feat', 'feather', 'featherman', 'featherweight', 'featur', 'featurett', 'feb', 'februari', 'febuari', 'fecatori', 'fece', 'fed', 'fedelini', 'feder', 'federico', 'fedex', 'fee', 'feebl', 'feed', 'feedback', 'feeder', 'feek', 'feel', 'feelful', 'feelin', 'feell', 'feep', 'feet', 'feezer', 'feh', 'feild', 'feingold', 'feisti', 'felafel', 'fele', 'feli', 'felida', 'felin', 'feliway', 'fell', 'fella', 'fellow', 'fellowship', 'felt', 'femal', 'feminin', 'femm', 'fenc', 'fencelin', 'fencer', 'fend', 'feng', 'fenicki', 'fennel', 'fenster', 'fenstermach', 'fentiman', 'fentimen', 'fenton', 'fenugreek', 'fequent', 'fer', 'feral', 'ferment', 'fermint', 'fern', 'fernando', 'feroci', 'ferrara', 'ferrari', 'ferrel', 'ferrero', 'ferrerro', 'ferret', 'ferretland', 'ferretti', 'ferri', 'ferrous', 'ferrus', 'fertil', 'fervent', 'fervor', 'fesh', 'fest', 'fester', 'festgestellt', 'festiv', 'feta', 'fetch', 'fetish', 'fetticini', 'fettish', 'fettuccin', 'fettuccini', 'fettucin', 'fettucini', 'fetus', 'feul', 'fever', 'fewer', 'fewest', 'fey', 'ffamili', 'ffxiii', 'fgs', 'fianc', 'fiance', 'fiasco', 'fiasconaro', 'fiber', 'fiberfil', 'fiberglass', 'fibergourmet', 'fiberi', 'fiberon', 'fiberplus', 'fibersur', 'fibr', 'fibro', 'fibroid', 'fibromyalgia', 'fibrous', 'fickl', 'ficniki', 'fiction', 'fictiti', 'ficus', 'fiddl', 'fiddyment', 'fide', 'fidel', 'fideo', 'fidg', 'fidget', 'fidgeti', 'fido', 'field', 'fielder', 'fiend', 'fierc', 'fieri', 'fiest', 'fiesta', 'fiesti', 'fifa', 'fife', 'fifteen', 'fifth', 'fifti', 'fig', 'figaro', 'figgi', 'fight', 'fighter', 'figi', 'figlet', 'figur', 'figurin', 'fiinish', 'fiji', 'fil', 'filapino', 'filbert', 'filch', 'file', 'filet', 'filful', 'filipino', 'filippo', 'fill', 'filler', 'fillet', 'filling', 'fillng', 'fillo', 'film', 'filmak', 'filmi', 'filter', 'filterbag', 'filterpad', 'filthi', 'filthiest', 'filtrat', 'filtro', 'fimd', 'fin', 'final', 'finalist', 'financ', 'financi', 'finch', 'fincki', 'find', 'findabl', 'fine', 'finecki', 'finer', 'finess', 'finest', 'finestkind', 'fing', 'finger', 'fingerfood', 'fingerl', 'fingernail', 'fingerprint', 'fingertip', 'fingr', 'fini', 'finial', 'finicki', 'finickiest', 'finiki', 'finis', 'finish', 'finiski', 'finit', 'fink', 'finki', 'finland', 'finn', 'finnal', 'finnao', 'finni', 'finnicki', 'finnish', 'finsh', 'finum', 'finzi', 'fiorina', 'fir', 'fire', 'firebal', 'firebird', 'fireblast', 'firecrack', 'firehos', 'firehous', 'firenz', 'firepit', 'fireplac', 'firesid', 'firest', 'firework', 'firey', 'firm', 'firmer', 'firmwar', 'firsat', 'firshand', 'first', 'firstborn', 'firsthand', 'firstmat', 'firt', 'fiscal', 'fiscalini', 'fischer', 'fish', 'fishbon', 'fishcak', 'fisher', 'fisherman', 'fishermen', 'fishi', 'fishier', 'fishin', 'fishmarket', 'fishy', 'fiskar', 'fisrt', 'fissur', 'fist', 'fistful', 'fit', 'fitch', 'fitt', 'fitznut', 'five', 'fiver', 'fix', 'fixabl', 'fixat', 'fixer', 'fixin', 'fixtur', 'fiz', 'fizz', 'fizzer', 'fizzi', 'fizzier', 'fla', 'flabbergast', 'flabbi', 'flabergast', 'flacid', 'flag', 'flagil', 'flagrant', 'flagship', 'flagstaff', 'flagyl', 'flahavan', 'flail', 'flair', 'flake', 'flakey', 'flaki', 'flakier', 'flaky', 'flambe', 'flame', 'flamefest', 'flamin', 'flamingo', 'flan', 'flank', 'flannel', 'flaor', 'flaover', 'flap', 'flapjack', 'flare', 'flash', 'flashback', 'flashi', 'flashlight', 'flask', 'flat', 'flatbread', 'flater', 'flatmat', 'flatten', 'flatter', 'flattest', 'flatul', 'flaunt', 'flauta', 'flav', 'flava', 'flavacol', 'flavanol', 'flavenoid', 'flaver', 'flavia', 'flavigni', 'flavinoid', 'flavius', 'flavo', 'flavod', 'flavon', 'flavonoid', 'flavor', 'flavorand', 'flavorfil', 'flavorfukl', 'flavorful', 'flavorless', 'flavorsom', 'flavorul', 'flavorwis', 'flavour', 'flavourless', 'flavoursom', 'flaw', 'flawless', 'flax', 'flaxmeal', 'flaxplus', 'flaxse', 'flay', 'flea', 'fleck', 'fledg', 'fledgl', 'flee', 'fleec', 'fleer', 'fleet', 'fleischmann', 'fleishman', 'fleishmann', 'flem', 'fleme', 'flemsey', 'flesh', 'fleshier', 'fletcher', 'fleur', 'flew', 'flex', 'flexatarian', 'flexibl', 'flexse', 'fli', 'flick', 'flicker', 'flight', 'flimsey', 'flimsi', 'flinch', 'fling', 'flint', 'flinti', 'flintston', 'flip', 'flippin', 'flipsid', 'flipz', 'flirt', 'flirtat', 'flirtati', 'flit', 'flitter', 'fllavor', 'flling', 'float', 'floater', 'floati', 'floavor', 'flock', 'flocken', 'flog', 'floida', 'flood', 'floodlamp', 'floor', 'flop', 'floppi', 'flor', 'flora', 'floral', 'florantin', 'florda', 'florentin', 'floret', 'florida', 'floridian', 'florist', 'floss', 'flossi', 'flounder', 'flour', 'floures', 'flouresc', 'flouri', 'flourid', 'flourish', 'flourless', 'flover', 'flovor', 'flow', 'flower', 'flowerett', 'floweri', 'flown', 'floz', 'flu', 'fluctuat', 'fluent', 'fluf', 'fluff', 'fluffernutt', 'fluffi', 'fluffier', 'fluffiest', 'fluffli', 'fluid', 'fluke', 'flummox', 'flummux', 'flung', 'flunk', 'fluoresc', 'fluorid', 'flurish', 'flurp', 'flurri', 'flus', 'flush', 'flushabl', 'flutd', 'flute', 'flutter', 'flutteri', 'flvor', 'flwoer', 'flwvore', 'flyer', 'flys', 'flyswatt', 'fmaili', 'fnd', 'foam', 'foamer', 'foami', 'foamier', 'fob', 'focaccia', 'foccacia', 'foccica', 'focd', 'focus', 'focuss', 'fod', 'fodder', 'foe', 'foeniculum', 'fog', 'fogbust', 'foggi', 'foglift', 'foglio', 'foie', 'foil', 'foist', 'folat', 'fold', 'folder', 'foldger', 'folger', 'foliag', 'folic', 'folicin', 'folk', 'folklor', 'follow', 'followup', 'follw', 'fom', 'fomula', 'fond', 'fonda', 'fondant', 'fondat', 'fondo', 'fondu', 'fong', 'font', 'fontera', 'fontina', 'foo', 'food', 'fooder', 'foodfightgroceri', 'foodi', 'foodireland', 'foodist', 'foodland', 'foodlock', 'foodmak', 'foodnetwork', 'foodrenegad', 'foodsav', 'foodshouldtastegood', 'foodstor', 'foodstuff', 'foodtek', 'foodtv', 'foodwis', 'foodwork', 'foojoy', 'fool', 'fooli', 'foolish', 'foolproof', 'foor', 'foosh', 'foot', 'footag', 'footbal', 'foothil', 'footnot', 'footprint', 'fop', 'forag', 'forastero', 'foray', 'forbid', 'forbidden', 'forc', 'forcefe', 'forceful', 'forcibl', 'ford', 'fordeliveri', 'fore', 'forearm', 'forecast', 'foreclosur', 'forefath', 'forefing', 'forefront', 'forego', 'forehead', 'foreign', 'foremost', 'forepaw', 'foreplay', 'forerunn', 'forese', 'foresight', 'forest', 'forestal', 'forestero', 'foreswear', 'forethought', 'forev', 'forevaaaaaaa', 'forevev', 'foreward', 'forewarn', 'forg', 'forgav', 'forget', 'forgett', 'forgetten', 'forgiv', 'forgiven', 'forgo', 'forgon', 'forgot', 'forgotten', 'foriegn', 'forign', 'fork', 'forkful', 'forklift', 'form', 'formal', 'formaldehyd', 'forman', 'format', 'former', 'formica', 'formid', 'formosa', 'formual', 'formuala', 'formul', 'formula', 'formular', 'forsak', 'forse', 'forseeabl', 'forskohlii', 'forst', 'fort', 'forth', 'forthcom', 'forthright', 'forti', 'fortif', 'fortifi', 'fortitud', 'fortnam', 'fortnum', 'fortress', 'fortuit', 'fortum', 'fortun', 'fortunatley', 'forum', 'foruml', 'forumula', 'forward', 'forwarn', 'forza', 'fos', 'fossey', 'fossil', 'fost', 'foster', 'fot', 'fought', 'foul', 'fould', 'foulest', 'found', 'foundat', 'founder', 'foundu', 'founnd', 'fountain', 'four', 'foures', 'fourteen', 'fourth', 'fourti', 'foutain', 'foutchi', 'fovorit', 'foward', 'fowl', 'fowler', 'fox', 'foxi', 'foxx', 'foy', 'fpo', 'fqavor', 'fra', 'frabjous', 'fraction', 'fractur', 'fragant', 'fragil', 'fragment', 'fragranc', 'fragrant', 'fragrent', 'fraich', 'frail', 'frais', 'fraling', 'frambois', 'frame', 'fran', 'franc', 'francai', 'francais', 'franchis', 'franci', 'franciscan', 'francisco', 'francisfr', 'francsico', 'frangelica', 'frangelico', 'frangranc', 'frank', 'franken', 'frankenberri', 'frankfurt', 'franki', 'franklin', 'franni', 'fransico', 'fransisco', 'frantic', 'frantoia', 'frantz', 'frap', 'frapachino', 'frapp', 'frappachino', 'frappacino', 'frappichino', 'frappuccino', 'frappuchino', 'frappucinno', 'frappucino', 'frapuccino', 'frasbak', 'frascati', 'frash', 'frat', 'fratelli', 'fratello', 'fratern', 'fraud', 'fraudul', 'fravot', 'fray', 'frazzl', 'fraîch', 'fre', 'freah', 'freak', 'freaki', 'freakin', 'freakish', 'freakout', 'freash', 'frech', 'freckl', 'fred', 'freda', 'freddi', 'frederick', 'fredericksburg', 'free', 'freebi', 'freecycl', 'freed', 'freeda', 'freedent', 'freedom', 'freedon', 'freefromfat', 'freegan', 'freehold', 'freek', 'freelanc', 'freeland', 'freeli', 'freelif', 'freen', 'freeness', 'freeway', 'freez', 'freezabl', 'freezer', 'freezi', 'fregula', 'freh', 'freight', 'freind', 'freitag', 'french', 'frenchfri', 'frenchi', 'frend', 'frenet', 'frensh', 'frenzi', 'freqent', 'frequenc', 'frequent', 'frequenti', 'frequet', 'fresca', 'fresch', 'fresco', 'frescobaldi', 'fresh', 'fresha', 'freshen', 'fresher', 'freshest', 'freshish', 'freshman', 'freshmess', 'freshner', 'freshpak', 'freshpet', 'freshtechmaid', 'fresno', 'frest', 'fret', 'freud', 'freudian', 'freudigman', 'frezzer', 'fri', 'friar', 'frichik', 'frick', 'fricken', 'friday', 'fridg', 'frido', 'friedman', 'friel', 'friend', 'friendli', 'friendlier', 'friendliest', 'friendship', 'frig', 'frige', 'friggen', 'friggin', 'fright', 'frighten', 'frigid', 'frikk', 'frill', 'frind', 'fring', 'friojol', 'frisbe', 'frise', 'frisk', 'friski', 'friskier', 'frist', 'fritatta', 'frite', 'frito', 'fritolay', 'frittata', 'fritter', 'fritz', 'fritzi', 'friuti', 'frivol', 'friz', 'frizzi', 'frm', 'fro', 'frog', 'froggi', 'froh', 'frolick', 'fromag', 'fromm', 'fromscratch', 'fromturn', 'fron', 'frond', 'fronst', 'front', 'frontal', 'frontera', 'frontier', 'froot', 'frost', 'frosten', 'frosti', 'froth', 'frother', 'frothi', 'froward', 'frown', 'froze', 'frozen', 'frozennnnn', 'frozn', 'frrroozen', 'frrrozen', 'frs', 'fruc', 'frucos', 'fructo', 'fructooligosaccarid', 'fructos', 'fructous', 'fructus', 'frugal', 'frugalon', 'frugel', 'fruit', 'fruitabl', 'fruitabu', 'fruitcak', 'fruiti', 'fruitier', 'fruitili', 'fruitini', 'fruition', 'fruitless', 'fruitsnack', 'fruitti', 'frunctos', 'frustat', 'fruster', 'frustos', 'frustrat', 'frut', 'fruta', 'fruti', 'frutier', 'frutini', 'frutit', 'frutos', 'frutti', 'fryer', 'frys', 'fsa', 'fsis', 'fsm', 'fsss', 'ftd', 'ftgfop', 'ftl', 'ftt', 'fuctos', 'fudd', 'fuddruck', 'fudg', 'fudgcicl', 'fudgesickl', 'fudgesicl', 'fudgey', 'fudgi', 'fudgiest', 'fudgsicl', 'fue', 'fuego', 'fuel', 'fuer', 'fughedaboudit', 'fugit', 'fuhrman', 'fuit', 'fuiti', 'fuji', 'fujian', 'fukien', 'fukugata', 'fukusa', 'ful', 'fulfil', 'fulfuil', 'full', 'fullbodi', 'fuller', 'fullest', 'fulli', 'fullscreen', 'fulltim', 'fulsom', 'fumbl', 'fume', 'fumi', 'fun', 'funbit', 'function', 'fund', 'fundament', 'fundi', 'fundrais', 'funer', 'funfetti', 'fungal', 'funghi', 'fungi', 'fungicid', 'fungus', 'fungusamongus', 'funiest', 'funitur', 'funk', 'funkey', 'funki', 'funkifi', 'funnel', 'funner', 'funni', 'funnier', 'funniest', 'funyun', 'fur', 'furbabi', 'furbal', 'furi', 'furikak', 'furious', 'furit', 'furitak', 'furkid', 'furmin', 'furnac', 'furnish', 'furnitur', 'furo', 'furpeopl', 'furri', 'further', 'furthermor', 'fus', 'fuscia', 'fuse', 'fush', 'fusi', 'fusili', 'fusilli', 'fusion', 'fuss', 'fussbudget', 'fussi', 'fussiest', 'fusspot', 'futher', 'futil', 'futur', 'fuze', 'fuzhou', 'fuzz', 'fuzzi', 'fvorit', 'fwd', 'fwickase', 'fwiw', 'fwoot', 'fyi', 'fyou', 'gaarlic', 'gaba', 'gabbi', 'gabriel', 'gabriella', 'gac', 'gacv', 'gad', 'gadget', 'gae', 'gaem', 'gag', 'gaga', 'gage', 'gaget', 'gaggabl', 'gaggi', 'gaggia', 'gagia', 'gai', 'gaia', 'gail', 'gain', 'gainer', 'gainesvill', 'gait', 'gal', 'gala', 'galac', 'galacia', 'galang', 'galatoir', 'galaxi', 'galbi', 'gald', 'gale', 'galileo', 'gall', 'gallat', 'gallbladd', 'gallego', 'galleri', 'galleta', 'galley', 'gallo', 'gallon', 'gallopin', 'galloway', 'gallston', 'galoi', 'galor', 'galt', 'galte', 'galvan', 'galveston', 'gambl', 'gambol', 'game', 'gamer', 'gamergrub', 'gamey', 'gami', 'gamma', 'gamut', 'ganach', 'gander', 'ganderma', 'gang', 'gangbust', 'gangrenosum', 'gano', 'ganocaf', 'ganoderma', 'ganoush', 'gap', 'gape', 'garag', 'garageband', 'garam', 'garante', 'garbag', 'garbanza', 'garbanzo', 'garbonzo', 'garcia', 'garcinia', 'gardein', 'garden', 'gardenia', 'gardenladi', 'gardenlik', 'gardenveri', 'gardinnelli', 'gardner', 'garett', 'garfield', 'garganelli', 'gargl', 'gari', 'garin', 'garish', 'garland', 'garlic', 'garlici', 'garlicki', 'garlicpepp', 'garllic', 'garmin', 'garmisch', 'garner', 'garni', 'garnish', 'garrett', 'garten', 'garunte', 'garvey', 'gas', 'gase', 'gaseous', 'gaser', 'gasey', 'gash', 'gasiewicz', 'gasket', 'gasmart', 'gasolin', 'gasp', 'gaspari', 'gass', 'gassi', 'gassless', 'gasssssi', 'gastic', 'gastric', 'gastridi', 'gastriti', 'gastro', 'gastroenter', 'gastrointenstin', 'gastrointestin', 'gastronom', 'gastronomi', 'gat', 'gate', 'gateway', 'gather', 'gatlinburg', 'gato', 'gator', 'gatorad', 'gauch', 'gaug', 'gaul', 'gaur', 'gaurante', 'gaurente', 'gauz', 'gavalia', 'gave', 'gaven', 'gawd', 'gawdaw', 'gawk', 'gay', 'gayl', 'gaze', 'gazillion', 'gazpacho', 'gbop', 'gbp', 'gear', 'geart', 'geat', 'gee', 'geek', 'geeki', 'geena', 'geera', 'geesh', 'geewi', 'geez', 'geezer', 'gefilt', 'geisha', 'gekauft', 'gel', 'gelatin', 'gelatini', 'gelatn', 'gelato', 'gelcap', 'gele', 'geletin', 'geleto', 'gell', 'gellatin', 'gelletin', 'gelli', 'gem', 'gemischt', 'gen', 'gena', 'genco', 'gender', 'gene', 'general', 'generali', 'generasl', 'generat', 'generic', 'generos', 'generous', 'genesi', 'genet', 'geneva', 'geni', 'genisoy', 'genit', 'genius', 'genmai', 'genmaicha', 'genoa', 'genois', 'genotyp', 'genova', 'genoves', 'genr', 'genseng', 'gensoy', 'gent', 'gentian', 'gentl', 'gentleas', 'gentleeas', 'gentleman', 'gentlemen', 'gentler', 'gentlmen', 'genuardi', 'genuin', 'genunin', 'genus', 'geoff', 'geograph', 'geographi', 'geomar', 'georg', 'georgeous', 'georgetown', 'georgia', 'ger', 'gerai', 'geraldin', 'geranium', 'gerat', 'geratest', 'gerber', 'gerbil', 'gerd', 'gerholstein', 'geriatr', 'geritol', 'germ', 'germack', 'german', 'germani', 'germin', 'gerner', 'geroceri', 'gerogia', 'gerolstein', 'gerti', 'gestat', 'gestur', 'get', 'getaway', 'gete', 'getless', 'gett', 'getter', 'gettin', 'gettng', 'getum', 'geuss', 'gevali', 'gevalia', 'gewi', 'geyser', 'gfbop', 'gfcf', 'gfcfef', 'gfcfefsf', 'gfcfsf', 'gfcg', 'gfer', 'gfg', 'gfic', 'gfm', 'gfop', 'gfs', 'gft', 'ggb', 'gget', 'ghana', 'ghani', 'ghanouj', 'ghast', 'ghee', 'ghengi', 'gherkin', 'ghetti', 'ghetto', 'ghiardelli', 'ghiardhelli', 'ghiottini', 'ghiradelli', 'ghiradhelli', 'ghirard', 'ghirardelli', 'ghost', 'ghostbust', 'ghoul', 'ghoulish', 'ghz', 'gia', 'giacomo', 'giada', 'giadia', 'gianduja', 'giannini', 'giant', 'giardelli', 'giardinera', 'gib', 'gibberish', 'giberish', 'giblet', 'gibson', 'gibt', 'giddi', 'gidt', 'gif', 'gift', 'giftabl', 'giftbox', 'gifte', 'giftworthi', 'gig', 'gigant', 'gigg', 'giggl', 'gigi', 'gigner', 'gigngerbread', 'gilbert', 'gild', 'gilham', 'gill', 'gillett', 'gilroy', 'gilt', 'gimbal', 'gimborn', 'gimic', 'gimm', 'gimme', 'gimmick', 'gimmicki', 'gimong', 'gin', 'gina', 'gind', 'giner', 'ginger', 'gingeral', 'gingerbread', 'gingerbreadman', 'gingeri', 'gingerman', 'gingerroot', 'gingersnap', 'gingerspic', 'gingev', 'gingiv', 'gingko', 'ginkgo', 'ginko', 'ginorm', 'gins', 'ginseng', 'ginza', 'giorgio', 'gioven', 'gir', 'giraff', 'girard', 'girardeau', 'girl', 'girlfriend', 'girli', 'giro', 'girth', 'gis', 'giseng', 'gist', 'git', 'gitter', 'gitteri', 'giult', 'giusepp', 'giv', 'give', 'giveaway', 'given', 'giver', 'givin', 'gizmo', 'gizmoandtaz', 'gizzard', 'gjanduia', 'gjetost', 'gla', 'glace', 'glacier', 'glad', 'glade', 'gladi', 'gladwar', 'glam', 'glamor', 'glanc', 'gland', 'glandular', 'glare', 'glas', 'glase', 'glasgow', 'glass', 'glassjar', 'glasswar', 'glaucoma', 'glaze', 'gleam', 'gleamerz', 'glean', 'glee', 'gleefulli', 'glen', 'glenburn', 'glendal', 'glenmorangi', 'glenn', 'glenni', 'gli', 'glicem', 'glick', 'glide', 'glinda', 'glint', 'glisten', 'glitch', 'glitter', 'glitteri', 'glitz', 'gloat', 'glob', 'global', 'globbi', 'globe', 'globul', 'globulus', 'glom', 'gloomi', 'gloopi', 'glop', 'gloppi', 'glori', 'gloria', 'glorifi', 'glorious', 'gloss', 'glossari', 'glossi', 'glossier', 'gloucest', 'gloucster', 'glove', 'glovebox', 'glow', 'glowinig', 'glsd', 'glu', 'gluatmat', 'gluc', 'glucerna', 'glucomannan', 'glucomet', 'glucon', 'glucophag', 'glucos', 'glucosamin', 'glucosomethingoroth', 'glucosomin', 'glucotest', 'glue', 'gluen', 'glueten', 'glueton', 'gluey', 'glug', 'glulten', 'glumat', 'glut', 'glutam', 'glutamas', 'glutamat', 'glutamin', 'glutathion', 'gluten', 'glutenag', 'glutenfre', 'glutenfreeda', 'gluteni', 'glutin', 'glutino', 'gluton', 'glutten', 'glutton', 'gluttoni', 'glycem', 'glycemix', 'glycerin', 'glycerit', 'glycerol', 'glycocem', 'glycol', 'glycosid', 'glyphos', 'gmc', 'gmill', 'gmo', 'gmos', 'gms', 'gmss', 'gnar', 'gnarl', 'gnash', 'gnat', 'gnaw', 'gnawhid', 'gnc', 'gnf', 'gnocchi', 'gnocci', 'gnosi', 'gnutella', 'go', 'goa', 'goal', 'goan', 'goat', 'goatein', 'goatsbeard', 'gob', 'gobbl', 'gobblin', 'goblet', 'goblin', 'gobstopp', 'goceri', 'gochujang', 'god', 'godaw', 'godchildren', 'godd', 'goddess', 'godfath', 'godiva', 'godlik', 'godmoth', 'godsak', 'godsend', 'godson', 'godzilla', 'goe', 'goeth', 'goetz', 'goew', 'goey', 'gogi', 'gogo', 'gogosqueez', 'goig', 'goin', 'goji', 'gold', 'goldbaren', 'goldbox', 'golden', 'goldenberg', 'goldenberri', 'goldendoodl', 'goldenmalt', 'goldenpineappl', 'goldenspurtl', 'goldfish', 'goldi', 'goldilock', 'goldish', 'goldman', 'goldon', 'goldsboro', 'goldthwait', 'golean', 'golf', 'golfbal', 'golfer', 'golight', 'golli', 'gomm', 'gon', 'gona', 'gonatur', 'gone', 'goner', 'gonif', 'gonna', 'gonulsen', 'gonzalez', 'goo', 'goober', 'goobl', 'good', 'goodbar', 'goodbut', 'goodby', 'goodearth', 'gooder', 'goodi', 'goodl', 'goodlif', 'goodman', 'goodn', 'goodne', 'goodnight', 'goodnik', 'goodstart', 'goodwhen', 'goodyer', 'gooe', 'gooey', 'goof', 'goofi', 'goog', 'googel', 'googi', 'googl', 'gooier', 'gook', 'goon', 'goong', 'gooo', 'goood', 'gooood', 'goooood', 'gooooood', 'goooooood', 'gooooooood', 'goooooooooo', 'goop', 'goopey', 'goopi', 'goos', 'goosberri', 'gooseberri', 'goosebrri', 'goosefoot', 'goot', 'goowi', 'gooy', 'goozl', 'goper', 'gopher', 'gor', 'gorant', 'goraw', 'gorceri', 'gordian', 'gordino', 'gordon', 'gore', 'gorefest', 'gorella', 'goreng', 'gorg', 'gorgeous', 'gorgonzola', 'gori', 'gorilla', 'gormet', 'gorrila', 'gosh', 'gospel', 'gossip', 'got', 'gotcha', 'goth', 'gothic', 'goto', 'gotta', 'gotten', 'gotton', 'gottschal', 'gotu', 'gouda', 'goug', 'gouger', 'goulash', 'gould', 'goulet', 'goumet', 'gound', 'gourd', 'gourmand', 'gourment', 'gourmet', 'gourmetflasch', 'gourmetfoodstor', 'gourmt', 'gournd', 'gout', 'gouti', 'gov', 'govern', 'gown', 'goya', 'gozaima', 'gps', 'grab', 'grababl', 'grabag', 'grabber', 'grace', 'graci', 'gracian', 'gracious', 'grad', 'gradat', 'grade', 'graden', 'grader', 'gradient', 'gradina', 'gradual', 'graduallli', 'graduat', 'graedon', 'graffiti', 'graham', 'grahm', 'grail', 'grain', 'grainer', 'graini', 'grainier', 'grainless', 'gram', 'gramcrak', 'gramma', 'grammar', 'grammat', 'grammaw', 'grammi', 'gramn', 'gramophon', 'grampa', 'gran', 'grana', 'granach', 'granadilla', 'granala', 'granatus', 'grand', 'granda', 'grandaught', 'grandbabi', 'grandcat', 'grandchild', 'grandchildren', 'granddad', 'granddaugh', 'granddaught', 'granddog', 'grandfath', 'grandgirl', 'grandi', 'grandios', 'grandkid', 'grandkiddo', 'grandma', 'grandmaluci', 'grandmom', 'grandmoth', 'grandpa', 'grandpar', 'grandson', 'grane', 'granier', 'granita', 'granloa', 'granmder', 'granmma', 'granndson', 'granni', 'granola', 'granoloa', 'grant', 'granual', 'granuat', 'granul', 'granula', 'granular', 'grap', 'grape', 'grapefru', 'grapefruit', 'grapefuit', 'grapeleaf', 'grapenut', 'grapese', 'grapevin', 'grapey', 'graphic', 'graphit', 'graprefuit', 'gras', 'grasp', 'graspabl', 'grass', 'grassf', 'grasshopp', 'grassi', 'grassier', 'grassin', 'grassmer', 'grat', 'grate', 'grateful', 'grater', 'gratest', 'gratif', 'gratifi', 'gratin', 'gratitud', 'graubrot', 'graue', 'grav', 'grave', 'gravei', 'gravel', 'gravenstein', 'gravey', 'graveyard', 'gravi', 'gravit', 'graviti', 'gravlax', 'gray', 'grayish', 'graze', 'grazi', 'grazia', 'grceri', 'grd', 'grea', 'greaduat', 'greal', 'greami', 'grean', 'grear', 'greas', 'greasi', 'greasier', 'greassi', 'greastest', 'greasy', 'great', 'greater', 'greatest', 'greatful', 'greatgrand', 'greatlier', 'greatttttt', 'greayt', 'greceri', 'grechka', 'gree', 'greec', 'greed', 'greedi', 'greediest', 'greedili', 'greeen', 'greek', 'greektown', 'greeley', 'greeli', 'green', 'greenappl', 'greendog', 'greener', 'greeneri', 'greenest', 'greenfir', 'greenfood', 'greenhous', 'greeni', 'greenish', 'greenlight', 'greensish', 'greent', 'greenwash', 'greenwich', 'greesi', 'greet', 'greg', 'gren', 'grenadin', 'grenn', 'grestid', 'gret', 'greta', 'gretzer', 'grew', 'greww', 'grey', 'greyhound', 'greyish', 'grid', 'griddl', 'grieco', 'grief', 'griev', 'grievous', 'griffin', 'griffith', 'griffon', 'grigio', 'grill', 'griller', 'grillin', 'grim', 'grimac', 'grime', 'grimi', 'grimoir', 'grin', 'grind', 'grinder', 'grindmast', 'gring', 'gringo', 'grinst', 'grip', 'gripe', 'gripz', 'gris', 'grisbi', 'grissel', 'grissini', 'grissl', 'grissli', 'grist', 'gristed', 'gristl', 'gristmil', 'grit', 'griti', 'gritti', 'grittier', 'grizzl', 'grizzli', 'grm', 'grn', 'gro', 'groan', 'groat', 'grocceri', 'grocer', 'grocerci', 'groceri', 'grocier', 'groeceri', 'grog', 'grogan', 'grogeri', 'grogg', 'groggi', 'groin', 'grom', 'gronala', 'groom', 'groomer', 'groov', 'groovi', 'gros', 'grose', 'gross', 'grossest', 'grossli', 'grottomast', 'grouch', 'grouchi', 'groud', 'ground', 'groundhog', 'groundless', 'groundskeep', 'group', 'grouper', 'groupi', 'grout', 'grove', 'grover', 'groveri', 'grow', 'grower', 'growl', 'growler', 'growlin', 'grown', 'grownup', 'growt', 'growth', 'grreat', 'grrr', 'grrreat', 'grrrr', 'grrrreat', 'grrrreeeaaaattttt', 'grrrrr', 'grrrrreat', 'grrrrrrrrrrrrrrreaaaaaaaaaat', 'grub', 'grubb', 'grubbi', 'gruber', 'grubex', 'grudg', 'gruel', 'gruesom', 'gruijter', 'grum', 'grumbl', 'grumpi', 'grung', 'grunt', 'grunter', 'gruyer', 'gsb', 'gsd', 'gsds', 'gte', 'gtf', 'gthe', 'gtiven', 'guac', 'guacamol', 'guaifenisen', 'guajillo', 'guam', 'guan', 'guangdong', 'guangzhou', 'guanin', 'guano', 'guanyl', 'guapo', 'guar', 'guarana', 'guarani', 'guarante', 'guard', 'guardian', 'guarente', 'guarrente', 'guatamalan', 'guatemala', 'guatemalan', 'guava', 'guayaki', 'guayucki', 'gubment', 'guerand', 'guerilla', 'guess', 'guesstim', 'guesstimag', 'guesswork', 'guest', 'guestroom', 'guestssssss', 'guffaw', 'guick', 'guid', 'guidanc', 'guidebook', 'guidelin', 'guidlin', 'guil', 'guilt', 'guilti', 'guiltless', 'guiltlfre', 'guin', 'guinea', 'guiness', 'guis', 'guit', 'guitar', 'guitless', 'guittard', 'gujarati', 'gulasch', 'gulcosamin', 'gulden', 'gulf', 'gullet', 'gullibl', 'gulp', 'gulpabl', 'gulper', 'gulten', 'gum', 'gumabon', 'gumb', 'gumbal', 'gumbo', 'gumdrop', 'gummi', 'gummibaerchen', 'gummier', 'gump', 'gun', 'gundpowd', 'gunfir', 'gung', 'gunk', 'gunki', 'gunni', 'gunpowd', 'gunpwder', 'gunshot', 'gunsling', 'gunter', 'guo', 'gurgl', 'guru', 'gurus', 'gush', 'gusher', 'guss', 'gussi', 'gust', 'gusta', 'gustaf', 'gustatori', 'gustaux', 'gustav', 'gusto', 'gut', 'guten', 'gutsier', 'gutter', 'guuuuuud', 'guy', 'guyana', 'guylian', 'guzzl', 'guzzlin', 'gwen', 'gyahhh', 'gycem', 'gylcem', 'gym', 'gymnast', 'gyokuro', 'gyoza', 'gyp', 'gypsi', 'gyro', 'gyspi', 'haa', 'haagen', 'habanaro', 'habanero', 'habbit', 'habe', 'habenero', 'habernero', 'habia', 'habit', 'habitat', 'habitu', 'haccp', 'hace', 'hachez', 'hacho', 'haci', 'hack', 'hackjob', 'haddock', 'hade', 'hadnt', 'hadrogen', 'hae', 'haemlyn', 'haff', 'hafiz', 'hafter', 'hagaman', 'hagen', 'hagerstown', 'haggen', 'haggi', 'hagman', 'hah', 'haha', 'hahah', 'hahaha', 'hahahaha', 'hahahahah', 'haida', 'haiku', 'haikudojo', 'hail', 'hain', 'hair', 'hairbal', 'haircar', 'haircut', 'hairdo', 'hairdress', 'hairi', 'hairless', 'hairlin', 'hairloss', 'hairnet', 'hairspray', 'haist', 'haiti', 'halal', 'halavah', 'halbert', 'halcyon', 'haldiram', 'haledon', 'haley', 'half', 'halftim', 'halfway', 'halibut', 'halidram', 'halifax', 'halitosi', 'hall', 'halleluiah', 'hallelujah', 'hallmark', 'halloumi', 'hallow', 'halloween', 'hallucin', 'hallway', 'halo', 'haloween', 'halp', 'halt', 'halv', 'halva', 'halvah', 'halvorsen', 'halwa', 'ham', 'hamberg', 'hambug', 'hamburg', 'hamdan', 'hamelman', 'hamhock', 'hamilton', 'hamlyn', 'hammer', 'hammi', 'hammock', 'hammond', 'hampshir', 'hampton', 'hamsteak', 'hamster', 'han', 'hancock', 'hand', 'handbag', 'handbook', 'handcook', 'handcraft', 'handel', 'handend', 'handful', 'handheld', 'handi', 'handicap', 'handier', 'handili', 'handiwork', 'handl', 'handler', 'handmad', 'handout', 'handpick', 'handpresso', 'handsdown', 'handsewn', 'handshak', 'handsom', 'handwritten', 'handym', 'hang', 'hangin', 'hangout', 'hangov', 'hangup', 'hank', 'hanker', 'hankerin', 'hankier', 'hanley', 'hannaford', 'hannah', 'hannov', 'hanout', 'hanov', 'hansen', 'hanson', 'hanukkah', 'hanuta', 'hao', 'hape', 'haphazard', 'hapi', 'hapier', 'hapless', 'happ', 'happen', 'happend', 'happi', 'happier', 'happiest', 'happili', 'happpppppi', 'happybabi', 'happybelli', 'happyhalloween', 'har', 'hara', 'harad', 'harar', 'harass', 'harbi', 'harbor', 'hard', 'hardboil', 'hardcor', 'harden', 'harder', 'hardest', 'hardi', 'hardier', 'hardin', 'hardish', 'hardl', 'hardship', 'hardtack', 'hardwar', 'hardwood', 'hare', 'harg', 'hargat', 'hari', 'haribo', 'harina', 'harissa', 'harken', 'harlan', 'harlem', 'harley', 'harm', 'harmful', 'harmless', 'harmon', 'harmoni', 'harney', 'harold', 'harp', 'harpoon', 'harrar', 'harrass', 'harri', 'harrier', 'harrissa', 'harrod', 'harrog', 'harrowg', 'harsh', 'harsher', 'hart', 'hartsel', 'hartz', 'hartzcrunchnclean', 'harvard', 'harvest', 'harvey', 'hasaawe', 'haselnut', 'hasen', 'hash', 'hashanah', 'hashbrown', 'hasher', 'hashish', 'hasnt', 'hassel', 'hassl', 'hast', 'hasten', 'hasti', 'hastili', 'hat', 'hatch', 'hate', 'hater', 'haul', 'haun', 'haunt', 'haupia', 'haus', 'haut', 'hav', 'hava', 'havahart', 'havanes', 'havarti', 'have', 'havent', 'havin', 'havint', 'havn', 'havng', 'havoc', 'haw', 'hawai', 'hawaii', 'hawaiian', 'hawaiin', 'hawk', 'hawkin', 'hawt', 'hawthorn', 'hay', 'hayden', 'haystack', 'hayward', 'haywir', 'haywthornethwait', 'hazalnut', 'hazan', 'hazard', 'haze', 'hazel', 'hazelnut', 'hazelnutti', 'hazer', 'hazi', 'hazl', 'hazlehut', 'hazlenut', 'hazmat', 'hazzard', 'hazzl', 'hbo', 'hbp', 'hcg', 'hcl', 'hdden', 'hdl', 'hdtv', 'heactic', 'head', 'headach', 'header', 'headi', 'headless', 'headlin', 'headmast', 'headquart', 'headroom', 'headset', 'headstrong', 'headway', 'headwind', 'heal', 'healdsburg', 'healer', 'healh', 'healhier', 'health', 'healthbar', 'healthcar', 'healthcheck', 'healtheir', 'healther', 'healthest', 'healthey', 'healthfood', 'healthi', 'healthier', 'healthiest', 'healthili', 'healthlier', 'healthnik', 'healthnut', 'healthsmart', 'healthti', 'healthwis', 'healti', 'healtlhi', 'healyh', 'heap', 'hear', 'hearburn', 'heard', 'hearrtburn', 'heart', 'heartach', 'heartattack', 'heartbeat', 'heartbreak', 'heartbroken', 'heartbun', 'heartburn', 'hearten', 'heartfelt', 'hearth', 'hearti', 'heartier', 'heartili', 'heartland', 'heartless', 'heartsick', 'heartworm', 'heat', 'heater', 'heath', 'heathen', 'heather', 'heathfood', 'heathi', 'heathier', 'heathrow', 'heathwis', 'heati', 'heatlh', 'heatproof', 'heatseek', 'heav', 'heavan', 'heaven', 'heavent', 'heaver', 'heavey', 'heavi', 'heavier', 'heaviest', 'heavili', 'heavn', 'heavy', 'heavyweight', 'heb', 'hebrew', 'hebridean', 'hec', 'hecho', 'hechsher', 'heck', 'hecka', 'heckl', 'heckuva', 'hectar', 'hectic', 'hedg', 'hedgehog', 'hediard', 'hedonist', 'hee', 'heed', 'heel', 'heeler', 'hefner', 'heft', 'hefti', 'heftier', 'heh', 'hehe', 'heheh', 'heheheh', 'heidi', 'height', 'heighten', 'heill', 'heimlich', 'heinen', 'heinous', 'heinz', 'heir', 'heirloom', 'heist', 'heistat', 'heksher', 'hela', 'held', 'helen', 'helena', 'helf', 'helichysum', 'helicobact', 'helicopt', 'helioti', 'heliotrop', 'helix', 'hell', 'hella', 'hellfir', 'hellllooooooooooo', 'hellman', 'hellmann', 'hello', 'hellrais', 'helm', 'helman', 'helmet', 'heloooo', 'help', 'helper', 'helpful', 'helpless', 'helstar', 'helth', 'helthi', 'helwig', 'helxin', 'hem', 'hemicellulos', 'hemispher', 'hemlock', 'hemorrhoid', 'hemp', 'hempse', 'hempshak', 'hen', 'henc', 'hendrick', 'hendrix', 'henna', 'henri', 'hep', 'hepat', 'hepburn', 'hepl', 'hera', 'herald', 'herb', 'herbac', 'herbal', 'herbalif', 'herbalist', 'herbamar', 'herban', 'herbanesc', 'herbbal', 'herbi', 'herbicid', 'herbmeal', 'herbolog', 'herceptin', 'herd', 'herder', 'herdez', 'herdl', 'here', 'hereditari', 'herein', 'heresi', 'heretofor', 'heri', 'heritag', 'herm', 'herman', 'hermet', 'hermion', 'hermit', 'hermosa', 'hernand', 'hernandez', 'hero', 'heroin', 'heron', 'herp', 'herpanacin', 'herr', 'herring', 'hersehey', 'hersey', 'hershey', 'hershi', 'hes', 'hese', 'hesist', 'hesit', 'hesperia', 'hessian', 'hessit', 'hestit', 'het', 'heut', 'heutt', 'heve', 'hexametaph', 'hexametaphosph', 'hexan', 'hexra', 'hextra', 'hey', 'heyloki', 'heywood', 'hfc', 'hfcs', 'hfs', 'hgc', 'hhhhhhhotttttttt', 'hiatus', 'hiav', 'hibachi', 'hibern', 'hibiscus', 'hic', 'hiccup', 'hich', 'hichew', 'hick', 'hickman', 'hickori', 'hid', 'hidden', 'hide', 'hideous', 'hidious', 'hidvegi', 'hig', 'hige', 'higer', 'higgin', 'high', 'higheat', 'higher', 'highest', 'highi', 'highish', 'highland', 'highlight', 'highqual', 'highris', 'highschool', 'hight', 'hightail', 'highway', 'highyl', 'hihg', 'hijack', 'hijik', 'hijiki', 'hike', 'hiker', 'hil', 'hilar', 'hilari', 'hilda', 'hildegard', 'hill', 'hillbilli', 'hillcrest', 'hilli', 'hillshir', 'hillsid', 'hilltop', 'hilo', 'hilt', 'hilton', 'hilux', 'himala', 'himalaya', 'himalayan', 'himalayia', 'himalyan', 'hime', 'himilayan', 'himmi', 'himsself', 'hind', 'hindenburg', 'hinder', 'hindi', 'hindsight', 'hindu', 'hindus', 'hine', 'hing', 'hinki', 'hint', 'hinterland', 'hinz', 'hip', 'hipper', 'hippi', 'hippo', 'hire', 'hirt', 'hirtz', 'hispan', 'hiss', 'hisself', 'hister', 'histon', 'histor', 'histori', 'hit', 'hitch', 'hitchhik', 'hitchik', 'hitler', 'hitman', 'hitter', 'hiv', 'hive', 'hiz', 'hiziki', 'hjortron', 'hlaf', 'hmay', 'hmm', 'hmmm', 'hmmmm', 'hmmmmm', 'hmmmmmm', 'hmmmmmmm', 'hmmmmmmmmmmmmmm', 'hmmph', 'hmn', 'hmoe', 'hmph', 'hnp', 'hoagi', 'hoard', 'hoax', 'hob', 'hobbi', 'hobe', 'hobi', 'hobo', 'hoboken', 'hock', 'hockey', 'hocus', 'hod', 'hodgepodg', 'hodgkin', 'hodgson', 'hoefl', 'hoefschroer', 'hoffman', 'hog', 'hogi', 'hogson', 'hoi', 'hoiliday', 'hoisin', 'hoison', 'hoist', 'hoji', 'hojicha', 'hokey', 'hold', 'holday', 'holder', 'holdov', 'hole', 'holey', 'holi', 'holic', 'holick', 'holiday', 'holidaz', 'holiest', 'holist', 'holl', 'holla', 'holland', 'hollandais', 'holle', 'holler', 'holli', 'holliday', 'hollist', 'hollow', 'holloway', 'hollywood', 'holm', 'holocaust', 'holst', 'holster', 'holsum', 'hom', 'homag', 'home', 'homead', 'homebak', 'homebrew', 'homecook', 'homefri', 'homefront', 'homegrown', 'homeland', 'homeless', 'homemad', 'homemak', 'homeopath', 'homeopathi', 'homeown', 'homepag', 'homeplac', 'homerun', 'homeschool', 'homesick', 'homestor', 'homestyl', 'hometown', 'homeward', 'homework', 'homey', 'homgrown', 'homini', 'hommus', 'homogen', 'hon', 'honcho', 'honda', 'hondura', 'honduran', 'hone', 'honesdal', 'honest', 'honesti', 'honevill', 'honey', 'honeybel', 'honeybush', 'honeycomb', 'honeycup', 'honeydew', 'honeylik', 'honeymoon', 'honeysuckl', 'honeytre', 'honeyvill', 'honeyvillegrain', 'honeywel', 'hong', 'honib', 'honig', 'honk', 'honolulu', 'honor', 'honyock', 'hoo', 'hooch', 'hood', 'hoodia', 'hoof', 'hoofer', 'hook', 'hooki', 'hooo', 'hooooo', 'hoop', 'hoopla', 'hooray', 'hoot', 'hoov', 'hoover', 'hop', 'hope', 'hopeful', 'hopeless', 'hopig', 'hopin', 'hopj', 'hopkin', 'hopless', 'hopper', 'hoppi', 'hoppin', 'hor', 'horchata', 'hord', 'horehound', 'horibl', 'horid', 'horizen', 'horizon', 'horizont', 'hork', 'horlick', 'hormel', 'hormon', 'horn', 'hornel', 'hornet', 'horni', 'horrabl', 'horray', 'horrbil', 'horrend', 'horreur', 'horriabl', 'horribl', 'horrid', 'horrif', 'horrifi', 'horror', 'hors', 'horseback', 'horseradish', 'horseradishi', 'horsesho', 'horsford', 'horton', 'hos', 'hose', 'hospic', 'hospit', 'hosptial', 'host', 'hostag', 'hostess', 'hostest', 'hostil', 'hosu', 'hoswick', 'hot', 'hotair', 'hotcak', 'hotdish', 'hotdog', 'hotel', 'hoter', 'hotest', 'hotic', 'hotlin', 'hotlix', 'hotpod', 'hotr', 'hotsauc', 'hott', 'hotta', 'hotter', 'hottest', 'hotti', 'hottier', 'hotttt', 'hotw', 'houd', 'houe', 'hound', 'hour', 'hourglass', 'hoursflip', 'hous', 'houseboat', 'housebound', 'housebroken', 'housecat', 'houseguest', 'household', 'housekeep', 'housem', 'housepl', 'housesit', 'housewarm', 'housewhol', 'housewif', 'houston', 'houtt', 'hover', 'howard', 'howbeit', 'howdi', 'howe', 'howel', 'howev', 'howevw', 'howl', 'howmuch', 'howov', 'howser', 'howver', 'hoy', 'hoya', 'hpd', 'hpe', 'hplc', 'hpv', 'hrh', 'hrs', 'hsn', 'htb', 'hte', 'hth', 'hting', 'htis', 'html', 'huang', 'huangjinggui', 'huangshan', 'huangyan', 'hub', 'huband', 'hubba', 'hubbard', 'hubbi', 'hubburd', 'hubri', 'huck', 'huckleberri', 'huddl', 'hudson', 'hudsonvill', 'hue', 'huell', 'huevo', 'huey', 'huf', 'huff', 'hug', 'huge', 'huger', 'hugest', 'hugg', 'hugger', 'hugh', 'huh', 'hulk', 'hulkster', 'hull', 'hullabaloo', 'hulless', 'hulli', 'hullless', 'hum', 'huma', 'humalog', 'human', 'humanitarian', 'humanoid', 'humanologist', 'humbl', 'humdrum', 'humect', 'humid', 'humidifi', 'humili', 'humm', 'hummer', 'hummingbird', 'hummo', 'hummous', 'hummun', 'hummus', 'humong', 'humongo', 'humor', 'hump', 'humpf', 'humus', 'hunan', 'hunch', 'hund', 'hundenflocken', 'hunder', 'hundr', 'hung', 'hungari', 'hungarian', 'hungarianbookstor', 'hunger', 'hungov', 'hungri', 'hungrier', 'hungriest', 'hunk', 'hunker', 'hunt', 'hunter', 'huntin', 'huntress', 'hunza', 'hurl', 'hurley', 'hurrah', 'hurray', 'hurrel', 'hurri', 'hurricain', 'hurrican', 'hurt', 'husbad', 'husband', 'husbandri', 'husbund', 'hush', 'husk', 'huski', 'husseini', 'hustl', 'hut', 'hutch', 'hutcheson', 'huy', 'huyben', 'hwve', 'hyacinth', 'hyatt', 'hybrid', 'hydantoin', 'hyde', 'hyderabad', 'hyderabadi', 'hydoxicut', 'hydrant', 'hydrat', 'hydro', 'hydrocarbon', 'hydrochlorid', 'hydrodgen', 'hydrogen', 'hydrogent', 'hydrogin', 'hydrogon', 'hydrol', 'hydrolys', 'hydrolysi', 'hydrolyz', 'hydromet', 'hydron', 'hydrophob', 'hydropon', 'hydroscop', 'hydrotherapist', 'hydrox', 'hydroxi', 'hydroxid', 'hydroxogen', 'hydroxyl', 'hydroxytoluen', 'hyest', 'hygien', 'hygienist', 'hyman', 'hype', 'hyper', 'hyperact', 'hyperbol', 'hyperbolium', 'hyperglycem', 'hyperglycemia', 'hyperinsulinemia', 'hyperlink', 'hypermagnesemia', 'hyperpiesia', 'hypersensit', 'hypersweet', 'hypertens', 'hyperthroid', 'hyperthyroid', 'hypertriglyceridemia', 'hyploglycem', 'hypnosi', 'hypnot', 'hypoallergen', 'hypocrisi', 'hypocrit', 'hypoderm', 'hypoglycem', 'hypoglycemia', 'hypogycem', 'hypothes', 'hypothyroid', 'hyrdogen', 'hyster', 'hysteria', 'hyve', 'hznt', 'iaam', 'ialso', 'iam', 'iamb', 'ian', 'iarc', 'ib', 'ibarra', 'ibc', 'ibd', 'iberico', 'ibrik', 'ibuprofen', 'ican', 'ice', 'iceberg', 'icebox', 'icebrak', 'icebreak', 'icecream', 'icecub', 'iceland', 'icepack', 'icetea', 'icey', 'ich', 'ichi', 'ichiban', 'ichthyosi', 'ici', 'icicl', 'ick', 'ickey', 'icki', 'icnlud', 'icon', 'icu', 'id', 'ida', 'idaeus', 'idaho', 'idea', 'ideal', 'ident', 'identif', 'identifi', 'ideolog', 'idestruct', 'idfahaccp', 'idiazab', 'idiosyncrat', 'idiot', 'idioz', 'iditarod', 'idk', 'idl', 'idol', 'idyl', 'ie', 'ier', 'iew', 'ifa', 'ifeel', 'iffi', 'ifnot', 'ifoam', 'iga', 'ige', 'igg', 'ightweight', 'igloo', 'ignomini', 'ignor', 'igot', 'igourmet', 'iguana', 'ihav', 'iherb', 'ihop', 'iiam', 'iican', 'iii', 'ijit', 'ijust', 'ike', 'ikea', 'ikura', 'ileg', 'ileostomi', 'iliada', 'ilk', 'ill', 'illeg', 'illegitim', 'illi', 'illicit', 'illinoi', 'illiteraci', 'illog', 'illumin', 'illus', 'illustr', 'illyusa', 'ilo', 'im', 'imac', 'imag', 'imagain', 'imagin', 'imagini', 'imagn', 'imat', 'imbal', 'imbargo', 'imbed', 'imbib', 'imboss', 'imbu', 'ime', 'imedi', 'imediatley', 'imers', 'imfami', 'imho', 'imit', 'imiti', 'immacul', 'immagin', 'immateri', 'immatur', 'immead', 'immeadi', 'immeadiat', 'immeasur', 'immedi', 'immedialt', 'immediat', 'immediatley', 'immedieat', 'immens', 'immensli', 'immers', 'immid', 'immidi', 'immigr', 'immin', 'immit', 'immmedi', 'immmun', 'immor', 'immort', 'immposs', 'immun', 'immunosuppres', 'imo', 'imodium', 'impact', 'impair', 'impal', 'impart', 'imparti', 'impass', 'impati', 'impec', 'impecc', 'imped', 'impedi', 'impel', 'impenatr', 'imper', 'impercept', 'imperfect', 'imperi', 'imperil', 'imperson', 'impervi', 'impess', 'impetus', 'implement', 'impli', 'implic', 'implicit', 'implor', 'impolit', 'impor', 'import', 'importan', 'impos', 'imposit', 'imposs', 'impost', 'impostor', 'impot', 'impract', 'imprecis', 'impress', 'impression', 'imprint', 'improb', 'impromptu', 'improp', 'improv', 'improvememnt', 'improvememt', 'improvis', 'impt', 'impuls', 'impur', 'imtermitt', 'in', 'ina', 'inabl', 'inaccur', 'inaccuraci', 'inact', 'inadequ', 'inadequaci', 'inadvert', 'inaka', 'inan', 'inappropri', 'inargu', 'inari', 'inasmuch', 'inattent', 'inaud', 'inaugur', 'inbed', 'inbetween', 'inblu', 'inbreed', 'inc', 'inca', 'incan', 'incandes', 'incandesc', 'incanto', 'incarn', 'incas', 'incens', 'incent', 'incentivis', 'incept', 'incess', 'inch', 'incid', 'incident', 'inciner', 'incipi', 'incis', 'incisor', 'incl', 'inclan', 'inclin', 'inclinc', 'inclind', 'inclu', 'includ', 'includin', 'inclus', 'incognito', 'incom', 'incompar', 'incompet', 'incompetit', 'incomplet', 'inconceiv', 'inconclus', 'incondes', 'incongru', 'inconjuct', 'inconsequenti', 'inconsist', 'inconsol', 'inconst', 'incontin', 'incontrovert', 'inconvein', 'inconveni', 'inconvenienc', 'inconvi', 'inconvien', 'inconvieni', 'incorpor', 'incorrect', 'increas', 'incred', 'incredi', 'incredul', 'increment', 'incriment', 'incrimin', 'incub', 'incud', 'incumb', 'incur', 'ind', 'inde', 'indecipher', 'indeedi', 'indefatigu', 'indefin', 'indefinit', 'indegst', 'indel', 'indent', 'independ', 'indepth', 'inderect', 'indescrib', 'indespens', 'indestruct', 'index', 'indgest', 'indgredi', 'indi', 'india', 'indian', 'indiana', 'indianapoli', 'indic', 'indica', 'indicatour', 'indicit', 'indicum', 'indiffer', 'indig', 'indigen', 'indigest', 'indigo', 'indirect', 'indiscern', 'indiscreet', 'indiscress', 'indiscrimin', 'indispens', 'indistinct', 'indistinguish', 'indistruct', 'indivdu', 'individ', 'individu', 'individual', 'individuali', 'individualist', 'individud', 'indiviu', 'indiviud', 'indivu', 'indo', 'indochina', 'indoctrin', 'indomi', 'indonesia', 'indonesian', 'indonsia', 'indoor', 'indor', 'indors', 'indredi', 'indsid', 'induc', 'induct', 'indulg', 'indus', 'industr', 'industri', 'industrialist', 'indvidu', 'indybear', 'ine', 'ined', 'ineedcoffe', 'ineeka', 'ineff', 'ineffect', 'ineffici', 'inelast', 'inelig', 'inept', 'ineptitud', 'inequ', 'inequip', 'inert', 'inevit', 'inexact', 'inexcus', 'inexor', 'inexpedi', 'inexpens', 'inexperi', 'inexperienc', 'inexpert', 'inexpic', 'inexplic', 'inez', 'infact', 'infam', 'infamil', 'infant', 'infantil', 'infarct', 'infatu', 'infect', 'infecti', 'infer', 'inferior', 'inferiour', 'infern', 'inferno', 'infertil', 'infest', 'infiltr', 'infin', 'infinat', 'infinit', 'infinitum', 'infirm', 'inflam', 'inflamatori', 'inflamm', 'inflammatori', 'inflat', 'inflict', 'infloor', 'influenc', 'influx', 'info', 'infomerc', 'infomerci', 'inform', 'informaton', 'informt', 'infrar', 'infrequ', 'infuri', 'infurs', 'infus', 'infuserful', 'infuss', 'infuzion', 'ing', 'ingedi', 'ingeni', 'ingenius', 'ingenu', 'ingenuitea', 'ingest', 'ingl', 'inglehoff', 'ingr', 'ingread', 'ingreadi', 'ingred', 'ingredi', 'ingrediant', 'ingredit', 'ingregid', 'ingridi', 'ingriedi', 'inhabit', 'inhal', 'inhanc', 'inher', 'inherit', 'inhibit', 'inhibitor', 'inhomogen', 'inhuman', 'inida', 'inidan', 'inidividu', 'inimit', 'init', 'initallli', 'initi', 'initit', 'inject', 'injera', 'injest', 'injoy', 'injun', 'injur', 'injuri', 'injustic', 'ink', 'inka', 'inkl', 'inko', 'inland', 'inlaw', 'inlieu', 'inlin', 'inlov', 'inlud', 'inn', 'innard', 'inner', 'innermost', 'inning', 'innoat', 'innoc', 'innocu', 'innov', 'innova', 'innumer', 'inoffens', 'inoper', 'inordin', 'inorgan', 'inosin', 'inositol', 'inour', 'inova', 'inpli', 'inprov', 'input', 'inquir', 'inquiri', 'inquisit', 'inredi', 'insan', 'insati', 'insect', 'insecticid', 'insecur', 'insensit', 'insert', 'inset', 'insid', 'insidi', 'insight', 'insignia', 'insignific', 'insipid', 'insist', 'insofar', 'insolubl', 'insomnia', 'insomniac', 'inspect', 'inspector', 'inspir', 'insruct', 'inst', 'instal', 'instanc', 'instand', 'instant', 'instantan', 'instead', 'instens', 'instent', 'instig', 'instil', 'instinct', 'institut', 'institution', 'instock', 'instor', 'instrcut', 'instruct', 'instructor', 'instructuion', 'instrument', 'insubstanti', 'insuffer', 'insuffici', 'insukin', 'insul', 'insulin', 'insulinoma', 'insult', 'insur', 'insurg', 'insurmount', 'int', 'intact', 'intak', 'integ', 'integr', 'integreti', 'intellectu', 'intellegentsia', 'intellig', 'intelligentsia', 'intemper', 'intend', 'intens', 'intenseley', 'intensif', 'intensifi', 'intent', 'intenti', 'inter', 'interact', 'interceptor', 'interchang', 'interenet', 'interes', 'interest', 'interestng', 'interf', 'interfac', 'interfer', 'interferon', 'intergr', 'interim', 'interior', 'interist', 'interlock', 'intermedi', 'intermediari', 'intermin', 'intermingl', 'intermitt', 'intermuscular', 'intern', 'internationl', 'internatur', 'internet', 'interper', 'interperson', 'interpret', 'interrest', 'interrupt', 'intersect', 'interspers', 'interst', 'interstiti', 'intertwin', 'interv', 'interven', 'intervent', 'interview', 'interwov', 'intes', 'intest', 'intestin', 'intestsin', 'inth', 'intial', 'intil', 'intim', 'intimad', 'intimd', 'intimid', 'intit', 'intiti', 'intoler', 'intoller', 'intolor', 'intox', 'intoxic', 'intraepitheli', 'intranet', 'intranez', 'intraven', 'intrest', 'intric', 'intrigu', 'intrins', 'intriqu', 'intro', 'introduc', 'introduct', 'introductori', 'intrud', 'intrus', 'intsant', 'intuit', 'intybus', 'inu', 'inudstri', 'inulin', 'inund', 'invad', 'invalid', 'invalu', 'invar', 'invari', 'invas', 'invat', 'invent', 'inventor', 'inventori', 'invers', 'invert', 'invertir', 'invest', 'investig', 'inveter', 'invididu', 'invidu', 'invigor', 'inviron', 'invis', 'invit', 'inviti', 'invlov', 'invoic', 'invok', 'involuntari', 'involuntarili', 'involv', 'inward', 'iodat', 'iodid', 'iodin', 'iodiz', 'ion', 'ionian', 'ionic', 'ionize', 'iota', 'iowa', 'ipa', 'iperespresso', 'ipm', 'ipod', 'ipp', 'ipsa', 'iquito', 'ir', 'ira', 'iranian', 'iraq', 'iraqi', 'ire', 'ireal', 'ireland', 'iri', 'iridessa', 'iris', 'irish', 'irishman', 'irk', 'irksom', 'irland', 'irn', 'iron', 'ironb', 'ironi', 'ironwood', 'irradi', 'irrat', 'irregular', 'irrelev', 'irrepair', 'irreplac', 'irresist', 'irresit', 'irrespect', 'irrespons', 'irrever', 'irrevers', 'irrig', 'irrisist', 'irrit', 'irv', 'irvin', 'isabell', 'isaboo', 'isador', 'isar', 'isaro', 'isav', 'ish', 'isin', 'isl', 'island', 'islay', 'isnt', 'isoflavon', 'isol', 'isomalt', 'isomaltulos', 'isomil', 'isong', 'isopropanol', 'isopur', 'isoton', 'isra', 'israel', 'isreal', 'issu', 'issus', 'ist', 'ista', 'istanbul', 'istead', 'istimewa', 'itaian', 'ital', 'itali', 'italia', 'italiam', 'italian', 'italiano', 'italien', 'itallian', 'itbut', 'itch', 'itchi', 'itchin', 'itchmoforum', 'iteam', 'item', 'itemnot', 'iter', 'iterest', 'itfot', 'ith', 'ithaca', 'iti', 'itiat', 'itlay', 'itm', 'itmi', 'ito', 'itoen', 'itsgreat', 'itsi', 'itsmel', 'itsself', 'itti', 'itup', 'itw', 'iun', 'iv', 'ivan', 'ivd', 'ive', 'ivernia', 'ivi', 'ivori', 'ivorysoul', 'iwa', 'iwil', 'iwould', 'iwth', 'iykwim', 'izakaya', 'izz', 'izzard', 'izzi', 'jab', 'jabenero', 'jablum', 'jac', 'jack', 'jacket', 'jacki', 'jacklink', 'jackpot', 'jacksboro', 'jackson', 'jacksonhol', 'jacksonvill', 'jacob', 'jacosta', 'jacqu', 'jacquelin', 'jacuzzi', 'jade', 'jaffa', 'jag', 'jager', 'jaguar', 'jahren', 'jail', 'jaipur', 'jake', 'jal', 'jalapano', 'jalapeno', 'jalepano', 'jalepenjo', 'jalepeno', 'jalepino', 'jalepno', 'jalfrezi', 'jalipeno', 'jalopeno', 'jam', 'jamacian', 'jamaica', 'jamaican', 'jamba', 'jambalaya', 'jambo', 'jame', 'jameson', 'jamestown', 'jamesvill', 'jami', 'jamiaca', 'jamica', 'jammi', 'jamocha', 'jamon', 'jamout', 'jan', 'jana', 'janauri', 'jane', 'janeiro', 'janet', 'jang', 'janitor', 'januari', 'jap', 'japan', 'japanes', 'japaness', 'japans', 'japantown', 'japapeno', 'japonais', 'japonica', 'japonnica', 'jar', 'jarblum', 'jardin', 'jare', 'jargon', 'jarlsberg', 'jarrito', 'jarrow', 'jasemin', 'jasimin', 'jasmati', 'jasmin', 'jason', 'jaundic', 'java', 'javahol', 'javalim', 'javamonst', 'javan', 'javapod', 'javapodz', 'jaw', 'jawbon', 'jawbreak', 'jawbust', 'jawin', 'jax', 'jay', 'jayon', 'jaywalk', 'jazz', 'jazzi', 'jazzmeen', 'jbm', 'jcpenney', 'jcs', 'jealous', 'jealousi', 'jean', 'jeani', 'jedi', 'jee', 'jeep', 'jeeper', 'jeera', 'jeez', 'jeff', 'jefferey', 'jefferi', 'jefferson', 'jeffrey', 'jel', 'jelatin', 'jell', 'jelli', 'jello', 'jellow', 'jellybean', 'jellybelli', 'jelous', 'jemima', 'jemimah', 'jene', 'jenkem', 'jenni', 'jennif', 'jensen', 'jeopardi', 'jeremiah', 'jerimiah', 'jerk', 'jerkey', 'jerki', 'jerom', 'jerque', 'jerri', 'jersey', 'jerusalem', 'jessi', 'jestur', 'jesus', 'jet', 'jetboil', 'jetfuel', 'jetzt', 'jew', 'jewel', 'jewelri', 'jewish', 'jfc', 'jice', 'jif', 'jiff', 'jiffi', 'jig', 'jigg', 'jigger', 'jiggl', 'jiggler', 'jiic', 'jijona', 'jila', 'jim', 'jimi', 'jimme', 'jimmi', 'jimmine', 'jindo', 'jing', 'jingl', 'jinx', 'jipin', 'jitter', 'jitteri', 'jittery', 'jitteryfeel', 'jiuc', 'jivalim', 'jive', 'jiveal', 'jivealim', 'joann', 'joanna', 'joaquin', 'job', 'jocalat', 'jockey', 'jocolat', 'jodhpur', 'jodi', 'joe', 'joebonsai', 'joel', 'joesph', 'joey', 'jog', 'joghurt', 'john', 'johnni', 'johnsohnvill', 'johnson', 'johnsonvill', 'johnston', 'joic', 'join', 'joint', 'jojo', 'joke', 'joker', 'jol', 'jolla', 'jolli', 'jolokai', 'jolokia', 'jolt', 'joltgum', 'jon', 'jona', 'jone', 'jones', 'jonesin', 'joop', 'joray', 'joraycandi', 'jordan', 'jorg', 'jortikka', 'jose', 'joseph', 'josey', 'josh', 'jostl', 'joul', 'journal', 'journalist', 'journey', 'jovial', 'joy', 'joyous', 'joyva', 'joz', 'jpg', 'jrmushroom', 'jrt', 'jrts', 'jsmine', 'jsut', 'jtc', 'juan', 'juanita', 'juar', 'jubile', 'juci', 'jucic', 'jucier', 'juciest', 'jude', 'judg', 'judgement', 'judgment', 'judi', 'judici', 'judyk', 'jufran', 'jug', 'jugalbandi', 'juggl', 'juic', 'juicei', 'juicer', 'juicey', 'juici', 'juicier', 'juiciest', 'juicyfruit', 'juicyjuic', 'juiic', 'juiv', 'juju', 'jujub', 'jukebox', 'julann', 'jule', 'julep', 'juli', 'julia', 'julian', 'julien', 'julienn', 'juliet', 'julius', 'jumbl', 'jumbo', 'jumbon', 'jump', 'jumper', 'jumpi', 'jumpstart', 'junctur', 'june', 'juneau', 'jungl', 'junior', 'junip', 'junk', 'junket', 'junkfood', 'junki', 'juno', 'junqu', 'junshan', 'jura', 'juri', 'jurki', 'jus', 'jusi', 'just', 'justi', 'justic', 'justif', 'justifi', 'justin', 'jut', 'juuuust', 'juvenil', 'jvc', 'jvs', 'jyoti', 'kabab', 'kabob', 'kadhi', 'kadoya', 'kaffeestund', 'kaffir', 'kafka', 'kah', 'kahlua', 'kahn', 'kahula', 'kai', 'kaia', 'kaimal', 'kairo', 'kaiser', 'kaki', 'kal', 'kala', 'kalamata', 'kalamazoo', 'kalata', 'kale', 'kalihi', 'kalua', 'kaluha', 'kalustyan', 'kama', 'kame', 'kameda', 'kamut', 'kandi', 'kangaroo', 'kaniwa', 'kansa', 'kansai', 'kantrowitz', 'kap', 'kaper', 'kapha', 'kar', 'kara', 'karahi', 'karaj', 'karaok', 'kare', 'karen', 'kari', 'karo', 'kasey', 'kash', 'kasha', 'kashi', 'kashmir', 'kashmiri', 'kashrus', 'kasia', 'kasilof', 'kasmati', 'kasmir', 'kasseri', 'kasten', 'kasugai', 'kat', 'katamala', 'katchup', 'kate', 'katharena', 'kathi', 'kathryn', 'kati', 'katrina', 'katsuo', 'katsuobushi', 'katzenflocken', 'kaua', 'kauai', 'kaufen', 'kauflin', 'kava', 'kavalacton', 'kaviar', 'kavier', 'kavla', 'kavli', 'kay', 'kaya', 'kayak', 'kayle', 'kazakhstan', 'kbr', 'kcal', 'kcalori', 'kcc', 'kcl', 'kcup', 'kcupresult', 'kds', 'keaton', 'kebab', 'kebap', 'kecap', 'kechup', 'kedem', 'kee', 'keebler', 'keek', 'keel', 'keem', 'keemah', 'keemun', 'keen', 'keenam', 'keenan', 'keenest', 'keenwa', 'keep', 'keeper', 'keepin', 'keepsak', 'keesh', 'keeshond', 'keeshonden', 'keeurig', 'kefir', 'keg', 'keifer', 'keiller', 'kein', 'keinz', 'keir', 'keisha', 'keister', 'keith', 'keller', 'kelley', 'kelli', 'kellog', 'kellogg', 'kelp', 'kelpi', 'kelsey', 'kelvin', 'kemper', 'ken', 'kendal', 'kendrel', 'kenilworth', 'kennedi', 'kennel', 'kennewick', 'kenoli', 'kenosha', 'kent', 'kentucki', 'kenya', 'kenyan', 'kenyon', 'kepp', 'kept', 'kerala', 'kern', 'kernal', 'kernel', 'kernelli', 'kerosin', 'kerouac', 'kerri', 'kershaw', 'keruig', 'kessler', 'kest', 'kestekidi', 'keta', 'ketchup', 'ketchupi', 'ketjap', 'ketogen', 'keton', 'ketosi', 'ketsup', 'kettl', 'kettlecorn', 'keur', 'keureg', 'keurig', 'kevin', 'kew', 'kewl', 'kewpi', 'key', 'keyboard', 'keylim', 'keyword', 'kfc', 'kgs', 'kha', 'khalua', 'khan', 'khatta', 'khing', 'khmer', 'khoi', 'kia', 'kibbl', 'kicap', 'kick', 'kickback', 'kickbal', 'kickbox', 'kicker', 'kicki', 'kickin', 'kid', 'kiddi', 'kiddo', 'kidnap', 'kidney', 'kidtini', 'kidz', 'kielbasa', 'kiev', 'kihei', 'kike', 'kiki', 'kikkoman', 'kikland', 'kikoman', 'kikomn', 'kilarni', 'kili', 'kilimanjaro', 'kill', 'killer', 'kilo', 'kilogram', 'kilojoul', 'kilomet', 'kim', 'kimbal', 'kimberl', 'kimbo', 'kimche', 'kimchi', 'kimi', 'kimssa', 'kincaid', 'kind', 'kinda', 'kinder', 'kinderbueno', 'kindergarten', 'kindergartern', 'kindergartn', 'kindest', 'kindey', 'kindl', 'kindof', 'kinduh', 'kinesthesia', 'king', 'kingdom', 'kingston', 'kinickinnick', 'kink', 'kinki', 'kinnick', 'kinnikinnick', 'kinnikinnik', 'kinnitoo', 'kiosk', 'kipl', 'kipper', 'kir', 'kirbi', 'kirchtort', 'kirk', 'kirkland', 'kirkwal', 'kirono', 'kirsch', 'kirsti', 'kismet', 'kiss', 'kisser', 'kit', 'kitamu', 'kitchen', 'kitchenaid', 'kitchenett', 'kitchenless', 'kitchenwar', 'kite', 'kitkat', 'kitser', 'kitt', 'kitteh', 'kitten', 'kittenhood', 'kitti', 'kittizen', 'kiwi', 'kiwifruit', 'kix', 'klass', 'klassic', 'klatch', 'klauer', 'klee', 'kleenex', 'kleenx', 'klein', 'klene', 'klink', 'klos', 'klub', 'klum', 'kluski', 'klute', 'klutzi', 'kmart', 'kmr', 'knack', 'knackabrud', 'knackebrod', 'knapsack', 'knat', 'knave', 'knaw', 'knead', 'knee', 'kneed', 'kneel', 'kneipp', 'knew', 'knick', 'knife', 'knight', 'knighton', 'knish', 'knit', 'knive', 'kno', 'knob', 'knobbi', 'knobley', 'knock', 'knockin', 'knockoff', 'knockout', 'knor', 'knorr', 'knot', 'knotch', 'knott', 'knous', 'know', 'knowedg', 'knowledg', 'knowleg', 'knowlton', 'known', 'knox', 'knoxvill', 'knoxx', 'knuckl', 'knudsen', 'ko', 'koala', 'kobayashi', 'kobe', 'koda', 'kodiac', 'koenig', 'koez', 'kogelschatz', 'kohana', 'kohinoor', 'koi', 'koit', 'koko', 'kokomotea', 'kokuho', 'kola', 'kolkata', 'kombu', 'kombucha', 'komi', 'kona', 'konacha', 'konbu', 'konedog', 'kong', 'konjac', 'konriko', 'koobaburra', 'kook', 'kookabura', 'kookaburra', 'kookamunga', 'kooki', 'kool', 'koolad', 'koolaid', 'koon', 'kopali', 'kopi', 'kopiko', 'kopili', 'kopper', 'koran', 'korea', 'korean', 'koreatown', 'koriko', 'korintj', 'koriyama', 'korma', 'korn', 'korni', 'korovki', 'koroy', 'korr', 'koru', 'kos', 'kosciusko', 'kosher', 'koshi', 'kosho', 'koska', 'kostco', 'kousmichoff', 'kove', 'koyo', 'kozi', 'kpa', 'kra', 'krab', 'krack', 'kracker', 'krackl', 'kraft', 'kramer', 'kras', 'krasner', 'krazi', 'kream', 'kreation', 'kreg', 'krema', 'kreme', 'kretschmer', 'krigsman', 'krill', 'krimpet', 'kringa', 'kringl', 'krink', 'krinkl', 'krino', 'kripi', 'kris', 'krisp', 'krispe', 'krispi', 'krista', 'kristensraw', 'kristin', 'kritter', 'kroeger', 'kroenung', 'kroger', 'kronch', 'kronung', 'kropok', 'krufki', 'krumpet', 'kruncheez', 'krup', 'krupp', 'krupuk', 'kruspi', 'krusteaz', 'krusteez', 'krustez', 'krustz', 'ksa', 'ksar', 'ktc', 'ktla', 'kuan', 'kuchela', 'kuchen', 'kuchenmeist', 'kudo', 'kudog', 'kudzu', 'kuerig', 'kufchak', 'kugel', 'kugeln', 'kuhn', 'kuk', 'kukicha', 'kulfi', 'kulik', 'kullen', 'kum', 'kun', 'kunati', 'kung', 'kungsornen', 'kup', 'kureba', 'kuri', 'kurig', 'kurobata', 'kuropok', 'kurt', 'kurukahveci', 'kushka', 'kusimi', 'kusmi', 'kusugai', 'kuwait', 'kuwak', 'kuzu', 'kwakiutl', 'kwan', 'kwaun', 'kwazulu', 'kyiv', 'kyle', 'kyocera', 'kyoto', 'kyushu', 'kyusu', 'laasgna', 'lab', 'label', 'laber', 'labl', 'labor', 'laboratori', 'labori', 'labour', 'labrada', 'labradoodl', 'labrador', 'labrea', 'labyrinth', 'lac', 'lace', 'lacer', 'lacey', 'lachu', 'lack', 'lacklust', 'lacquat', 'lacquer', 'lacta', 'lactaid', 'lactas', 'lactat', 'lactic', 'lactitol', 'lacto', 'lactobacillus', 'lactos', 'lad', 'ladden', 'laddi', 'laden', 'ladi', 'ladl', 'ladro', 'ladybug', 'ladyfing', 'ladyfriend', 'lafayett', 'laffi', 'lag', 'lagass', 'lager', 'lagniapp', 'laguna', 'lah', 'laid', 'laidlaw', 'laik', 'laissez', 'lait', 'lajauni', 'lakanto', 'lake', 'lakesdi', 'lakesid', 'lakewood', 'laks', 'laksa', 'lal', 'lam', 'lamaderm', 'lamb', 'lambrusco', 'lame', 'lament', 'lamer', 'lamin', 'lamington', 'laminin', 'lammi', 'lamp', 'lan', 'lana', 'lanc', 'lancashir', 'lancast', 'lancelot', 'land', 'landatori', 'landfil', 'landjag', 'landlord', 'landranc', 'landscap', 'landslid', 'lane', 'lang', 'langenscheidt', 'langer', 'langnes', 'languag', 'languid', 'languish', 'lanka', 'lankan', 'lanki', 'lansdal', 'lansinoh', 'lantchip', 'lantern', 'lap', 'lapband', 'lapdog', 'laphroaig', 'lapiana', 'lapin', 'laps', 'lapsang', 'lapsong', 'lapt', 'laptop', 'laquer', 'lar', 'lara', 'larabar', 'larchmont', 'lard', 'larder', 'lardi', 'larg', 'larger', 'largest', 'larget', 'lark', 'larri', 'larva', 'laryng', 'las', 'lasaffr', 'lasagn', 'lasagna', 'lasanga', 'laser', 'lasgna', 'lash', 'lasi', 'laska', 'lassen', 'lassi', 'lasst', 'last', 'lastest', 'lat', 'latch', 'late', 'latejuli', 'latempesta', 'latenc', 'later', 'laterz', 'latest', 'latex', 'latharg', 'lather', 'lathrop', 'latin', 'latina', 'latino', 'latt', 'latte', 'latter', 'latti', 'lattic', 'latvia', 'laud', 'lauderdal', 'laugh', 'laughabl', 'laughter', 'launch', 'launcher', 'laundri', 'laundryroom', 'laura', 'laurel', 'lauren', 'laurentii', 'lauri', 'lauric', 'lava', 'lavand', 'lavaza', 'lavazaza', 'lavazza', 'lavazzo', 'lavend', 'lavendar', 'lavened', 'laver', 'lavis', 'lavish', 'lavl', 'lavor', 'law', 'lawn', 'lawnmow', 'lawrey', 'lawri', 'lawson', 'lawyer', 'lax', 'laxat', 'laxit', 'lay', 'laydown', 'layer', 'layla', 'layoff', 'layov', 'layton', 'lazi', 'lazier', 'laziest', 'laziz', 'lazt', 'lbs', 'lbw', 'lcd', 'ldh', 'ldl', 'lds', 'lea', 'leach', 'lead', 'leaden', 'leader', 'leadership', 'leaf', 'leafelet', 'leafhopp', 'leafi', 'leafless', 'leaflet', 'leagu', 'leah', 'leak', 'leakag', 'leaki', 'leamon', 'lean', 'leandro', 'leaner', 'leantreat', 'leap', 'leapt', 'leari', 'learn', 'learner', 'learnt', 'leas', 'leash', 'least', 'leather', 'leatheri', 'leav', 'leaven', 'lebanes', 'lebanon', 'lebkuchen', 'lebovitz', 'lech', 'lechem', 'lechera', 'lecheyim', 'lechithin', 'lechitin', 'lecithen', 'lecithin', 'lecithinan', 'lectin', 'lectur', 'led', 'ledg', 'lee', 'leech', 'leed', 'leek', 'leeper', 'leeri', 'leeson', 'leevel', 'left', 'lefti', 'leftov', 'leg', 'legal', 'legalees', 'leganza', 'legend', 'legendari', 'leggi', 'legibl', 'legion', 'legionniar', 'legisl', 'legit', 'legitim', 'lego', 'legum', 'lehman', 'lehua', 'leid', 'leisur', 'leke', 'lekvar', 'lelit', 'lem', 'lemion', 'lemm', 'lemmon', 'lemon', 'lemonad', 'lemonaid', 'lemonais', 'lemoney', 'lemongrass', 'lemonhead', 'lemoni', 'lemonlead', 'lend', 'lenexa', 'lenghth', 'lenghti', 'length', 'lengthen', 'lengthi', 'lengthier', 'lengthwis', 'lengua', 'lenient', 'lenoir', 'lens', 'lent', 'lental', 'lentgh', 'lenticular', 'lentil', 'leo', 'leomn', 'leon', 'leonard', 'leonardo', 'leonberg', 'leonida', 'leopard', 'leprechaun', 'lept', 'leroux', 'les', 'lesaffr', 'lesion', 'lesley', 'less', 'lessd', 'lessen', 'lesser', 'lessman', 'lesson', 'lest', 'let', 'letdown', 'lethal', 'letharg', 'lethargi', 'letherg', 'letil', 'letm', 'letso', 'lettac', 'letter', 'lettiuc', 'lettuc', 'leu', 'leukemia', 'leuven', 'leve', 'level', 'leven', 'levenbaum', 'lever', 'leverag', 'levi', 'levillag', 'levit', 'levon', 'levu', 'lewi', 'lewkowitz', 'lexington', 'lexus', 'lezzo', 'lga', 'lhasa', 'lhaso', 'liabil', 'liabl', 'liaison', 'liar', 'libat', 'libbi', 'liber', 'liberia', 'liberti', 'libido', 'liboria', 'librari', 'licenc', 'licens', 'liceri', 'liche', 'lichi', 'lichtenstein', 'lick', 'licken', 'licker', 'lickin', 'lickkitti', 'licorac', 'licorc', 'licorett', 'licoric', 'licoris', 'lid', 'lidia', 'lido', 'lie', 'liek', 'lieter', 'lieu', 'life', 'lifebit', 'lifeboat', 'lifecycl', 'lifeless', 'lifelik', 'lifelin', 'lifelong', 'lifesav', 'lifesourc', 'lifespan', 'lifestag', 'lifestay', 'lifestyl', 'lifetim', 'lifewat', 'lift', 'lifter', 'ligament', 'lighn', 'light', 'lightbulb', 'lighten', 'lighter', 'lightest', 'lighthead', 'lightheaded', 'lighthous', 'lightish', 'lightn', 'lightpost', 'lightweight', 'lignan', 'lignt', 'liguin', 'ligurian', 'liisa', 'liitl', 'lijjat', 'lik', 'likabl', 'like', 'likeabl', 'likelihood', 'liken', 'likewis', 'likk', 'likker', 'liks', 'likt', 'lil', 'lilac', 'lili', 'lilikoi', 'lilli', 'lima', 'limb', 'limbaugh', 'lime', 'limead', 'limey', 'limit', 'limitless', 'limmit', 'limon', 'limonad', 'limonata', 'limoncella', 'limoncello', 'limp', 'limpli', 'lin', 'lincet', 'linck', 'lincoln', 'linda', 'linden', 'lindor', 'lindt', 'line', 'lineag', 'lineal', 'lineari', 'linen', 'liner', 'lineup', 'linger', 'lingon', 'lingonberri', 'linguin', 'linguini', 'link', 'linkett', 'linki', 'linn', 'linnkett', 'linol', 'linolen', 'linoleum', 'linse', 'lint', 'lintel', 'linzer', 'liocoric', 'lion', 'liopic', 'lip', 'lipas', 'lipid', 'lipidologist', 'lipil', 'lipitor', 'lipman', 'lipo', 'lipolysi', 'lipophil', 'lipoprotein', 'lipsmack', 'lipton', 'liptor', 'liq', 'liqour', 'liquafe', 'liquamen', 'liquefi', 'liquer', 'liqueur', 'liqueurlik', 'liqufi', 'liquid', 'liquidi', 'liquifi', 'liquor', 'liquoric', 'liquorish', 'liquot', 'liquour', 'liqur', 'lisa', 'lish', 'list', 'listen', 'lister', 'listerin', 'listin', 'listless', 'listmania', 'lit', 'litani', 'litchi', 'lite', 'liter', 'literar', 'literari', 'literatur', 'litl', 'litll', 'litmus', 'litpon', 'litr', 'litt', 'littel', 'litter', 'litterbox', 'litterm', 'littermaid', 'littl', 'littlest', 'littleun', 'liva', 'livabl', 'live', 'liveli', 'liven', 'liver', 'liveri', 'liverpool', 'liverwurst', 'livesav', 'livestock', 'livi', 'livia', 'livin', 'livingroom', 'livingwithbug', 'liyaqat', 'lizano', 'lizaon', 'lizard', 'lizzi', 'ljubljana', 'lke', 'lkes', 'llasa', 'llave', 'llc', 'llike', 'llist', 'llm', 'llu', 'lna', 'loa', 'loacker', 'load', 'loadedwith', 'loaf', 'loal', 'loami', 'loan', 'loanword', 'loath', 'loathsom', 'loav', 'lobbi', 'lobbyist', 'lobe', 'lobster', 'loc', 'loca', 'local', 'locali', 'locat', 'locavor', 'loce', 'lock', 'locker', 'lockhe', 'loco', 'locoric', 'loct', 'lodg', 'lodon', 'loeffelbisquit', 'lof', 'loft', 'log', 'logan', 'loganberri', 'logcabinsyrup', 'logic', 'login', 'logist', 'logo', 'loin', 'loincloth', 'loiter', 'loiv', 'lok', 'lokum', 'lol', 'lola', 'loli', 'lolipop', 'lolli', 'lollicup', 'lollipo', 'lollipop', 'lollyphil', 'lollypop', 'loma', 'lomein', 'lomo', 'lond', 'london', 'lone', 'loner', 'lonesom', 'long', 'longbottom', 'longcoat', 'longer', 'longest', 'longev', 'longggg', 'longhair', 'longhorn', 'longibrachiatum', 'longish', 'longj', 'longmont', 'longshot', 'longstand', 'longterm', 'longtim', 'longum', 'lonnnnng', 'loo', 'loofah', 'look', 'lookout', 'loom', 'looney', 'looni', 'loook', 'looong', 'looonnngggg', 'loooog', 'loooong', 'looooong', 'looooooooooooooooooooooong', 'loooooooooooov', 'loooooooooov', 'looooooooov', 'looooooooovvvvvvv', 'looooooov', 'loooooov', 'looooov', 'looooovessssssss', 'looooovvvveee', 'loooov', 'looos', 'looov', 'loop', 'loopi', 'loos', 'looseleaf', 'loosen', 'looser', 'loosey', 'loosley', 'loosli', 'lop', 'lopez', 'lopsid', 'loquitor', 'lorann', 'lord', 'lordship', 'lore', 'lorenza', 'lorenzen', 'lorenzo', 'loret', 'lori', 'lorna', 'lorrain', 'lorri', 'los', 'lose', 'loser', 'loss', 'lost', 'lot', 'lotion', 'lotsa', 'lott', 'lotta', 'lotteri', 'lotus', 'lou', 'louann', 'loud', 'louden', 'louder', 'loui', 'louie', 'louis', 'louisana', 'louisiana', 'louisianna', 'louisvill', 'loung', 'lous', 'lousi', 'lovabl', 'love', 'loveabl', 'lovecraft', 'loveeee', 'lovein', 'lovejoy', 'lovejoyfit', 'loveli', 'loveliest', 'lover', 'loverss', 'lovey', 'lovin', 'lovlng', 'lovvvv', 'low', 'lowcarb', 'lowcarbfriend', 'lower', 'loweri', 'lowest', 'lowestcharg', 'lowfat', 'lowli', 'lowney', 'lowrey', 'lox', 'loxi', 'loyal', 'loyalti', 'lozeng', 'lpf', 'lqqk', 'lrger', 'lsbel', 'lsd', 'lst', 'lsu', 'ltd', 'lthat', 'ltr', 'lttle', 'luau', 'lube', 'lubeck', 'luben', 'lubi', 'lubravit', 'lubric', 'lucaf', 'lucaff', 'lucern', 'luch', 'luchbox', 'luci', 'lucia', 'lucian', 'lucid', 'lucida', 'lucini', 'lucious', 'luck', 'lucki', 'luckier', 'luckiest', 'luckili', 'lucqu', 'lucsious', 'luden', 'ludicr', 'lue', 'lug', 'luger', 'luggag', 'lui', 'luican', 'luke', 'luker', 'lukewarm', 'lull', 'lullabi', 'lulu', 'lumber', 'lumen', 'lumin', 'lump', 'lumpfish', 'lumpfre', 'lumpi', 'lumpier', 'luna', 'lunardi', 'lunch', 'lunchabl', 'lunchandbeyond', 'lunchbag', 'lunchbox', 'luncheon', 'lunchmeat', 'lunchtim', 'lunck', 'lund', 'lundberg', 'lundgren', 'lundt', 'lunestra', 'lung', 'lungo', 'luo', 'lupini', 'lupus', 'lure', 'lurk', 'lurpak', 'lurri', 'lus', 'luscious', 'lush', 'lust', 'luster', 'lustrous', 'lutheran', 'luuuuuv', 'luv', 'luve', 'luwak', 'lux', 'luxardo', 'luxat', 'luxembourg', 'luxuor', 'luxuri', 'luziann', 'lve', 'lvoe', 'lycasin', 'lyceum', 'lyche', 'lycopen', 'lydia', 'lye', 'lyle', 'lyme', 'lymph', 'lymphat', 'lymphocyt', 'lymphoma', 'lyn', 'lynch', 'lynchburg', 'lynda', 'lynn', 'lynnett', 'lyon', 'lyric', 'lysin', 'lysol', 'lysozym', 'maaan', 'maamoul', 'maarten', 'mabel', 'mabo', 'mac', 'maca', 'macabr', 'macadamia', 'macadamian', 'macademia', 'macaroini', 'macaroni', 'macaroon', 'macasur', 'macaw', 'maccha', 'macchiato', 'macchiatto', 'macchin', 'macciaroni', 'macdonald', 'macdonnald', 'mace', 'macer', 'mach', 'macha', 'machen', 'machet', 'machetto', 'machiato', 'machiatto', 'machin', 'machinc', 'machineri', 'macho', 'macht', 'maci', 'macinato', 'maciorski', 'mack', 'mackerel', 'mackintosh', 'macro', 'macrobar', 'macrobiot', 'macroni', 'mad', 'madagascar', 'madam', 'madarin', 'madden', 'maddog', 'made', 'madeenah', 'madeira', 'madela', 'madelein', 'madhava', 'madhavahoney', 'madhous', 'madison', 'madoff', 'madra', 'madwoman', 'mae', 'maestro', 'mafalda', 'mag', 'magarin', 'magazin', 'mage', 'magenta', 'maggi', 'maggot', 'maghreb', 'maghribi', 'magic', 'magma', 'magnesium', 'magnet', 'magnifi', 'magnific', 'magnifica', 'magnifici', 'magnit', 'magnolia', 'magnum', 'magnus', 'magor', 'magreta', 'magrit', 'mahal', 'mahalo', 'maharastra', 'mahatma', 'mahi', 'mahmet', 'mahogani', 'mahon', 'mahota', 'mai', 'maid', 'maiden', 'mail', 'mailbox', 'mailer', 'maill', 'mailman', 'mailord', 'main', 'mainland', 'mainlin', 'mainstay', 'mainsteam', 'mainstream', 'maintain', 'maintan', 'mainten', 'maisi', 'maitak', 'maitland', 'maiz', 'maiza', 'majest', 'majesti', 'majic', 'major', 'mak', 'makara', 'make', 'makeout', 'makeov', 'maker', 'makes', 'makeshift', 'maket', 'makeup', 'makhani', 'maki', 'makin', 'makinac', 'mako', 'makret', 'malabar', 'malabsorpt', 'malaco', 'maladi', 'malais', 'malamut', 'malaria', 'malaseb', 'malawi', 'malaysia', 'malaysian', 'malbec', 'malden', 'maldon', 'male', 'maleskey', 'malfunct', 'mali', 'malic', 'malici', 'malign', 'malinda', 'malipoo', 'malitol', 'mall', 'mallard', 'malleabl', 'mallet', 'mallo', 'mallomar', 'mallorca', 'mallow', 'malmsio', 'malmsteen', 'malnourish', 'malnutrit', 'malomar', 'malon', 'maloney', 'malt', 'maltatol', 'maltbal', 'malters', 'maltes', 'malti', 'maltipoo', 'maltipooshu', 'maltitol', 'malto', 'maltodestrin', 'maltodextrin', 'maltodextros', 'maltos', 'maltotrios', 'mam', 'mama', 'mamacita', 'mamad', 'mamaeun', 'mamakitti', 'maman', 'mamaroneck', 'mamba', 'mamma', 'mammal', 'mammogram', 'mamushka', 'man', 'mana', 'manaag', 'manadarin', 'manag', 'managebl', 'managemnt', 'manassa', 'manchego', 'manchest', 'manchita', 'mand', 'mandala', 'mandarin', 'mandat', 'mandatori', 'mandeltort', 'manderin', 'mandhel', 'mandi', 'mandolin', 'mandrian', 'mandrin', 'maneuv', 'mang', 'manga', 'mangan', 'manganes', 'mangans', 'manger', 'mangia', 'mangl', 'mango', 'mangosteen', 'mangosten', 'manhandl', 'manhattan', 'manhattanit', 'manhood', 'mani', 'mania', 'maniac', 'manic', 'manicotti', 'manicur', 'manifest', 'manifold', 'manioc', 'manipul', 'manischewitz', 'manitoba', 'manju', 'mankind', 'manmad', 'manna', 'manner', 'mannerless', 'mannheim', 'mannitol', 'mannnn', 'manoa', 'manoff', 'manon', 'mansion', 'mansmith', 'mantel', 'mantitoba', 'mantl', 'mantova', 'mantra', 'manuactur', 'manual', 'manufaacter', 'manufaction', 'manufactor', 'manufactori', 'manufactu', 'manufactur', 'manufacturer', 'manufacturor', 'manufanctur', 'manuka', 'manukar', 'manur', 'manx', 'mao', 'maofeng', 'map', 'mapelin', 'mapl', 'maplein', 'mapley', 'mar', 'marachino', 'maracuja', 'maragogyp', 'maragoya', 'marainara', 'maran', 'maranatha', 'marangu', 'marasca', 'maraschino', 'marathon', 'maraud', 'maravilloso', 'marbel', 'marbella', 'marbl', 'marc', 'marcaroni', 'marcella', 'march', 'marcia', 'marcipan', 'marco', 'marcona', 'marcus', 'mardi', 'mardol', 'mare', 'mareblu', 'margaret', 'margarin', 'margarita', 'margaritavill', 'margerin', 'marget', 'margin', 'margrita', 'mari', 'maria', 'mariag', 'mariand', 'mariani', 'mariann', 'marietta', 'marigold', 'marijuana', 'marin', 'marina', 'marinad', 'marinara', 'marinat', 'marindad', 'marinho', 'mario', 'marion', 'marionberri', 'marjarita', 'marjoram', 'mark', 'marker', 'market', 'marketecolog', 'marketplac', 'marketspic', 'markey', 'marki', 'markt', 'markup', 'marla', 'marlborough', 'marlen', 'marley', 'marlon', 'marmalad', 'marmit', 'marnatha', 'marnier', 'maroon', 'marrakesh', 'marri', 'marriag', 'marron', 'marrow', 'marsala', 'marshal', 'marshmallow', 'marshmallowi', 'marshmallowish', 'marshmeelow', 'marshmellow', 'marsipan', 'marsmallow', 'mart', 'marteen', 'martek', 'martelli', 'martha', 'marti', 'martial', 'martin', 'martinelli', 'martini', 'martyr', 'maruchan', 'maruchuan', 'marukan', 'marutomo', 'marvel', 'marvin', 'maryjan', 'maryland', 'marzano', 'marzapan', 'marzcapon', 'marzipan', 'mas', 'masa', 'masago', 'masala', 'masaman', 'mascara', 'mascarpon', 'mascavo', 'mascot', 'mascrapon', 'masculin', 'mash', 'masher', 'mashi', 'mashmallow', 'mashuga', 'mask', 'masnufactur', 'masochist', 'mason', 'masoor', 'masqu', 'masquerad', 'mass', 'massachusett', 'massag', 'massaman', 'masseri', 'massey', 'massiv', 'master', 'masteri', 'masterpack', 'masterpiec', 'mastic', 'mastiff', 'mastiti', 'mastodon', 'mastri', 'mastro', 'mat', 'matar', 'match', 'matcha', 'matchasourc', 'matchbook', 'matchdoctor', 'mate', 'matein', 'mater', 'materi', 'matern', 'math', 'mathew', 'mati', 'matic', 'matine', 'matiz', 'matouk', 'matricaria', 'matrix', 'matt', 'mattar', 'mattein', 'matter', 'matthew', 'matti', 'mattress', 'matur', 'maturin', 'matusiak', 'matzah', 'matzo', 'matzoah', 'matzot', 'mau', 'maui', 'maul', 'mauna', 'maunfactur', 'mauri', 'mauric', 'mauritania', 'mauritius', 'mauro', 'maven', 'maverick', 'max', 'maxhous', 'maxim', 'maximilian', 'maximum', 'maxin', 'maxshous', 'maxtra', 'maxwel', 'maxwellhous', 'maxx', 'may', 'maya', 'mayacama', 'mayan', 'mayb', 'mayer', 'mayham', 'mayhap', 'mayhem', 'maynard', 'mayo', 'mayonais', 'mayonaisey', 'mayonaiss', 'mayonnais', 'maypo', 'maytag', 'maze', 'mazel', 'mazetti', 'mazi', 'mazzer', 'mazzetti', 'mba', 'mberri', 'mbt', 'mcburbia', 'mcbutter', 'mcc', 'mccain', 'mccainn', 'mccall', 'mccallum', 'mccann', 'mccarti', 'mccormack', 'mccormic', 'mccormick', 'mccoy', 'mccutcheon', 'mcd', 'mcdaniel', 'mcdonald', 'mcdonough', 'mcdougal', 'mcdouggal', 'mcdowel', 'mcenro', 'mcfrugal', 'mcg', 'mcgillicutti', 'mcgovern', 'mcguffin', 'mchaiku', 'mcilhenni', 'mcilhenri', 'mckay', 'mckinney', 'mclarti', 'mclemor', 'mcmate', 'mcmeal', 'mcmenamin', 'mcneil', 'mcp', 'mcpherson', 'mcqueen', 'mcrowav', 'mcsteven', 'mct', 'mcuh', 'mcvay', 'mcviti', 'mdh', 'mdo', 'mdr', 'mds', 'mdx', 'mea', 'meaal', 'meaasur', 'mead', 'meadi', 'meadow', 'meager', 'meal', 'meali', 'mealli', 'mealmak', 'mealsav', 'mealtim', 'mealybug', 'mean', 'meanac', 'meaning', 'meaningless', 'meant', 'meantim', 'meantion', 'meanwhil', 'measl', 'measli', 'measur', 'meat', 'meatbal', 'meatfre', 'meati', 'meatier', 'meatish', 'meatless', 'meatloaf', 'meatloav', 'meatti', 'mecca', 'mech', 'mechan', 'med', 'meda', 'medaglia', 'medal', 'medallion', 'medecin', 'medela', 'medelco', 'media', 'mediam', 'median', 'mediat', 'medic', 'mediceney', 'medicianl', 'medicin', 'mediciney', 'medicini', 'medidicn', 'medieocr', 'mediev', 'medifast', 'medihoney', 'medina', 'mediocr', 'medit', 'meditaion', 'mediteranean', 'mediterranean', 'mediterranen', 'mediterranian', 'medium', 'mediun', 'mediunm', 'medjool', 'medley', 'medlin', 'medrich', 'meduim', 'mee', 'meee', 'meehan', 'meek', 'meet', 'meeta', 'meetha', 'meetz', 'mega', 'megabox', 'megabyt', 'megaglia', 'megalomart', 'megamart', 'megamob', 'megan', 'megasampl', 'megmet', 'meh', 'mehmet', 'mehr', 'mei', 'meijer', 'meiji', 'mein', 'meinen', 'meisj', 'meister', 'mejool', 'mejor', 'mekong', 'melamim', 'melamin', 'melancholi', 'melang', 'melanin', 'melanosporum', 'melatonin', 'melba', 'meld', 'melina', 'melinda', 'melipon', 'melisa', 'melissa', 'melita', 'melitt', 'melitta', 'melittiack', 'mellin', 'mellita', 'melllooooooow', 'mello', 'mellow', 'melodi', 'melon', 'meloney', 'melt', 'meltabl', 'meltdown', 'melter', 'melti', 'meltingmama', 'member', 'membership', 'membran', 'memento', 'memeri', 'memnto', 'memor', 'memorabilia', 'memori', 'memphi', 'men', 'menac', 'menadion', 'menard', 'menchan', 'mend', 'mendadion', 'mendicino', 'mengo', 'menier', 'meniton', 'menodion', 'menopaus', 'mensa', 'menstrual', 'menstruat', 'ment', 'mental', 'mentali', 'menth', 'mentha', 'menthol', 'mention', 'mento', 'mentor', 'menu', 'menus', 'meow', 'meowmi', 'meowmix', 'meowwww', 'mepal', 'merangu', 'merced', 'merch', 'merchadis', 'merchandis', 'merchant', 'merci', 'merciless', 'mercken', 'mercola', 'mercuri', 'mere', 'merengu', 'merest', 'meretrici', 'merg', 'merguez', 'meringu', 'merit', 'merito', 'meritori', 'merlo', 'merlot', 'mermaid', 'merp', 'merri', 'merrick', 'mesa', 'mesclun', 'mesh', 'mesi', 'mesiah', 'mesmer', 'meso', 'mesquit', 'mess', 'messag', 'messeng', 'messey', 'messi', 'messiah', 'messier', 'messinia', 'mestemach', 'mestermach', 'met', 'metab', 'metabisulfit', 'metabisulphit', 'metabol', 'metacam', 'metal', 'metamucil', 'metaphor', 'metaphys', 'metaplus', 'metasibulfit', 'mete', 'meter', 'meth', 'methabol', 'methan', 'methanol', 'methi', 'methimazol', 'methink', 'methion', 'methionin', 'method', 'methodolog', 'methow', 'methylcellulos', 'methysticum', 'meticul', 'metric', 'metro', 'metromint', 'metronidazol', 'metropoli', 'metropolitan', 'metrosexu', 'metrx', 'meusli', 'mew', 'mex', 'mexclum', 'mexgroc', 'mexicali', 'mexican', 'mexician', 'mexico', 'mexicok', 'mexigroc', 'mexin', 'meyenberg', 'meyenburg', 'meyer', 'meyerberg', 'mezzaluna', 'mezzo', 'mezzomix', 'mfg', 'mfgr', 'mfgs', 'mfr', 'mgement', 'mgo', 'mgr', 'mgs', 'mia', 'miami', 'mic', 'mica', 'mice', 'mich', 'michael', 'michaela', 'michaud', 'micheal', 'michel', 'michell', 'michigan', 'mickey', 'micorwav', 'micowav', 'micro', 'microb', 'microbead', 'microbi', 'microbiolog', 'microbrew', 'microclim', 'microfiltr', 'microfoam', 'microground', 'micromoistur', 'micron', 'micronutri', 'microorgan', 'microphon', 'microplan', 'microscop', 'microw', 'microwa', 'microwar', 'microwav', 'microwoven', 'mid', 'midafternoon', 'midday', 'middl', 'middleman', 'middletown', 'mideast', 'midel', 'midge', 'midget', 'midgnight', 'midland', 'midmorn', 'midnight', 'midnit', 'midol', 'midori', 'midrowav', 'midst', 'midsumm', 'midway', 'midwest', 'midwestern', 'midwif', 'midwint', 'midwiv', 'miel', 'mien', 'mif', 'miga', 'might', 'mighti', 'mightili', 'migion', 'mignion', 'mignon', 'migrain', 'migran', 'migrant', 'migrat', 'miguel', 'mik', 'mike', 'mikel', 'mikey', 'mil', 'milag', 'milan', 'milano', 'milca', 'milcreek', 'mild', 'milder', 'mildest', 'mildewi', 'mildi', 'mile', 'mileag', 'miley', 'milibar', 'miligram', 'milikthong', 'milinda', 'milita', 'militari', 'milk', 'milka', 'milkbon', 'milker', 'milkfat', 'milki', 'milkmaid', 'milkman', 'milkshak', 'milkyway', 'mill', 'millan', 'millennia', 'millennium', 'miller', 'millet', 'milligram', 'millilit', 'million', 'milliona', 'millionair', 'milliped', 'millisecond', 'millit', 'millki', 'milll', 'millonario', 'millston', 'millyard', 'milo', 'milquetoast', 'milton', 'milupa', 'milwauke', 'mimalist', 'mimi', 'mimic', 'mimick', 'mimolett', 'mimosa', 'min', 'mina', 'minarl', 'minatur', 'minc', 'mincemeat', 'mincement', 'mind', 'mindel', 'minden', 'mindesten', 'mindless', 'mine', 'miner', 'minerl', 'minerv', 'minesota', 'minestron', 'minestroni', 'ming', 'mingl', 'mini', 'miniatur', 'minifridg', 'minim', 'minimalist', 'minimum', 'minimus', 'minin', 'minion', 'minipocket', 'miniscul', 'minist', 'ministri', 'ministron', 'minit', 'minita', 'minits', 'minitur', 'miniwheat', 'mink', 'minn', 'minneapoli', 'minneola', 'minnesota', 'minni', 'minologu', 'minor', 'minpin', 'mint', 'minti', 'mintier', 'minto', 'mintu', 'minturn', 'minumum', 'minunt', 'minus', 'minuscul', 'minut', 'mir', 'mirabl', 'mirac', 'miracid', 'miracl', 'miraclegro', 'miracul', 'miraculin', 'miralax', 'mirch', 'mirchi', 'miri', 'miriani', 'miricl', 'mirin', 'mirror', 'mirth', 'mis', 'misadvertis', 'misc', 'miscalcul', 'miscarriag', 'miscellan', 'mischief', 'mischiev', 'mischkaffe', 'misconcept', 'miscreant', 'misdiagnos', 'miser', 'miseri', 'misfil', 'misfit', 'misfortun', 'misgiv', 'misguid', 'mishandl', 'mishap', 'mishima', 'misinform', 'misinterpret', 'misl', 'mislabel', 'mislabl', 'mislead', 'mismatch', 'misnom', 'miso', 'mispackag', 'misplac', 'mispres', 'mispress', 'misprint', 'mispublish', 'misread', 'misrepres', 'misrepresent', 'miss', 'missgiv', 'misshap', 'misshapen', 'missi', 'missil', 'mission', 'missionari', 'mississippi', 'missoula', 'missouri', 'missourian', 'missus', 'mist', 'mistak', 'mistaken', 'mistat', 'mister', 'misteri', 'misti', 'mistif', 'mistook', 'mistreat', 'misunderstand', 'misunderstood', 'misus', 'mitch', 'mitchel', 'mitchum', 'mite', 'miter', 'mitig', 'mitigat', 'mitochondria', 'mitro', 'mitsukan', 'mitsuwa', 'mitten', 'mitzi', 'mitzvah', 'miu', 'mix', 'mixabl', 'mixd', 'mixer', 'mixerm', 'mixibl', 'mixolog', 'mixrd', 'mixt', 'mixtur', 'mixup', 'mizakan', 'mizer', 'mizithra', 'mizkan', 'mizu', 'mizuki', 'mjk', 'mke', 'mkes', 'mkt', 'mlb', 'mlk', 'mllk', 'mls', 'mma', 'mmhg', 'mmm', 'mmmhhh', 'mmmm', 'mmmmm', 'mmmmmm', 'mmmmmmm', 'mmmmmmmm', 'mmmmmmmmm', 'mmmmmmmmmm', 'mmmmmmmmmmm', 'mmmmmmmmmmmm', 'mmmmmmmmmmmmm', 'mmmmmmmmmmmmmm', 'mmmmmmmmmmmmmmmdelish', 'mmmmmmmmmmmmmmmmmmmm', 'mmmuuyumm', 'mnake', 'mnc', 'mne', 'mnms', 'mnney', 'mnore', 'moan', 'mob', 'mobi', 'mobic', 'mobil', 'mobster', 'moca', 'mocaf', 'mocca', 'moch', 'mocha', 'mochaccino', 'mochachococrappacino', 'mochajava', 'mochi', 'mochiko', 'mock', 'mockeri', 'mocktail', 'mocrowav', 'mod', 'mode', 'model', 'modem', 'modena', 'modenaceti', 'modeno', 'moder', 'modern', 'modest', 'modesti', 'modesto', 'modicum', 'modif', 'modifi', 'modul', 'moe', 'moen', 'mofeletta', 'moh', 'moham', 'moi', 'moin', 'moist', 'moisten', 'moister', 'moistest', 'moistuiz', 'moistur', 'mojito', 'mojo', 'moka', 'mol', 'molan', 'molar', 'molas', 'molass', 'molassa', 'molassesi', 'mold', 'moldabl', 'moldavia', 'moldi', 'mole', 'molecubal', 'molecul', 'molecular', 'moleman', 'moley', 'moli', 'molicid', 'molina', 'molinari', 'molinillo', 'molino', 'moll', 'mollas', 'mollass', 'molli', 'molon', 'moloney', 'molotov', 'molt', 'molten', 'molto', 'mom', 'moma', 'moment', 'momentarili', 'momentum', 'momm', 'momma', 'momment', 'mommi', 'momo', 'mon', 'mona', 'monarch', 'monasteri', 'monavi', 'monchego', 'mond', 'mondaaay', 'monday', 'mondial', 'mondo', 'monetari', 'monetarili', 'money', 'moneybag', 'monggo', 'mongolian', 'mongut', 'monheis', 'monik', 'monin', 'monitor', 'monk', 'monkey', 'monki', 'mono', 'monoammonium', 'monocalcium', 'monocl', 'monocultivar', 'monocultur', 'monoflor', 'monogam', 'monoglycerid', 'monogram', 'monolith', 'mononitr', 'monopoli', 'monosat', 'monosatur', 'monosodium', 'monostear', 'monoton', 'monotoni', 'monounsatur', 'monsanto', 'monset', 'monsodium', 'monsoon', 'monster', 'monstros', 'monstrous', 'mont', 'montaign', 'montana', 'montebello', 'montecristo', 'montego', 'montepulciano', 'monterari', 'monterey', 'monteux', 'monteverdi', 'montevideo', 'montezuma', 'month', 'monthsi', 'monthwat', 'montmor', 'montreal', 'montros', 'monument', 'monzarella', 'monzi', 'moo', 'mooch', 'mood', 'moodi', 'moon', 'moonbat', 'moonlight', 'moonpi', 'moonshin', 'moooo', 'moor', 'moorjani', 'moos', 'mooshi', 'moot', 'moous', 'mop', 'mope', 'moppin', 'mor', 'morain', 'moral', 'moravian', 'morbid', 'more', 'morel', 'moreov', 'moreso', 'morfino', 'morga', 'morgada', 'morgan', 'mori', 'morimoto', 'morinin', 'morinu', 'morki', 'mormon', 'morn', 'mornflak', 'mornin', 'morningstar', 'moroccan', 'morocco', 'moroccon', 'moron', 'morph', 'morri', 'morrocco', 'morsal', 'morsel', 'mortagag', 'mortal', 'mortar', 'morter', 'mortgag', 'mortif', 'mortifi', 'morton', 'mos', 'mosbi', 'moscato', 'moscow', 'moseley', 'moser', 'mosit', 'mosquito', 'moss', 'most', 'moster', 'mostest', 'mosti', 'mostlli', 'mosto', 'mostur', 'mot', 'motabol', 'motel', 'moth', 'mothbal', 'mother', 'motherhood', 'motherland', 'motherlov', 'mothi', 'motif', 'motil', 'motion', 'motionless', 'motiv', 'motivati', 'motnh', 'moto', 'motor', 'motorcycl', 'motorhom', 'motrin', 'mott', 'mottl', 'motto', 'mouf', 'mougat', 'mouistur', 'mould', 'mouldi', 'moulin', 'mound', 'mount', 'mountain', 'mountainsid', 'mountaintop', 'mounth', 'mourish', 'mourn', 'mous', 'mouss', 'moutain', 'moutard', 'mouth', 'mouthfeel', 'mouthful', 'mouthi', 'mouthwash', 'mouthwat', 'movabl', 'move', 'movement', 'moveov', 'movi', 'moviego', 'mow', 'mower', 'mowg', 'moxi', 'mozambiqu', 'mozarella', 'mozart', 'mozerella', 'mozz', 'mozzarella', 'mozzerella', 'mpaa', 'mparat', 'mph', 'mrat', 'mre', 'mri', 'mroccan', 'mroe', 'mrs', 'mrsa', 'mrytl', 'msani', 'msb', 'msds', 'msg', 'msgmyth', 'msgs', 'mske', 'msm', 'msn', 'msnbc', 'msrp', 'mssachusett', 'mst', 'mth', 'mths', 'mtn', 'mtr', 'mts', 'mtv', 'muahahaha', 'muahh', 'muc', 'much', 'muchhh', 'muchi', 'muchless', 'mucho', 'mucinex', 'muck', 'mucosa', 'mucous', 'muct', 'mucus', 'mud', 'muddi', 'muddier', 'muddl', 'mudslid', 'mueller', 'muenster', 'muesli', 'mueslix', 'muessen', 'mufa', 'muffaletta', 'muffen', 'mufffin', 'muffi', 'muffin', 'muffl', 'muffun', 'mug', 'mugg', 'muggi', 'mugi', 'mugicha', 'muh', 'muhammrah', 'muhci', 'mui', 'muir', 'mujadara', 'mukashi', 'mukka', 'mukwa', 'mulberri', 'mulch', 'mulchi', 'mulder', 'mule', 'mulholland', 'muligatawni', 'muligrain', 'mulitpl', 'mulitpli', 'mull', 'mullein', 'multi', 'multiberri', 'multibl', 'multibran', 'multicarton', 'multicultur', 'multifasciatus', 'multigrain', 'multilay', 'multilevel', 'multin', 'multipack', 'multipak', 'multipl', 'multiplex', 'multipli', 'multipurpos', 'multiquick', 'multitud', 'multivend', 'multivit', 'multivitamin', 'multupl', 'mum', 'mumbai', 'mumbl', 'mumbo', 'mummum', 'mumum', 'muna', 'munch', 'munchabl', 'muncher', 'munchi', 'munchkin', 'muncho', 'mundan', 'mundet', 'mundt', 'mung', 'munich', 'municip', 'munsterland', 'murchi', 'murcia', 'murcian', 'murder', 'muriel', 'murk', 'murki', 'murkier', 'murmur', 'murphi', 'murpi', 'murray', 'mus', 'muscadin', 'muscat', 'muscavado', 'muscavo', 'muscl', 'muscovado', 'muscular', 'musculatur', 'muse', 'muselix', 'museum', 'musffin', 'mush', 'mushi', 'mushier', 'mushlik', 'mushroom', 'mushroonm', 'music', 'musician', 'musicianship', 'musik', 'musk', 'musket', 'muskett', 'muski', 'muskier', 'musli', 'muslim', 'muslin', 'musroom', 'muss', 'mussel', 'musselman', 'mussi', 'mussini', 'must', 'musta', 'mustach', 'mustafa', 'mustand', 'mustapha', 'mustard', 'mustardi', 'mustart', 'muster', 'musti', 'mut', 'mutan', 'mutant', 'mutat', 'mutch', 'mute', 'mutil', 'mutini', 'mutlipl', 'mutt', 'mutter', 'mutti', 'mutton', 'muuuuch', 'muy', 'mvp', 'mvr', 'myalgic', 'mycaf', 'mych', 'mycodex', 'mycup', 'myeloma', 'myer', 'myeslf', 'mylanta', 'mylar', 'mylicon', 'mymm', 'myocardi', 'myojo', 'myoplex', 'mypod', 'myriad', 'myrt', 'myrtl', 'myseri', 'mysteri', 'mystic', 'mystifi', 'myt', 'myth', 'mythic', 'naa', 'naaa', 'naan', 'nab', 'nabeyakiudon', 'nabisco', 'nabiso', 'nabob', 'nach', 'nacho', 'nacl', 'nacooche', 'nad', 'nada', 'nadda', 'nader', 'nadin', 'nag', 'naga', 'nagel', 'nagoya', 'nah', 'nahezu', 'nai', 'nail', 'nainamo', 'nairn', 'naiv', 'naiviti', 'najjar', 'nake', 'nalgen', 'nalley', 'nam', 'nama', 'namak', 'namast', 'nambi', 'name', 'namesak', 'namesd', 'nami', 'nan', 'nana', 'nanami', 'nanc', 'nanci', 'nando', 'nann', 'nanner', 'nanni', 'nano', 'nanoparticl', 'nantucket', 'nap', 'napa', 'napel', 'napkin', 'napl', 'napolean', 'napoleon', 'napoletano', 'napoli', 'napolitain', 'napolitano', 'nappa', 'narciss', 'narcot', 'nari', 'narnia', 'narnian', 'narrat', 'narrow', 'narrowli', 'nasa', 'nasal', 'nascar', 'naseat', 'nashvill', 'nasi', 'nasonex', 'nassau', 'nasti', 'nastiest', 'nasturtium', 'natali', 'natar', 'natasha', 'natch', 'natchez', 'nathan', 'nation', 'nationa', 'nationwid', 'nativ', 'nativa', 'natrual', 'natsukashii', 'natsum', 'nattokinas', 'natual', 'natuar', 'natuarl', 'natur', 'natura', 'naturad', 'naturali', 'naturalnew', 'naturalsweet', 'naturapath', 'naturefresh', 'naturel', 'natureon', 'naturespath', 'naturopath', 'naucho', 'naueseous', 'naught', 'naughti', 'nausea', 'nauseam', 'nauseat', 'nauseau', 'nauseous', 'nausia', 'nausiat', 'nausious', 'nautic', 'naval', 'navarino', 'navel', 'navi', 'navig', 'navita', 'navratan', 'naw', 'nawracaj', 'nay', 'nayonais', 'naysay', 'nazi', 'nba', 'ndigest', 'neah', 'neanderth', 'neapolitan', 'near', 'nearbi', 'nearer', 'nearest', 'neat', 'neater', 'neavoli', 'nebari', 'nebraska', 'nebul', 'neccessari', 'necco', 'neces', 'necesari', 'necess', 'necessari', 'necessarili', 'necessit', 'neck', 'necklac', 'necrot', 'necta', 'nectar', 'nectarin', 'nectasweet', 'necter', 'nectr', 'ned', 'nedessarili', 'nee', 'need', 'needen', 'needi', 'needl', 'needless', 'neeed', 'neelam', 'neeless', 'neem', 'neena', 'neg', 'negat', 'negitav', 'neglect', 'neglibl', 'neglig', 'negoti', 'negri', 'negril', 'nehi', 'neic', 'neigborhood', 'neigborhoor', 'neighbor', 'neighborhood', 'neighbour', 'neighbourhood', 'neighor', 'neill', 'neither', 'nejm', 'nekkid', 'nell', 'nelli', 'nelson', 'nemesi', 'neo', 'neocat', 'neoguri', 'neolamprologus', 'neolith', 'neon', 'neophyt', 'neoplasia', 'neopolitan', 'neopren', 'neosur', 'nepa', 'nepal', 'nepales', 'nephew', 'nephi', 'nepot', 'neptun', 'nequik', 'nerd', 'nerdi', 'nere', 'nermal', 'nerv', 'nervana', 'nervona', 'nervous', 'nescaf', 'nescf', 'nesco', 'neslo', 'nespresso', 'nesquick', 'nesquik', 'ness', 'nesspresso', 'nest', 'nestea', 'nestl', 'nestlet', 'nestley', 'nestum', 'net', 'netgroc', 'netherland', 'netral', 'netrit', 'nettl', 'netto', 'nettuno', 'netwon', 'network', 'neubrand', 'neuhaus', 'neuman', 'neuro', 'neurofuzzi', 'neurolog', 'neurologist', 'neuropathi', 'neurosci', 'neurosurgeon', 'neurot', 'neurotoxin', 'neurotransmitt', 'neusk', 'neuter', 'neutral', 'neutron', 'neuva', 'neva', 'nevada', 'never', 'neverend', 'nevermind', 'nevertheless', 'new', 'newark', 'newbi', 'newborn', 'newburg', 'newcastl', 'newcom', 'newdsay', 'newer', 'newest', 'newf', 'newfound', 'newfoundland', 'newleyw', 'newli', 'newlyw', 'newman', 'newmann', 'newmansownorgan', 'newmen', 'newport', 'news', 'newslett', 'newspap', 'newspeak', 'newsprint', 'newsstand', 'newsweek', 'newsworthi', 'newt', 'newton', 'nex', 'nexium', 'next', 'nextstep', 'nfl', 'ngapi', 'ngredient', 'nguan', 'nguyen', 'ngyuen', 'niacin', 'niacinamid', 'niacinimid', 'niagara', 'niaspan', 'nib', 'nibbl', 'nibbler', 'nibbley', 'nic', 'nicaragua', 'nicaraguan', 'nicarauguan', 'nice', 'niceah', 'nicer', 'nicest', 'nich', 'nichola', 'nicht', 'nick', 'nickel', 'nicki', 'nickl', 'nicknack', 'nicknam', 'nicois', 'nicotin', 'nicu', 'nido', 'nie', 'niec', 'niederegg', 'nieghbor', 'nielsen', 'niether', 'nifti', 'nigari', 'nigel', 'nigella', 'niger', 'nigeria', 'niggl', 'night', 'nightcap', 'nighter', 'nightfal', 'nightim', 'nightmar', 'nightmarish', 'nightstand', 'nighttim', 'nigiri', 'nigri', 'nigrum', 'nih', 'nihgt', 'nihongoga', 'nikelodeon', 'nikki', 'nikuman', 'nil', 'nile', 'nill', 'nilla', 'nimbl', 'nina', 'nine', 'nineteen', 'nineteenth', 'nineti', 'ninetieth', 'ninja', 'nintendo', 'ninth', 'nip', 'nipe', 'nipper', 'nippl', 'niro', 'nirvana', 'nishiki', 'nissan', 'nissin', 'nit', 'nitch', 'nite', 'niteclub', 'nitpick', 'nitrat', 'nitric', 'nitrit', 'nitrogen', 'nitrous', 'nivea', 'niver', 'nix', 'nizzl', 'niçois', 'njoy', 'nline', 'nmr', 'nnd', 'nnoth', 'noah', 'nob', 'nobb', 'nobel', 'nobl', 'nobless', 'nobli', 'nobodi', 'nocarb', 'nocciolata', 'nocella', 'nocellara', 'noci', 'nod', 'noddl', 'nodoz', 'nodul', 'noe', 'nog', 'noggin', 'noh', 'noir', 'nois', 'noisett', 'noisey', 'noisi', 'noisili', 'noit', 'nolong', 'nom', 'nomin', 'nomine', 'nomshim', 'non', 'nonalcohol', 'nonbar', 'nonchal', 'noncommit', 'nonconsci', 'nondairi', 'nondenomin', 'nondescript', 'nondistict', 'nondistinct', 'none', 'nonetheless', 'nonexist', 'nonfat', 'nonfict', 'nong', 'nongf', 'nongshim', 'noni', 'nonimiss', 'nonna', 'nonni', 'nonorgan', 'nonpereil', 'nonperish', 'nonpharmaceut', 'nonpluss', 'nonreturn', 'nonsens', 'nonspecif', 'nonstart', 'nonstick', 'nonstop', 'nonsweet', 'nonsyrupi', 'nonterri', 'nontheless', 'nonviabl', 'nood', 'noodl', 'nook', 'nookl', 'noon', 'noonday', 'nooodl', 'noooo', 'nop', 'nope', 'noper', 'nora', 'nordic', 'nordstrom', 'norfolk', 'nori', 'norm', 'normal', 'normalci', 'norman', 'normandi', 'nors', 'nort', 'north', 'northeast', 'northeastern', 'norther', 'northern', 'northland', 'northwest', 'northwestern', 'northwood', 'norton', 'nortori', 'norway', 'norwegian', 'norweigan', 'norwich', 'nos', 'nose', 'noseble', 'nosey', 'nosh', 'nosher', 'nostaglia', 'nostalg', 'nostalgia', 'nostra', 'nostril', 'notabl', 'notat', 'notch', 'notciabl', 'note', 'noteabl', 'notec', 'notepad', 'noteworthi', 'notfal', 'noth', 'nothealthi', 'nother', 'nothin', 'nothing', 'nothng', 'notic', 'notif', 'notifi', 'notifii', 'notion', 'notori', 'nottttttttttttttttt', 'notwithstand', 'nougat', 'nough', 'noughti', 'nourish', 'nourishedkitchen', 'nourritur', 'nov', 'nova', 'novalist', 'novato', 'novel', 'novelti', 'novemb', 'novic', 'novo', 'novoandina', 'novus', 'now', 'nowaday', 'noway', 'nowday', 'nowher', 'noxious', 'nozzl', 'noël', 'npr', 'nrc', 'nrg', 'nrver', 'nsa', 'nsaid', 'nthing', 'ntingw', 'nto', 'ntrient', 'ntwo', 'nuala', 'nuanc', 'nub', 'nubbi', 'nubbin', 'nuberg', 'nuclear', 'nucleus', 'nudg', 'nuditi', 'nuehaus', 'nuesk', 'nueva', 'nuevo', 'nuf', 'nuff', 'nugat', 'nuget', 'nugget', 'nuggett', 'nugo', 'nui', 'nuisanc', 'nuke', 'nuker', 'null', 'nullifi', 'nullmey', 'num', 'numb', 'number', 'numer', 'numi', 'nummi', 'nummmmmmi', 'nun', 'nunatur', 'nunez', 'nuoc', 'nupro', 'nur', 'nurberg', 'nurd', 'nuremberg', 'nuremburg', 'nurish', 'nurit', 'nurnberg', 'nurs', 'nurser', 'nurseri', 'nursett', 'nurtiti', 'nurtri', 'nurtur', 'nussini', 'nusspli', 'nust', 'nustevia', 'nut', 'nutbar', 'nutcrack', 'nutec', 'nutella', 'nuthin', 'nuti', 'nutic', 'nution', 'nutirci', 'nutirit', 'nutit', 'nutiti', 'nutiv', 'nutiva', 'nutivia', 'nutlett', 'nutlik', 'nutmeat', 'nutmeg', 'nutmilk', 'nutr', 'nutra', 'nutrag', 'nutragrain', 'nutrajoint', 'nutramigen', 'nutrasweet', 'nutreat', 'nutren', 'nutri', 'nutric', 'nutrici', 'nutricti', 'nutrid', 'nutrient', 'nutrigrain', 'nutrimil', 'nutrion', 'nutriot', 'nutrious', 'nutrisea', 'nutrisenti', 'nutrish', 'nutrishioust', 'nutrisoda', 'nutrisweet', 'nutrisystem', 'nutrit', 'nutriti', 'nutritian', 'nutritin', 'nutritio', 'nutritionalist', 'nutritiondata', 'nutritionist', 'nutritionless', 'nutriton', 'nutritri', 'nutritu', 'nutritus', 'nutrium', 'nutro', 'nutrtion', 'nutrut', 'nutshel', 'nutso', 'nutsonlin', 'nutt', 'nutter', 'nutterbutt', 'nutthin', 'nutti', 'nuttier', 'nuvet', 'nuvoloso', 'nuwara', 'nuyorican', 'nver', 'nybon', 'nyc', 'nyla', 'nylabon', 'nylaknot', 'nylar', 'nylon', 'nymph', 'nyon', 'nyquil', 'nys', 'nystatin', 'nytim', 'nyu', 'nyugen', 'oahu', 'oak', 'oakbrook', 'oaki', 'oasi', 'oat', 'oatam', 'oatbran', 'oatcak', 'oati', 'oatier', 'oatmeal', 'oatmeali', 'obama', 'obedi', 'obeis', 'oberbi', 'oberlin', 'oberto', 'obes', 'obey', 'obgyn', 'obi', 'obispo', 'obit', 'object', 'objection', 'oblig', 'obligatori', 'obliter', 'oblivi', 'oblivion', 'oblong', 'obnoxi', 'obscen', 'obscr', 'obscur', 'obsequi', 'observ', 'obsess', 'obsidian', 'obsolesc', 'obsolet', 'obsolut', 'obstacl', 'obstruct', 'obtain', 'obtrus', 'obtus', 'obvers', 'obviosli', 'obviosuli', 'obviouli', 'obvious', 'obviousl', 'obviouslli', 'obvisouli', 'ocas', 'ocass', 'ocassion', 'occais', 'occas', 'occasin', 'occasion', 'occasionali', 'occass', 'occassion', 'occassionali', 'occat', 'occhi', 'occitan', 'occult', 'occultist', 'occup', 'occupi', 'occuppi', 'occur', 'occurr', 'ocd', 'ocean', 'oceanfish', 'oceania', 'ocffe', 'och', 'ocha', 'ochazukemono', 'ocho', 'oclock', 'ocmpani', 'ocone', 'oct', 'octan', 'octapus', 'octav', 'octavia', 'octi', 'octob', 'octoberfest', 'octopi', 'octopus', 'octoupus', 'ocumar', 'ocur', 'odd', 'oddbal', 'oddest', 'odditi', 'oddlot', 'odea', 'odens', 'oder', 'odey', 'odi', 'odlum', 'odor', 'odorless', 'odour', 'odwalla', 'odyssey', 'oelek', 'oerder', 'oesophagus', 'oestrogen', 'oetkar', 'oetker', 'oeuvr', 'of', 'ofay', 'ofbang', 'ofc', 'ofcours', 'off', 'offal', 'offbeat', 'offen', 'offenc', 'offend', 'offens', 'offer', 'offf', 'offhand', 'offic', 'offici', 'officianado', 'officinado', 'officinal', 'officinali', 'officionado', 'offput', 'offset', 'offshoot', 'offshor', 'offspr', 'ofic', 'oficinali', 'ofr', 'ofsever', 'ofsit', 'often', 'oftentim', 'ofter', 'oftern', 'oftot', 'ogan', 'ogden', 'ogo', 'ogr', 'ogran', 'ohao', 'oher', 'ohh', 'ohhh', 'ohhhh', 'ohhhhh', 'ohhhhhh', 'ohio', 'ohioan', 'ohter', 'ohyeah', 'oil', 'oili', 'oilier', 'oilv', 'oily', 'oinion', 'oink', 'ointment', 'oitcher', 'oiv', 'oj', 'ojai', 'okaaaayyy', 'okara', 'okay', 'okc', 'okey', 'okinawa', 'oklahoma', 'okonomi', 'okonomiyaki', 'okra', 'oktava', 'oktoberfest', 'ola', 'olba', 'old', 'older', 'oldest', 'oldfashion', 'oldi', 'oldtim', 'ole', 'oleic', 'olenka', 'oleocanth', 'oleoresin', 'olfactori', 'oligofructos', 'oligosaccharid', 'olio', 'oliv', 'olivella', 'oliven', 'olivey', 'olivi', 'olivia', 'oliviero', 'olivio', 'olld', 'olsen', 'olvatin', 'olvi', 'olymp', 'olympia', 'olympus', 'oma', 'omaha', 'omami', 'omanhen', 'omar', 'omega', 'omelet', 'omelett', 'omen', 'omg', 'omgood', 'omiss', 'omit', 'omlet', 'omlett', 'omnipres', 'omnivor', 'omodetto', 'omplet', 'on', 'onboard', 'onc', 'oncentr', 'onda', 'ondcp', 'one', 'onedg', 'onei', 'onem', 'oneon', 'oner', 'onerees', 'oneself', 'onesi', 'onezip', 'ongo', 'oni', 'onigiri', 'oniion', 'onion', 'onioni', 'onlin', 'onlinel', 'onn', 'ono', 'onsal', 'onset', 'onslaught', 'onstag', 'ont', 'ontario', 'ontim', 'onto', 'ontop', 'onward', 'onyx', 'oo', 'ooba', 'oober', 'oodl', 'ooen', 'ooey', 'oof', 'ooffe', 'ooh', 'oohh', 'oold', 'ooliv', 'oolong', 'oolor', 'oompf', 'oomph', 'oomplet', 'ooo', 'oooey', 'oooh', 'ooohhh', 'oookbook', 'ooomph', 'ooooh', 'ooooooh', 'oooop', 'ooop', 'oop', 'oopen', 'oor', 'oothu', 'oould', 'oout', 'ooz', 'op', 'opa', 'opac', 'opal', 'opaqu', 'ope', 'opelika', 'open', 'opend', 'openen', 'openend', 'oper', 'opera', 'operetta', 'ophelia', 'opi', 'opinin', 'opinion', 'opinon', 'opion', 'opium', 'opjc', 'oplika', 'opn', 'opnen', 'opnion', 'opon', 'opos', 'oppertun', 'oppinion', 'oppisit', 'oppoertun', 'opportun', 'opportunist', 'oppos', 'opposit', 'oppposit', 'oppress', 'oppressor', 'oprah', 'opt', 'optagest', 'optic', 'optim', 'optima', 'optimist', 'optimum', 'option', 'optionfor', 'optomist', 'opul', 'orac', 'orag', 'oragg', 'oragn', 'orajel', 'oral', 'oran', 'orang', 'orange', 'orangead', 'orangett', 'orangey', 'orangi', 'orangina', 'orangish', 'orb', 'orbit', 'orca', 'orchard', 'orchestra', 'orchid', 'ord', 'ordeal', 'order', 'orderd', 'ordererd', 'ordianari', 'ordinari', 'ordinarili', 'ore', 'orecchiett', 'ored', 'oregano', 'oregon', 'oregonian', 'oregonzola', 'oreo', 'orer', 'orfarm', 'org', 'orgain', 'orgainc', 'organ', 'organc', 'organdi', 'organic', 'organicgroceryd', 'organicsyrup', 'organicvill', 'organik', 'organisc', 'organix', 'organiz', 'organza', 'orgasm', 'orgeat', 'orgin', 'orgini', 'orgnaic', 'orgran', 'oric', 'orient', 'orig', 'origami', 'origianl', 'origin', 'original', 'originali', 'origini', 'origion', 'orign', 'origni', 'orihibit', 'orijen', 'oringin', 'orinin', 'orkney', 'orlando', 'orlean', 'orm', 'ornament', 'ornat', 'oro', 'orphan', 'orr', 'ortega', 'ortho', 'orthodint', 'orthodox', 'orthoped', 'ortiz', 'orvil', 'orvill', 'orvll', 'oryza', 'orzo', 'osaka', 'osama', 'oscar', 'oscuro', 'ose', 'osem', 'osg', 'osh', 'oskri', 'osler', 'oslo', 'osmanthus', 'osmosi', 'ossetra', 'ostens', 'osteoarthr', 'osteoarthri', 'osteoporosi', 'oster', 'ostrich', 'ostrim', 'osu', 'oswego', 'otb', 'otc', 'otehr', 'oter', 'oth', 'other', 'otheris', 'otherway', 'otherwis', 'otherworld', 'otho', 'othr', 'oti', 'otoh', 'ottawa', 'otter', 'otto', 'ottoman', 'otw', 'ouch', 'oud', 'ouf', 'ought', 'oughta', 'oughtta', 'ouija', 'ouit', 'ounc', 'ouncn', 'ourself', 'oustand', 'oustsid', 'out', 'outa', 'outag', 'outand', 'outback', 'outbreak', 'outbuild', 'outclass', 'outcom', 'outdat', 'outdid', 'outdo', 'outdon', 'outdoor', 'outdoorsi', 'outdoorsman', 'outdrink', 'outer', 'outermost', 'outfit', 'outfitt', 'outgrew', 'outgrow', 'outgrown', 'outhous', 'outing', 'outlandish', 'outlast', 'outlaw', 'outlet', 'outlier', 'outlin', 'outlook', 'outnumb', 'outpac', 'outperform', 'outpow', 'output', 'outrag', 'outragi', 'outreag', 'outright', 'outset', 'outshin', 'outsid', 'outskirt', 'outsmart', 'outsourc', 'outstand', 'outta', 'outtak', 'outward', 'outweigh', 'outweight', 'outwiegh', 'outwit', 'ouvr', 'oval', 'ovalbumin', 'ovaltin', 'ovari', 'ovarian', 'ovat', 'ovcer', 'ove', 'oven', 'over', 'overacid', 'overact', 'overadvertis', 'overal', 'overback', 'overbak', 'overbear', 'overbi', 'overblown', 'overboard', 'overboil', 'overbrew', 'overbrown', 'overbuy', 'overcaffien', 'overcam', 'overcast', 'overcharg', 'overclock', 'overcom', 'overcompens', 'overconsumpt', 'overcook', 'overcrowd', 'overdid', 'overdo', 'overdon', 'overdos', 'overdr', 'overdu', 'overeat', 'overexagger', 'overf', 'overfe', 'overfeed', 'overfiend', 'overfil', 'overflavor', 'overflow', 'overful', 'overgroom', 'overgrowth', 'overh', 'overhaul', 'overhead', 'overhwelm', 'overinduc', 'overindulg', 'overjoy', 'overkil', 'overknead', 'overland', 'overlap', 'overlay', 'overload', 'overlook', 'overmed', 'overmix', 'overmuch', 'overnight', 'overnit', 'overpackag', 'overpaid', 'overpay', 'overplay', 'overpour', 'overpow', 'overpr', 'overpric', 'overprocess', 'overproduc', 'overproduct', 'overprun', 'overpul', 'overpump', 'overr', 'overrid', 'overridden', 'overroast', 'overrun', 'overs', 'oversalt', 'oversatur', 'overse', 'oversea', 'overseason', 'oversel', 'oversensit', 'overshadow', 'oversight', 'overspend', 'overst', 'overstat', 'oversteep', 'overstep', 'overstew', 'overstock', 'oversuppli', 'oversweet', 'oversweeten', 'overt', 'overtak', 'overtast', 'overther', 'overthink', 'overtim', 'overton', 'overtook', 'overturn', 'overus', 'overview', 'overwat', 'overweight', 'overwhealm', 'overwhelem', 'overwhelimg', 'overwhelm', 'overwhelmi', 'overwhelmv', 'overwrap', 'overzeal', 'ovesea', 'ovo', 'ovomucin', 'ovomucoid', 'ovul', 'owe', 'owen', 'owl', 'own', 'owner', 'ownership', 'oxal', 'oxbo', 'oxford', 'oxid', 'oxidaz', 'oxnard', 'oxo', 'oxyclean', 'oxygen', 'oxymoron', 'oyster', 'oz', 'ozark', 'ozarka', 'ozbo', 'ozmor', 'pac', 'pacakag', 'pacakg', 'pace', 'pacif', 'pacifi', 'pack', 'packabl', 'packag', 'packagin', 'packeag', 'packeg', 'packer', 'packet', 'packett', 'packg', 'packo', 'packqag', 'paco', 'pacoima', 'pact', 'pad', 'padano', 'paddi', 'paddl', 'padfilt', 'padlock', 'paella', 'paesano', 'page', 'pagoo', 'pai', 'paia', 'paid', 'paig', 'pail', 'paill', 'pain', 'painkil', 'painless', 'painstak', 'paint', 'paintbrush', 'painter', 'pair', 'paisleymonsoon', 'pajama', 'pak', 'pakag', 'pake', 'pakistan', 'pakistani', 'pakora', 'pal', 'palabok', 'palac', 'palacio', 'paladar', 'palak', 'palat', 'palatt', 'palav', 'pale', 'paleo', 'paler', 'palermo', 'palestin', 'palestinian', 'palet', 'paleta', 'palett', 'paleybar', 'palit', 'palitana', 'pallat', 'pallet', 'pallett', 'pallid', 'pallida', 'pallit', 'palm', 'palma', 'palmer', 'palmeri', 'palmetto', 'palnter', 'palo', 'paloma', 'palpabl', 'palpit', 'palput', 'palsi', 'paltinum', 'paltri', 'pam', 'pamala', 'pambi', 'pamel', 'pamela', 'pamelasproduct', 'pamesan', 'pamper', 'pamphlet', 'pamplet', 'pamula', 'pan', 'panacea', 'panama', 'panamanian', 'panang', 'panarello', 'panason', 'panax', 'pancak', 'pancetta', 'pancit', 'pancka', 'pancrea', 'pancreaitus', 'pancreat', 'panda', 'pandit', 'pandoro', 'pane', 'paneer', 'panel', 'panera', 'panetton', 'panfri', 'pang', 'panhandl', 'panic', 'panick', 'panicki', 'panini', 'pankcak', 'panko', 'panna', 'pannetonn', 'panni', 'pannini', 'panola', 'panopli', 'panorama', 'panrti', 'pant', 'pantheon', 'panther', 'panthothen', 'pantothen', 'pantri', 'panwich', 'pao', 'paola', 'paolo', 'pap', 'papa', 'papad', 'papadam', 'papadum', 'papardell', 'paparika', 'papaya', 'paper', 'paperback', 'paperbag', 'paperboard', 'paperi', 'paperish', 'paperweight', 'paperwork', 'papillio', 'papillion', 'papilloma', 'papillon', 'pappadam', 'pappap', 'pappermint', 'pappi', 'paprik', 'paprika', 'papua', 'par', 'para', 'paraben', 'parad', 'paradis', 'paradiso', 'paraffin', 'paragon', 'paragraph', 'paraguay', 'parallel', 'paralyz', 'paramet', 'paramount', 'parampara', 'paranoia', 'paranoid', 'paraphernalia', 'paraphras', 'parasit', 'parasitolog', 'paratha', 'paratroop', 'parboil', 'parcel', 'parch', 'parchment', 'pardon', 'pare', 'pareil', 'parent', 'parenthes', 'paresan', 'parev', 'parfait', 'pari', 'paricular', 'parish', 'parisian', 'parisien', 'park', 'parker', 'parkway', 'parley', 'parlor', 'parm', 'parma', 'parmagiana', 'parmagianno', 'parmagiano', 'parmasaen', 'parmasan', 'parmasean', 'parmesan', 'parmesano', 'parmesean', 'parmesian', 'parmeson', 'parmigiana', 'parmigianno', 'parmigiano', 'parmsan', 'parodi', 'parroquet', 'parrot', 'pars', 'parsec', 'parsley', 'parsnip', 'parson', 'part', 'partak', 'partaken', 'partcular', 'parthenon', 'parti', 'partial', 'partic', 'particip', 'particl', 'particluar', 'particuar', 'particul', 'particulalr', 'particular', 'particulari', 'particularili', 'particullari', 'partit', 'partner', 'partnership', 'partook', 'partum', 'partway', 'parv', 'pashofa', 'paskag', 'paskesz', 'paso', 'pasqual', 'pasquini', 'pass', 'passabl', 'passag', 'passalacqua', 'passata', 'passeng', 'passion', 'passionfruit', 'passiontini', 'passiv', 'passov', 'past', 'pasta', 'pastachees', 'pastachio', 'pastamia', 'pastariso', 'pastatut', 'pastel', 'pasteri', 'pasteur', 'pasti', 'pasticci', 'pasticcio', 'pastich', 'pasticierra', 'pastill', 'pastina', 'pastir', 'pastiso', 'pastrami', 'pastri', 'pastuer', 'pastur', 'pat', 'patak', 'patch', 'patchi', 'patchwork', 'pate', 'patek', 'patella', 'patent', 'patern', 'paterson', 'path', 'pathet', 'pathmark', 'pathogen', 'pathologist', 'pati', 'paticular', 'patienc', 'patient', 'patina', 'patinkin', 'patio', 'patisseri', 'pato', 'patooi', 'patricia', 'patrician', 'patrick', 'patriot', 'patrol', 'patron', 'patroness', 'patsi', 'patt', 'patten', 'pattern', 'patti', 'patton', 'pau', 'paul', 'paula', 'paulin', 'paus', 'pav', 'pavement', 'pavesini', 'pavilion', 'pavley', 'pavlov', 'pavlovian', 'pavoni', 'paw', 'pawn', 'pawsit', 'pax', 'pay', 'paycheck', 'payday', 'paydirt', 'payless', 'paymast', 'payment', 'payn', 'payoff', 'paypal', 'payrol', 'pbj', 'pbs', 'pcb', 'pcbs', 'pcc', 'pckg', 'pcoketbook', 'pcos', 'pcp', 'pcs', 'pct', 'pdq', 'pds', 'pdv', 'pea', 'peaberri', 'peac', 'peaceful', 'peacework', 'peach', 'peachi', 'peacrisp', 'peak', 'peal', 'peantur', 'peantus', 'peanut', 'peanutbutt', 'peanuti', 'peanutti', 'peapl', 'peapod', 'pear', 'peari', 'pearl', 'pearland', 'pearlesc', 'pearson', 'peasant', 'peasi', 'peat', 'peatmoss', 'peatnut', 'peaunt', 'pebbl', 'peber', 'pecan', 'peck', 'peckish', 'pecorino', 'pectin', 'pecular', 'peculiar', 'ped', 'peda', 'pedal', 'pedant', 'peddl', 'pedest', 'pedestrian', 'pedialit', 'pedialyt', 'pediasur', 'pediatr', 'pediatrician', 'pediatrit', 'pedigre', 'peditirician', 'pedro', 'pee', 'peed', 'peeerrrfect', 'peek', 'peekapoo', 'peel', 'peelu', 'peep', 'peepad', 'peer', 'peerless', 'peet', 'peev', 'peewe', 'pefect', 'pefer', 'pefrect', 'peg', 'pegasus', 'pegboard', 'peggi', 'pei', 'peic', 'peiod', 'peke', 'pekines', 'pekinges', 'peko', 'pelham', 'pelican', 'peligrino', 'pellegrino', 'pellet', 'pellicl', 'pelligrino', 'pelmehni', 'peloponnes', 'pelt', 'pembrok', 'pemican', 'pemmican', 'pen', 'penal', 'penalti', 'penchant', 'pencil', 'pend', 'pendant', 'penelop', 'penetr', 'penguin', 'peni', 'penicillin', 'peninsula', 'penman', 'penn', 'pennant', 'penney', 'penni', 'pennsylvania', 'penol', 'penros', 'pensacola', 'penta', 'pentagram', 'penut', 'penylalanin', 'penzey', 'penzi', 'peoni', 'peopl', 'peoplefood', 'pep', 'pepar', 'pepcid', 'peper', 'pepercorn', 'pepermint', 'pepin', 'pepita', 'pepito', 'pepomint', 'peppadew', 'pepper', 'peppercini', 'peppercorn', 'peppergrind', 'pepperi', 'pepperidg', 'peppermil', 'peppermint', 'pepperminti', 'pepperoncini', 'pepperoni', 'pepperwork', 'peppery', 'peppod', 'pepporoni', 'peppper', 'pepsi', 'pepsico', 'pepsin', 'pepto', 'per', 'pera', 'perahp', 'perc', 'perceiv', 'percent', 'percentag', 'percentil', 'percept', 'perch', 'perchanc', 'perciatelli', 'perciev', 'percnt', 'percocet', 'percol', 'percul', 'perdon', 'perdu', 'perefect', 'peregrin', 'pereira', 'perel', 'perenni', 'perf', 'perfct', 'perfect', 'perfecti', 'perfectionist', 'perfecto', 'perfer', 'perferct', 'perfom', 'perfor', 'perform', 'perfum', 'perfumey', 'perfumi', 'perfunctori', 'perhap', 'peri', 'pericon', 'pericycl', 'perier', 'perignon', 'perigord', 'peril', 'perimenopaus', 'perimet', 'peringotti', 'period', 'periperi', 'peripher', 'peripheri', 'perish', 'peristalsi', 'peritoneum', 'perk', 'perki', 'perkin', 'perkyo', 'perl', 'perlato', 'perleman', 'perm', 'permacultur', 'perman', 'permeat', 'permesan', 'permethrin', 'permiss', 'permit', 'permuat', 'pernigotti', 'pero', 'perogi', 'peron', 'peroxid', 'perpar', 'perpendicular', 'perpetu', 'perplex', 'perplexion', 'perrect', 'perrier', 'perrin', 'pers', 'perscript', 'persepct', 'perser', 'perserfit', 'perserv', 'persev', 'persever', 'persian', 'persimmon', 'persist', 'persnicketi', 'persoan', 'person', 'personal', 'personalbrand', 'personel', 'personn', 'personnel', 'perspect', 'perspir', 'persu', 'persuad', 'persuas', 'pertain', 'perth', 'perticular', 'perturb', 'peru', 'perugina', 'perus', 'peruvian', 'pervad', 'pervas', 'pervers', 'pervert', 'pesach', 'pescado', 'pescador', 'pescatarian', 'peski', 'pessimist', 'pest', 'pestal', 'pestel', 'pester', 'pesticid', 'pestil', 'pestisid', 'pestl', 'pesto', 'pet', 'peta', 'petag', 'petal', 'petco', 'pete', 'peter', 'petersburg', 'peterson', 'petey', 'petfood', 'petfooddirect', 'petfooddiscount', 'petguard', 'petguy', 'petit', 'petitecuisin', 'petmart', 'petmat', 'petown', 'petperk', 'petplay', 'petramalt', 'petrefi', 'petrifi', 'petrochem', 'petrodex', 'petrol', 'petrolatum', 'petroleum', 'petrushka', 'petshop', 'petsitt', 'petsmart', 'petssupermaket', 'petstor', 'petti', 'petunia', 'petzlif', 'peve', 'pew', 'peychaud', 'pez', 'pfchang', 'pfizer', 'pfoa', 'pfrespak', 'pgh', 'phad', 'phak', 'phantasia', 'phantasm', 'phantom', 'pharm', 'pharma', 'pharmaceut', 'pharmaci', 'pharmacist', 'pharmacolog', 'pharmeceut', 'phase', 'phat', 'phd', 'pheasant', 'phenobarbit', 'phenol', 'phenom', 'phenomen', 'phenomena', 'phenomenol', 'phenomenon', 'phenomin', 'phenyl', 'phenylalanin', 'phenylalin', 'pheromon', 'phew', 'philadelphia', 'philadephia', 'philip', 'philipin', 'philippin', 'philistin', 'philli', 'phillip', 'phillipino', 'phillippin', 'phillo', 'philmont', 'philosapi', 'philosophi', 'philosphi', 'phipp', 'phka', 'phl', 'phlegm', 'phlem', 'pho', 'phoeb', 'phoenix', 'phone', 'phonet', 'phoney', 'phoni', 'phonic', 'phooey', 'phosphat', 'phosphid', 'phospholipid', 'phosphor', 'phosphorus', 'phospor', 'photo', 'photograph', 'photographi', 'phototroph', 'php', 'phrase', 'phvo', 'phx', 'phyllo', 'physic', 'physician', 'physiolog', 'physiqu', 'phytat', 'phytochem', 'phytoestrogen', 'phytonutri', 'phytosterol', 'phê', 'piana', 'piano', 'piastra', 'pibb', 'pic', 'pica', 'picadillo', 'picant', 'picard', 'picata', 'piccadilli', 'piccalilli', 'piccant', 'piccata', 'pice', 'pick', 'pickalilli', 'pickapeppa', 'pickappa', 'picker', 'pickest', 'pickey', 'picki', 'pickier', 'pickiest', 'pickl', 'pickmeup', 'pickup', 'pickwick', 'picnic', 'picnick', 'pico', 'picth', 'pictu', 'pictur', 'picturesqu', 'picur', 'piddl', 'pie', 'piec', 'piecem', 'piecrust', 'pienaroma', 'pier', 'pierc', 'pierogi', 'pierr', 'pietro', 'pig', 'pigeon', 'pigg', 'piggi', 'piglet', 'pigment', 'pignoli', 'pigout', 'pike', 'piknik', 'pilaf', 'pilat', 'pilau', 'pilchard', 'pile', 'pilfer', 'pill', 'piller', 'pillgun', 'pilliow', 'pillow', 'pillowcas', 'pillpocket', 'pillsburi', 'pilon', 'piloncillo', 'pilot', 'pilsburi', 'pilsner', 'pim', 'pimento', 'pimenton', 'pimiento', 'pimp', 'pimpinella', 'pimpl', 'pin', 'pina', 'pinappl', 'pinata', 'pinch', 'pincher', 'pinchin', 'pinciotti', 'pindi', 'pine', 'pineapl', 'pineappl', 'pineapplish', 'pinecon', 'pineppl', 'pinewood', 'piney', 'pingo', 'pingshui', 'pinhead', 'pinhol', 'pinicki', 'pink', 'pinker', 'pinki', 'pinkish', 'pinnacl', 'pinneappl', 'pinnoli', 'pinochl', 'pinol', 'pinot', 'pinpoint', 'pinscher', 'pinstrip', 'pint', 'pinto', 'pinwheel', 'pioki', 'pioneer', 'pipa', 'pipe', 'pipelin', 'piper', 'pipper', 'piqu', 'piquanc', 'piquant', 'piquillo', 'piquin', 'piramid', 'pirat', 'piri', 'piripiri', 'piroulin', 'pirtl', 'pis', 'pisa', 'pisching', 'pismo', 'piss', 'pistachio', 'pistol', 'pistou', 'pit', 'pita', 'pitachio', 'pitbul', 'pitcairn', 'pitch', 'pitcher', 'pite', 'pitfal', 'pith', 'pithi', 'piti', 'pitiabl', 'pitmix', 'pitr', 'pitstop', 'pitt', 'pitta', 'pitter', 'pitti', 'pittsburgh', 'pituitari', 'pivot', 'pix', 'pixar', 'pixi', 'pizaaz', 'pizazz', 'pizell', 'pizza', 'pizzaz', 'pizzazz', 'pizzeria', 'pizzl', 'pjs', 'pkg', 'pkgs', 'pks', 'pkt', 'pkts', 'pkwi', 'pla', 'placat', 'place', 'placebo', 'placement', 'plack', 'placqu', 'plactic', 'plaes', 'plaesant', 'plagu', 'plain', 'plainer', 'plak', 'plan', 'plancha', 'plane', 'planet', 'plank', 'planner', 'plano', 'plant', 'plantain', 'plantat', 'planter', 'planti', 'plantin', 'plaqu', 'plasic', 'plasitc', 'plasma', 'plasmon', 'plaster', 'plastic', 'plasticbollt', 'plasticen', 'plastici', 'plasticin', 'plasticki', 'platain', 'plate', 'plateau', 'platelet', 'platform', 'platic', 'platinum', 'plato', 'platoon', 'platter', 'plaug', 'plausibl', 'play', 'playabl', 'playdat', 'playdoh', 'playdough', 'player', 'playground', 'playgroup', 'playin', 'playmat', 'playtex', 'playtim', 'plaza', 'plazma', 'plead', 'pleas', 'pleasant', 'pleasantri', 'pleasedto', 'pleasent', 'pleaser', 'pleasin', 'pleasur', 'plebeian', 'plebian', 'pledg', 'pleeeeas', 'pleeeeezzzzzz', 'plen', 'pleni', 'plenitud', 'plenti', 'plentyful', 'plesant', 'plese', 'plesent', 'plethora', 'pleurisi', 'pliabl', 'pliant', 'plier', 'plight', 'plochman', 'plocki', 'plop', 'plot', 'plott', 'ploughman', 'plow', 'ploy', 'pls', 'pluck', 'plucker', 'plug', 'plugger', 'plugra', 'plum', 'plumb', 'plumber', 'plummer', 'plummi', 'plump', 'plumper', 'plumros', 'plung', 'plunger', 'plunk', 'plural', 'pluribus', 'plus', 'pluse', 'plush', 'pluss', 'plyabl', 'pmid', 'pms', 'pmsing', 'pnb', 'pneumonia', 'png', 'pnut', 'poa', 'poach', 'poack', 'pobabl', 'poblana', 'poblano', 'pocatello', 'poch', 'pocket', 'pocketbook', 'pocki', 'pocorn', 'poctur', 'pod', 'podfilt', 'podhead', 'podmerch', 'podner', 'poduct', 'podz', 'poe', 'poem', 'poemegrant', 'poepl', 'poet', 'poetic', 'poetri', 'pogo', 'poignanc', 'poignant', 'point', 'pointer', 'pointi', 'pointless', 'pois', 'poisen', 'poison', 'poisoni', 'poivr', 'poke', 'poker', 'pokish', 'pokorski', 'polan', 'poland', 'polar', 'pole', 'polent', 'polenta', 'poli', 'polic', 'polici', 'polio', 'polish', 'polit', 'politician', 'polk', 'polka', 'poll', 'pollack', 'pollard', 'pollen', 'pollenta', 'polli', 'pollin', 'pollo', 'pollut', 'pollux', 'polo', 'polut', 'polycarbon', 'polycyst', 'polydextros', 'polyest', 'polyethylen', 'polyflor', 'polym', 'polynesian', 'polyp', 'polyphenol', 'polyphosph', 'polypropylen', 'polysaccharid', 'polysomethingoroth', 'polysorb', 'polystyren', 'polythen', 'polyunsat', 'polyunsatur', 'polyuria', 'pom', 'pomac', 'pomagran', 'pomagranet', 'pomapoo', 'pomberri', 'pomegran', 'pomegranit', 'pomegrant', 'pomemgran', 'pomengrant', 'pomeranean', 'pomeranian', 'pomi', 'pomidori', 'pommeri', 'pommi', 'pomodoro', 'pomona', 'pompous', 'pomum', 'poncho', 'pond', 'ponder', 'ponderosa', 'pone', 'poni', 'pont', 'pontif', 'ponytail', 'ponzu', 'poo', 'pooch', 'poochi', 'poochin', 'poodl', 'poof', 'poofi', 'pooh', 'pooki', 'pool', 'poop', 'poopcorn', 'pooper', 'poopi', 'poor', 'poorer', 'poorest', 'pop', 'popaw', 'popchip', 'popcorn', 'popcornpopp', 'popcorrn', 'pope', 'popey', 'poplit', 'popocorn', 'popov', 'popoyan', 'popp', 'poppabl', 'popper', 'poppi', 'poppodum', 'popppi', 'poppycock', 'poppyse', 'popsalot', 'popsecret', 'popsicl', 'poptao', 'poptart', 'popul', 'popular', 'populara', 'por', 'porcelain', 'porcelana', 'porcelin', 'porch', 'porchini', 'porcini', 'porcupin', 'porduct', 'pore', 'pork', 'porkchop', 'porker', 'porkless', 'porno', 'porous', 'poroxid', 'porport', 'porqu', 'porquereia', 'porridg', 'porrig', 'port', 'porta', 'portabl', 'portafilt', 'portal', 'porter', 'porterhous', 'portho', 'portillo', 'portion', 'portland', 'portobello', 'portrait', 'portray', 'portrud', 'portug', 'portugues', 'pos', 'posada', 'pose', 'poser', 'posess', 'poseur', 'poshi', 'posionus', 'posit', 'positivili', 'positon', 'possabl', 'possbl', 'possess', 'possibl', 'possiblitii', 'post', 'postag', 'postal', 'postcard', 'postdoc', 'poster', 'postiv', 'postman', 'postmark', 'postpartum', 'postpon', 'postprandi', 'postscript', 'postum', 'postur', 'pot', 'potag', 'potanc', 'potaot', 'potasium', 'potassium', 'potat', 'potatato', 'potato', 'potatoey', 'potenc', 'potent', 'potenti', 'pothold', 'potic', 'potion', 'potluck', 'potomac', 'potota', 'pototo', 'potpi', 'potpourri', 'potstick', 'potteri', 'potti', 'pouch', 'pouchkin', 'pouchong', 'pouchworthi', 'pouf', 'poulard', 'poulet', 'poulouri', 'poulti', 'poultic', 'poultri', 'pounc', 'pounch', 'pounci', 'pound', 'poundag', 'poundcak', 'pounder', 'poupon', 'pour', 'pourgouri', 'pourin', 'pout', 'poverti', 'pow', 'powder', 'powderi', 'powed', 'powel', 'power', 'powerad', 'powerbar', 'powerbomb', 'powercola', 'powercrunch', 'powerd', 'powerful', 'powergel', 'powerhous', 'powerpop', 'powerscoop', 'powfer', 'pox', 'poxi', 'pozol', 'ppl', 'ppm', 'pppm', 'ppppuuuuurrrrrrrrrrr', 'practacl', 'practic', 'practict', 'practition', 'pradesh', 'prado', 'prager', 'pragma', 'prairi', 'prais', 'praiseworthi', 'pralin', 'pralus', 'pramesan', 'pranc', 'prandial', 'prank', 'pranw', 'prao', 'pratic', 'prawn', 'pray', 'prayer', 'prc', 'prduct', 'pre', 'preacher', 'preambl', 'prearl', 'preasant', 'preasur', 'prebak', 'prebiot', 'prebrew', 'precancer', 'precari', 'precaut', 'preced', 'prechew', 'precious', 'precipit', 'precis', 'preclud', 'preconceiv', 'preconcept', 'precondit', 'precook', 'precript', 'prectic', 'precursor', 'precut', 'predat', 'predawn', 'predecessor', 'predetermin', 'predica', 'predict', 'predictor', 'predillict', 'predison', 'predispos', 'predisposit', 'prednison', 'prednizon', 'predomin', 'preemi', 'preemin', 'preemtiv', 'preexist', 'pref', 'prefab', 'prefac', 'prefect', 'prefer', 'preferabley', 'preferenti', 'preferida', 'preferr', 'preffer', 'prefil', 'prefix', 'preform', 'preganc', 'pregbabi', 'preggo', 'pregnanc', 'pregnant', 'pregnat', 'preground', 'preheat', 'prehistor', 'prehypertens', 'prei', 'prejud', 'prejudg', 'prejudic', 'prelud', 'prem', 'premad', 'premark', 'prematur', 'premeasur', 'premi', 'premier', 'preminum', 'premis', 'premium', 'premiun', 'premix', 'preoccup', 'preoocupi', 'preorder', 'prep', 'prepack', 'prepackag', 'prepaid', 'prepar', 'prepara', 'prepared', 'preparened', 'preper', 'preplan', 'preport', 'preppi', 'prerequisit', 'prerins', 'pres', 'presa', 'presant', 'preschedul', 'preschool', 'prescott', 'prescrib', 'prescript', 'presenc', 'present', 'preser', 'preserv', 'preservati', 'preservit', 'preset', 'presev', 'presid', 'president', 'preslic', 'preso', 'presoak', 'presript', 'press', 'pressur', 'prestig', 'prestigi', 'prestin', 'presto', 'presum', 'presumpt', 'presuppos', 'presur', 'presweeten', 'pretast', 'preteen', 'pretel', 'pretend', 'pretens', 'pretenti', 'pretezel', 'pretien', 'pretti', 'prettier', 'prettiest', 'prettti', 'pretz', 'pretzel', 'pretzelli', 'pretzl', 'pretzzel', 'prev', 'prevacid', 'prevail', 'preval', 'prevar', 'prevel', 'prevent', 'preventit', 'previd', 'preview', 'previosuli', 'previous', 'prewarm', 'prewash', 'prework', 'preworkout', 'prey', 'prezel', 'prfere', 'prferenc', 'pri', 'pria', 'price', 'priceless', 'pricetag', 'pricewis', 'pricey', 'prici', 'pricier', 'prick', 'pride', 'priest', 'priester', 'priestley', 'prik', 'prilosec', 'primal', 'primanti', 'primari', 'primarili', 'primavera', 'prime', 'primer', 'primetim', 'primo', 'primolio', 'primordi', 'primula', 'primulo', 'princ', 'princess', 'princeton', 'princip', 'principia', 'principl', 'pringl', 'print', 'printer', 'prior', 'prioriti', 'prise', 'prison', 'prissi', 'pristin', 'pritchett', 'privaci', 'privat', 'priviledg', 'privileg', 'priya', 'prize', 'prmote', 'pro', 'proabli', 'proactiv', 'prob', 'probabi', 'probabl', 'probar', 'probbali', 'probe', 'probem', 'probiot', 'problea', 'problem', 'problemat', 'problemo', 'probli', 'problum', 'procces', 'proccess', 'procduct', 'proce', 'proced', 'procedur', 'proceed', 'proceess', 'proces', 'process', 'processor', 'processs', 'procini', 'proclaim', 'procrastin', 'procuct', 'procur', 'procusitto', 'prod', 'prodauct', 'prodcust', 'prodcut', 'prodect', 'prodhomm', 'prodouct', 'produc', 'producct', 'produci', 'product', 'producto', 'produst', 'produt', 'proein', 'proetin', 'prof', 'profesion', 'profess', 'profession', 'professionali', 'professor', 'proffer', 'profici', 'profil', 'profit', 'proflow', 'profound', 'profus', 'prog', 'progam', 'progein', 'progess', 'program', 'programm', 'progreso', 'progress', 'progresso', 'progressor', 'prohibit', 'proir', 'proiriti', 'project', 'projectil', 'prolbem', 'proletarian', 'proletariat', 'prolif', 'prolifer', 'prolin', 'prolli', 'prolong', 'prom', 'promax', 'promin', 'promis', 'promiscu', 'promo', 'promot', 'prompli', 'prompt', 'promptedin', 'proms', 'promt', 'prone', 'pronouc', 'pronounc', 'pronounci', 'pronouonc', 'pront', 'pronto', 'proof', 'prop', 'propaganda', 'propan', 'propel', 'proper', 'properit', 'properlli', 'properti', 'propheci', 'prophet', 'propion', 'proplan', 'propoli', 'propon', 'proport', 'proportion', 'propos', 'proposit', 'propranolol', 'proprietari', 'proprietor', 'propylen', 'pros', 'prosag', 'prosciutto', 'proscratin', 'proscuitto', 'prosecco', 'prosobe', 'prospect', 'prosper', 'prostat', 'prostatectomi', 'prostitut', 'prostrat', 'protabl', 'protean', 'proteas', 'protect', 'protector', 'protein', 'proteini', 'proteinplus', 'protest', 'protetiva', 'protien', 'protocol', 'protoplast', 'protrud', 'prouct', 'proud', 'proudct', 'prouduct', 'prounc', 'proust', 'proustian', 'prouti', 'provanc', 'prove', 'provecho', 'proved', 'provel', 'proven', 'provenc', 'provenç', 'proverb', 'proverbi', 'provid', 'provinc', 'provis', 'provision', 'provoc', 'provok', 'provoleon', 'provolon', 'prowel', 'prowler', 'proxi', 'proxim', 'prozac', 'prozym', 'prserv', 'prservat', 'prtezel', 'pruchas', 'prudent', 'prudhomm', 'pruduc', 'pruduct', 'prueb', 'prune', 'pruner', 'pruney', 'prunus', 'prushas', 'prussian', 'pryidoxin', 'psa', 'pseudo', 'psl', 'psoriasi', 'psst', 'pst', 'psych', 'psychedel', 'psychedelica', 'psychiatr', 'psychic', 'psycho', 'psychoact', 'psycholog', 'psychosomat', 'psychot', 'psychotrop', 'psyllium', 'pta', 'pther', 'ptl', 'pto', 'ptooey', 'pts', 'ptting', 'pub', 'puberti', 'public', 'publicist', 'publish', 'publix', 'pubm', 'pucca', 'puch', 'puchas', 'pucini', 'puck', 'pucker', 'pud', 'puddin', 'puddingi', 'puddinglik', 'puddingscotch', 'puddl', 'pudg', 'pudgi', 'pueblo', 'puerh', 'puerto', 'puf', 'puff', 'puffet', 'puffi', 'puffier', 'puffin', 'pug', 'puget', 'puggi', 'puggl', 'puglia', 'puglies', 'pugnent', 'puke', 'puksi', 'pulao', 'puliogar', 'pull', 'pullback', 'pullux', 'pulmicort', 'pulmonari', 'pulp', 'pulpi', 'pulqu', 'puls', 'pulver', 'pulveris', 'puma', 'pumic', 'pumkin', 'pump', 'pumper', 'pumpernickel', 'pumpernickl', 'pumpin', 'pumpk', 'pumpkin', 'pumpless', 'pun', 'punch', 'punchbowl', 'puncher', 'punchi', 'punchier', 'punctual', 'punctuat', 'punctur', 'pune', 'pungeant', 'pungenc', 'pungent', 'puni', 'punish', 'punjab', 'punjabi', 'punxsutawney', 'pup', 'pupcak', 'pupcorn', 'pupos', 'puppadum', 'pupperoni', 'puppersoni', 'puppet', 'puppetmast', 'puppi', 'puppodum', 'puppyhood', 'pur', 'pura', 'purcahs', 'purcgas', 'purch', 'purcha', 'purchac', 'purchas', 'purchash', 'purchcas', 'purches', 'purchis', 'purchs', 'purchsa', 'purchus', 'purdi', 'purdu', 'pure', 'purea', 'purebit', 'purebre', 'pureh', 'purelo', 'purer', 'purest', 'purevia', 'purew', 'purfect', 'purg', 'purgat', 'purhcas', 'puri', 'purifi', 'purin', 'purina', 'purinaon', 'purist', 'puriti', 'purley', 'purn', 'purpl', 'purplish', 'purport', 'purpos', 'purprea', 'purpurea', 'purr', 'purre', 'purrev', 'purrfect', 'purrin', 'purs', 'pursu', 'pursuit', 'purtain', 'purti', 'puruvian', 'purvey', 'purveyor', 'pus', 'push', 'pusher', 'pushi', 'pushpi', 'puss', 'pussycat', 'put', 'putana', 'putat', 'pute', 'putney', 'putrefi', 'putrid', 'puttanesca', 'putter', 'putti', 'putumayo', 'putz', 'puupi', 'puurrrrfect', 'puzzl', 'pylori', 'pyoderma', 'pyr', 'pyramid', 'pyrane', 'pyrene', 'pyrex', 'pyridokinn', 'pyridoxin', 'pyrmethrin', 'pyro', 'pyrophosph', 'pyrotechn', 'pyscholog', 'pysic', 'python', 'qai', 'qatar', 'qatmeal', 'qauliti', 'qfc', 'qick', 'qout', 'qpr', 'qti', 'qts', 'qtys', 'qu', 'quacamol', 'quacker', 'quackwatch', 'quacomol', 'quad', 'quado', 'quadrant', 'quadratinni', 'quadrelli', 'quadroopl', 'quadroppl', 'quadrupl', 'quaf', 'quaffer', 'quai', 'quail', 'quailiti', 'quailti', 'quaint', 'quaiti', 'quaker', 'quakier', 'qualif', 'qualifi', 'qualit', 'qualita', 'qualiti', 'qualitycontrol', 'qualiy', 'qualm', 'qualti', 'quanit', 'quaniti', 'quanti', 'quantifi', 'quantit', 'quantiti', 'quarantin', 'quarrel', 'quart', 'quarter', 'quarterback', 'quartz', 'quash', 'quasi', 'quatiti', 'quazi', 'qudoba', 'que', 'quealiti', 'queasi', 'queazi', 'quebec', 'queeen', 'queen', 'queijo', 'quel', 'quell', 'quench', 'quencher', 'quenci', 'quercetin', 'queri', 'quesadilla', 'queso', 'quesodilla', 'quess', 'quest', 'question', 'questionair', 'queue', 'qui', 'quibbl', 'quic', 'quich', 'quichua', 'quick', 'quicka', 'quickbread', 'quicken', 'quicker', 'quickest', 'quicki', 'quickley', 'quiclli', 'quiero', 'quiet', 'quieter', 'quik', 'quilon', 'quilt', 'quilti', 'quinc', 'quinci', 'quinn', 'quinoa', 'quinona', 'quinquefolium', 'quintessenti', 'quiona', 'quiri', 'quirk', 'quirki', 'quisit', 'quisp', 'quit', 'quiver', 'quiz', 'quizno', 'quliti', 'quoc', 'quoi', 'quonset', 'quorn', 'quot', 'quota', 'quotat', 'quotient', 'quoto', 'quumquat', 'qvc', 'raawi', 'rabbi', 'rabbin', 'rabbit', 'rabbitini', 'rabe', 'rabi', 'rabid', 'rabinowitz', 'rabit', 'raccoloto', 'raccomand', 'racconto', 'raccoon', 'race', 'rach', 'rachael', 'racheal', 'rachel', 'racin', 'racism', 'racist', 'rack', 'racket', 'raclett', 'racoon', 'racquetbal', 'rad', 'radar', 'raddichio', 'raddish', 'radial', 'radianc', 'radiant', 'radiat', 'radiator', 'radic', 'radici', 'radio', 'radioact', 'radious', 'radish', 'radius', 'raeli', 'rafael', 'raffaello', 'raffl', 'rafsanjan', 'raft', 'rag', 'ragdol', 'rage', 'rageous', 'raggedi', 'ragold', 'ragout', 'ragu', 'ragwe', 'rahe', 'raichlen', 'raid', 'raider', 'rail', 'railroad', 'railway', 'rain', 'rainbo', 'rainbow', 'raincoast', 'raincoasttrad', 'raindeer', 'rainfal', 'rainforest', 'raini', 'rainier', 'raintre', 'rais', 'raisen', 'raiser', 'raisin', 'raisinet', 'raisinett', 'raisn', 'raison', 'rait', 'raita', 'raj', 'raja', 'rajah', 'rajastan', 'rajma', 'rake', 'rakin', 'raleigh', 'raley', 'ralf', 'ralli', 'ralph', 'ram', 'raman', 'rambl', 'rambuncti', 'ramekin', 'ramen', 'ramiel', 'ramien', 'ramif', 'ramin', 'ramkin', 'ramm', 'ramon', 'ramotsw', 'ramp', 'rampag', 'rampant', 'rampolla', 'ramsay', 'ramstein', 'ramun', 'ramyun', 'ran', 'ranch', 'rancha', 'rancher', 'ranchera', 'ranchero', 'rancid', 'rancilio', 'rancillio', 'rancillo', 'randal', 'randi', 'random', 'rang', 'ranger', 'rangetop', 'rangpur', 'ranida', 'rank', 'rano', 'rant', 'rao', 'raost', 'rap', 'rapadura', 'rapese', 'rapid', 'rapido', 'rapini', 'rapport', 'rapt', 'raptur', 'rapunzel', 'rare', 'rarebit', 'rarer', 'rarifi', 'rariti', 'ras', 'rasam', 'rasberi', 'rasberri', 'rase', 'rash', 'rasher', 'rasin', 'rasmussen', 'rasp', 'raspberi', 'raspberri', 'rasperri', 'raspi', 'rassberri', 'rast', 'rasta', 'rat', 'ratatouill', 'ratchet', 'rate', 'rater', 'rather', 'ratio', 'ration', 'rational', 'rattatoui', 'rattl', 'rattler', 'raulph', 'rava', 'ravag', 'rave', 'raven', 'ravenova', 'ravenshot', 'ravi', 'ravida', 'raviola', 'ravioletti', 'ravioli', 'ravish', 'ravoli', 'raw', 'rawf', 'rawhid', 'ray', 'raya', 'raymond', 'raynaud', 'razberri', 'razor', 'razz', 'razzl', 'razzmatazz', 'razzpotl', 'rbgh', 'rca', 'rcd', 'rcvd', 'rda', 'rdas', 'rdi', 'rdv', 'rea', 'reaali', 'reabsorb', 'reacat', 'reaccess', 'reach', 'react', 'reaction', 'reactiv', 'reactor', 'read', 'readabl', 'reader', 'readi', 'readili', 'readilli', 'readin', 'readind', 'readjust', 'readout', 'readymad', 'reaffirm', 'reagan', 'real', 'realat', 'realcoconut', 'reales', 'reali', 'realim', 'realis', 'realism', 'realist', 'realiti', 'realiz', 'realize', 'reall', 'realli', 'reallllli', 'realllllyyi', 'realllyyyy', 'reallt', 'realm', 'realsalt', 'realtiv', 'realtor', 'realx', 'ream', 'reama', 'reaosn', 'reap', 'reappear', 'reappli', 'reapplic', 'reaquir', 'rear', 'reaseal', 'reasearch', 'reasent', 'reaseon', 'reason', 'reasonalbi', 'reasonalbl', 'reasonali', 'reasonbl', 'reassess', 'reassur', 'reast', 'reastaur', 'reastur', 'reat', 'reath', 'reattach', 'reb', 'rebag', 'rebar', 'rebat', 'rebaudiosid', 'rebecca', 'rebel', 'rebelli', 'rebellion', 'reblend', 'rebought', 'rebound', 'rebuild', 'rebuilt', 'rebuy', 'rec', 'recal', 'recald', 'recap', 'recaptur', 'recategoris', 'recca', 'reccom', 'reccomen', 'reccomend', 'reccommend', 'recd', 'reced', 'receic', 'receiev', 'receievd', 'receip', 'receipi', 'receipt', 'receiv', 'receivd', 'receivedth', 'recemmend', 'recenlti', 'recent', 'recentley', 'receommend', 'recepi', 'recept', 'receptacl', 'receptionist', 'receptor', 'recess', 'recet', 'recev', 'recevi', 'recharg', 'recheck', 'recient', 'reciep', 'reciept', 'reciev', 'reciip', 'recip', 'recipe', 'recipezaar', 'recipi', 'recipl', 'reciv', 'reckless', 'reckon', 'reclaim', 'reclett', 'reclin', 'reclos', 'reclus', 'recmon', 'recocommend', 'recogn', 'recognis', 'recognit', 'recogniz', 'recollect', 'recolmmend', 'recom', 'recombin', 'recomen', 'recomend', 'recoment', 'recomiendo', 'recomind', 'recommand', 'recommed', 'recommedn', 'recommemd', 'recommen', 'recommenc', 'recommend', 'recommendig', 'recommened', 'recommkend', 'recommmend', 'recommn', 'recommned', 'recommnend', 'reconcil', 'reconfigur', 'recongniz', 'reconnaiss', 'reconnect', 'reconsid', 'reconsider', 'reconstitu', 'reconstitut', 'reconstruct', 'recook', 'recoomend', 'recoommend', 'record', 'recoup', 'recours', 'recov', 'recoveri', 'recpi', 'recreat', 'recruit', 'rectal', 'rectangl', 'rectangular', 'rectifi', 'rectum', 'recuper', 'recur', 'recurr', 'recutita', 'recv', 'recyc', 'recycl', 'recycyl', 'recyl', 'red', 'redbarn', 'redbul', 'redbush', 'redcloud', 'redcurr', 'reddenbach', 'reddenbock', 'redder', 'reddi', 'reddish', 'redeam', 'redeem', 'redefin', 'redeliveri', 'redenbach', 'redenback', 'redendbach', 'redesign', 'redespresso', 'redevelop', 'redfish', 'redhand', 'redhead', 'redhot', 'redi', 'rediburg', 'redicul', 'redid', 'redilli', 'redintegr', 'redirect', 'rediscov', 'redish', 'rediwhip', 'redlin', 'redmil', 'redmond', 'redo', 'redol', 'redpack', 'redskin', 'redu', 'reduc', 'reduct', 'reducu', 'redund', 'redvin', 'redwood', 'reealli', 'reed', 'reeeaalli', 'reeeealli', 'reeeeeeealli', 'reef', 'reeiv', 'reek', 'reeki', 'reel', 'reenerg', 'reenforc', 'reentli', 'rees', 'reesestick', 'reestablish', 'reevalu', 'ref', 'refer', 'refere', 'referenc', 'referesh', 'referig', 'referr', 'refidg', 'refiger', 'refil', 'refin', 'refind', 'refineri', 'reflect', 'reflector', 'reflex', 'refluff', 'reflux', 'reforest', 'reform', 'reformul', 'refrain', 'refram', 'refreas', 'refreez', 'refregir', 'refres', 'refresh', 'refreshen', 'refressh', 'refri', 'refrider', 'refridg', 'refridger', 'refrig', 'refrigar', 'refriger', 'refrigerst', 'refuel', 'refug', 'refulx', 'refund', 'refung', 'refurbish', 'refus', 'reg', 'regain', 'regal', 'regalo', 'regan', 'regard', 'regardless', 'regatta', 'regener', 'reggi', 'reggiano', 'reggio', 'regi', 'regianno', 'regim', 'regimen', 'regiment', 'regimin', 'regina', 'reginald', 'region', 'regist', 'registri', 'reglar', 'reglu', 'regrat', 'regret', 'regrett', 'regriger', 'reground', 'regualar', 'regualr', 'regualri', 'regul', 'regular', 'regulari', 'regulatori', 'regur', 'regurgit', 'rehab', 'rehears', 'reheat', 'rehfeld', 'rehydr', 'rehyr', 'rei', 'reich', 'reidel', 'reiev', 'reiew', 'reight', 'reign', 'reignit', 'reiki', 'reimburs', 'reinburs', 'reincarn', 'reindeer', 'reinforc', 'reinhart', 'reinstat', 'reintroduc', 'reintroduct', 'reinvent', 'reinvigor', 'reishi', 'reissu', 'reiter', 'reivew', 'reiview', 'reject', 'rejoic', 'rejuven', 'rejuvin', 'rekindl', 'reknown', 'relabel', 'relact', 'relaps', 'relat', 'relationship', 'relativli', 'relaunch', 'relax', 'relaxman', 'relay', 'relearn', 'releas', 'releav', 'releg', 'releif', 'releiv', 'relent', 'relentless', 'relev', 'relex', 'reli', 'reliabl', 'relianc', 'relief', 'reliev', 'relig', 'religi', 'religion', 'reliquifi', 'relish', 'relist', 'relit', 'reliv', 'relleno', 'relli', 'reload', 'reloc', 'reluct', 'relunct', 'remain', 'remaind', 'remainng', 'remak', 'remanc', 'remanic', 'remark', 'remarket', 'remast', 'remeb', 'remedi', 'rememb', 'remembah', 'rememberd', 'remembr', 'rememebr', 'remememb', 'remenb', 'remidi', 'remind', 'reminer', 'reminesc', 'reminic', 'reminis', 'reminisc', 'reminsc', 'reminsci', 'remisc', 'remiss', 'remix', 'remmber', 'remnant', 'remnent', 'remo', 'remodel', 'remomened', 'remors', 'remot', 'remoulad', 'remov', 'remp', 'remsain', 'ren', 'renaiss', 'renal', 'renam', 'render', 'rendezv', 'rendezvouz', 'rendit', 'rene', 'renegad', 'reneofc', 'renew', 'renfair', 'renfro', 'reni', 'rennet', 'renov', 'renown', 'rent', 'rental', 'renuk', 'reoccur', 'reoccurr', 'reocmmend', 'reommend', 'reopen', 'reord', 'reorder', 'reorderd', 'rep', 'repac', 'repack', 'repackag', 'repair', 'repalc', 'repast', 'repay', 'repeat', 'repel', 'repertoir', 'repetit', 'repetiti', 'repetoir', 'rephras', 'replac', 'replacementwhen', 'replant', 'replay', 'replenish', 'replet', 'repli', 'replic', 'replica', 'replug', 'replus', 'repond', 'repons', 'report', 'repost', 'repot', 'repres', 'represent', 'representg', 'repriev', 'reprim', 'reprint', 'reproach', 'reproduc', 'reproduct', 'repsond', 'repsons', 'reptil', 'reptilian', 'repuat', 'republ', 'repugn', 'repuls', 'repump', 'repurchas', 'repurpos', 'repusl', 'reput', 'reqir', 'reqiur', 'request', 'requir', 'requisit', 'reqular', 'rerun', 'res', 'resal', 'resaon', 'resaur', 'reschedul', 'rescu', 'rescuer', 'reseal', 'resealablebag', 'research', 'resect', 'resel', 'resembl', 'resend', 'resent', 'reseptacl', 'reserch', 'reserv', 'reserva', 'reservoir', 'resesarch', 'reset', 'resevoir', 'reshap', 'reship', 'reshteh', 'resid', 'residu', 'resign', 'resil', 'resili', 'resin', 'resirva', 'resist', 'resolut', 'resolv', 'reson', 'resort', 'resound', 'resourc', 'respect', 'respiratori', 'respit', 'resplend', 'responc', 'respond', 'respons', 'respos', 'ress', 'rest', 'restar', 'restaraunt', 'restart', 'restaur', 'restauraunt', 'rester', 'resteraunt', 'restful', 'restitut', 'restless', 'restock', 'restor', 'restrain', 'restraint', 'restraunt', 'restrict', 'restroom', 'restructur', 'restuar', 'restur', 'resuabl', 'result', 'resultthat', 'resum', 'resuppli', 'resurfac', 'resurg', 'resurrect', 'resutl', 'resveratrol', 'ret', 'retail', 'retain', 'retali', 'retangular', 'retap', 'retard', 'retaur', 'retch', 'retent', 'reteriev', 'retest', 'rethink', 'retic', 'retiev', 'retir', 'retitl', 'retort', 'retouch', 'retract', 'retrain', 'retreat', 'retreiv', 'retri', 'retriev', 'retrim', 'retro', 'retrospect', 'retur', 'return', 'reuben', 'reunif', 'reunion', 'reunit', 'reus', 'reusabl', 'reuseabl', 'rev', 'revamp', 'reveal', 'reveiv', 'reveiw', 'revel', 'reveng', 'rever', 'reverber', 'reverend', 'reverenti', 'reveri', 'revers', 'revert', 'revier', 'review', 'revieww', 'revis', 'revisit', 'revit', 'reviv', 'reviw', 'revolt', 'revolut', 'revolution', 'revolutionari', 'revolutionis', 'revolv', 'revv', 'rewar', 'reward', 'rewarm', 'rewash', 'rewatch', 'rework', 'rewrap', 'rex', 'rey', 'reynold', 'rfri', 'rgdc', 'rhaj', 'rhapsodi', 'rhe', 'rheeboot', 'rher', 'rhetor', 'rheumat', 'rheumatoid', 'rhind', 'rhino', 'rhizom', 'rhode', 'rhodedendron', 'rhodesian', 'rhodiola', 'rhubarb', 'rhyme', 'rhythm', 'rhythmic', 'rib', 'ribald', 'ribbon', 'ribena', 'ribey', 'riboflavin', 'ribus', 'rica', 'rican', 'rice', 'ricecak', 'riceland', 'ricemak', 'ricemellow', 'riceselect', 'riceselet', 'ricethin', 'ricework', 'ricey', 'rich', 'richard', 'richardson', 'richen', 'richer', 'richest', 'richmond', 'richo', 'richter', 'ricicl', 'ricj', 'rick', 'rico', 'ricochet', 'ricola', 'ricotta', 'rid', 'ridden', 'ridder', 'riddl', 'ride', 'ridegmont', 'ridel', 'rider', 'ridg', 'ridgeback', 'ridgeway', 'ridici', 'ridicul', 'ridiculi', 'riducul', 'riedel', 'riem', 'riesen', 'riesl', 'riff', 'rig', 'rigamarol', 'rigat', 'rigati', 'rigatoni', 'rigeur', 'righ', 'right', 'rightfood', 'righton', 'rigid', 'rigor', 'rigth', 'rigueur', 'rijkstaffel', 'riken', 'rile', 'riley', 'rim', 'rimadyl', 'rimmer', 'rinaldi', 'rinaldo', 'rind', 'rinehart', 'ring', 'ringer', 'ringgold', 'ringo', 'rinki', 'rins', 'rio', 'rioja', 'riot', 'rip', 'riparian', 'ripe', 'ripen', 'ripest', 'ripley', 'ripoff', 'rippl', 'rise', 'risen', 'riser', 'rishi', 'risk', 'riski', 'risotta', 'risotto', 'rissoto', 'ristra', 'ristretto', 'rite', 'ritter', 'ritual', 'ritualis', 'ritualist', 'ritz', 'riught', 'rival', 'river', 'rivera', 'riversid', 'riyadh', 'rizopia', 'rizzo', 'rjs', 'rls', 'rma', 'rmaho', 'rmcs', 'rngeri', 'rni', 'roa', 'roach', 'road', 'roadhous', 'roadi', 'roadkil', 'roadrunn', 'roadsid', 'roadtrip', 'roam', 'roanok', 'roar', 'roast', 'roastaroma', 'roasted', 'roaster', 'roasteria', 'roasti', 'roatan', 'rob', 'robber', 'robberi', 'robbi', 'robbin', 'robbio', 'robert', 'roberto', 'robertson', 'robin', 'robinson', 'robitussin', 'robot', 'roboust', 'robust', 'robusta', 'robusto', 'robyn', 'roc', 'roca', 'rocamojo', 'rocco', 'roccoco', 'roch', 'rochel', 'rocher', 'rochest', 'rock', 'rocker', 'rocket', 'rocki', 'rocklin', 'rockstar', 'rod', 'rode', 'rodent', 'rodeo', 'roe', 'rogan', 'roger', 'rogu', 'rohr', 'roiboi', 'roiboo', 'roid', 'roil', 'roizen', 'roja', 'rojo', 'roland', 'role', 'roll', 'rollback', 'roller', 'rolli', 'rollsi', 'rollup', 'rollyson', 'rolo', 'roma', 'romain', 'roman', 'romana', 'romanc', 'romania', 'romanian', 'romano', 'romanoff', 'romanov', 'romant', 'rome', 'romeal', 'romeo', 'romp', 'romulan', 'ron', 'rona', 'ronald', 'roncal', 'ronco', 'rondel', 'roni', 'ronni', 'ronzoni', 'roo', 'roobi', 'roobio', 'rooboi', 'rood', 'roof', 'rooibi', 'rooibo', 'rooiboi', 'rooiboss', 'rooibus', 'rooiobo', 'rook', 'rooki', 'rool', 'room', 'roomat', 'roomi', 'roomm', 'roommat', 'rooney', 'roosevelt', 'rooster', 'root', 'rootbeer', 'rooter', 'rop', 'rope', 'roquefort', 'rosa', 'rosal', 'rosari', 'rosario', 'rosarita', 'rosco', 'rose', 'rosea', 'rosebud', 'rosedal', 'rosehip', 'rosell', 'rosemari', 'rosenfeld', 'rosepet', 'rosett', 'rosewat', 'rosey', 'rosh', 'rosi', 'rosin', 'rosmarini', 'ross', 'rossa', 'rossi', 'rosso', 'roster', 'roswel', 'rot', 'rotat', 'rotel', 'rotell', 'rotelli', 'rotessir', 'rotgutain', 'roth', 'rothwel', 'roti', 'rotini', 'rotisseri', 'rotor', 'rott', 'rotten', 'rottewil', 'rotti', 'rottweil', 'rotund', 'rotweil', 'roug', 'rough', 'roughag', 'rougher', 'roughi', 'rought', 'roule', 'rouler', 'roulett', 'round', 'rounder', 'roundup', 'rous', 'rout', 'routin', 'roux', 'rove', 'row', 'rowel', 'rox', 'roxi', 'roy', 'royal', 'royalti', 'royc', 'roylt', 'rrc', 'rrh', 'rstd', 'rtd', 'rte', 'rtf', 'rthan', 'rthis', 'rub', 'rubbag', 'rubber', 'rubbereri', 'rubberey', 'rubberi', 'rubbermaid', 'rubbish', 'rubi', 'rubiana', 'rubus', 'rubust', 'rude', 'rudest', 'rudi', 'rudimentari', 'rue', 'rueben', 'ruffag', 'ruffl', 'ruffus', 'rug', 'rugbi', 'ruin', 'ruiter', 'rule', 'ruler', 'rum', 'rumbl', 'rumcak', 'rumford', 'rummag', 'rummi', 'rummier', 'rumor', 'rump', 'rumsfeld', 'run', 'runaway', 'runch', 'rundown', 'rune', 'runner', 'runneth', 'runni', 'runnier', 'runnin', 'runningrabbit', 'runnith', 'runt', 'runway', 'ruptur', 'rural', 'ruse', 'rush', 'rushmor', 'rusk', 'rusnak', 'russa', 'russel', 'russert', 'russet', 'russia', 'russian', 'rust', 'rusti', 'rustic', 'rustica', 'rustichella', 'rustl', 'rusult', 'rut', 'ruta', 'ruth', 'rvc', 'rwanda', 'rwandan', 'ryan', 'ryder', 'rye', 'ryevita', 'rykrisp', 'rymyun', 'ryvita', 'rêveri', 'saag', 'saay', 'saba', 'sabbat', 'sabbath', 'sabdariffa', 'sabe', 'sabl', 'sabor', 'sabotag', 'sabra', 'sabroso', 'sac', 'saccaran', 'saccarin', 'saccharin', 'saccharomyc', 'sacchrin', 'sach', 'sacharin', 'sacher', 'sachet', 'sack', 'saco', 'sacr', 'sacraf', 'sacral', 'sacramento', 'sacrif', 'sacrific', 'sacrileg', 'sacrilegi', 'sacrin', 'sacu', 'sad', 'sadaf', 'sadden', 'sadder', 'saddl', 'saddlebag', 'saden', 'sadi', 'sadist', 'sadler', 'saeco', 'saefiid', 'saf', 'safari', 'safcol', 'safe', 'safeguard', 'safer', 'safest', 'safeti', 'safeway', 'safflow', 'saffola', 'saffron', 'safina', 'safra', 'safron', 'saftbaren', 'saftey', 'sag', 'saga', 'saganaki', 'sage', 'saget', 'sago', 'sahal', 'sahara', 'sai', 'said', 'saifun', 'saigon', 'sail', 'sailboat', 'sailor', 'saimin', 'saint', 'saisfi', 'sake', 'saki', 'sakura', 'sal', 'salaam', 'salaci', 'salacus', 'salad', 'salada', 'salam', 'salamandra', 'salami', 'salamida', 'salamino', 'salan', 'salari', 'salat', 'salba', 'sald', 'sale', 'salem', 'saleri', 'salesman', 'salesmen', 'salespeopl', 'salesperson', 'salf', 'sali', 'salin', 'salina', 'salisburi', 'salish', 'saliv', 'saliva', 'salivari', 'sall', 'salli', 'salmiak', 'salmon', 'salmonela', 'salmonella', 'salon', 'saloon', 'salsa', 'salsifi', 'salsita', 'salso', 'salt', 'saltfish', 'salti', 'saltier', 'saltiest', 'saltin', 'saltless', 'saltohol', 'salton', 'saltshak', 'saltwat', 'salubri', 'salut', 'salutes', 'salv', 'salvador', 'salvag', 'salycil', 'salzburg', 'sam', 'samantha', 'sambal', 'sambar', 'sambazon', 'sambirano', 'sambuca', 'same', 'sami', 'samll', 'sammi', 'sammich', 'sammybearsay', 'samosa', 'sampel', 'sampl', 'sampler', 'samsclub', 'samson', 'samsung', 'samuel', 'samuelsson', 'san', 'sanalac', 'sanbitt', 'sanchez', 'sanck', 'sanctimoni', 'sanctuari', 'sand', 'sandal', 'sandalwood', 'sander', 'sandi', 'sandlewood', 'sandra', 'sandston', 'sandwhich', 'sandwich', 'sandwitch', 'sandwith', 'sandworm', 'sane', 'sanford', 'sang', 'sangaria', 'sangioves', 'sangria', 'sanibel', 'sanit', 'sanitari', 'saniti', 'sank', 'sanka', 'sanni', 'sanora', 'sanskrit', 'sant', 'santa', 'santacruz', 'santand', 'santini', 'santita', 'santo', 'santoor', 'sanwich', 'sao', 'saon', 'sap', 'sapid', 'sapl', 'saponin', 'sapphir', 'sappl', 'sapporo', 'sara', 'sarabeth', 'sarah', 'saran', 'sarangi', 'saratoga', 'sarbeth', 'sarcasm', 'sarcast', 'sardenia', 'sardin', 'sardinia', 'sardinilla', 'sarg', 'sarni', 'saronno', 'sarrano', 'sarsaparilla', 'sart', 'sartori', 'sasag', 'sase', 'sashimi', 'saskatoon', 'saskatooni', 'sasparilla', 'sass', 'sassafra', 'sassi', 'sat', 'satan', 'satanist', 'satasfi', 'satay', 'satchel', 'sate', 'satellit', 'sather', 'sathwic', 'satian', 'satiat', 'satidfu', 'satif', 'satifi', 'satifiy', 'satin', 'satini', 'satisf', 'satisfact', 'satisfactori', 'satisfi', 'satisfid', 'satisfyin', 'satisi', 'satisif', 'satisifi', 'satistfi', 'satisti', 'sativum', 'satsifi', 'sattvic', 'satuar', 'satur', 'saturday', 'sauc', 'saucepan', 'saucepot', 'saucer', 'saucett', 'sauci', 'sauciss', 'saucisson', 'saudi', 'saudia', 'sauec', 'sauerbraten', 'sauerkraut', 'saugag', 'saugatuck', 'saunier', 'saunter', 'saus', 'sausag', 'sauseg', 'sausgag', 'saut', 'saute', 'sautern', 'sauv', 'sauvi', 'sauvignon', 'sav', 'savag', 'savannah', 'save', 'saver', 'savi', 'savina', 'savini', 'savior', 'savoiardi', 'savon', 'savor', 'savori', 'savour', 'savouri', 'savoy', 'savvi', 'saw', 'sawdust', 'sawdusti', 'saxbi', 'say', 'sayif', 'sayin', 'sazerac', 'sazon', 'sbc', 'sbcs', 'sbd', 'sbr', 'sbuck', 'sbux', 'sca', 'scab', 'scabi', 'scad', 'scaf', 'scahet', 'scald', 'scale', 'scali', 'scalli', 'scallion', 'scallop', 'scalop', 'scalp', 'scam', 'scamazon', 'scambl', 'scammer', 'scamper', 'scampi', 'scan', 'scandal', 'scandinavia', 'scandinavian', 'scanner', 'scant', 'scanti', 'scape', 'scapegoat', 'scaptic', 'scar', 'scarc', 'scarciti', 'scare', 'scarec', 'scaredi', 'scarf', 'scari', 'scarier', 'scarlet', 'scarlett', 'scarlt', 'scarpetta', 'scarpetto', 'scarrpetta', 'scarv', 'scat', 'scath', 'scatter', 'scauc', 'scavang', 'scaveng', 'scawnier', 'sccop', 'scd', 'scean', 'scedul', 'sceletium', 'scenario', 'scenc', 'scene', 'sceneri', 'scenic', 'scent', 'sceptial', 'sceptic', 'schar', 'scharfenberg', 'scharffen', 'schedul', 'scheme', 'schepp', 'scheubl', 'schewpp', 'schezuan', 'schidigera', 'schill', 'schiller', 'schipperk', 'schitzu', 'schizandra', 'schlep', 'schloch', 'schlocki', 'schluss', 'schmanci', 'schmear', 'schmegecki', 'schmick', 'schmidt', 'schmo', 'schmooz', 'schmuck', 'schnapp', 'schnatzlet', 'schnauser', 'schnauzer', 'schnellimbiss', 'schnere', 'schnick', 'schnoodl', 'schnouzer', 'schnuck', 'schoeberl', 'schokinag', 'school', 'schoolboy', 'schoolbus', 'schoolday', 'schooler', 'schoolkrijt', 'schooll', 'schoolsaf', 'schoolwork', 'schramsburg', 'schrod', 'schtick', 'schultz', 'schwan', 'schwann', 'schwartzwald', 'schwep', 'schwepp', 'scian', 'sciatica', 'scienc', 'sciencediet', 'scienfic', 'scientif', 'scientist', 'scinc', 'scissor', 'scissorhand', 'sciutto', 'scleroderma', 'sclerosi', 'scof', 'scoff', 'scolvill', 'scone', 'scoobi', 'scoop', 'scoopabl', 'scooper', 'scoot', 'scooter', 'scope', 'scorch', 'scord', 'score', 'scorn', 'scorpion', 'scortish', 'scosh', 'scot', 'scotch', 'scotia', 'scotland', 'scotsman', 'scotsmen', 'scott', 'scotti', 'scottish', 'scottsdal', 'scoup', 'scour', 'scourc', 'scous', 'scout', 'scovi', 'scovill', 'scowl', 'scrach', 'scracth', 'scrambl', 'scrambler', 'scrammbl', 'scrap', 'scrape', 'scrappi', 'scrappl', 'scratch', 'scratcher', 'scratchi', 'scrath', 'scrawl', 'scrawni', 'scrawnier', 'scream', 'scree', 'screech', 'screen', 'screw', 'screwdriv', 'screwi', 'scrimp', 'script', 'scriptur', 'scriven', 'scrod', 'scroll', 'scroung', 'scrub', 'scrubber', 'scrubbi', 'scruff', 'scruffi', 'scrum', 'scrumdiddleyumpti', 'scrumdittleyumpti', 'scrummi', 'scrumpdiddlyumsci', 'scrumptioo', 'scrumptious', 'scrumptous', 'scrumptuuti', 'scrumtuuti', 'scrunch', 'scrunchd', 'scrupul', 'scrutin', 'scrutini', 'scs', 'scsourc', 'scsss', 'scudder', 'sculpt', 'sculptur', 'scum', 'scumbag', 'scummi', 'scumptious', 'scungilli', 'scurri', 'scuse', 'scutellarian', 'sczhuan', 'sda', 'sdrink', 'sea', 'seaalo', 'seabear', 'seach', 'seacrest', 'sead', 'seafoo', 'seafood', 'seahors', 'seal', 'sealabl', 'sealant', 'sealer', 'sealham', 'seam', 'seamless', 'seanson', 'seapoint', 'seaport', 'sear', 'search', 'searcher', 'searl', 'seasalt', 'seasam', 'seascap', 'seasem', 'seashel', 'seasid', 'seasilv', 'seasion', 'seasnon', 'season', 'seasong', 'seasongin', 'seasonin', 'seasoningss', 'seasonl', 'seasrch', 'seat', 'seatbelt', 'seatl', 'seattl', 'seattleteacup', 'seaven', 'seawe', 'seaweat', 'seaweedi', 'sebastopol', 'sec', 'secco', 'sechung', 'seclud', 'seclus', 'secon', 'second', 'secondari', 'secondarili', 'secound', 'secrat', 'secret', 'secretari', 'section', 'sector', 'secur', 'sedari', 'sedat', 'sedentari', 'sediment', 'sedona', 'seduc', 'seduct', 'see', 'seed', 'seeder', 'seedi', 'seedin', 'seedl', 'seedland', 'seedless', 'seeeeee', 'seek', 'seeker', 'seelect', 'seelig', 'seem', 'seemd', 'seen', 'seenthi', 'seep', 'seer', 'seet', 'segment', 'segouna', 'segreg', 'segur', 'seil', 'sein', 'seinfeld', 'seit', 'seitan', 'seitenbach', 'seiyo', 'seiz', 'seizor', 'seizur', 'sel', 'selan', 'seldom', 'select', 'selenit', 'selenium', 'selentro', 'self', 'selfish', 'selfmad', 'sell', 'sellabl', 'sellbi', 'selld', 'seller', 'sellin', 'sello', 'sellong', 'seltzer', 'selv', 'semant', 'semblanc', 'semblenc', 'semest', 'semi', 'semiautomat', 'semimoist', 'semin', 'seminar', 'semisolid', 'semisweet', 'semolina', 'semper', 'sen', 'senat', 'senc', 'sencha', 'send', 'sendak', 'sender', 'sendt', 'seneca', 'seneco', 'senegales', 'seneseo', 'seng', 'senior', 'senna', 'senora', 'sens', 'sensat', 'senseitv', 'senseless', 'sensen', 'senseo', 'senseohol', 'senset', 'sensibl', 'sensicar', 'sensit', 'sensitivi', 'sensitivit', 'senso', 'sensor', 'sensori', 'senstiv', 'sensual', 'sensuous', 'sent', 'sentenc', 'senticosus', 'sentient', 'sentiment', 'sentiv', 'sentuous', 'seoul', 'sep', 'separ', 'separat', 'seper', 'sephra', 'sepia', 'sepoy', 'sept', 'septemb', 'septic', 'seqest', 'sequel', 'sequenc', 'sequim', 'serbia', 'serch', 'sere', 'seren', 'serendip', 'serendipitea', 'serfac', 'sergeant', 'sergio', 'seri', 'serial', 'seric', 'serious', 'seriouschai', 'serivc', 'serj', 'seroius', 'serpent', 'serpentini', 'serrano', 'serrapeptas', 'serrat', 'serum', 'serup', 'serv', 'servant', 'servent', 'server', 'servi', 'servic', 'servig', 'servitud', 'servsaf', 'sesaam', 'sesam', 'sesasm', 'seseam', 'sesem', 'sesmark', 'session', 'set', 'setback', 'setiva', 'seto', 'setter', 'settl', 'settlement', 'settler', 'settlt', 'setup', 'seurat', 'sev', 'seveal', 'seven', 'sevencup', 'seventeen', 'seventh', 'seventi', 'sever', 'sevic', 'seviervill', 'sevill', 'sevr', 'sew', 'sewag', 'sewer', 'sewn', 'sex', 'sexi', 'sexifi', 'sexless', 'sexual', 'sez', 'sezm', 'sfbc', 'sftgfop', 'sgain', 'sgetti', 'sghetti', 'shabbi', 'shabbot', 'shabu', 'shack', 'shade', 'shadi', 'shadier', 'shadix', 'shadow', 'shaft', 'shahda', 'shahi', 'shai', 'shaikh', 'shair', 'shake', 'shaken', 'shaker', 'shakespear', 'shakey', 'shaki', 'shakili', 'shale', 'shalimar', 'shall', 'shallot', 'shallow', 'sham', 'shaman', 'shame', 'shameless', 'shampain', 'shampoo', 'shamura', 'shanghai', 'shangri', 'shank', 'shanshad', 'shape', 'shapeli', 'shapnress', 'shar', 'shard', 'share', 'sharehold', 'sharffenberg', 'shark', 'sharki', 'sharon', 'sharonann', 'sharp', 'sharpen', 'sharper', 'sharpish', 'sharpli', 'sharpton', 'shart', 'sharwood', 'shasta', 'shatila', 'shatter', 'shave', 'shaven', 'shaver', 'shaw', 'shawn', 'shazam', 'shcedul', 'shcool', 'shd', 'shea', 'shear', 'sheba', 'shebang', 'shed', 'sheel', 'sheen', 'sheep', 'sheepdog', 'sheepish', 'sheer', 'sheesh', 'sheet', 'shelbi', 'shelf', 'shelfstabl', 'shell', 'shelldwel', 'shellfish', 'shelli', 'shelter', 'shelti', 'shelton', 'shelv', 'shenanigan', 'shennanigan', 'shep', 'shepard', 'sheperd', 'sheph', 'shephard', 'shepherd', 'sheppard', 'sheraton', 'sherbert', 'sherbet', 'sherif', 'sheriff', 'sherlock', 'sherman', 'sherri', 'sheryl', 'shes', 'shetland', 'shg', 'shhh', 'shhhh', 'shhhhh', 'shhhhhhhhhhh', 'shi', 'shia', 'shiba', 'shichimi', 'shicken', 'shield', 'shift', 'shih', 'shihkanes', 'shihp', 'shihtzu', 'shiitak', 'shill', 'shim', 'shimmer', 'shimmeri', 'shin', 'shinawatra', 'shine', 'shiner', 'shiney', 'shingl', 'shini', 'shinier', 'shiniest', 'ship', 'shipe', 'shipment', 'shipo', 'shipp', 'shippent', 'shipper', 'shippin', 'shippiong', 'shippment', 'shirakiku', 'shirataki', 'shiraz', 'shiritaki', 'shirk', 'shirley', 'shiro', 'shirt', 'shiso', 'shitak', 'shiva', 'shiver', 'shiz', 'shizuo', 'shizz', 'shke', 'shmanci', 'shmear', 'shmutz', 'sho', 'shock', 'shocker', 'shockey', 'shoddi', 'shoe', 'shoelac', 'shoepeg', 'shoestr', 'shoevel', 'shold', 'sholder', 'shone', 'shoo', 'shook', 'shoosh', 'shoot', 'shooter', 'shop', 'shope', 'shopkeep', 'shoplift', 'shopp', 'shopper', 'shoprit', 'shorag', 'shore', 'shork', 'shorki', 'short', 'shortag', 'shortbead', 'shortbread', 'shortcak', 'shortchang', 'shortcom', 'shortcut', 'shorten', 'shorter', 'shortest', 'shorthair', 'shorti', 'shortsuppli', 'shot', 'shotgun', 'shou', 'shoud', 'shouid', 'shoulda', 'shoulder', 'shouldnt', 'shoulkd', 'shoumei', 'shouold', 'shout', 'shove', 'shovel', 'show', 'showcas', 'shower', 'showgirl', 'shown', 'showroom', 'showstopp', 'showtim', 'shoyu', 'shppping', 'shrank', 'shrapnel', 'shread', 'shred', 'shredder', 'shreddin', 'shrede', 'shreveport', 'shrewd', 'shriek', 'shrill', 'shrimp', 'shrimpi', 'shrimpmeat', 'shrine', 'shrink', 'shrinkag', 'shrinkwrap', 'shrivel', 'shrivl', 'shroom', 'shroomlici', 'shroomz', 'shrub', 'shrubberi', 'shrug', 'shrunk', 'shrunken', 'shu', 'shuck', 'shuckin', 'shudder', 'shuffl', 'shui', 'shultz', 'shun', 'shup', 'shure', 'shurfin', 'shurocka', 'shut', 'siam', 'siames', 'siber', 'siberian', 'sibl', 'sic', 'sich', 'sichuan', 'sicili', 'sicilia', 'sicilian', 'siciliani', 'sick', 'sickbay', 'sicken', 'sicker', 'sickest', 'sickn', 'sicn', 'sid', 'sidamo', 'side', 'sidebar', 'sidedish', 'sideffect', 'sidekick', 'sidelin', 'sidenot', 'sidestep', 'sidetrack', 'sidewalk', 'sideway', 'sidney', 'sidral', 'siegal', 'siena', 'sierra', 'siev', 'siez', 'sift', 'sifter', 'sifu', 'sigg', 'sigh', 'sighhh', 'sight', 'sightse', 'sign', 'signal', 'signatur', 'signfic', 'signifi', 'signific', 'significa', 'significan', 'significat', 'signifig', 'signifigant', 'sile', 'silenc', 'silent', 'silf', 'silica', 'silicoallumin', 'silicoalumin', 'silicon', 'siljan', 'silk', 'silken', 'silki', 'silkier', 'silkiest', 'silksoy', 'sill', 'silli', 'silliest', 'silva', 'silver', 'silverfish', 'silveri', 'silvia', 'sim', 'simalac', 'simao', 'simba', 'simeon', 'simial', 'simiar', 'similac', 'similar', 'similiac', 'similiar', 'simillar', 'simlpi', 'simmer', 'simmil', 'simmilar', 'simon', 'simpl', 'simplebit', 'simplepac', 'simpler', 'simplest', 'simpli', 'simplic', 'simplifi', 'simplist', 'simplybeauti', 'simplysmooth', 'simpson', 'simsim', 'simul', 'simulacrum', 'simular', 'simultan', 'sin', 'sinc', 'sincei', 'sincer', 'sinder', 'sine', 'sinensi', 'sinew', 'sinewi', 'sing', 'singapor', 'singer', 'singha', 'singl', 'singleservecoffe', 'singular', 'sinist', 'sink', 'sinlg', 'sins', 'sinus', 'sioux', 'sip', 'sipper', 'sippi', 'sir', 'siracha', 'sire', 'siren', 'sirena', 'sirius', 'sirloin', 'sirracha', 'sirup', 'sis', 'sisal', 'sishi', 'sissi', 'sister', 'sit', 'sitck', 'sitcom', 'site', 'sitter', 'situat', 'situp', 'siu', 'six', 'sixer', 'sixpack', 'sixteen', 'sixth', 'sixti', 'sizabl', 'size', 'sizeabl', 'sizzl', 'sizzlin', 'sizzor', 'sjf', 'skaaren', 'skallop', 'skate', 'skelet', 'skeleton', 'skeptcial', 'skeptic', 'skeptism', 'sketch', 'sketchi', 'skew', 'skewer', 'ski', 'skill', 'skillet', 'skim', 'skimp', 'skimpi', 'skin', 'skincar', 'skinless', 'skinner', 'skinni', 'skinnier', 'skip', 'skipjack', 'skippi', 'skirmish', 'skirt', 'skittish', 'skittl', 'skizip', 'skoller', 'skor', 'skull', 'skullcap', 'skunk', 'skunki', 'sky', 'skylar', 'skyler', 'skylin', 'skype', 'skyrocket', 'skyway', 'slab', 'slack', 'slacker', 'slag', 'slake', 'slam', 'slammin', 'slang', 'slant', 'slap', 'slapstick', 'slash', 'slate', 'slather', 'slaughter', 'slaughterhous', 'slave', 'slaveri', 'slaw', 'slc', 'sleazi', 'slect', 'sled', 'sledg', 'sledgehamm', 'sleek', 'sleeker', 'sleep', 'sleepaway', 'sleeper', 'sleepi', 'sleepili', 'sleepless', 'sleepov', 'sleepy', 'sleepyland', 'sleepytim', 'sleev', 'sleeveless', 'slender', 'slenium', 'slept', 'sleuth', 'slew', 'slghtli', 'sli', 'slice', 'slicer', 'slick', 'slicketi', 'slid', 'slide', 'slider', 'slideshow', 'sligh', 'slight', 'slightbritl', 'slightest', 'slighti', 'slim', 'slime', 'slimey', 'slimfast', 'slimi', 'slimjim', 'slimlif', 'slimmer', 'slimmest', 'sling', 'slink', 'slip', 'slipcov', 'slipper', 'slipperi', 'slit', 'slite', 'sliver', 'sliveri', 'sll', 'slo', 'slobber', 'slobberi', 'slog', 'slogan', 'sloght', 'sloooowwwli', 'sloopi', 'slop', 'slope', 'sloppi', 'slosh', 'slot', 'sloth', 'slouch', 'slough', 'slovakia', 'slow', 'slower', 'slowli', 'sls', 'sluder', 'sludg', 'sludgi', 'slug', 'slugger', 'sluggish', 'sluic', 'slum', 'slumber', 'slump', 'slunk', 'slurp', 'slurpe', 'slurpi', 'slurri', 'slush', 'slushi', 'slut', 'smack', 'smackin', 'smaeth', 'smal', 'smaler', 'small', 'smaller', 'smallest', 'smallhold', 'smallish', 'smapler', 'smark', 'smart', 'smartbal', 'smartblend', 'smarter', 'smartest', 'smartfood', 'smarti', 'smartmonkey', 'smartwat', 'smash', 'smatter', 'smear', 'smeel', 'smel', 'smele', 'smell', 'smelli', 'smelliest', 'smellin', 'smelt', 'smen', 'smh', 'smidg', 'smidgen', 'smidgeon', 'smile', 'smiley', 'smint', 'smipl', 'smith', 'smither', 'smithereen', 'smitten', 'sml', 'smmoooth', 'smok', 'smoke', 'smokehous', 'smokeout', 'smoker', 'smokey', 'smoki', 'smokier', 'smokiest', 'smokifi', 'smokin', 'smolder', 'smoooooooth', 'smoooooth', 'smooooth', 'smoooothhh', 'smooosh', 'smoosh', 'smooshi', 'smoosthest', 'smooth', 'smoothe', 'smoothen', 'smoother', 'smoothest', 'smoothi', 'smooti', 'smore', 'smorgasbord', 'smother', 'smucker', 'smudg', 'smuggl', 'smush', 'snack', 'snackabl', 'snacker', 'snacki', 'snackim', 'snackin', 'snackism', 'snackmast', 'snacktim', 'snackwel', 'snackwis', 'snadwich', 'snafu', 'snag', 'snail', 'snak', 'snakc', 'snake', 'snakebit', 'snap', 'snapea', 'snapper', 'snappi', 'snappl', 'snare', 'snarf', 'snarl', 'snatch', 'snausag', 'snax', 'snazzi', 'sncak', 'sneak', 'sneaki', 'sneek', 'sneer', 'sneez', 'snicker', 'snickerdoodl', 'snif', 'sniff', 'sniffer', 'sniffl', 'snifter', 'snikiddi', 'snip', 'snitch', 'snive', 'sno', 'snob', 'snobbi', 'snoodl', 'snook', 'snooker', 'snoopi', 'snoot', 'snooti', 'snootsi', 'snooz', 'snope', 'snore', 'snort', 'snortin', 'snot', 'snotti', 'snout', 'snouti', 'snow', 'snowbal', 'snowboard', 'snowbound', 'snowflak', 'snowi', 'snowman', 'snowmen', 'snowsho', 'snowstorm', 'snozzl', 'snub', 'snuck', 'snuff', 'snug', 'snuggl', 'snyder', 'soak', 'soap', 'soapbox', 'soapi', 'soapwort', 'soar', 'sob', 'soba', 'sobe', 'sober', 'sobrieti', 'socal', 'soccer', 'socco', 'sociabl', 'social', 'socialist', 'societ', 'societi', 'sock', 'socket', 'sockey', 'sod', 'soda', 'sodapop', 'sodawork', 'sodden', 'sode', 'sodium', 'sodona', 'soe', 'soeak', 'soem', 'soemth', 'soeth', 'soever', 'sof', 'sofa', 'sofar', 'sofi', 'soft', 'softbal', 'softdrink', 'soften', 'softer', 'softest', 'softgel', 'softi', 'softish', 'sog', 'soggi', 'soggier', 'soho', 'soil', 'soinc', 'soium', 'sojo', 'sojourn', 'sojournseek', 'soke', 'sol', 'solac', 'solang', 'solar', 'sold', 'soldier', 'sole', 'solea', 'soledad', 'soley', 'soli', 'solic', 'solid', 'solidifi', 'solitari', 'solium', 'solo', 'solomon', 'soluabl', 'solubl', 'solut', 'solv', 'solvent', 'solver', 'somebodi', 'someday', 'somehow', 'somehwat', 'somemor', 'someon', 'someonels', 'someplac', 'somer', 'somerdal', 'somersault', 'somersweet', 'somervill', 'somet', 'someth', 'somethig', 'somethim', 'somethin', 'somethng', 'sometim', 'somewaht', 'someway', 'somewer', 'somewhat', 'somewher', 'somk', 'somma', 'sommeli', 'sommer', 'somoeon', 'somth', 'son', 'sonc', 'song', 'songbird', 'songcraft', 'sonia', 'sonic', 'soninlaw', 'sonnyboo', 'sonoma', 'sonoran', 'sonstwa', 'sontava', 'soo', 'soojian', 'sool', 'soon', 'sooner', 'sooo', 'sooolit', 'sooon', 'soooo', 'sooooo', 'soooooo', 'sooooooo', 'soooooooo', 'sooooooooo', 'soooooooooo', 'sooooooooooo', 'soooooooooooo', 'sooooooooooooo', 'soooooooooooooogood', 'soooooooooooooooo', 'sooooooooooooooooo', 'sooooooooooooooooooo', 'sooooooooooooooooooooo', 'soop', 'sooper', 'soot', 'sooth', 'soother', 'soourc', 'sop', 'sopft', 'sophi', 'sophist', 'sophistri', 'soppi', 'soprano', 'sopressata', 'sorbara', 'sorbat', 'sorbet', 'sorbic', 'sorbit', 'sorbitan', 'sorbitol', 'sorc', 'sorcer', 'sore', 'sorghum', 'sorgum', 'sorrel', 'sorri', 'sorriest', 'sorrow', 'sort', 'sorta', 'sortof', 'soruc', 'sos', 'soth', 'sotomayor', 'souc', 'soucera', 'souchang', 'souchong', 'soucr', 'souffl', 'soufl', 'sough', 'sought', 'soul', 'sould', 'soulfood', 'soulmat', 'sound', 'soundingveri', 'soundtrack', 'soup', 'soupbas', 'souper', 'soupi', 'soupier', 'soupo', 'soupçon', 'sour', 'sourbal', 'sourc', 'sourcream', 'sourdough', 'souri', 'sourish', 'sourkraut', 'soursop', 'sourwood', 'sourz', 'sous', 'south', 'southeast', 'southeastern', 'souther', 'southeren', 'southern', 'southwest', 'southwestern', 'souveneir', 'souvenir', 'sown', 'sox', 'soy', 'soya', 'soyabella', 'soyajoy', 'soybean', 'soybeen', 'soybutt', 'soyjuic', 'soylent', 'soymak', 'soymilk', 'soymillk', 'soynut', 'soyquick', 'soyrizo', 'spa', 'space', 'spacecraft', 'spacer', 'spaceship', 'spacey', 'spacial', 'spackl', 'spade', 'spaetzel', 'spaetzl', 'spag', 'spagett', 'spagetti', 'spagettio', 'spaghetti', 'spaghettio', 'spaghettit', 'spahetti', 'spain', 'spaish', 'spak', 'spakl', 'spam', 'span', 'spangl', 'spaniard', 'spanich', 'spaniel', 'spanish', 'spanki', 'sparc', 'spare', 'sparerib', 'spark', 'sparkel', 'sparki', 'sparkl', 'sparklett', 'sparl', 'sparlk', 'sparlki', 'sparrow', 'spars', 'sparta', 'sparx', 'spas', 'spasm', 'spat', 'spate', 'spatini', 'spatula', 'spawn', 'spay', 'spca', 'speacial', 'spead', 'speak', 'speaker', 'spear', 'spearment', 'spearmint', 'spec', 'specail', 'speci', 'special', 'speciali', 'specialist', 'specialtea', 'specialti', 'specif', 'specifi', 'specimen', 'specious', 'speck', 'speckl', 'spectacl', 'spectacular', 'spectra', 'spectrum', 'specul', 'speculaa', 'speculaasj', 'speculatius', 'sped', 'speech', 'speechless', 'speed', 'speede', 'speedi', 'speedier', 'speedili', 'speedstick', 'speedup', 'speghetti', 'spell', 'spelt', 'spencer', 'spend', 'spenda', 'spendi', 'spenelli', 'spent', 'sperri', 'spetrum', 'spew', 'spf', 'sphagetti', 'sphere', 'spheric', 'sphynx', 'spi', 'spicata', 'spice', 'spicer', 'spicey', 'spici', 'spicier', 'spiciest', 'spicy', 'spider', 'spiedi', 'spiff', 'spiffi', 'spighetti', 'spigot', 'spike', 'spiki', 'spill', 'spillag', 'spillov', 'spilt', 'spin', 'spinach', 'spinachi', 'spinal', 'spind', 'spindl', 'spine', 'spinich', 'spinkl', 'spinnach', 'spinner', 'spinnin', 'spinosi', 'spiracha', 'spiral', 'spirit', 'spiritu', 'spirulina', 'spit', 'spite', 'spittin', 'spitz', 'spizzl', 'splash', 'splatter', 'splenda', 'splendid', 'splendor', 'splensa', 'splenter', 'splice', 'splinter', 'splinteri', 'split', 'splotchi', 'splurg', 'spoil', 'spoilag', 'spoiler', 'spoili', 'spoilt', 'spoke', 'spoken', 'spokesperson', 'spokeswoman', 'sponch', 'spong', 'spongey', 'spongi', 'spongier', 'sponikopita', 'sponsor', 'spontan', 'spoodl', 'spoof', 'spook', 'spooki', 'spookiest', 'spool', 'spoon', 'spoonabl', 'spoonful', 'sporad', 'spork', 'sporki', 'sport', 'sportea', 'sporti', 'sportsbottl', 'sportskid', 'sportsteam', 'spot', 'spotajava', 'spotless', 'spotti', 'spous', 'spout', 'spouter', 'sprain', 'sprang', 'sprat', 'sprawl', 'spray', 'spraycan', 'sprayer', 'spre', 'spread', 'spreadabl', 'spreader', 'spreadib', 'sprecher', 'sprectrum', 'spree', 'spri', 'sprig', 'sprightli', 'spring', 'springboard', 'springer', 'springerl', 'springi', 'springtim', 'springwat', 'sprink', 'sprinkel', 'sprinkelz', 'sprinkl', 'sprinkler', 'sprint', 'sprite', 'spritz', 'spritzer', 'sprout', 'sproutabl', 'sprouter', 'sproutmast', 'spruce', 'sprudel', 'sprue', 'sprung', 'spud', 'spun', 'spungi', 'spunk', 'spunki', 'spunkier', 'spur', 'spurlock', 'spurt', 'spurtl', 'spuyten', 'sqare', 'sqeez', 'sqish', 'squabbl', 'squad', 'squander', 'squar', 'squarish', 'squash', 'squat', 'squeak', 'squeaker', 'squeaki', 'squeal', 'squealer', 'squeamish', 'squeeez', 'squeek', 'squeeker', 'squeeki', 'squeemish', 'squees', 'squeez', 'squeezabl', 'squeezer', 'squeezi', 'squelch', 'squemish', 'squid', 'squidi', 'squiggl', 'squinsh', 'squint', 'squirel', 'squirm', 'squirmi', 'squirr', 'squirrel', 'squirrl', 'squirt', 'squish', 'squishi', 'squrrel', 'srb', 'sre', 'srei', 'sri', 'sriarcha', 'srimp', 'sriracha', 'srirachi', 'ssi', 'ssl', 'ssn', 'ssometh', 'ssshhhhh', 'ssssoooo', 'stab', 'stabil', 'stabilis', 'stabl', 'stabliz', 'stacey', 'staci', 'stack', 'stackabl', 'stacker', 'stadard', 'stadium', 'staek', 'staff', 'stag', 'stage', 'stagger', 'stagnant', 'stahley', 'staight', 'stail', 'stain', 'stainless', 'stair', 'stake', 'stakich', 'stale', 'stalest', 'stalk', 'stalker', 'stall', 'stalwart', 'stamina', 'stamp', 'stamped', 'stanc', 'stand', 'standabl', 'standalon', 'standard', 'standbi', 'standerd', 'standout', 'standpoint', 'stang', 'stank', 'stanki', 'stanley', 'stanol', 'stantard', 'staock', 'stapel', 'staph', 'stapl', 'stapler', 'stappl', 'star', 'starberri', 'starbrit', 'starbuck', 'starburst', 'starch', 'starchi', 'starchier', 'stardom', 'stare', 'staret', 'starfish', 'starflak', 'starfleet', 'starfruit', 'stark', 'starkist', 'starl', 'starlight', 'starlit', 'starmark', 'starpucki', 'starship', 'starsux', 'start', 'startbuck', 'startchi', 'starter', 'startl', 'startlement', 'staruat', 'starv', 'starvat', 'stasbil', 'stash', 'stashtea', 'stassen', 'stat', 'state', 'statement', 'staten', 'stater', 'statesid', 'statesman', 'stati', 'statin', 'station', 'stationari', 'statisfi', 'statist', 'statu', 'status', 'statut', 'statutori', 'stauffer', 'staunch', 'staunchest', 'stave', 'staw', 'stawberri', 'stay', 'staybridg', 'stead', 'steadfast', 'steadi', 'steadili', 'steaem', 'steak', 'steakhous', 'steal', 'stealer', 'steam', 'steamboat', 'steamer', 'steamfresh', 'steami', 'steamrol', 'stear', 'steavia', 'steaz', 'steeeler', 'steel', 'steelcut', 'steeler', 'steep', 'steepag', 'steeper', 'steepl', 'steer', 'steevia', 'steffi', 'steggin', 'steinway', 'stella', 'stellar', 'stem', 'stemlet', 'stemmi', 'stemwar', 'stench', 'stength', 'stengthen', 'stent', 'step', 'stepbroth', 'stepchild', 'stepchildren', 'stepfath', 'stephani', 'stephen', 'stepmom', 'stepson', 'steral', 'stereo', 'stereoisom', 'stereotyp', 'steril', 'sterilis', 'sterl', 'stern', 'sterner', 'steroid', 'sterol', 'steve', 'steveia', 'steven', 'stevi', 'stevia', 'steviaclear', 'steviad', 'steviaplus', 'steviatab', 'steviol', 'steviosid', 'stevita', 'stew', 'stewardship', 'stewart', 'sthe', 'stich', 'stick', 'sticker', 'stickeri', 'sticki', 'stickier', 'stickler', 'stickss', 'stict', 'stif', 'stiff', 'stiffer', 'stifn', 'stigma', 'stil', 'still', 'stilll', 'stilton', 'stimul', 'stimulus', 'sting', 'stinger', 'stingi', 'stink', 'stinker', 'stinki', 'stinkiest', 'stinkin', 'stinkofor', 'stint', 'stip', 'stipul', 'stir', 'stire', 'stirfri', 'stirl', 'stirrer', 'stitch', 'stix', 'stock', 'stocker', 'stockhold', 'stockholm', 'stockhous', 'stockpil', 'stockpot', 'stoer', 'stoganoff', 'stoke', 'stold', 'stole', 'stolen', 'stoli', 'stollen', 'stolzer', 'stomach', 'stomachach', 'stomack', 'stomic', 'stomp', 'stone', 'stonecut', 'stonehous', 'stonemil', 'stoneridg', 'stonewal', 'stong', 'stonger', 'stoni', 'stood', 'stool', 'stoop', 'stop', 'stopck', 'stope', 'stopp', 'stopper', 'stor', 'stora', 'storabl', 'storag', 'store', 'storebought', 'storefront', 'stori', 'stork', 'storm', 'stormi', 'storng', 'storylin', 'storytel', 'stouffer', 'stout', 'stove', 'stover', 'stovetop', 'stovi', 'stow', 'straberri', 'straddl', 'strage', 'stragehtii', 'straggler', 'stragl', 'straight', 'straighten', 'straightend', 'straightforward', 'straightway', 'strain', 'strainer', 'strait', 'stramondo', 'strand', 'strang', 'stranger', 'strangest', 'strap', 'stratch', 'strateg', 'strategi', 'stratospher', 'straub', 'stravecchio', 'straw', 'strawberi', 'strawberri', 'strawberriless', 'strawberrri', 'strawberryish', 'strawberyy', 'strawcerri', 'stray', 'streach', 'streak', 'stream', 'streamlin', 'streamrol', 'street', 'streisand', 'strenght', 'strenghth', 'strength', 'strengthen', 'strenth', 'strenuous', 'strep', 'streptococcus', 'stress', 'stretch', 'stretcher', 'stretchi', 'streusel', 'strewberri', 'strewn', 'strianes', 'stricken', 'strict', 'stride', 'strieght', 'strike', 'strikin', 'striliz', 'string', 'stringent', 'stringer', 'stringi', 'stringless', 'strink', 'strip', 'stripe', 'strive', 'stroganoff', 'stroke', 'stroll', 'stroller', 'stron', 'stroner', 'strong', 'stronganoff', 'stronger', 'strongest', 'stronggg', 'stronghold', 'stroopi', 'stroopwafel', 'stroopwafeln', 'struck', 'structer', 'structur', 'struggel', 'struggl', 'strugl', 'strung', 'strut', 'struvit', 'strwaberri', 'stryofoam', 'stub', 'stubb', 'stubborn', 'stuck', 'student', 'studi', 'studio', 'stuf', 'stufe', 'stuff', 'stuffer', 'stufff', 'stuffi', 'stuggl', 'stumach', 'stumbl', 'stump', 'stumpi', 'stun', 'stunbl', 'stung', 'stunk', 'stunt', 'stupend', 'stupid', 'stupor', 'stuporstiti', 'sturdi', 'sturdier', 'sturdiest', 'sturgeon', 'sturgi', 'stye', 'style', 'stylish', 'stylist', 'styliz', 'stymi', 'styoform', 'stypl', 'styrafoam', 'styrofoam', 'styrofoami', 'styx', 'su', 'sua', 'suac', 'suagr', 'suasag', 'suav', 'sub', 'subconsci', 'subcrib', 'subcript', 'subcutan', 'subdivis', 'subdu', 'suberb', 'subfamili', 'subject', 'sublim', 'sublingu', 'sublt', 'submarin', 'submerg', 'submers', 'submiss', 'submit', 'subpar', 'subract', 'subscib', 'subscipt', 'subscrb', 'subscrib', 'subscript', 'subsequ', 'subset', 'subsid', 'subsidi', 'subsidiari', 'subsist', 'subsititut', 'subsitut', 'subsrib', 'subsript', 'substan', 'substanc', 'substanci', 'substandard', 'substani', 'substant', 'substantailli', 'substanti', 'substit', 'substitu', 'substitud', 'substitut', 'substiut', 'subt', 'subtali', 'subterfug', 'subtil', 'subtili', 'subtitl', 'subtitut', 'subtl', 'subtler', 'subtlest', 'subtleti', 'subtley', 'subtract', 'subtrop', 'suburb', 'suburban', 'suburbanit', 'subway', 'subzero', 'sucan', 'sucanat', 'sucant', 'succ', 'succanat', 'succeed', 'success', 'succin', 'succinct', 'succses', 'succul', 'succum', 'succumb', 'suce', 'sucess', 'suchard', 'suchong', 'suck', 'suckarooney', 'sucker', 'sucki', 'suckier', 'suckin', 'sucr', 'sucralos', 'sucros', 'sucsess', 'suction', 'sud', 'sudden', 'suddent', 'suder', 'sudorif', 'suds', 'suduko', 'sue', 'suermarket', 'suet', 'suey', 'suf', 'suff', 'suffeci', 'suffer', 'suffic', 'suffici', 'suga', 'sugar', 'sugarbomb', 'sugarbust', 'sugarcan', 'sugarfre', 'sugari', 'sugarless', 'sugartwin', 'sugarwork', 'suger', 'sugest', 'suggar', 'suggess', 'suggest', 'sugggest', 'sugnific', 'sugr', 'sugra', 'sugur', 'suicid', 'suirrel', 'suiss', 'suit', 'suitabl', 'suitcas', 'sujata', 'sukiyaki', 'sulfa', 'sulfat', 'sulfer', 'sulfid', 'sulfit', 'sulfur', 'sulli', 'sulpfur', 'sulphat', 'sulpher', 'sulphit', 'sulphur', 'sultan', 'sultana', 'sultri', 'sum', 'sumac', 'sumatra', 'sumatran', 'summa', 'summar', 'summari', 'summaris', 'summer', 'summerglow', 'summeri', 'summertim', 'summervill', 'summit', 'summmer', 'summon', 'sumpkin', 'sumprem', 'sumptious', 'sumptuous', 'sun', 'sunbath', 'sunbeam', 'sunburn', 'sunbutt', 'sunchang', 'sunchip', 'sunda', 'sunday', 'sundesa', 'sundress', 'sundri', 'sundrop', 'sunflow', 'sunfood', 'sunk', 'sunkist', 'sunlight', 'sunmaid', 'sunni', 'sunnyland', 'sunnyval', 'sunridg', 'sunris', 'sunrit', 'sunscreen', 'sunset', 'sunshin', 'sunspir', 'sunsplash', 'sunsweet', 'suntan', 'suntea', 'suntori', 'sup', 'supberb', 'supe', 'supemarket', 'super', 'superauto', 'superautomat', 'superautomatica', 'superb', 'superbal', 'superbl', 'superbowl', 'supercent', 'supercharg', 'superchoc', 'supercrema', 'superexpens', 'superfast', 'superfici', 'superfin', 'superflu', 'superfood', 'superfoodrx', 'superfruit', 'supergroup', 'superh', 'superio', 'superior', 'superiour', 'superl', 'superlink', 'supermaket', 'superman', 'supermarkdet', 'supermarket', 'supermarketland', 'supermarkey', 'supermart', 'supermix', 'supermodel', 'supernasti', 'supernatur', 'superpow', 'superpump', 'superrmarket', 'supers', 'supersav', 'supersed', 'supersensit', 'superstiti', 'superstor', 'superstrong', 'supersweet', 'supertarget', 'supertast', 'supervis', 'supervisor', 'superwoman', 'suplement', 'suplier', 'supos', 'supp', 'supper', 'suppermarket', 'suppl', 'supplant', 'supplement', 'supplementari', 'suppli', 'supplier', 'suppliment', 'supplment', 'suppopos', 'support', 'suppos', 'suppositori', 'suppost', 'suppres', 'suppress', 'suppressor', 'suppris', 'supr', 'suprem', 'suprema', 'supremo', 'supress', 'suprior', 'supris', 'supriz', 'supurb', 'sur', 'suralos', 'surburban', 'surcalos', 'surcharg', 'sure', 'surefir', 'surefoot', 'surest', 'surf', 'surfa', 'surfac', 'surfer', 'surg', 'surgar', 'surgari', 'surgeon', 'surgeri', 'surgic', 'surimi', 'surinam', 'surmis', 'surnam', 'suround', 'surpass', 'surperb', 'surpirs', 'surpis', 'surpiz', 'surplus', 'surpress', 'surpri', 'surpris', 'surprisng', 'surpriz', 'surreal', 'surrend', 'surreptiti', 'surrog', 'surround', 'surup', 'surveil', 'survey', 'surviv', 'survivalist', 'survivor', 'sus', 'susan', 'susanna', 'suscept', 'suscrib', 'suscript', 'susept', 'susgest', 'sushi', 'susi', 'suspcript', 'suspect', 'suspend', 'suspens', 'suspici', 'suspicion', 'suspiria', 'sustain', 'susten', 'sustitut', 'susupect', 'sut', 'sutler', 'sutra', 'sutter', 'suttl', 'suyrp', 'suzann', 'suzett', 'suzi', 'svan', 'svelt', 'sveral', 'svg', 'swab', 'swaet', 'swagger', 'swahili', 'swallabl', 'swallor', 'swallow', 'swamp', 'swampi', 'swan', 'swanki', 'swanson', 'swap', 'swarm', 'swasde', 'swat', 'swatch', 'swath', 'swatter', 'sway', 'swear', 'sweat', 'sweaten', 'sweater', 'sweati', 'sweatleaf', 'sweatscoop', 'sweatshop', 'swede', 'sweden', 'swedish', 'swee', 'sweedish', 'sweeeeeeet', 'sweeet', 'sweeetner', 'sweeney', 'sweenter', 'sweentess', 'sweentner', 'sweep', 'sweeper', 'sweet', 'sweetart', 'sweetbay', 'sweeteen', 'sweeten', 'sweetend', 'sweeter', 'sweetern', 'sweetest', 'sweetfib', 'sweetgour', 'sweetgourmet', 'sweetgum', 'sweeth', 'sweetheart', 'sweeti', 'sweetin', 'sweetish', 'sweetit', 'sweetleaf', 'sweetn', 'sweetner', 'sweetnesss', 'sweetnlow', 'sweetooth', 'sweetpotato', 'sweettart', 'sweettre', 'sweetwat', 'sweetz', 'swell', 'swellew', 'swelter', 'swenson', 'swept', 'sweten', 'swheat', 'swich', 'swift', 'swifter', 'swifti', 'swig', 'swill', 'swim', 'swimmer', 'swindl', 'swindler', 'swine', 'swineappl', 'swing', 'swipe', 'swir', 'swirl', 'swish', 'swiss', 'swissgold', 'switch', 'swith', 'swithc', 'swither', 'switzerland', 'swizzl', 'swollen', 'swollow', 'swoon', 'swoop', 'sword', 'swordfish', 'swore', 'sworn', 'swtich', 'swung', 'sxtreme', 'syd', 'sydney', 'syfi', 'syke', 'syllabl', 'sylvia', 'symbol', 'symfr', 'symmetr', 'symmetri', 'sympath', 'sympathet', 'sympathi', 'symphoni', 'symption', 'symptom', 'sympton', 'symtom', 'synagogu', 'sync', 'synchron', 'synchroni', 'syncron', 'synder', 'syndrom', 'synergi', 'synergist', 'synonom', 'synonym', 'synthent', 'synthes', 'synthet', 'synthroid', 'syphon', 'syracus', 'syria', 'syring', 'syrup', 'syrupa', 'syruphoney', 'syrupi', 'syruppi', 'system', 'systemat', 'systol', 'sytem', 'sytrinol', 'sytup', 'syurp', 'syurpi', 'szechaun', 'szechuan', 'szechwan', 'szege', 'taaaasti', 'taaza', 'tab', 'tabasco', 'tabbi', 'tabbouleh', 'tabl', 'tablecloth', 'tablefood', 'tablesoon', 'tablespoon', 'tablesppon', 'tablesspoon', 'tablet', 'tablspoon', 'taboo', 'taboul', 'tabouli', 'tac', 'taca', 'tack', 'tacki', 'tackier', 'tackl', 'taco', 'tacoma', 'tacoyaki', 'tacrin', 'tact', 'tactic', 'tactil', 'tad', 'tada', 'tadin', 'taffi', 'tag', 'tagalog', 'tagin', 'tagless', 'tagliatell', 'taglin', 'tahina', 'tahini', 'tahiti', 'tahitian', 'tahn', 'taho', 'tahsildaroglu', 'taht', 'tai', 'taibi', 'tail', 'tailgat', 'tailor', 'taint', 'tainter', 'taisti', 'taiwan', 'taiwanes', 'taj', 'take', 'taken', 'takeo', 'takeout', 'taker', 'takeru', 'tako', 'takoyaki', 'takuan', 'takumi', 'talapia', 'talay', 'talbi', 'talbott', 'talcum', 'tale', 'talea', 'talent', 'talest', 'talk', 'talkin', 'tall', 'tallboy', 'taller', 'tallest', 'tallgrass', 'talli', 'tallow', 'tam', 'tamago', 'tamal', 'tamanu', 'tamari', 'tamarin', 'tamarind', 'tamarindus', 'tamaya', 'tamayokucha', 'tamburini', 'tame', 'tamer', 'tamoxifen', 'tamp', 'tampa', 'tamper', 'tampura', 'tan', 'tandoor', 'tandoori', 'tane', 'tang', 'tanganyika', 'tangaren', 'tangelo', 'tangerin', 'tangi', 'tangibl', 'tangier', 'tangl', 'tango', 'tangy', 'tanic', 'tanin', 'tank', 'tankard', 'tannic', 'tannin', 'tansi', 'tantal', 'tantalyz', 'tantamount', 'tantrum', 'tanzania', 'tanzanian', 'tao', 'taormina', 'tap', 'tapa', 'tapanad', 'tapatio', 'tape', 'tapenad', 'taper', 'tapeworm', 'tapicoa', 'tapioca', 'tapizol', 'tapl', 'tapor', 'tapper', 'taproot', 'tar', 'taragui', 'tarallucci', 'taramosalata', 'tarar', 'target', 'tarharah', 'tarheelst', 'tariff', 'tarmac', 'tarnish', 'taro', 'tarpon', 'tarragon', 'tarrazu', 'tarrot', 'tarrytown', 'tart', 'tartar', 'tarter', 'tartest', 'tarti', 'tartiest', 'tartlet', 'tartufi', 'tarun', 'tasat', 'tasbasco', 'tasco', 'tase', 'taset', 'tasha', 'tasi', 'tasier', 'task', 'taskt', 'tasmania', 'tasmanian', 'tass', 'tassel', 'tassimmo', 'tassimo', 'tassio', 'tast', 'tastabl', 'taste', 'tastebud', 'tasteless', 'tastepadthai', 'taster', 'tastest', 'tastet', 'tastewis', 'tastey', 'tasti', 'tastier', 'tastiest', 'tastin', 'tastless', 'tasts', 'tastybit', 'tastyeat', 'tastyfor', 'tastykak', 'tasy', 'tata', 'tate', 'tater', 'tather', 'tatiana', 'tation', 'tatley', 'tatoo', 'tats', 'tatst', 'tatter', 'tattoo', 'taught', 'taunt', 'taurin', 'taut', 'tava', 'tavalon', 'tavern', 'tawari', 'tawni', 'tax', 'taxi', 'taxlov', 'taylor', 'tayor', 'taz', 'taza', 'tazaa', 'tazmo', 'tazo', 'tazz', 'tazzaru', 'tazzina', 'tban', 'tbe', 'tben', 'tbl', 'tbls', 'tblsp', 'tblspns', 'tblspoon', 'tbs', 'tbsp', 'tbsps', 'tcha', 'tchibo', 'tchoup', 'tcp', 'tdf', 'tdi', 'tdisc', 'tds', 'tea', 'teabag', 'teabal', 'teabox', 'teacak', 'teacakecoffe', 'teach', 'teacher', 'teachous', 'teacup', 'teadrop', 'teag', 'teagarden', 'teahous', 'teak', 'teal', 'tealeav', 'tealik', 'team', 'teammat', 'tean', 'teans', 'teaosophi', 'teapot', 'tear', 'teari', 'tearjerk', 'tearoom', 'teas', 'teasan', 'teaser', 'teashop', 'teasoon', 'teasp', 'teaspon', 'teaspoon', 'teaspoonful', 'teaspooon', 'teaspot', 'teasppon', 'teaspr', 'teast', 'teat', 'teath', 'teatim', 'teavana', 'teawar', 'teazon', 'tech', 'techi', 'technic', 'technician', 'techniqu', 'techno', 'technolog', 'technom', 'tectur', 'teddi', 'tedious', 'tee', 'teebop', 'teeccino', 'teecino', 'teeco', 'teeheehe', 'teeli', 'teem', 'teen', 'teenag', 'teeni', 'teeninsi', 'teensi', 'teensiest', 'teeter', 'teeth', 'teether', 'teetotal', 'teff', 'teflon', 'tega', 'teh', 'tehrewhen', 'teip', 'teisseir', 'tejava', 'tek', 'tekla', 'teleconfer', 'telephon', 'telescop', 'televis', 'telicherri', 'tell', 'teller', 'tellicherri', 'telltal', 'telma', 'tem', 'temecula', 'temp', 'tempah', 'tempat', 'tempeh', 'temper', 'tempera', 'temperament', 'temperatur', 'temperment', 'tempest', 'tempet', 'templ', 'templat', 'tempo', 'temporar', 'temporari', 'temporarili', 'tempt', 'temptat', 'tempura', 'ten', 'tenctones', 'tend', 'tendanc', 'tendenc', 'tender', 'tenderest', 'tenderloin', 'tendon', 'tenfhtcibdabamobag', 'tenfold', 'tenia', 'tennant', 'tennesse', 'tenni', 'tens', 'tensil', 'tension', 'tent', 'tentacl', 'tenth', 'tenur', 'tepenad', 'tepid', 'teqkillya', 'tequila', 'tequilla', 'ter', 'teralingua', 'terephthal', 'teresa', 'teriaki', 'teriff', 'teriyaka', 'teriyaki', 'term', 'termin', 'terminolog', 'termperatur', 'terner', 'terpeneless', 'terra', 'terracycl', 'terrain', 'terrazu', 'terri', 'terriabl', 'terribl', 'terrier', 'terrif', 'terriff', 'terrifi', 'terrin', 'territori', 'terriyaki', 'terro', 'terroir', 'terror', 'teryaki', 'tes', 'tesco', 'tess', 'tessan', 'test', 'testament', 'tester', 'testi', 'testifi', 'testimoni', 'testosteron', 'testur', 'tet', 'tete', 'tetilla', 'tetley', 'tetra', 'tetrafin', 'tetrazzini', 'tevana', 'texa', 'texan', 'texarkana', 'texasalsa', 'texmati', 'text', 'textbook', 'texter', 'textil', 'texttur', 'textur', 'texur', 'texutur', 'tey', 'tfas', 'tfg', 'tgbop', 'tge', 'tgfbop', 'tgfop', 'tha', 'thaen', 'thai', 'thailand', 'thaimin', 'thaini', 'thaitini', 'thaksin', 'thali', 'tham', 'thamk', 'thana', 'thani', 'thank', 'thanke', 'thankgiv', 'thanks', 'thanksgiv', 'thankss', 'thankulli', 'thankyou', 'thansk', 'thant', 'thanth', 'thanx', 'thar', 'thas', 'thast', 'that', 'thaught', 'thaw', 'thay', 'thck', 'thckener', 'theand', 'theanin', 'theas', 'theater', 'theather', 'theatr', 'theatric', 'thebest', 'thedescript', 'thee', 'thees', 'theft', 'theh', 'thei', 'theit', 'theiv', 'them', 'theme', 'themeselv', 'themself', 'themslev', 'themto', 'thenc', 'thensuggest', 'theo', 'theobromin', 'theophyllin', 'theoret', 'theori', 'theoriz', 'thepowd', 'ther', 'therapeut', 'therapi', 'therapist', 'there', 'thereabout', 'thereaft', 'thereat', 'therebi', 'therefor', 'therefrom', 'therein', 'thereof', 'thereon', 'thermal', 'thermo', 'thermogen', 'thermogenesi', 'thermomet', 'thermonuclear', 'thermophilum', 'thermostat', 'therr', 'thes', 'thesa', 'thesam', 'these', 'thesedon', 'thesi', 'thess', 'thet', 'thew', 'theworldaccordingtoeggfac', 'they', 'theyll', 'theyr', 'thhey', 'thhis', 'thi', 'thia', 'thiamin', 'thick', 'thicken', 'thicker', 'thickest', 'thickish', 'thickner', 'thie', 'thier', 'thiev', 'thieveri', 'thigh', 'thighmast', 'thik', 'thikn', 'thill', 'thim', 'thimbl', 'thimothi', 'thin', 'thine', 'thiner', 'thing', 'thingi', 'think', 'thinker', 'thinkin', 'thinkof', 'thinkorgan', 'thinkthin', 'thinner', 'thinnest', 'thinnish', 'third', 'thiri', 'thirst', 'thirsti', 'thirstier', 'thirteen', 'thirti', 'thise', 'thison', 'thistl', 'thisw', 'thius', 'thje', 'thks', 'thm', 'thme', 'thng', 'tho', 'thoe', 'thoght', 'thoma', 'thomi', 'thompson', 'thong', 'thoough', 'thorn', 'thornton', 'thorough', 'thos', 'thou', 'though', 'thought', 'thoughtful', 'thoughtless', 'thougnt', 'thougt', 'thougth', 'thourht', 'thourough', 'thousand', 'thow', 'thr', 'thrall', 'thrash', 'thre', 'thread', 'threat', 'threaten', 'three', 'threee', 'threesom', 'thresh', 'threshold', 'threw', 'thri', 'thrice', 'thrid', 'thrift', 'thrifti', 'thrill', 'thriller', 'thrist', 'thrive', 'throad', 'throat', 'throb', 'throne', 'throttl', 'throug', 'through', 'throughout', 'throught', 'throuh', 'throuth', 'throw', 'throwaway', 'throwback', 'thrown', 'throwng', 'thru', 'thrugh', 'thruogh', 'thrush', 'thrust', 'thryoid', 'ths', 'thse', 'thsee', 'thses', 'thsi', 'thst', 'tht', 'thta', 'thud', 'thug', 'thugh', 'thujon', 'thumb', 'thumbnail', 'thumbprint', 'thump', 'thunder', 'thunderstorm', 'thunk', 'thur', 'thursday', 'thus', 'thusfar', 'thusli', 'thw', 'thwart', 'thx', 'thyme', 'thyroid', 'thyself', 'tia', 'tiberius', 'tibet', 'tibetan', 'tibetian', 'tic', 'tick', 'ticker', 'ticket', 'tickl', 'ticklish', 'tico', 'tictac', 'tid', 'tidal', 'tidbit', 'tide', 'tideov', 'tidi', 'tidier', 'tie', 'tiempo', 'tienda', 'tier', 'tierd', 'tierra', 'tiger', 'tigh', 'tigher', 'tight', 'tighten', 'tighter', 'tighti', 'tightrop', 'tightwad', 'tijuana', 'tike', 'tiki', 'tikka', 'tikyada', 'til', 'tilapia', 'tilda', 'tile', 'tilia', 'till', 'tilt', 'tim', 'timber', 'timberwolf', 'timbuktoo', 'time', 'timefram', 'timeless', 'timeli', 'timem', 'timer', 'timesav', 'timet', 'timid', 'timley', 'timli', 'timonthi', 'timothi', 'timoti', 'timtam', 'tin', 'tincan', 'tinch', 'tinctur', 'tine', 'ting', 'tingl', 'tini', 'tinier', 'tiniest', 'tink', 'tinker', 'tinkerbel', 'tinkerbell', 'tinkiyada', 'tinkl', 'tinkyada', 'tinni', 'tinsel', 'tinsi', 'tint', 'tinyada', 'tinyaka', 'tip', 'tiparo', 'tipe', 'tippi', 'tipsi', 'tiptop', 'tiptre', 'tiramisu', 'tiramisus', 'tircon', 'tire', 'tired', 'tiresom', 'tiropita', 'tis', 'tisan', 'tishomingo', 'tisk', 'tissan', 'tissot', 'tissu', 'tit', 'titan', 'titanium', 'titch', 'titl', 'tito', 'titrat', 'tittl', 'titular', 'titusvill', 'tiwn', 'tizzi', 'tjs', 'tks', 'tku', 'tlbs', 'tlc', 'tlcs', 'tlingit', 'tmhey', 'tmi', 'tmj', 'tnereaft', 'tnr', 'tnx', 'to', 'toad', 'toast', 'toastbread', 'toaster', 'toasti', 'toastier', 'tobacco', 'tobacman', 'tobago', 'tobasco', 'tobaso', 'tobi', 'tobleron', 'tock', 'tocopheroi', 'tocopherol', 'today', 'todd', 'toddi', 'toddler', 'todo', 'toe', 'toerat', 'toffe', 'toffifay', 'tofo', 'tofu', 'tofuki', 'tofurkey', 'tofurki', 'tofutti', 'tog', 'togarashi', 'togarishi', 'togeath', 'togeht', 'togeth', 'toggl', 'toghter', 'toh', 'tohav', 'toil', 'toilet', 'tointroduc', 'token', 'tokonam', 'tokyo', 'toland', 'tolberon', 'told', 'tole', 'tolenc', 'toler', 'tolerab', 'tolerablel', 'toll', 'toller', 'tollhous', 'tom', 'tomaoto', 'tomat', 'tomatillo', 'tomato', 'tomatoey', 'tomb', 'tomcat', 'tome', 'tomfooleri', 'tomlinson', 'tommi', 'tommorow', 'tomoato', 'tomorrow', 'tomothi', 'tomoto', 'ton', 'tone', 'toner', 'tong', 'tongkat', 'tongol', 'tongu', 'toni', 'tonic', 'tonight', 'toniq', 'tonit', 'tonkatsu', 'tonn', 'tonnag', 'tonnino', 'tonno', 'tonsil', 'tonsilectomi', 'tooberri', 'took', 'tool', 'toomuch', 'toon', 'tooni', 'tooo', 'toooo', 'tooooo', 'toooooo', 'tooooooooo', 'toooooooooooooooo', 'toorder', 'toot', 'tooter', 'tooth', 'toothach', 'toothbrush', 'toothi', 'toothless', 'toothpast', 'toothpasti', 'toothpic', 'toothpick', 'toothppick', 'toothsom', 'tooti', 'tootin', 'tootl', 'tootpick', 'tootsi', 'top', 'topanga', 'tope', 'toph', 'tophat', 'topic', 'topnot', 'topnotch', 'topo', 'topp', 'topper', 'topsi', 'topsid', 'tor', 'torani', 'torchon', 'torcik', 'tore', 'toriani', 'torii', 'torilla', 'torines', 'torino', 'torment', 'tormentor', 'torn', 'toro', 'toronto', 'torqu', 'torr', 'torrincini', 'torron', 'torso', 'tort', 'torta', 'tortellini', 'tortilla', 'tortillaland', 'tortoga', 'tortois', 'tortoiseshel', 'tortuga', 'tortuosum', 'tortur', 'torula', 'torward', 'toscana', 'toss', 'tosser', 'tost', 'tostada', 'tostito', 'tot', 'total', 'totali', 'tote', 'toth', 'toto', 'totoal', 'totw', 'tou', 'toubl', 'toubro', 'touch', 'touchi', 'tough', 'toughen', 'tougher', 'toughest', 'tought', 'toulous', 'toung', 'tour', 'tourangell', 'tourist', 'tournament', 'tournment', 'tout', 'tov', 'tova', 'tovolo', 'toward', 'towel', 'tower', 'towl', 'town', 'towner', 'townsfolk', 'toxic', 'toxiclenz', 'toxicolog', 'toxicologist', 'toxin', 'toy', 'toyko', 'toyota', 'tplo', 'tpp', 'trace', 'traceabl', 'tracer', 'trachea', 'track', 'tracker', 'tract', 'tractic', 'tractor', 'trade', 'tradeabl', 'trademark', 'tradeoff', 'trader', 'tradeshow', 'tradicion', 'tradit', 'traditionalist', 'traditon', 'tradizional', 'tradtion', 'traffic', 'traffick', 'tragedi', 'tragic', 'traid', 'trail', 'trailer', 'trailhead', 'trailmix', 'train', 'trainer', 'trait', 'trajectori', 'trake', 'tramma', 'tramp', 'trampl', 'trampolin', 'tran', 'tranc', 'tranfer', 'tranquil', 'transact', 'transactt', 'transcend', 'transcendent', 'transer', 'transfat', 'transfer', 'transfix', 'transform', 'transgress', 'transient', 'transit', 'translat', 'transliter', 'transluc', 'transluec', 'transmiss', 'transmit', 'transmitt', 'transpar', 'transpir', 'transplant', 'transport', 'transvaal', 'trap', 'trapani', 'trapez', 'trapper', 'trappist', 'trash', 'trashcan', 'trashi', 'trate', 'trattoria', 'trauma', 'traumat', 'traunfeld', 'travel', 'travers', 'travesti', 'travi', 'tray', 'traynor', 'trea', 'treacheri', 'treacl', 'tread', 'treader', 'treadmil', 'trear', 'treasur', 'treat', 'treatabl', 'treatbal', 'treatd', 'treater', 'treati', 'treatment', 'treatsin', 'treatt', 'treavel', 'treck', 'tree', 'treebark', 'treenut', 'treeoflif', 'treet', 'treetop', 'trek', 'treki', 'trekker', 'tremend', 'trend', 'trendi', 'trendier', 'trendsett', 'trenton', 'trepid', 'trepidati', 'tres', 'tresor', 'tress', 'tri', 'triad', 'trial', 'triangl', 'triangluar', 'triangular', 'triathalon', 'triathlet', 'triathlon', 'tribal', 'tribe', 'triberi', 'tribul', 'tribut', 'tributari', 'tricalcium', 'trichoderma', 'tricia', 'trick', 'trickeri', 'tricki', 'trickier', 'trickl', 'trickster', 'triclopyr', 'tricolor', 'tricycl', 'trident', 'triest', 'trifecta', 'trifl', 'trigger', 'triglycerid', 'trigylcerid', 'trillionair', 'trim', 'trimest', 'trimmer', 'tring', 'trini', 'trinidad', 'trinitario', 'triniti', 'trink', 'trinket', 'trio', 'trioka', 'trip', 'tripe', 'triphala', 'tripl', 'triplet', 'tripolyphosph', 'tripper', 'trippl', 'triscuit', 'trist', 'tristat', 'trisuit', 'tritical', 'triumph', 'triumphant', 'triumvir', 'trivet', 'trivia', 'trivial', 'trix', 'trixi', 'trobul', 'trocomar', 'troglia', 'trojan', 'troll', 'trolley', 'trolli', 'tromp', 'troop', 'trooper', 'trophi', 'tropic', 'tropica', 'tropicana', 'tropifruit', 'trot', 'trott', 'troubl', 'troublemak', 'troublesom', 'trouffl', 'trough', 'trounc', 'trout', 'trow', 'troy', 'trree', 'trsut', 'tru', 'trubl', 'trucchi', 'truck', 'truckload', 'trudeau', 'trudg', 'true', 'truefulli', 'truelemon', 'trueli', 'truelli', 'truer', 'truest', 'truffel', 'truffett', 'truffier', 'truffl', 'truley', 'truli', 'trulli', 'truman', 'trump', 'trumpet', 'trumpetlik', 'trun', 'truncat', 'trung', 'trunk', 'trunkful', 'truson', 'trust', 'trusti', 'trustworthi', 'truth', 'truthful', 'truvia', 'tryer', 'tryin', 'tryout', 'tryptophan', 'trys', 'tsa', 'tsang', 'tseucher', 'tsi', 'tso', 'tsp', 'tspn', 'tspns', 'tsps', 'tsu', 'tsuji', 'ttttea', 'tuaca', 'tub', 'tubb', 'tube', 'tuber', 'tuberculosi', 'tubi', 'tubular', 'tuck', 'tucker', 'tuckload', 'tucson', 'tue', 'tuesday', 'tuff', 'tuffest', 'tuffi', 'tuft', 'tufu', 'tug', 'tuhi', 'tukey', 'tulear', 'tulepo', 'tulip', 'tull', 'tulli', 'tullip', 'tulsa', 'tulsi', 'tum', 'tumbl', 'tumbler', 'tumer', 'tummi', 'tummyach', 'tumor', 'tumour', 'tun', 'tuna', 'tunafish', 'tundra', 'tune', 'tunea', 'tung', 'tunisia', 'tunisian', 'tunnel', 'tuno', 'tuo', 'tupelo', 'tupperwar', 'turano', 'turbinado', 'turbinato', 'turbo', 'turbon', 'turd', 'turducken', 'turf', 'turk', 'turket', 'turkey', 'turkish', 'turkisk', 'turmer', 'turmoil', 'turn', 'turnabout', 'turnaround', 'turner', 'turnip', 'turnoff', 'turnov', 'turnpik', 'turntabl', 'turpentin', 'turquois', 'turron', 'turtl', 'turvi', 'tuscan', 'tuscani', 'tusk', 'tussl', 'tut', 'tuto', 'tutti', 'tutu', 'tutus', 'tuvi', 'tuxedo', 'tvp', 'tvs', 'twain', 'twang', 'twangin', 'tweak', 'tweaker', 'tweek', 'tween', 'tweezer', 'twelv', 'twenti', 'twice', 'twichd', 'twig', 'twiggi', 'twiggl', 'twiglet', 'twilight', 'twin', 'twine', 'twing', 'twingl', 'twinki', 'twinkl', 'twinlab', 'twinsi', 'twirl', 'twisler', 'twist', 'twisti', 'twit', 'twitch', 'twitchi', 'twitter', 'twix', 'twizz', 'twizzler', 'two', 'twofer', 'twos', 'twosom', 'tyke', 'tylanol', 'tylenol', 'tyler', 'tyme', 'tyner', 'tyotal', 'typ', 'typcial', 'type', 'typecast', 'typeo', 'typhoo', 'typhoon', 'typic', 'typicali', 'typo', 'typograph', 'typooh', 'tyramin', 'tyre', 'tyrkisk', 'tyron', 'tyson', 'tzaneen', 'tzao', 'tzatziki', 'tzu', 'tzus', 'ubabl', 'uber', 'ubet', 'ubiquit', 'ucc', 'uci', 'ucki', 'ucla', 'ud', 'uda', 'udder', 'uder', 'udi', 'udo', 'udon', 'uel', 'ugggh', 'ugh', 'ughh', 'ughhhh', 'ugli', 'uhm', 'uht', 'uiniform', 'uisgu', 'uji', 'ukra', 'ukrain', 'ulcer', 'ulgh', 'ulik', 'ulinov', 'ulitm', 'ultim', 'ultra', 'ultramix', 'ultrasound', 'ultraviolet', 'umami', 'umber', 'ume', 'umeboshi', 'umf', 'umm', 'ummm', 'ummmm', 'ummmmm', 'ummmmmmm', 'ummmmmmmmmmm', 'umpf', 'umph', 'unabel', 'unabl', 'unaccept', 'unaccompani', 'unaccustom', 'unadopt', 'unadorn', 'unadulter', 'unadventur', 'unadvertis', 'unaffect', 'unafford', 'unagi', 'unal', 'unalt', 'unanim', 'unansw', 'unanticip', 'unapoliget', 'unapologet', 'unapp', 'unappeal', 'unappet', 'unappologet', 'unappreci', 'unargu', 'unasham', 'unassail', 'unassist', 'unassum', 'unattach', 'unattend', 'unattract', 'unauthor', 'unavail', 'unavailbl', 'unavoid', 'unawar', 'unbak', 'unbalanc', 'unbear', 'unbeat', 'unbeknownst', 'unbeleiv', 'unbelev', 'unbeliev', 'unbeliv', 'unbias', 'unbl', 'unblanch', 'unbleach', 'unblemish', 'unblend', 'unbought', 'unbox', 'unbrand', 'unbreak', 'unbreath', 'unbrew', 'unbridl', 'unbroken', 'unbrown', 'unburn', 'unbutt', 'unc', 'uncaffein', 'uncal', 'uncanni', 'uncap', 'uncar', 'uncertain', 'unchang', 'uncharacterist', 'unchart', 'uncheck', 'unchees', 'unchew', 'uncl', 'unclean', 'unclear', 'uncomfort', 'uncommon', 'uncompar', 'uncompl', 'uncompromis', 'unconcern', 'unconcsiouli', 'uncondit', 'unconnect', 'unconsci', 'uncontamin', 'uncontest', 'uncontrol', 'unconvent', 'uncook', 'uncool', 'uncoordin', 'uncount', 'uncouth', 'uncov', 'uncrat', 'unctuous', 'uncultiv', 'uncurl', 'uncut', 'und', 'undamag', 'undamg', 'undaunt', 'undebat', 'undecid', 'undefin', 'undemand', 'undeni', 'undent', 'under', 'underachiev', 'underact', 'underarm', 'underbak', 'underbelli', 'underberg', 'underbrew', 'undercarbon', 'undercook', 'undercurr', 'underdog', 'underdon', 'underdos', 'underestim', 'underflavour', 'underfoot', 'undergo', 'undergon', 'undergradu', 'undergroud', 'underground', 'underhand', 'underlay', 'undermin', 'underneath', 'undernourish', 'undernurish', 'underorgan', 'underpaid', 'underpar', 'underperform', 'underpin', 'underpr', 'underprocess', 'underr', 'underrip', 'unders', 'underscor', 'underseason', 'undersid', 'underst', 'understand', 'understandng', 'understat', 'understood', 'undertak', 'undertast', 'underton', 'undervalu', 'underw', 'underwat', 'underway', 'underwear', 'underweight', 'underwhelm', 'underwood', 'underworld', 'undescrib', 'undeserv', 'undesir', 'undestruct', 'undetect', 'undevelop', 'undi', 'undiagnos', 'undifferenti', 'undigest', 'undilut', 'undiminish', 'undisclos', 'undiscrimin', 'undisput', 'undissolv', 'undistinguish', 'undistribut', 'undisturb', 'undivid', 'undo', 'undon', 'undoubt', 'undrain', 'undrank', 'undrink', 'undrunk', 'undul', 'uneas', 'uneasi', 'uneat', 'uneaten', 'uneatten', 'unecessari', 'uned', 'uneduc', 'unemploy', 'unencumb', 'unenerget', 'unenhanc', 'unenjoy', 'unenrich', 'unenthus', 'unenthusiast', 'unequ', 'unequivoc', 'uneth', 'unev', 'uneven', 'unexcel', 'unexcept', 'unexcit', 'unexpand', 'unexpect', 'unexplain', 'unfair', 'unfamiliar', 'unfanc', 'unfeas', 'unfer', 'unfett', 'unfil', 'unfilt', 'unfind', 'unfinish', 'unfit', 'unfix', 'unflavor', 'unflavour', 'unfold', 'unforget', 'unforgett', 'unform', 'unfortan', 'unfortifi', 'unfortn', 'unfortu', 'unfortuant', 'unfortul', 'unfortun', 'unfortunat', 'unfortunatley', 'unfortunet', 'unforunt', 'unfotun', 'unfound', 'unfourtunat', 'unfreiwillig', 'unfresh', 'unfri', 'unfriend', 'unfrost', 'unfrozen', 'unfrtun', 'unfruitcak', 'unfurl', 'unfurtun', 'unfussi', 'ungaili', 'ungener', 'unglu', 'ungod', 'ungraini', 'ungrat', 'unground', 'unguard', 'unhandl', 'unhappi', 'unhapppi', 'unharm', 'unhealth', 'unhealthi', 'unhealthili', 'unheard', 'unheat', 'unheath', 'unhelp', 'unhind', 'unholi', 'unhul', 'unhydrogen', 'unhygen', 'unicinatum', 'unicorn', 'unidentifi', 'unifi', 'uniform', 'unilater', 'unilev', 'unimagin', 'unimport', 'unimpos', 'unimpress', 'unimprov', 'uninform', 'uniniti', 'uninspir', 'unintend', 'unintent', 'uninterest', 'uninterrupt', 'uninvent', 'uninvigor', 'uninvit', 'union', 'uniqu', 'uniqui', 'unisex', 'unit', 'unitl', 'univer', 'univers', 'unjunkfoodlik', 'unjust', 'unjustifi', 'unkempt', 'unkind', 'unknow', 'unknown', 'unlabel', 'unlabeld', 'unlead', 'unleash', 'unless', 'unlid', 'unlight', 'unlik', 'unlimit', 'unlist', 'unload', 'unlock', 'unlon', 'unlov', 'unlucki', 'unman', 'unmanag', 'unmark', 'unmatch', 'unmelt', 'unmil', 'unmistak', 'unmitig', 'unmix', 'unmold', 'unnaccept', 'unnam', 'unnatur', 'unneccessari', 'unneccessarili', 'unnecessari', 'unnecessarili', 'unneed', 'unnerv', 'unnessari', 'unnessecari', 'unnot', 'unnotic', 'uno', 'unobjection', 'unobstruct', 'unobtain', 'unobtrus', 'unoccupi', 'unopen', 'unorthodox', 'unpack', 'unpaid', 'unpalat', 'unparallel', 'unpast', 'unpasteur', 'unpastur', 'unperish', 'unplan', 'unpleas', 'unpleasa', 'unpleasantri', 'unplug', 'unpolish', 'unpop', 'unpopular', 'unpreced', 'unpredicat', 'unpredict', 'unprepar', 'unpretensi', 'unpretenti', 'unprocess', 'unprofesion', 'unprofession', 'unpronouc', 'unpronounc', 'unprotect', 'unpset', 'unqu', 'unqualifi', 'unquench', 'unquest', 'unquestion', 'unrat', 'unravel', 'unraw', 'unread', 'unreadi', 'unreal', 'unrealist', 'unreason', 'unreasonbl', 'unrecogniz', 'unrecommend', 'unrefin', 'unrefresh', 'unrefridger', 'unrefriger', 'unregul', 'unrel', 'unreli', 'unreliev', 'unremark', 'unrend', 'unreserv', 'unrespons', 'unrest', 'unrestrict', 'unrins', 'unrip', 'unriv', 'unrival', 'unrivl', 'unroast', 'unrol', 'unsaf', 'unsalt', 'unsalvag', 'unsanitari', 'unsat', 'unsatisfactori', 'unsatisfi', 'unsatur', 'unsavori', 'unscath', 'unscent', 'unscientif', 'unscrew', 'unscrupul', 'unseal', 'unseason', 'unseen', 'unsettl', 'unsheath', 'unsight', 'unsign', 'unsisifi', 'unsmok', 'unsnapp', 'unsoak', 'unsolv', 'unsophist', 'unsound', 'unspeak', 'unspecifi', 'unspectacular', 'unspoil', 'unspread', 'unstabil', 'unstabl', 'unsteadi', 'unsteam', 'unstick', 'unsticki', 'unsu', 'unsual', 'unsubscrib', 'unsubstanti', 'unsucces', 'unsuccess', 'unsuit', 'unsulfur', 'unsulph', 'unsulphur', 'unsult', 'unsung', 'unsupervis', 'unsur', 'unsurpass', 'unsurpris', 'unsuspect', 'unsweaten', 'unsweet', 'unsweeten', 'unsweetend', 'unsweetn', 'untaint', 'untamp', 'untast', 'untasti', 'untax', 'unten', 'untest', 'unthaw', 'unthink', 'unti', 'until', 'untim', 'untitl', 'unto', 'untoast', 'untold', 'untouch', 'untoward', 'untradit', 'untrain', 'untreat', 'untri', 'untru', 'untrustworthi', 'untruth', 'unturn', 'untwist', 'unum', 'unus', 'unusu', 'unveil', 'unverifi', 'unwant', 'unwari', 'unwarr', 'unwash', 'unwelcom', 'unwieldi', 'unwil', 'unwilling', 'unwind', 'unwit', 'unworthi', 'unwrap', 'unzip', 'up', 'upbeat', 'upbox', 'upc', 'upchuck', 'upcom', 'updat', 'upfront', 'upgrad', 'uphold', 'upholsteri', 'upkeep', 'uplift', 'upload', 'upmarket', 'upon', 'upper', 'uppiti', 'upright', 'uproar', 'upscal', 'upset', 'upshaw', 'upshot', 'upsid', 'upsidedown', 'upsiz', 'upstair', 'upstand', 'upstat', 'upsw', 'uptak', 'upthread', 'uptick', 'upto', 'uptod', 'upton', 'uptown', 'upturn', 'upun', 'upward', 'urad', 'uralt', 'uranium', 'urban', 'urband', 'urbani', 'urchin', 'urea', 'uret', 'urethr', 'urg', 'urgent', 'uric', 'urin', 'urinari', 'uriney', 'url', 'urmil', 'urn', 'urologist', 'urresist', 'urtica', 'uruguay', 'usa', 'usabl', 'usachocol', 'usado', 'usaf', 'usag', 'usair', 'usal', 'usb', 'usc', 'usd', 'usda', 'use', 'useabl', 'useful', 'useless', 'user', 'usfda', 'usher', 'usin', 'usn', 'usng', 'usofa', 'usp', 'usrda', 'ustad', 'usu', 'usuabl', 'usual', 'usuali', 'usuauli', 'usulli', 'usus', 'ususlli', 'usvi', 'ut', 'utah', 'utahn', 'utensil', 'uter', 'uterus', 'uti', 'util', 'utilis', 'utilitarian', 'utmost', 'utopian', 'utter', 'utz', 'uuggg', 'uuummm', 'uva', 'uw', 'uwajimaya', 'uwe', 'vac', 'vacat', 'vacation', 'vaccin', 'vaccum', 'vaccuum', 'vacu', 'vacum', 'vacumn', 'vacuum', 'vacuvin', 'vagan', 'vagin', 'vagu', 'vahlrona', 'vail', 'vailla', 'vain', 'vainilla', 'val', 'valarian', 'valdez', 'valdosta', 'valencia', 'valentin', 'valentino', 'valerian', 'valeriana', 'valhrona', 'valid', 'valintin', 'vall', 'valley', 'valli', 'valor', 'valpolicella', 'valrhona', 'valu', 'valuabl', 'valubl', 'valv', 'vampir', 'van', 'vanalla', 'vancouv', 'vandervort', 'vaniila', 'vanil', 'vanila', 'vanill', 'vanilla', 'vanillay', 'vanilleri', 'vanillia', 'vanillin', 'vanish', 'vannila', 'vannilla', 'vanquish', 'vapor', 'vaporub', 'var', 'varaiti', 'vareti', 'vari', 'variabl', 'varianc', 'variant', 'variat', 'varicos', 'varieiti', 'variet', 'varieti', 'variey', 'various', 'variti', 'varment', 'varmint', 'varner', 'varnish', 'varnishk', 'varti', 'vascular', 'vase', 'vaselin', 'vasicular', 'vasodil', 'vasquez', 'vast', 'vat', 'vatican', 'vault', 'vautour', 'vaux', 'vay', 'vbe', 'vbg', 'vco', 'vcr', 'veal', 'vecchia', 'vecon', 'veda', 'veeeeeeeri', 'veer', 'veeri', 'veever', 'veg', 'vega', 'vegabl', 'vegamit', 'vegan', 'vegancompass', 'vegannais', 'veganomicon', 'vegat', 'vegatarian', 'vege', 'vegeabl', 'vegeat', 'vegeburg', 'vegei', 'vegelink', 'vegemit', 'vegenomicon', 'veget', 'vegeta', 'vegetabley', 'vegetaria', 'vegetarian', 'vegetartian', 'vegetatian', 'vegeterian', 'vegf', 'vegfamili', 'vegg', 'vegget', 'veggi', 'veggied', 'veggiepro', 'vegi', 'vegicap', 'vegit', 'vegitarian', 'vegtabl', 'vegtiabl', 'vehement', 'vehicl', 'veil', 'vein', 'veja', 'velcad', 'velcro', 'velero', 'velevt', 'velleron', 'velma', 'velva', 'velveeta', 'velvelti', 'velvet', 'velveta', 'velveteen', 'velvetey', 'velveti', 'velvetta', 'vend', 'vender', 'vendor', 'vendstar', 'veneer', 'vener', 'venetian', 'venezienn', 'venezuela', 'venezuelan', 'veng', 'venganc', 'vengeanc', 'venic', 'venison', 'venom', 'vension', 'vent', 'ventair', 'venti', 'ventil', 'ventresca', 'ventur', 'venturi', 'venu', 'venus', 'ver', 'vera', 'verac', 'verb', 'verbac', 'verbag', 'verbal', 'verbatim', 'verbena', 'verd', 'verdad', 'verdant', 'verdict', 'verdoppelt', 'verey', 'verg', 'vergin', 'vergnano', 'verieti', 'verif', 'verifi', 'verit', 'veriti', 'vermicelli', 'vermicompost', 'vermin', 'vermint', 'vermont', 'vermouth', 'vernon', 'vernor', 'verona', 'verri', 'verrri', 'verrrri', 'vers', 'versa', 'versabl', 'versatil', 'versatill', 'versatyl', 'versin', 'version', 'versit', 'versitil', 'versitl', 'verson', 'versus', 'vert', 'vertebra', 'vertic', 'veryasia', 'verydelici', 'veryy', 'veryyyyyyi', 'ves', 'vesatil', 'vespina', 'vessel', 'vest', 'vestal', 'vestig', 'vesus', 'vesuvius', 'vet', 'vetchi', 'vetenarian', 'veteran', 'veterinari', 'veterinarian', 'veternarian', 'veternerian', 'veto', 'vetsuppli', 'vey', 'vfw', 'vginegar', 'vhs', 'vhtf', 'via', 'viabl', 'vial', 'vialon', 'vian', 'viatmin', 'vibe', 'vibranc', 'vibrant', 'vibrar', 'vibrat', 'vic', 'vicar', 'vicari', 'vice', 'vicenza', 'vichysois', 'vichyssoi', 'vicin', 'vicious', 'vick', 'vicki', 'vicksburg', 'victim', 'victor', 'victori', 'victoria', 'victorian', 'vid', 'vida', 'vidalia', 'vide', 'video', 'videodrom', 'vido', 'vie', 'vienna', 'viennes', 'viet', 'vietnam', 'vietnames', 'view', 'viewer', 'viewpoint', 'viger', 'vigil', 'vigo', 'vigor', 'viii', 'viit', 'vike', 'viki', 'vile', 'vilifi', 'vill', 'villa', 'villag', 'villawar', 'vim', 'vin', 'vinacaf', 'vinagarett', 'vinagerett', 'vinagrett', 'vinaigr', 'vinaigrett', 'vincent', 'vinci', 'vindaloo', 'vindic', 'vine', 'vineagar', 'vineg', 'vinegar', 'vinegarey', 'vinegari', 'vinegrett', 'vineyard', 'vinigar', 'vinigarett', 'vinni', 'vinnila', 'vino', 'vintag', 'vinter', 'vinturi', 'vinum', 'vinyard', 'vinyl', 'viola', 'violat', 'violenc', 'violent', 'violet', 'violett', 'violin', 'violist', 'vip', 'viral', 'virbac', 'virgil', 'virgin', 'virginia', 'viril', 'virtu', 'virtual', 'virtuoso', 'virtuous', 'virus', 'visa', 'visabl', 'visag', 'viscoc', 'viscos', 'viscous', 'visibl', 'vision', 'visist', 'visit', 'visitng', 'visitor', 'vist', 'vista', 'visual', 'vit', 'vita', 'vitacoco', 'vitacost', 'vitakraft', 'vital', 'vitalab', 'vitalici', 'vitalyt', 'vitam', 'vitamin', 'vitaminenergi', 'vitaminer', 'vitamini', 'vitaminlif', 'vitaminscet', 'vitaminshopp', 'vitamix', 'vitamuffin', 'vitaspectrum', 'vitaspelt', 'viti', 'vitiamin', 'vitimin', 'vito', 'vitro', 'vittadini', 'vittl', 'viva', 'vivac', 'vivaci', 'vivani', 'vivarin', 'vive', 'vivid', 'vivifi', 'viz', 'vizla', 'vizsla', 'vladi', 'vladimir', 'vladivostok', 'vlasic', 'vldl', 'vocab', 'vocal', 'vodka', 'voehl', 'vogel', 'voglio', 'vogt', 'vogu', 'vohc', 'voic', 'voicemail', 'void', 'voila', 'vol', 'volatil', 'volcan', 'volcano', 'vole', 'volia', 'volit', 'volleybal', 'vollkornbrot', 'vollrath', 'voltag', 'voltair', 'volum', 'volumetr', 'volumi', 'volumin', 'volunt', 'voluntari', 'voluntarili', 'voluptu', 'volvi', 'volvic', 'vomit', 'vommit', 'von', 'voodoo', 'voraci', 'vosg', 'voss', 'vote', 'vouch', 'vous', 'vow', 'vox', 'vpn', 'vps', 'vraie', 'vrey', 'vruit', 'vserion', 'vsop', 'vuelvo', 'vulcan', 'vulgar', 'vulgari', 'vulner', 'vultur', 'vunderbar', 'waa', 'waaa', 'waaaaaaaay', 'waaaaaaay', 'waaaaay', 'waaaabbbit', 'waaaay', 'waaaayyyi', 'waaaayyyyyyy', 'waaay', 'waay', 'wabash', 'wabbit', 'wabo', 'wach', 'wacki', 'waco', 'wad', 'waddl', 'wade', 'wadi', 'wafer', 'waferi', 'waffel', 'waffer', 'waffi', 'waffl', 'wafflemak', 'waffler', 'waft', 'wag', 'wagatha', 'wage', 'wager', 'wagger', 'wagon', 'wagyu', 'wah', 'wahin', 'wahini', 'wahoo', 'waht', 'waikato', 'wain', 'waist', 'waistelin', 'waistlin', 'wait', 'waiter', 'waitress', 'waiv', 'waiver', 'wakam', 'wakarenai', 'wake', 'waken', 'waker', 'wakeup', 'wal', 'walbert', 'wald', 'walden', 'waldorf', 'wale', 'walgreen', 'walk', 'walker', 'walkerswood', 'walkerwood', 'walki', 'wall', 'walla', 'wallah', 'wallenford', 'wallet', 'wallgreen', 'walli', 'wallmart', 'wallop', 'wallpap', 'wallymart', 'wallyworld', 'walmart', 'walnetto', 'walnut', 'walt', 'walter', 'walton', 'waltz', 'wammi', 'wamr', 'wan', 'wanamingo', 'wand', 'wanda', 'wander', 'wane', 'wang', 'wanker', 'wanna', 'wannab', 'wannabe', 'want', 'wantn', 'wanton', 'waowi', 'war', 'warbl', 'warcraft', 'ward', 'wardrob', 'ware', 'wareh', 'warehous', 'wareous', 'warfar', 'warfarin', 'warfight', 'wargam', 'warhamm', 'warhead', 'warhol', 'wari', 'warin', 'wark', 'warlord', 'warm', 'warmer', 'warmish', 'warmth', 'warn', 'warner', 'warp', 'warrant', 'warranti', 'warren', 'warrior', 'warsaw', 'wart', 'wartim', 'wasa', 'wasab', 'wasabi', 'wasaibi', 'wasbi', 'wash', 'washabl', 'washcloth', 'washer', 'washi', 'washington', 'washingtonian', 'waskal', 'waskom', 'wasnt', 'wasp', 'wassail', 'wast', 'wastag', 'wastebasket', 'wasteland', 'wasveri', 'wat', 'wataer', 'watashiwa', 'watch', 'watchdog', 'watcher', 'watchin', 'wate', 'water', 'waterbelt', 'waterbowl', 'watercolor', 'watercress', 'waterey', 'waterford', 'waterfront', 'waterg', 'wateri', 'waterlog', 'waterloo', 'watermeion', 'watermellon', 'watermelon', 'watermeloni', 'waterpik', 'waterproof', 'waterwheel', 'watev', 'wath', 'wathcer', 'wathey', 'watkin', 'watson', 'watt', 'wattag', 'wave', 'wavelength', 'waver', 'wavi', 'wawa', 'wax', 'waxi', 'waxier', 'way', 'wayn', 'waysid', 'wayward', 'wayyy', 'wayyyi', 'wayyyyy', 'wayyyyyi', 'wayyyyyyyi', 'wazoo', 'wazu', 'wazzup', 'wbcl', 'wdw', 'weak', 'weaken', 'weaker', 'weakest', 'wealth', 'wealthi', 'wean', 'weapon', 'wear', 'wearch', 'wearer', 'weari', 'wearin', 'weasel', 'weather', 'weatherman', 'weav', 'weaver', 'weavil', 'web', 'webb', 'webber', 'webcam', 'weber', 'webist', 'webmd', 'webpag', 'websearch', 'webshop', 'websid', 'websight', 'websit', 'websitr', 'webster', 'webvitamin', 'webvitmin', 'wed', 'wedderspoon', 'wedg', 'wedgewood', 'wedlowski', 'wednesday', 'wee', 'weebe', 'weed', 'weederspoon', 'weedi', 'weeee', 'weeeeeeeeeeeeeeeeeeeeeeeee', 'week', 'weekday', 'weekend', 'weeknight', 'weel', 'ween', 'weeni', 'weep', 'weer', 'weetabix', 'weevil', 'weez', 'weezer', 'weft', 'wega', 'wegman', 'wehn', 'wei', 'weigh', 'weight', 'weighti', 'weightless', 'weightlift', 'weightloss', 'weightproblem', 'weightwatch', 'weignt', 'weigth', 'weil', 'weim', 'weimaran', 'weimeran', 'weinbrand', 'weiner', 'weinhard', 'weir', 'weird', 'weirdest', 'weirdo', 'weiser', 'weiss', 'weissbrot', 'weisswurst', 'wel', 'welch', 'welcom', 'weld', 'welfar', 'well', 'wellb', 'wellbuilt', 'welless', 'wellington', 'welll', 'welllll', 'welln', 'wellnesss', 'wellpack', 'wellvill', 'welp', 'welsh', 'wend', 'wendi', 'wenig', 'went', 'weork', 'wer', 'werd', 'werein', 'werent', 'werid', 'wern', 'wernt', 'werther', 'weruva', 'werw', 'wes', 'wesselmann', 'wesserman', 'wessex', 'west', 'westbra', 'westchest', 'western', 'westi', 'westlak', 'westminst', 'weston', 'westpalm', 'westphalia', 'westpot', 'westsoy', 'westward', 'wet', 'wetfood', 'wether', 'wetland', 'wetter', 'weve', 'wfbj', 'wfgf', 'wfm', 'wha', 'whaaaaat', 'whack', 'whacki', 'whacko', 'whad', 'whaddaya', 'whalaa', 'whalah', 'whale', 'whallop', 'wham', 'whammi', 'whan', 'whang', 'wharehous', 'wharf', 'what', 'whatamelon', 'whatcha', 'whatchamacallit', 'whatev', 'whateverwork', 'whatnot', 'whatsoev', 'whatta', 'whay', 'whazzupwidat', 'whc', 'whcih', 'whe', 'wheat', 'wheateana', 'wheaten', 'wheatena', 'wheatey', 'wheatfre', 'wheatgrass', 'wheatgrasskit', 'wheather', 'wheati', 'wheatina', 'wheatless', 'wheatmeal', 'wheaton', 'wheedl', 'wheee', 'wheel', 'wheelbarrow', 'wheelchair', 'wheeler', 'wheez', 'wheezer', 'whell', 'whelm', 'whelp', 'whem', 'whenev', 'whent', 'whenver', 'wher', 'whera', 'wherea', 'whereev', 'wherefor', 'wherehous', 'whereon', 'whereupon', 'wherev', 'whernev', 'whet', 'whether', 'whew', 'whey', 'whfood', 'whhhen', 'whhich', 'whic', 'whichev', 'whichi', 'whicih', 'whidbey', 'whie', 'whif', 'whiff', 'whiffl', 'whili', 'whilst', 'whilt', 'whim', 'whimp', 'whimper', 'whimpi', 'whimsey', 'whimsi', 'whimsic', 'whine', 'whiner', 'whiney', 'whini', 'whip', 'whipit', 'whippersnapp', 'whippet', 'whippl', 'whir', 'whirl', 'whirley', 'whirleypop', 'whirlypop', 'whirr', 'whish', 'whisk', 'whiska', 'whisker', 'whiskey', 'whiski', 'whisp', 'whisper', 'whistl', 'white', 'whiteboard', 'whitebread', 'whitefish', 'whitehead', 'whitehous', 'whiten', 'whiter', 'whitewav', 'whith', 'whither', 'whitish', 'whitman', 'whitney', 'whittard', 'whitten', 'whittl', 'whiz', 'whizz', 'whlich', 'whoa', 'whoah', 'whoala', 'whodunnit', 'whoever', 'whohoo', 'whola', 'whole', 'wholefood', 'wholegrain', 'wholeheart', 'wholelattelov', 'wholem', 'wholesal', 'wholesom', 'wholewheat', 'wholli', 'whollop', 'whomev', 'whomp', 'whoo', 'whooool', 'whooope', 'whoop', 'whoopi', 'whoopiti', 'whoosh', 'whop', 'whopper', 'whore', 'whos', 'whose', 'whow', 'wich', 'wichita', 'wick', 'wicker', 'wide', 'widemouth', 'widen', 'wider', 'widescreen', 'widespread', 'widow', 'width', 'wieght', 'wield', 'wiener', 'wienerschnitzel', 'wierd', 'wiesbaden', 'wieser', 'wife', 'wifey', 'wifr', 'wigg', 'wiggl', 'wigh', 'wih', 'wihout', 'wiht', 'wii', 'wiil', 'wiithin', 'wiithout', 'wiki', 'wikipedia', 'wil', 'wilbur', 'wild', 'wildberri', 'wilder', 'wildest', 'wildfir', 'wildflow', 'wildlif', 'wildric', 'wildwood', 'wile', 'wilford', 'wiliam', 'wilkin', 'will', 'willamett', 'willard', 'willett', 'willi', 'william', 'williamsburg', 'williamson', 'williamsurg', 'willingham', 'willl', 'willow', 'willpow', 'wilma', 'wilson', 'wilt', 'wilton', 'wimbledon', 'wimp', 'wimper', 'wimpi', 'wimpish', 'win', 'winc', 'winco', 'wind', 'windchil', 'windi', 'windmil', 'window', 'windowsil', 'windpip', 'windshield', 'windsor', 'wine', 'winegum', 'winemak', 'wineri', 'winey', 'winfrey', 'wing', 'wingal', 'wini', 'wink', 'winn', 'winner', 'winni', 'winnona', 'winnow', 'winona', 'winonna', 'winsconsinmad', 'winston', 'winter', 'winterblu', 'winterfresh', 'winterfrost', 'wintergreeen', 'wintergreen', 'winteri', 'wintermint', 'wintertim', 'winthrop', 'winto', 'wintri', 'wipe', 'wir', 'wire', 'wiredweird', 'wirehair', 'wireless', 'wirhout', 'wisc', 'wisconsin', 'wisconsinmad', 'wisconson', 'wisdom', 'wise', 'wisecrack', 'wiseguy', 'wiser', 'wisgold', 'wish', 'wishbon', 'wishi', 'wishki', 'wishlist', 'wishniak', 'wisk', 'wiska', 'wiski', 'wisp', 'wissotzki', 'wist', 'wit', 'witch', 'witchcraft', 'witchhazel', 'with', 'withdraw', 'withdrawl', 'withdrew', 'wither', 'withheld', 'withhold', 'withhout', 'within', 'withn', 'withou', 'withour', 'without', 'withouth', 'withstand', 'withstood', 'withsugar', 'witht', 'withthi', 'witin', 'witjh', 'witmer', 'witth', 'witti', 'wityh', 'wive', 'wizard', 'wjrf', 'wjt', 'wks', 'wlmart', 'wls', 'wnen', 'wnho', 'wnough', 'woah', 'wobbler', 'woder', 'wodner', 'woe', 'woeber', 'woefulli', 'woek', 'wohn', 'wohop', 'wok', 'woke', 'woken', 'wokeup', 'wold', 'woldn', 'wolf', 'wolfberri', 'wolfen', 'wolff', 'wolfgan', 'wolfgang', 'wolfhound', 'wolfi', 'wollop', 'wolv', 'woma', 'woman', 'womder', 'women', 'wond', 'wonder', 'wonderbread', 'wondercocoa', 'wonderd', 'wonderdrug', 'wonderfl', 'wonderfui', 'wonderful', 'wonderfulgreat', 'wonderfuli', 'wonderland', 'wonderm', 'wonderr', 'wondferul', 'wondrous', 'wonka', 'wonki', 'wont', 'wonton', 'woo', 'wood', 'woodchuck', 'wooden', 'woodgrain', 'woodi', 'woodpeck', 'woodsi', 'woodstock', 'woodstream', 'woof', 'woofer', 'woofi', 'woohhhooo', 'woohoo', 'woohooo', 'wook', 'wool', 'woolen', 'woooooooo', 'woop', 'woopidi', 'woosh', 'woot', 'woould', 'woow', 'woozi', 'worcest', 'worcestershir', 'worchest', 'worchestershir', 'word', 'wordi', 'wore', 'worht', 'wori', 'work', 'workabl', 'workaround', 'workday', 'worker', 'workhors', 'workin', 'workload', 'workman', 'workout', 'workplac', 'workshop', 'workspac', 'workstyl', 'world', 'worldfin', 'worldpantri', 'worldview', 'worldwid', 'worm', 'wormer', 'wormwood', 'worn', 'worri', 'worrisom', 'wors', 'worsen', 'worship', 'worst', 'worsterchir', 'wort', 'worth', 'worthi', 'worthingtn', 'worthington', 'worthless', 'worthth', 'worthwhil', 'worthwil', 'woth', 'woud', 'wought', 'wouid', 'woukd', 'woul', 'would', 'woulda', 'wouldint', 'wouldnt', 'wouldst', 'wouldv', 'wouln', 'woulso', 'wound', 'wounder', 'wouold', 'woven', 'wow', 'wowowowoow', 'wpc', 'wrack', 'wrangl', 'wrap', 'wrape', 'wrapp', 'wrapper', 'wraptur', 'wrass', 'wrath', 'wre', 'wreak', 'wreck', 'wrestl', 'wrestler', 'wretch', 'wriggler', 'wright', 'wrigley', 'wring', 'wringer', 'wrink', 'wrinkl', 'wrist', 'writ', 'write', 'writen', 'writer', 'writh', 'written', 'wrong', 'wrongo', 'wrote', 'wrth', 'wrung', 'wsj', 'wtf', 'wth', 'wtih', 'wtihout', 'wualiti', 'wuch', 'wudgi', 'wuff', 'wulong', 'wunderbar', 'wur', 'wurst', 'wuss', 'wussi', 'wuthout', 'wuyi', 'wuyishan', 'wuz', 'wwii', 'wwiii', 'wwooohhooo', 'www', 'wxtra', 'wyler', 'wyman', 'wynona', 'wyom', 'wyona', 'wysong', 'xagav', 'xanathum', 'xango', 'xantham', 'xanthan', 'xanthem', 'xanthin', 'xanthum', 'xbold', 'xcellent', 'xclear', 'xdate', 'xena', 'xiii', 'ximenez', 'xiv', 'xlear', 'xlge', 'xlitol', 'xlr', 'xlure', 'xmas', 'xocolatl', 'xpen', 'xplosion', 'xray', 'xtra', 'xtreme', 'xvi', 'xxx', 'xxxtra', 'xxxxtra', 'xylan', 'xylichew', 'xylitol', 'xyllitol', 'xylo', 'xyloburst', 'xylosweet', 'xylotol', 'xyltol', 'yaa', 'yaaaaay', 'yaawwwwnn', 'yaay', 'yacht', 'yacon', 'yada', 'yadda', 'yaer', 'yagart', 'yah', 'yahoo', 'yahooooo', 'yak', 'yakima', 'yakimando', 'yakisoba', 'yakitori', 'yakk', 'yam', 'yama', 'yamama', 'yamamotoyama', 'yame', 'yammi', 'yan', 'yang', 'yangts', 'yangtz', 'yank', 'yanke', 'yankeeism', 'yanki', 'yap', 'yar', 'yard', 'yardbird', 'yarn', 'yarrow', 'yassou', 'yawn', 'yay', 'yaya', 'ybrki', 'ycca', 'yea', 'yeaaaaah', 'yeah', 'yeap', 'year', 'yearn', 'yearout', 'yeasr', 'yeast', 'yeasti', 'yeat', 'yeay', 'yecch', 'yech', 'yeech', 'yeee', 'yeeeooowww', 'yeh', 'yehuda', 'yeild', 'yell', 'yellow', 'yellowfin', 'yellowish', 'yellowjacket', 'yellowtail', 'yelp', 'yemini', 'yen', 'yenshaw', 'yep', 'yer', 'yerba', 'yerbam', 'yes', 'yess', 'yessire', 'yesterday', 'yesterdi', 'yesteryear', 'yet', 'yhis', 'yicki', 'yield', 'yike', 'yin', 'yip', 'yipe', 'yippe', 'yipper', 'yippi', 'yipyap', 'yix', 'ymca', 'ymmm', 'ymmv', 'ymmw', 'yngwie', 'yoakum', 'yobabi', 'yochees', 'yoda', 'yodel', 'yoga', 'yogart', 'yogert', 'yoghurt', 'yogi', 'yogic', 'yogitea', 'yogourmet', 'yogur', 'yogurett', 'yogurt', 'yohimbin', 'yokan', 'yoke', 'yoki', 'yokohama', 'yokshir', 'yolk', 'yolkless', 'yoo', 'yoohoo', 'yoong', 'yooooouuuuuuu', 'yoplait', 'yor', 'yore', 'york', 'yorker', 'yorki', 'yorkiepoo', 'yorkipoo', 'yorkshi', 'yorkshir', 'yorshir', 'yosemit', 'yoshida', 'yoshinoya', 'youdobetterthan', 'yougart', 'yougurt', 'youki', 'youll', 'young', 'younger', 'youngest', 'youngin', 'youngman', 'youngren', 'youngster', 'youngstown', 'your', 'yous', 'youth', 'youtub', 'youtubegarden', 'youur', 'youv', 'yowl', 'yoy', 'ypsilanti', 'yrs', 'yuban', 'yucatan', 'yucateco', 'yucca', 'yucchhh', 'yuch', 'yuchk', 'yuck', 'yucki', 'yuckier', 'yucko', 'yuexi', 'yugoslavia', 'yuh', 'yuk', 'yukkkkk', 'yukon', 'yum', 'yuma', 'yumalici', 'yumi', 'yumm', 'yumma', 'yummer', 'yummi', 'yummier', 'yummiest', 'yummilici', 'yummish', 'yummm', 'yummmi', 'yummmm', 'yummmmi', 'yummmmm', 'yummmmmi', 'yummmmmm', 'yummmmmmi', 'yummmmmmm', 'yummmmmmmi', 'yummmmmmmmm', 'yummmmmmmmmm', 'yummmmmmmmmmmmi', 'yummmmmmmmmmmmmmmmmmmmmmmmm', 'yummmmyyi', 'yummo', 'yummy', 'yummyearth', 'yumnmi', 'yumnut', 'yunah', 'yunann', 'yung', 'yunga', 'yunnan', 'yunni', 'yup', 'yuppi', 'yur', 'yuricka', 'yuuummmmm', 'yuuuum', 'yuuuuummi', 'yuuuuummyyyy', 'yuuuuuuuuuum', 'yuzu', 'yves', 'yyou', 'zaba', 'zaballion', 'zabar', 'zabuca', 'zach', 'zact', 'zafrani', 'zag', 'zagnut', 'zaloga', 'zambezi', 'zamouri', 'zang', 'zango', 'zant', 'zantac', 'zanthan', 'zap', 'zapp', 'zapper', 'zappo', 'zarafina', 'zaraphina', 'zareba', 'zatairain', 'zatarain', 'zataran', 'zatarian', 'zatarin', 'zaz', 'zazz', 'zbar', 'zeal', 'zealand', 'zebra', 'zede', 'zehn', 'zehr', 'zeisner', 'zelben', 'zellweg', 'zen', 'zensoy', 'zeolit', 'zeppelin', 'zerg', 'zergut', 'zero', 'zest', 'zesti', 'zevia', 'zhejiang', 'zhen', 'zhena', 'zhu', 'zico', 'zig', 'zigelhof', 'ziggi', 'zigzag', 'zilch', 'zillion', 'zimbabw', 'zinc', 'zinczenko', 'zinfandel', 'zing', 'zinger', 'zingerman', 'zingi', 'zingib', 'zingier', 'ziol', 'zip', 'zipfizz', 'ziploc', 'ziplock', 'zipp', 'zipper', 'zippi', 'zippo', 'zit', 'ziti', 'zito', 'ziwi', 'ziwipeak', 'ziyad', 'zodiac', 'zoe', 'zoey', 'zoie', 'zoji', 'zojirushi', 'zojishuri', 'zola', 'zoloft', 'zombi', 'zomg', 'zon', 'zone', 'zoo', 'zookeep', 'zoom', 'zoomi', 'zot', 'zotz', 'zour', 'zout', 'zowi', 'zreport', 'zsweet', 'zucchini', 'zuccini', 'zuchinni', 'zuke', 'zuma', 'zuppa', 'zupreem', 'zurich', 'zwar', 'zwieback', 'zydeco', 'zyrtec', 'zzzzz', 'zzzzzzz', 'zzzzzzzzzz', 'çay']\n"
          ],
          "name": "stdout"
        },
        {
          "output_type": "execute_result",
          "data": {
            "text/plain": [
              "[((-2.160114502017787, 'worst'), (1.4720981968491202, 'delici')),\n",
              " ((-1.57737780496826, 'terribl'), (1.3382979566189583, 'excel')),\n",
              " ((-1.5235684925772264, 'disappoint'), (1.2743398099781318, 'perfect')),\n",
              " ((-1.5205848303736005, 'bland'), (1.2722028214899557, 'best')),\n",
              " ((-1.4750041539836685, 'horribl'), (1.1706319430190184, 'great')),\n",
              " ((-1.3409612561369968, 'return'), (1.1029968456002295, 'amaz')),\n",
              " ((-1.3219831368478137, 'threw'), (1.0949674364031627, 'addict')),\n",
              " ((-1.3098381626032183, 'aw'), (1.0142716547466408, 'yummi')),\n",
              " ((-1.2412542391072634, 'tasteless'), (0.9649815643441443, 'beat')),\n",
              " ((-1.15974152981675, 'unfortun'), (0.9628143526724355, 'hook')),\n",
              " ((-1.1319660226677657, 'stale'), (0.9595063431094906, 'awesom')),\n",
              " ((-1.1077658603574856, 'sorri'), (0.9497114203720983, 'satisfi')),\n",
              " ((-1.0308874481764474, 'money'), (0.9268681019088533, 'wonder')),\n",
              " ((-1.025668735420536, 'ruin'), (0.9245726512896841, 'nice')),\n",
              " ((-0.9968855390231548, 'unpleas'), (0.8790290626229103, 'thank')),\n",
              " ((-0.9507004340734386, 'disgust'), (0.87285749292844, 'refresh')),\n",
              " ((-0.9506042394000396, 'wors'), (0.8707387895436062, 'uniqu')),\n",
              " ((-0.9341227475388825, 'poor'), (0.8696152132731848, 'smooth')),\n",
              " ((-0.9268692049162756, 'cancel'), (0.8631700227755539, 'alway')),\n",
              " ((-0.9210385646173204, 'gross'), (0.8136641532234451, 'favorit'))]"
            ]
          },
          "metadata": {
            "tags": []
          },
          "execution_count": 35
        }
      ]
    },
    {
      "cell_type": "markdown",
      "metadata": {
        "id": "NWfklKRloqY6",
        "colab_type": "text"
      },
      "source": [
        "### ROC AUC SCORE = 0.9300.."
      ]
    },
    {
      "cell_type": "code",
      "metadata": {
        "id": "MqMa3EIRtZ8Y",
        "colab_type": "code",
        "outputId": "3923d0ef-5e94-47ed-b3df-ec9e1e4af095",
        "colab": {
          "base_uri": "https://localhost:8080/",
          "height": 35
        }
      },
      "source": [
        "from sklearn.metrics import roc_auc_score\n",
        "\n",
        "roc_auc_score(Y_Test,y_test_predicted_prob)"
      ],
      "execution_count": 36,
      "outputs": [
        {
          "output_type": "execute_result",
          "data": {
            "text/plain": [
              "0.9292472144321885"
            ]
          },
          "metadata": {
            "tags": []
          },
          "execution_count": 36
        }
      ]
    },
    {
      "cell_type": "code",
      "metadata": {
        "id": "jstkDc2iwyXr",
        "colab_type": "code",
        "outputId": "8af70794-d630-4ffd-96f9-1198ced9a60e",
        "colab": {
          "base_uri": "https://localhost:8080/",
          "height": 212
        }
      },
      "source": [
        "from sklearn.metrics import classification_report,confusion_matrix\n",
        "\n",
        "print(classification_report(Y_Test,pred_test_data))\n",
        "print(confusion_matrix(Y_Test,pred_test_data))"
      ],
      "execution_count": 37,
      "outputs": [
        {
          "output_type": "stream",
          "text": [
            "              precision    recall  f1-score   support\n",
            "\n",
            "    negative       0.79      0.52      0.63      2457\n",
            "    positive       0.94      0.98      0.96     17543\n",
            "\n",
            "    accuracy                           0.92     20000\n",
            "   macro avg       0.87      0.75      0.79     20000\n",
            "weighted avg       0.92      0.92      0.92     20000\n",
            "\n",
            "[[ 1285  1172]\n",
            " [  333 17210]]\n"
          ],
          "name": "stdout"
        }
      ]
    },
    {
      "cell_type": "markdown",
      "metadata": {
        "id": "NTd50N1v8pQw",
        "colab_type": "text"
      },
      "source": [
        "### Find the Weight W for the Model"
      ]
    },
    {
      "cell_type": "code",
      "metadata": {
        "id": "BwSv-FJy8b1e",
        "colab_type": "code",
        "colab": {}
      },
      "source": [
        "weight_w1=logistic_reg.coef_"
      ],
      "execution_count": 0,
      "outputs": []
    },
    {
      "cell_type": "code",
      "metadata": {
        "id": "h9JSN5oVHY7W",
        "colab_type": "code",
        "outputId": "8337eafd-7432-4e9a-be5a-b78431ce5fe5",
        "colab": {
          "base_uri": "https://localhost:8080/",
          "height": 52
        }
      },
      "source": [
        "weight_w1"
      ],
      "execution_count": 39,
      "outputs": [
        {
          "output_type": "execute_result",
          "data": {
            "text/plain": [
              "array([[-9.54484428e-03,  1.34033485e-03,  9.57209191e-03, ...,\n",
              "        -4.18750044e-02,  3.49458247e-05,  3.24138399e-04]])"
            ]
          },
          "metadata": {
            "tags": []
          },
          "execution_count": 39
        }
      ]
    },
    {
      "cell_type": "code",
      "metadata": {
        "id": "mf-rg2A1Bzbh",
        "colab_type": "code",
        "outputId": "32194e77-1169-4365-983e-6c8ed2feb8fd",
        "colab": {
          "base_uri": "https://localhost:8080/",
          "height": 35
        }
      },
      "source": [
        "print(weight_w1.shape)"
      ],
      "execution_count": 40,
      "outputs": [
        {
          "output_type": "stream",
          "text": [
            "(1, 29469)\n"
          ],
          "name": "stdout"
        }
      ]
    },
    {
      "cell_type": "markdown",
      "metadata": {
        "id": "gNMOHP2G9Bdw",
        "colab_type": "text"
      },
      "source": [
        "### Adding Small Noice using random function"
      ]
    },
    {
      "cell_type": "code",
      "metadata": {
        "id": "GYoJdv47dlUC",
        "colab_type": "code",
        "colab": {}
      },
      "source": [
        "import copy \n",
        "noise_data = copy.deepcopy(X_Train_data_bow)"
      ],
      "execution_count": 0,
      "outputs": []
    },
    {
      "cell_type": "code",
      "metadata": {
        "id": "Yrj1u4icgpqN",
        "colab_type": "code",
        "colab": {}
      },
      "source": [
        "from scipy.sparse import csr_matrix\n",
        "noise_data=csr_matrix(noise_data,dtype=np.float64)"
      ],
      "execution_count": 0,
      "outputs": []
    },
    {
      "cell_type": "code",
      "metadata": {
        "id": "pFo2t76MewO1",
        "colab_type": "code",
        "outputId": "06f2e6da-ec26-4e97-f16d-ecc6d8567a84",
        "colab": {
          "base_uri": "https://localhost:8080/",
          "height": 35
        }
      },
      "source": [
        "type(noise_data)"
      ],
      "execution_count": 43,
      "outputs": [
        {
          "output_type": "execute_result",
          "data": {
            "text/plain": [
              "scipy.sparse.csr.csr_matrix"
            ]
          },
          "metadata": {
            "tags": []
          },
          "execution_count": 43
        }
      ]
    },
    {
      "cell_type": "code",
      "metadata": {
        "id": "0uXt_2DV9AIh",
        "colab_type": "code",
        "colab": {}
      },
      "source": [
        "add_noice=np.random.normal(0,0.01)"
      ],
      "execution_count": 0,
      "outputs": []
    },
    {
      "cell_type": "code",
      "metadata": {
        "id": "tvd5evotCPjq",
        "colab_type": "code",
        "outputId": "94228a7c-aa68-4284-b876-2eb7c9e0f9e5",
        "colab": {
          "base_uri": "https://localhost:8080/",
          "height": 35
        }
      },
      "source": [
        "print(add_noice)"
      ],
      "execution_count": 45,
      "outputs": [
        {
          "output_type": "stream",
          "text": [
            "0.011160311560311106\n"
          ],
          "name": "stdout"
        }
      ]
    },
    {
      "cell_type": "code",
      "metadata": {
        "id": "-ZBQvq2KfjJF",
        "colab_type": "code",
        "outputId": "74f591d8-5055-4bf2-d322-e6a2d6210e5b",
        "colab": {
          "base_uri": "https://localhost:8080/",
          "height": 35
        }
      },
      "source": [
        "type(add_noice)"
      ],
      "execution_count": 46,
      "outputs": [
        {
          "output_type": "execute_result",
          "data": {
            "text/plain": [
              "float"
            ]
          },
          "metadata": {
            "tags": []
          },
          "execution_count": 46
        }
      ]
    },
    {
      "cell_type": "markdown",
      "metadata": {
        "id": "bQc4q3hr-htz",
        "colab_type": "text"
      },
      "source": [
        "### Adding the Noice to BoW Trainig Data"
      ]
    },
    {
      "cell_type": "code",
      "metadata": {
        "id": "8w1Q9QNMd1Tw",
        "colab_type": "code",
        "outputId": "a3717b65-a040-4d5d-d799-7a26f4408e5e",
        "colab": {
          "base_uri": "https://localhost:8080/",
          "height": 35
        }
      },
      "source": [
        "noise_data.data += add_noice\n",
        "print(noise_data.shape)"
      ],
      "execution_count": 47,
      "outputs": [
        {
          "output_type": "stream",
          "text": [
            "(64000, 29469)\n"
          ],
          "name": "stdout"
        }
      ]
    },
    {
      "cell_type": "markdown",
      "metadata": {
        "id": "VA-pmcYhAcwU",
        "colab_type": "text"
      },
      "source": [
        "### Fit the Model on NOISE DATA and get the Weight W'"
      ]
    },
    {
      "cell_type": "code",
      "metadata": {
        "id": "bnQt7F4ZAnWI",
        "colab_type": "code",
        "colab": {}
      },
      "source": [
        "logistic_reg_new = LogisticRegression(C=best_c,random_state=None, class_weight=None)\n",
        "logistic_reg_new.fit(noise_data,Y_Train)\n",
        "weight_w2=logistic_reg_new.coef_"
      ],
      "execution_count": 0,
      "outputs": []
    },
    {
      "cell_type": "code",
      "metadata": {
        "id": "pnn0Q6Lj4auW",
        "colab_type": "code",
        "outputId": "f4dbf953-008d-4a56-d829-e14f65420ff1",
        "colab": {
          "base_uri": "https://localhost:8080/",
          "height": 35
        }
      },
      "source": [
        "weight_w2.shape"
      ],
      "execution_count": 49,
      "outputs": [
        {
          "output_type": "execute_result",
          "data": {
            "text/plain": [
              "(1, 29469)"
            ]
          },
          "metadata": {
            "tags": []
          },
          "execution_count": 49
        }
      ]
    },
    {
      "cell_type": "markdown",
      "metadata": {
        "id": "keWh1UsVo_Z-",
        "colab_type": "text"
      },
      "source": [
        "### CALCULATE THE AVERAGE DIFFERENCE IN WEIGHT VECTORS "
      ]
    },
    {
      "cell_type": "code",
      "metadata": {
        "id": "R7I9GFrxj_Bo",
        "colab_type": "code",
        "outputId": "c44d0dae-5357-4e14-891f-236a87740cb2",
        "colab": {
          "base_uri": "https://localhost:8080/",
          "height": 35
        }
      },
      "source": [
        "coef_diff = weight_w2 - weight_w1\n",
        "print (\"Average difference in weight vectors : \",np.mean(coef_diff))"
      ],
      "execution_count": 50,
      "outputs": [
        {
          "output_type": "stream",
          "text": [
            "Average difference in weight vectors :  1.5990948651124464e-06\n"
          ],
          "name": "stdout"
        }
      ]
    },
    {
      "cell_type": "markdown",
      "metadata": {
        "id": "A_EzofDNOPuS",
        "colab_type": "text"
      },
      "source": [
        "### Add the small eps value to avoid the divide by zer error \n",
        "### W1' = W1 + 10^-6\n",
        "### W2' = W2 + 10^-6"
      ]
    },
    {
      "cell_type": "code",
      "metadata": {
        "id": "64Jiy44mLb8p",
        "colab_type": "code",
        "colab": {}
      },
      "source": [
        "weight_w1_dash = weight_w1 + 0.000001\n",
        "weight_w2_dash = weight_w2 + 0.000001"
      ],
      "execution_count": 0,
      "outputs": []
    },
    {
      "cell_type": "markdown",
      "metadata": {
        "id": "Tj3wWeswOhTv",
        "colab_type": "text"
      },
      "source": [
        "### Find the Percentage Change between W1 & W2 using (| (W1-W2) / (W1) |)*100)"
      ]
    },
    {
      "cell_type": "code",
      "metadata": {
        "id": "8Q6wiAjION7O",
        "colab_type": "code",
        "colab": {}
      },
      "source": [
        "percentage_difference = (abs((weight_w1_dash- weight_w2_dash)/weight_w1_dash)) * 100"
      ],
      "execution_count": 0,
      "outputs": []
    },
    {
      "cell_type": "code",
      "metadata": {
        "id": "gsuz6CuwBoIT",
        "colab_type": "code",
        "colab": {}
      },
      "source": [
        "sorted_array=np.sort(percentage_difference)\n",
        "\n",
        "reverse_array=sorted_array[::-1]"
      ],
      "execution_count": 0,
      "outputs": []
    },
    {
      "cell_type": "code",
      "metadata": {
        "id": "FonEykz1BW-9",
        "colab_type": "code",
        "outputId": "6899ccd4-63fc-440f-d074-597695369065",
        "colab": {
          "base_uri": "https://localhost:8080/",
          "height": 35
        }
      },
      "source": [
        "type(percentage_difference)"
      ],
      "execution_count": 54,
      "outputs": [
        {
          "output_type": "execute_result",
          "data": {
            "text/plain": [
              "numpy.ndarray"
            ]
          },
          "metadata": {
            "tags": []
          },
          "execution_count": 54
        }
      ]
    },
    {
      "cell_type": "code",
      "metadata": {
        "id": "bGLxzoXR6EcH",
        "colab_type": "code",
        "outputId": "97bc01bc-7b1a-4623-9d2b-d9b51aaaff7f",
        "colab": {
          "base_uri": "https://localhost:8080/",
          "height": 35
        }
      },
      "source": [
        "percentage_difference.shape"
      ],
      "execution_count": 55,
      "outputs": [
        {
          "output_type": "execute_result",
          "data": {
            "text/plain": [
              "(1, 29469)"
            ]
          },
          "metadata": {
            "tags": []
          },
          "execution_count": 55
        }
      ]
    },
    {
      "cell_type": "markdown",
      "metadata": {
        "id": "x1xdUc2yCzMx",
        "colab_type": "text"
      },
      "source": [
        "## FIND THE NTH PERCENTILE "
      ]
    },
    {
      "cell_type": "code",
      "metadata": {
        "id": "HM-qL5oNCyNg",
        "colab_type": "code",
        "colab": {
          "base_uri": "https://localhost:8080/",
          "height": 1812
        },
        "outputId": "0269fabd-cc08-4927-cd36-49649dcd45a6"
      },
      "source": [
        "print('The First 100th Percentile')\n",
        "\n",
        "for i in range(100):\n",
        "  print(\" The Percentile = \",i,np.percentile(percentage_difference,i))"
      ],
      "execution_count": 58,
      "outputs": [
        {
          "output_type": "stream",
          "text": [
            "The First 100th Percentile\n",
            " The Percentile =  0 0.00012988504120639484\n",
            " The Percentile =  1 0.01704106652529466\n",
            " The Percentile =  2 0.031667209716234816\n",
            " The Percentile =  3 0.04680951695573926\n",
            " The Percentile =  4 0.06296934141459282\n",
            " The Percentile =  5 0.07710280742676966\n",
            " The Percentile =  6 0.09144412489112096\n",
            " The Percentile =  7 0.10553738467497611\n",
            " The Percentile =  8 0.12134112333411497\n",
            " The Percentile =  9 0.13595506168880706\n",
            " The Percentile =  10 0.15081270267368269\n",
            " The Percentile =  11 0.16697508577206996\n",
            " The Percentile =  12 0.18258076809661966\n",
            " The Percentile =  13 0.19822051870137644\n",
            " The Percentile =  14 0.21427523126538356\n",
            " The Percentile =  15 0.22964289513366137\n",
            " The Percentile =  16 0.2443782103723866\n",
            " The Percentile =  17 0.26154048360674576\n",
            " The Percentile =  18 0.27601476351142334\n",
            " The Percentile =  19 0.2924510292565669\n",
            " The Percentile =  20 0.3093105177933104\n",
            " The Percentile =  21 0.32385186650583647\n",
            " The Percentile =  22 0.33842006387510865\n",
            " The Percentile =  23 0.3539653576772072\n",
            " The Percentile =  24 0.36935937449626266\n",
            " The Percentile =  25 0.38539926331194163\n",
            " The Percentile =  26 0.400044166967558\n",
            " The Percentile =  27 0.41514934737875137\n",
            " The Percentile =  28 0.4304017617690613\n",
            " The Percentile =  29 0.4448634669705822\n",
            " The Percentile =  30 0.45959783426313466\n",
            " The Percentile =  31 0.47621909483400354\n",
            " The Percentile =  32 0.49080194651982306\n",
            " The Percentile =  33 0.5075306621060133\n",
            " The Percentile =  34 0.5235854034451344\n",
            " The Percentile =  35 0.538902653489705\n",
            " The Percentile =  36 0.5545227732983823\n",
            " The Percentile =  37 0.5694745982128888\n",
            " The Percentile =  38 0.5842990749517557\n",
            " The Percentile =  39 0.5974049922299296\n",
            " The Percentile =  40 0.6144258545130906\n",
            " The Percentile =  41 0.6295019573548023\n",
            " The Percentile =  42 0.6459883365194344\n",
            " The Percentile =  43 0.6615943199804594\n",
            " The Percentile =  44 0.6783678855075483\n",
            " The Percentile =  45 0.6951289976148123\n",
            " The Percentile =  46 0.7107863288136497\n",
            " The Percentile =  47 0.7282140315256589\n",
            " The Percentile =  48 0.7453277764271679\n",
            " The Percentile =  49 0.7632029262751474\n",
            " The Percentile =  50 0.7800833501172941\n",
            " The Percentile =  51 0.7944572327544914\n",
            " The Percentile =  52 0.8104452672524756\n",
            " The Percentile =  53 0.8267020259940581\n",
            " The Percentile =  54 0.8460909511594523\n",
            " The Percentile =  55 0.8670759059456585\n",
            " The Percentile =  56 0.8867652520131792\n",
            " The Percentile =  57 0.9070800666739709\n",
            " The Percentile =  58 0.9272390269407805\n",
            " The Percentile =  59 0.9481353440124766\n",
            " The Percentile =  60 0.9693808453167522\n",
            " The Percentile =  61 0.988501926914398\n",
            " The Percentile =  62 1.008777127887971\n",
            " The Percentile =  63 1.0314838393616867\n",
            " The Percentile =  64 1.0527566305018365\n",
            " The Percentile =  65 1.076803774712028\n",
            " The Percentile =  66 1.0997270884226287\n",
            " The Percentile =  67 1.1248088224542439\n",
            " The Percentile =  68 1.1497393568293308\n",
            " The Percentile =  69 1.171559026820088\n",
            " The Percentile =  70 1.1960885515495454\n",
            " The Percentile =  71 1.22004325721293\n",
            " The Percentile =  72 1.245962475452935\n",
            " The Percentile =  73 1.2785163342734733\n",
            " The Percentile =  74 1.3129796397308124\n",
            " The Percentile =  75 1.3503683540688045\n",
            " The Percentile =  76 1.3906112977042164\n",
            " The Percentile =  77 1.4308618930525472\n",
            " The Percentile =  78 1.4778195295121621\n",
            " The Percentile =  79 1.535333528759989\n",
            " The Percentile =  80 1.589585366978879\n",
            " The Percentile =  81 1.654389886294069\n",
            " The Percentile =  82 1.7288723906914822\n",
            " The Percentile =  83 1.802666241568125\n",
            " The Percentile =  84 1.8932814305710686\n",
            " The Percentile =  85 1.9917682086908624\n",
            " The Percentile =  86 2.11877569719489\n",
            " The Percentile =  87 2.2602520969381055\n",
            " The Percentile =  88 2.426616826431457\n",
            " The Percentile =  89 2.6254518784448084\n",
            " The Percentile =  90 2.861125748158766\n",
            " The Percentile =  91 3.1543233986897072\n",
            " The Percentile =  92 3.574850501485807\n",
            " The Percentile =  93 4.079814012828142\n",
            " The Percentile =  94 4.5617997834832344\n",
            " The Percentile =  95 5.204422022609738\n",
            " The Percentile =  96 6.127016713603429\n",
            " The Percentile =  97 7.838587197272339\n",
            " The Percentile =  98 11.114065868273794\n",
            " The Percentile =  99 26.473223295000746\n"
          ],
          "name": "stdout"
        }
      ]
    },
    {
      "cell_type": "markdown",
      "metadata": {
        "id": "7slBMG3cGgSX",
        "colab_type": "text"
      },
      "source": [
        "### BY LOOKING AT THE PERCENTILE LOOKS LIKE THERE IS SHARP INCREASE IN THE PERCENTAGE CHANGE FOR\n",
        "\n",
        "### 98TH = 11.11 \n",
        "### 99TH = 26.47\n",
        "\n"
      ]
    },
    {
      "cell_type": "code",
      "metadata": {
        "id": "VzidRvbzNNdx",
        "colab_type": "code",
        "colab": {
          "base_uri": "https://localhost:8080/",
          "height": 195
        },
        "outputId": "ca2bc226-f716-4f9d-caed-6116d41ab0ff"
      },
      "source": [
        " print(\" The Percentile = \",np.percentile(percentage_difference,98.1))\n",
        " print(\" The Percentile = \",np.percentile(percentage_difference,98.2))\n",
        " print(\" The Percentile = \",np.percentile(percentage_difference,98.3))\n",
        " print(\" The Percentile = \",np.percentile(percentage_difference,98.4))\n",
        " print(\" The Percentile = \",np.percentile(percentage_difference,98.5))\n",
        " print(\" The Percentile = \",np.percentile(percentage_difference,98.6))\n",
        " print(\" The Percentile = \",np.percentile(percentage_difference,98.7))\n",
        " print(\" The Percentile = \",np.percentile(percentage_difference,98.8))\n",
        " print(\" The Percentile = \",np.percentile(percentage_difference,98.9))\n",
        " print(\" The Percentile = \",np.percentile(percentage_difference,99))"
      ],
      "execution_count": 61,
      "outputs": [
        {
          "output_type": "stream",
          "text": [
            " The Percentile =  11.93693577866307\n",
            " The Percentile =  12.991766230275505\n",
            " The Percentile =  13.761437085315986\n",
            " The Percentile =  14.921986156096573\n",
            " The Percentile =  15.543394057304209\n",
            " The Percentile =  16.88162252881774\n",
            " The Percentile =  18.32623247587617\n",
            " The Percentile =  21.27902948057568\n",
            " The Percentile =  24.78234190054234\n",
            " The Percentile =  26.473223295000746\n"
          ],
          "name": "stdout"
        }
      ]
    },
    {
      "cell_type": "markdown",
      "metadata": {
        "id": "UCUV3gH8OG3-",
        "colab_type": "text"
      },
      "source": [
        "### LOOKS LIKE THERE IS INCREASE IN THE VALUE FOR 98.8TH, 98.9TH & 99TH PERCENTILE "
      ]
    },
    {
      "cell_type": "markdown",
      "metadata": {
        "id": "cV3H9TbrpJCA",
        "colab_type": "text"
      },
      "source": [
        "### PLOT THE PERCENTAGE CHANGE OF WEIGHT VECTOR WITH NO OF MULTICOLLINEAR POINTS"
      ]
    },
    {
      "cell_type": "code",
      "metadata": {
        "id": "ovzvof3v7-yh",
        "colab_type": "code",
        "outputId": "3408cf7e-e9f1-459d-9d26-d3a71c4a4000",
        "colab": {
          "base_uri": "https://localhost:8080/",
          "height": 297
        }
      },
      "source": [
        "percentage_change = []\n",
        "delta_i = []\n",
        "\n",
        "for i in range(1,101,1):\n",
        "  f= np.where(reverse_array > i )[1].size\n",
        "  percentage_change.append(i)\n",
        "  delta_i.append(f)\n",
        "  \n",
        "\n",
        "plt.xlabel('Percentage change of weight vectors')\n",
        "plt.ylabel('No of Multicollinear points')\n",
        "plt.plot(percentage_change,delta_i)"
      ],
      "execution_count": 56,
      "outputs": [
        {
          "output_type": "execute_result",
          "data": {
            "text/plain": [
              "[<matplotlib.lines.Line2D at 0x7fd9e3d1ef28>]"
            ]
          },
          "metadata": {
            "tags": []
          },
          "execution_count": 56
        },
        {
          "output_type": "display_data",
          "data": {
            "image/png": "[encoded data removed]",
            "text/plain": [
              "<Figure size 432x288 with 1 Axes>"
            ]
          },
          "metadata": {
            "tags": []
          }
        }
      ]
    },
    {
      "cell_type": "code",
      "metadata": {
        "id": "jBT6cS49_ZcB",
        "colab_type": "code",
        "colab": {}
      },
      "source": [
        "  "
      ],
      "execution_count": 0,
      "outputs": []
    },
    {
      "cell_type": "markdown",
      "metadata": {
        "id": "5XtQstAh-Maz",
        "colab_type": "text"
      },
      "source": [
        "## DISPLAY THE LIST OF MULTICOLLINEAR FEATURES "
      ]
    },
    {
      "cell_type": "code",
      "metadata": {
        "id": "-atU9_7q9Dkx",
        "colab_type": "code",
        "outputId": "ac40411b-9df2-465e-f62b-e13504116c96",
        "colab": {
          "base_uri": "https://localhost:8080/",
          "height": 108
        }
      },
      "source": [
        "feat = count_vector.get_feature_names()\n",
        "print(\"No of features have weight changes greater than 30%: \", percentage_difference[np.where(percentage_difference > 30)].size)\n",
        "feature_names=[]\n",
        "print(\"\\nHence below features are multi collinear:\")\n",
        "for i in np.where(percentage_difference > 1)[1]:\n",
        "    feature_names.append(feat[i])\n",
        "print(feature_names)"
      ],
      "execution_count": 0,
      "outputs": [
        {
          "output_type": "stream",
          "text": [
            "No of features have weight changes greater than 30%:  190\n",
            "\n",
            "Hence below features are multi collinear:\n",
            "['aaaah', 'aaah', 'aaahhhhhh', 'ab', 'aberdeen', 'abi', 'abita', 'abnorm', 'abovement', 'abruzzo', 'abscond', 'absolulti', 'absorpt', 'accedi', 'acceler', 'acclaim', 'accor', 'acctural', 'accumul', 'aceit', 'acerb', 'acesuflamek', 'acetylcholin', 'acidifi', 'acidolphilus', 'acidophil', 'ack', 'acrid', 'action', 'actual', 'acumen', 'acupressur', 'acupunctur', 'acuraci', 'adapt', 'adaptogen', 'addat', 'address', 'adivc', 'adjac', 'ado', 'adobo', 'adolphus', 'advanceshield', 'advion', 'aer', 'affair', 'afficionado', 'aficionado', 'aflatoxin', 'afrikaan', 'afteral', 'afterbit', 'afternooon', 'afteroon', 'afterward', 'aggress', 'aggrev', 'agrument', 'agrumento', 'ahh', 'ahhhaahhh', 'ahhhhh', 'ahhhhhh', 'ahi', 'ahmad', 'ahnd', 'ahv', 'aid', 'aim', 'airflight', 'airhead', 'airplan', 'airwav', 'airy', 'ajanta', 'akron', 'alack', 'alan', 'alcat', 'alchol', 'aleighten', 'aleist', 'alfa', 'alfalfa', 'alford', 'algarv', 'algebra', 'align', 'alkyl', 'alkylamid', 'alleg', 'allen', 'alli', 'allig', 'allium', 'allreadi', 'allrecip', 'allspic', 'almondina', 'almonduo', 'aloud', 'alt', 'altaj', 'alter', 'alternativw', 'althet', 'altria', 'altruist', 'alumin', 'alwi', 'alzheim', 'amamz', 'amason', 'amazonb', 'amazonian', 'amber', 'ambigi', 'ambiti', 'ambrosoli', 'ambul', 'american', 'americano', 'amid', 'amidst', 'amish', 'ammino', 'ammonium', 'amongst', 'amorph', 'amoxicillin', 'amphetamin', 'ampli', 'ampong', 'amput', 'amri', 'amylas', 'amzn', 'anabol', 'anasazi', 'ancestr', 'anchimer', 'andov', 'anesthet', 'angelica', 'angl', 'anh', 'anhui', 'anita', 'anna', 'annalis', 'anniversari', 'annual', 'annuum', 'anom', 'anond', 'ant', 'antarctica', 'anteadot', 'antic', 'antichrist', 'antifreez', 'antigua', 'antiquarian', 'antispasmod', 'anyhoo', 'anyt', 'anyway', 'apartheid', 'apathi', 'apbt', 'apc', 'apiari', 'apigallocatechin', 'apolog', 'apothecari', 'applemon', 'applianc', 'applic', 'apprais', 'apprehend', 'apricotti', 'apt', 'aquasana', 'ara', 'arabian', 'arbequina', 'archaic', 'archiv', 'arctic', 'ardent', 'areaa', 'arent', 'argentinian', 'aristocat', 'aristocraci', 'arm', 'armour', 'arn', 'aroma', 'aros', 'arouma', 'arrant', 'array', 'arrriv', 'arsom', 'artagnon', 'artemi', 'artemiscompani', 'artisen', 'artist', 'artisticali', 'artsi', 'asad', 'asain', 'ascarsi', 'ascend', 'ascertain', 'ashoka', 'askanc', 'asleep', 'aslo', 'aspartem', 'aspca', 'asperg', 'aspergillus', 'aspirin', 'aspirn', 'ass', 'asschowd', 'assimul', 'assur', 'asta', 'asteracea', 'asthma', 'astring', 'astronaut', 'atherogenesi', 'athlet', 'athletic', 'ativan', 'atkin', 'atlant', 'attemt', 'attendig', 'audibl', 'audienc', 'audit', 'audrey', 'authet', 'authoritarian', 'autodeliveri', 'autograph', 'auvergn', 'avaialbl', 'avail', 'availab', 'availabili', 'availalb', 'avalon', 'aveng', 'avid', 'avita', 'avocado', 'awoken', 'axe', 'axiom', 'azafran', 'azar', 'baar', 'baarrel', 'babagan', 'babe', 'babi', 'backach', 'backend', 'backround', 'backseat', 'backup', 'bacopa', 'bacterium', 'badboy', 'badescu', 'badoodl', 'baffl', 'bagger', 'baghdad', 'bah', 'bake', 'bakoula', 'ballotin', 'balsamica', 'band', 'bandini', 'banh', 'banner', 'banshe', 'barbarum', 'barbera', 'barest', 'baromet', 'barrier', 'bartram', 'barvarian', 'basebal', 'basin', 'bastogn', 'bastyr', 'batmanghelidj', 'batra', 'bbbt', 'bbc', 'bcaus', 'bcs', 'beach', 'beaneri', 'beaney', 'beaten', 'beatha', 'bec', 'bedbathandbeyond', 'bedlam', 'bedlington', 'bedouin', 'bedroom', 'beedl', 'beetl', 'beff', 'beheld', 'beisd', 'belgian', 'beliv', 'bellavista', 'belli', 'belvoir', 'bend', 'benight', 'benni', 'bensonhurst', 'bentli', 'benzo', 'benzodiazepin', 'benzoyl', 'berio', 'berkshir', 'bern', 'bernes', 'bernstein', 'besan', 'besot', 'betelgeus', 'betsi', 'betta', 'bettr', 'bev', 'bever', 'bevnet', 'bff', 'bhukara', 'biali', 'biallita', 'biannual', 'bicuit', 'bifidobacgterium', 'bigmart', 'bija', 'bilardo', 'bill', 'biochem', 'biochemistri', 'bioflavonoid', 'biographi', 'biolog', 'bioreactor', 'birdi', 'birdsong', 'birthday', 'birthright', 'bissing', 'bisulf', 'bitoluv', 'bizzi', 'blackcurr', 'blackish', 'blasphem', 'blasphemi', 'blastin', 'blavatski', 'bleak', 'blechh', 'bled', 'blend', 'blenderbal', 'blenheim', 'bless', 'bleus', 'blinder', 'blockag', 'blogspot', 'bloodi', 'bloodtyp', 'blook', 'blop', 'blowup', 'bluegrass', 'blueish', 'bluetooth', 'bluff', 'bluish', 'blunt', 'blurri', 'bma', 'boar', 'boardroom', 'boat', 'bobcat', 'bodum', 'bodyfat', 'bogus', 'boilt', 'boister', 'boku', 'boletus', 'bomba', 'bombard', 'bombay', 'bon', 'bonito', 'bonn', 'bonnat', 'bookshop', 'boom', 'boorish', 'booth', 'boredom', 'borsari', 'bossi', 'botten', 'boudoir', 'boulder', 'bourbon', 'bourgeoisi', 'bowel', 'boycott', 'boyland', 'boylen', 'bpimp', 'bqq', 'bracket', 'brackish', 'bradham', 'bragg', 'brainless', 'brainpow', 'brando', 'branston', 'bratwurst', 'bratz', 'braveri', 'bridgework', 'briefest', 'brisk', 'britain', 'britannia', 'brittish', 'britvic', 'broadway', 'broccoli', 'bromley', 'bronzi', 'brookfarm', 'brought', 'browish', 'brown', 'brownsauc', 'brule', 'brunvan', 'brunvand', 'bruschetta', 'bryanna', 'bryant', 'brylcrem', 'btv', 'bubbili', 'bubblegum', 'bubblier', 'buck', 'bucket', 'buckthorn', 'budgetari', 'buffer', 'buffet', 'bugl', 'built', 'bukara', 'bukhail', 'bulkier', 'bullard', 'bump', 'bun', 'bundl', 'buoy', 'burlingham', 'burmes', 'burmil', 'burrough', 'bursiti', 'buse', 'businessmen', 'businesswomen', 'but', 'butt', 'buttermilk', 'butterscotch', 'buttload', 'buttock', 'buttress', 'buttteri', 'butttom', 'butttttt', 'buzz', 'byfiend', 'bygon', 'cabal', 'cacium', 'cae', 'cafeein', 'caffeic', 'caffeinn', 'cajol', 'cajun', 'cal', 'calcif', 'caleb', 'calendula', 'calib', 'calisparra', 'calistoga', 'callet', 'callinbg', 'calphalon', 'cam', 'camel', 'camper', 'campofrio', 'canaan', 'canard', 'candid', 'candlefish', 'canin', 'cann', 'cannib', 'cannibalist', 'capabl', 'capelli', 'caponata', 'capp', 'cappuccinno', 'captain', 'captiv', 'captur', 'carageenan', 'caramba', 'carandini', 'carba', 'carbohydr', 'card', 'cardena', 'cardio', 'cardioelectrophysicist', 'cardiomyopathi', 'cardiovascular', 'caretak', 'carlton', 'carolyn', 'caron', 'carotenoid', 'carousel', 'carrabba', 'carrington', 'carv', 'casbah', 'casr', 'cassi', 'cassiopia', 'castanza', 'castelvetro', 'castor', 'casul', 'catacholamin', 'catacomb', 'catalyst', 'catbox', 'catchphras', 'categori', 'cater', 'catfood', 'catharin', 'cathi', 'cathol', 'catimor', 'catserol', 'cauda', 'caught', 'cavan', 'cave', 'cavett', 'caviar', 'cavort', 'cbs', 'cecil', 'cedarberg', 'cedrinca', 'celcius', 'celeri', 'cellular', 'cellulas', 'celluls', 'celsius', 'cemeteri', 'censorship', 'centenni', 'cerevesia', 'cerevisia', 'certfi', 'ceski', 'chado', 'chain', 'chair', 'chairman', 'chait', 'chambord', 'champignon', 'chantal', 'chanukah', 'chapstick', 'chapter', 'character', 'chare', 'charismat', 'chart', 'charter', 'chase', 'chattanooga', 'chaud', 'chaze', 'chcoloc', 'chd', 'cheapskat', 'cheddar', 'cheeto', 'chefsbest', 'cheifli', 'chemical', 'chequerboard', 'cherrybrrok', 'cherryz', 'cheshir', 'chewabl', 'chewtoy', 'chez', 'chf', 'chiap', 'chiara', 'chichen', 'chick', 'chien', 'childproof', 'children', 'chili', 'chillier', 'chinatown', 'chinees', 'chippi', 'chiristma', 'chis', 'chiuaua', 'chivi', 'choclat', 'chococino', 'choconut', 'choley', 'chorizo', 'chow', 'chracterist', 'chrysanthemum', 'chuen', 'chukar', 'chylothorax', 'cicada', 'cichor', 'cilatro', 'cinammon', 'cinamom', 'circulatori', 'circus', 'cis', 'citadell', 'citizen', 'citral', 'citri', 'citric', 'clang', 'claori', 'claremont', 'claud', 'claymat', 'cld', 'clearanc', 'clearfield', 'cleft', 'clemintin', 'clemmi', 'cliam', 'click', 'clicki', 'clif', 'climb', 'cling', 'clinic', 'clip', 'cliqu', 'clock', 'close', 'closer', 'cloudi', 'cloudier', 'cloy', 'clsoe', 'club', 'clue', 'clunker', 'cluster', 'cnadi', 'cnn', 'coalesc', 'cobwebbi', 'coca', 'coccoa', 'cocina', 'cockapoo', 'cockel', 'cockerspaniel', 'cockroach', 'coconutoil', 'codepend', 'coexist', 'coffeet', 'cofff', 'cohes', 'coinag', 'coki', 'colemen', 'coleus', 'colgat', 'collater', 'collect', 'colleg', 'collegu', 'colloid', 'colloqui', 'colorfast', 'colorless', 'coltran', 'coma', 'comal', 'comcntrat', 'comedi', 'comer', 'comingl', 'commemor', 'commend', 'commentari', 'commentor', 'commerci', 'commetn', 'commod', 'commodit', 'communiti', 'compair', 'comparis', 'comparson', 'compartment', 'compass', 'compat', 'competitor', 'complac', 'complain', 'compress', 'conced', 'concenr', 'concerend', 'conchigli', 'concockt', 'condescend', 'condidion', 'condition', 'condo', 'condor', 'conentr', 'confection', 'configur', 'confit', 'confusci', 'congo', 'conifer', 'connoseur', 'connosieur', 'conscienc', 'consecr', 'consipaton', 'consistanc', 'consisteni', 'consistennci', 'consistensi', 'consol', 'consolid', 'constip', 'consumersearch', 'contanin', 'contempt', 'contend', 'contest', 'continent', 'contour', 'contra', 'conveinc', 'converg', 'convien', 'cooconut', 'cookag', 'cookeri', 'coolant', 'cooper', 'coor', 'coordin', 'copious', 'copper', 'corgi', 'coriand', 'cormick', 'cormoro', 'cornbr', 'cornnut', 'cornzapoppin', 'corp', 'corps', 'corriand', 'corridor', 'cortes', 'cosbi', 'cosist', 'costco', 'cote', 'cotto', 'coujld', 'couli', 'council', 'counterattack', 'counti', 'countless', 'countri', 'countrywild', 'courmet', 'courtesi', 'cousin', 'cousous', 'coveni', 'covert', 'covor', 'coyl', 'coyot', 'cpr', 'cps', 'crabappl', 'crabbi', 'crack', 'cracker', 'crackerm', 'crackertilla', 'craigslist', 'crami', 'crane', 'crank', 'crapacola', 'crasin', 'crate', 'crawford', 'creamett', 'creatinin', 'creativli', 'credenti', 'credibl', 'creeper', 'crepe', 'cresent', 'crewmen', 'crib', 'crippl', 'cris', 'crispi', 'criterion', 'criticis', 'crnberri', 'croak', 'croisant', 'croix', 'crop', 'crowd', 'crowley', 'cruddi', 'crunchy', 'crusad', 'crusti', 'crystal', 'cuban', 'cubist', 'cuckoo', 'cuervo', 'cuilan', 'cuisinart', 'culturell', 'cumin', 'curat', 'curb', 'curtiss', 'curvebal', 'customari', 'cuticl', 'cutleri', 'cutter', 'cutthroat', 'cuttlefish', 'cxomment', 'cyclam', 'cylind', 'cylindr', 'cylon', 'cypress', 'cytomax', 'czar', 'czarina', 'daave', 'dabbl', 'dabl', 'dah', 'dahh', 'dahl', 'dain', 'dairymen', 'dairyperson', 'dairywomen', 'dalla', 'dallianc', 'dalmat', 'damask', 'damson', 'dandilion', 'daneman', 'danish', 'dappa', 'darjeel', 'data', 'daubentonia', 'dave', 'davenport', 'david', 'daviola', 'davison', 'dawg', 'daytona', 'deadest', 'death', 'debilit', 'debitt', 'debussi', 'dec', 'decapit', 'decend', 'declar', 'decocain', 'decript', 'dedic', 'defens', 'defray', 'degress', 'dehydr', 'dei', 'deiti', 'del', 'delectabal', 'delfa', 'deliciosa', 'delicoius', 'deliic', 'deliveryman', 'delivri', 'delmonico', 'delspensa', 'delus', 'demens', 'dement', 'demerara', 'demiglac', 'demodex', 'den', 'denatur', 'deni', 'denist', 'dentastix', 'dentur', 'deoder', 'deosn', 'depart', 'deposit', 'dervish', 'descripton', 'design', 'despis', 'despit', 'dessic', 'destin', 'destini', 'detail', 'detest', 'dethron', 'detoxifi', 'detra', 'detractor', 'deutch', 'development', 'devious', 'dextrin', 'diabet', 'diabeticlifediet', 'diacet', 'diagnost', 'dial', 'dialogu', 'diamond', 'diari', 'diatrib', 'dice', 'dick', 'dictat', 'diesel', 'dietari', 'dietitian', 'diffucult', 'digust', 'dijonnais', 'dilat', 'dilig', 'dilutant', 'dimethylpyrimidinol', 'dimish', 'dimmer', 'dimpl', 'dine', 'dinner', 'diplom', 'diptheria', 'directley', 'dirt', 'dis', 'disassembl', 'disatisfact', 'disbeliev', 'disconnect', 'disconnected', 'discontiun', 'discordia', 'discordian', 'discourag', 'disdain', 'disembowl', 'dishonest', 'dishrag', 'disinfect', 'disintigr', 'dispens', 'dispers', 'displi', 'disproportion', 'disregard', 'dissembl', 'dissimilar', 'disslov', 'dissolut', 'distant', 'distil', 'distinquish', 'disulfit', 'diuret', 'dixi', 'doce', 'dogfoodanalysi', 'doggi', 'dogma', 'doinki', 'dolbi', 'doldrum', 'dollat', 'dollup', 'dolt', 'domatcha', 'domingo', 'donald', 'donnelli', 'donwright', 'doo', 'doomsday', 'doomur', 'doorstop', 'dora', 'dork', 'dorki', 'doubleboil', 'doublem', 'doublemint', 'doughboy', 'dover', 'doyl', 'drambui', 'drank', 'drawer', 'dreambar', 'drek', 'drench', 'dressi', 'drine', 'dringk', 'drinker', 'drinkwel', 'dripol', 'drizzel', 'drm', 'drmcdougal', 'droopi', 'dropkick', 'drove', 'drummi', 'drunch', 'dryish', 'drys', 'duan', 'dub', 'duckl', 'due', 'duff', 'dulch', 'dull', 'duma', 'dumpster', 'duncan', 'dune', 'dunkin', 'dupont', 'durn', 'durum', 'dusk', 'dust', 'dusti', 'dustpan', 'dvd', 'dvds', 'dwayn', 'dwell', 'dwindl', 'dynamit', 'ead', 'ear', 'earger', 'earlyshield', 'earn', 'earnest', 'earpiec', 'earshot', 'earthmat', 'easer', 'easliy', 'ebb', 'ebenso', 'ecc', 'ecclect', 'ecg', 'ecgc', 'eclect', 'eco', 'ecog', 'economi', 'ecosystem', 'ect', 'edam', 'edietshop', 'edinburgh', 'editor', 'edmund', 'edta', 'edtv', 'edward', 'efagold', 'effeic', 'effervesc', 'effus', 'efinit', 'efooddepot', 'eggbeat', 'eggcel', 'eggesbo', 'egglant', 'eggnogg', 'egotist', 'egregi', 'egypt', 'eighth', 'eilimin', 'einz', 'ejacul', 'eke', 'ekt', 'elaps', 'elderflow', 'electr', 'electrician', 'electroly', 'eles', 'elitist', 'els', 'elsewar', 'emaci', 'embarras', 'emblic', 'embolden', 'emerald', 'emerel', 'emilia', 'emin', 'emma', 'emmin', 'emmit', 'empir', 'enclosur', 'enclous', 'encyclopedia', 'endang', 'endcap', 'endet', 'endotheli', 'endow', 'enerv', 'eng', 'engend', 'engergi', 'engin', 'englai', 'englishmen', 'enjoyabl', 'enlarg', 'enrag', 'enter', 'enthuis', 'entic', 'entir', 'enviabl', 'envior', 'enzym', 'epesci', 'epicatchin', 'epicatechin', 'epidemiolog', 'epigallocatechin', 'epresso', 'eqiuival', 'equador', 'equiliv', 'equisit', 'er', 'erect', 'errant', 'erwachsen', 'erythorb', 'escap', 'esoter', 'especial', 'espress', 'espression', 'espressli', 'essen', 'essex', 'essoil', 'estabish', 'establish', 'etc', 'etruria', 'eugenia', 'eureka', 'euro', 'evagold', 'evansvill', 'evap', 'evauat', 'evem', 'event', 'everywher', 'evian', 'evilspeak', 'ewig', 'ewww', 'ewwwww', 'exactley', 'exaust', 'excentr', 'excerc', 'exclud', 'excommun', 'exemplar', 'exemplifi', 'exens', 'exercis', 'exetrem', 'exhibit', 'exhilar', 'exist', 'exlus', 'expand', 'expec', 'expector', 'exper', 'expirement', 'explicit', 'expoloratori', 'exposit', 'exprienc', 'expsur', 'extend', 'extent', 'extra', 'extranei', 'extrins', 'extrud', 'extrus', 'exuber', 'eyesight', 'ezcema', 'ezekiel', 'fabric', 'fabula', 'fabutast', 'facial', 'facimili', 'factil', 'faction', 'factor', 'factual', 'facult', 'fad', 'fage', 'fahrenheidt', 'fairest', 'fairhaven', 'fajita', 'fallaci', 'fallback', 'fallot', 'falsifi', 'falvour', 'famiglia', 'familar', 'fanatst', 'fanconi', 'farmer', 'farmhand', 'farriag', 'farrier', 'fas', 'fashion', 'fatfre', 'fatrikcherra', 'fatti', 'faucett', 'faultless', 'fav', 'favortir', 'feast', 'fee', 'feh', 'fella', 'femm', 'fenc', 'feodorovich', 'ferrel', 'fesh', 'fettish', 'fey', 'fiance', 'fiberfil', 'fiddl', 'fidgeti', 'fifeteen', 'fifth', 'fig', 'figgi', 'file', 'filippo', 'filmak', 'filthiest', 'finger', 'finit', 'fink', 'fiorina', 'firepot', 'firepow', 'firey', 'firmwar', 'fishbon', 'fishbowl', 'fisher', 'fishermen', 'fishier', 'fishkeep', 'fitch', 'fizz', 'flagyl', 'flaki', 'flaovr', 'flavia', 'flax', 'flaxplus', 'fledgl', 'flee', 'fleec', 'fleer', 'fleishmann', 'fleshi', 'flew', 'flexatarian', 'flirtati', 'flit', 'float', 'floati', 'flog', 'floodlamp', 'florenc', 'flouri', 'flower', 'floweri', 'fluent', 'fluffernutt', 'fluke', 'flyer', 'flys', 'foccacia', 'foccica', 'focus', 'foggi', 'folger', 'folklor', 'fond', 'fontina', 'food', 'foodrenegad', 'foodstuff', 'foodwork', 'fooey', 'foosh', 'footnot', 'forag', 'forego', 'foreplay', 'forerunn', 'foreswear', 'forev', 'forevev', 'forgetten', 'former', 'forsak', 'forskohlii', 'fortnight', 'fought', 'foundu', 'fourti', 'foward', 'foxx', 'franc', 'francesco', 'francisfr', 'frankenberri', 'franki', 'frappucinno', 'frech', 'freedom', 'freeland', 'freelif', 'freeway', 'freezi', 'freitag', 'fremont', 'french', 'frenet', 'frequenti', 'frickin', 'friel', 'friendi', 'frigid', 'friskier', 'fritoslay', 'friuti', 'frog', 'froh', 'frontier', 'frost', 'frother', 'frozennnnn', 'fructooligosaccarid', 'frustat', 'frustrat', 'frutier', 'frw', 'frypan', 'fsss', 'ftt', 'fuddruck', 'fudgsicl', 'fuel', 'fuit', 'fukusa', 'ful', 'fulsom', 'fumbl', 'function', 'fungi', 'fungus', 'furo', 'furthermor', 'fush', 'fusilli', 'fwr', 'fwrs', 'fyi', 'fzzzzzt', 'gabbi', 'gabriella', 'gaga', 'gaggi', 'gainesvill', 'gaint', 'gait', 'galatoir', 'galbi', 'gald', 'gall', 'gallaogatechin', 'gallat', 'gallon', 'galte', 'galveston', 'gambl', 'gamma', 'ganocaf', 'garante', 'garbonzo', 'gardein', 'garllic', 'garmin', 'garrett', 'gasol', 'gastic', 'gastro', 'gastrointenstin', 'gate', 'gatorad', 'gaur', 'gauz', 'gaven', 'geeta', 'gelanin', 'gen', 'genesi', 'genoves', 'genseng', 'gentian', 'genuin', 'genunin', 'geraldin', 'geri', 'germanium', 'geyser', 'gfcf', 'ghiradhelli', 'giftbox', 'gilbert', 'gild', 'gillett', 'ginger', 'gingerbread', 'gingermint', 'gingerspic', 'gingev', 'ginseng', 'ginza', 'girard', 'girardelli', 'girlfriend', 'gjetost', 'glandular', 'gleam', 'glimps', 'glitteri', 'global', 'glossi', 'gloucster', 'glucosomethingoroth', 'glue', 'gluen', 'glutamas', 'gluten', 'glutenfre', 'glycerit', 'glycerol', 'glyphos', 'gnutella', 'goblet', 'godfath', 'godsak', 'godson', 'goggl', 'goldenberri', 'goldenspurtl', 'golean', 'goodearth', 'goodman', 'goodyear', 'goon', 'goosefoot', 'goozl', 'gordon', 'gorefest', 'gorganzola', 'gotcha', 'gotta', 'gotu', 'goug', 'goulash', 'gourmetfoodstor', 'gouti', 'goya', 'graaaaaaaandmama', 'grabag', 'grabber', 'graden', 'graduat', 'grain', 'gramp', 'granach', 'granadilla', 'grand', 'grandios', 'granier', 'granoloa', 'granual', 'granul', 'granula', 'grapevin', 'graph', 'graphit', 'graprefuit', 'gras', 'grass', 'gravita', 'gravlax', 'greal', 'greatful', 'greenfood', 'greenhous', 'greentea', 'gremlin', 'grieco', 'griffith', 'grigio', 'grim', 'grimac', 'grime', 'grind', 'gring', 'gripz', 'gristed', 'groan', 'grogan', 'groin', 'grose', 'grossli', 'grottomast', 'groundless', 'grouper', 'groupi', 'grover', 'grubbi', 'gruesom', 'gsds', 'gtf', 'guam', 'guangdong', 'guano', 'guat', 'guerilla', 'guffaw', 'guidanc', 'guil', 'gulcosamin', 'gulden', 'gulpabl', 'gummi', 'gummibaerchen', 'gummier', 'guo', 'gurlic', 'gutsi', 'guzzl', 'gwen', 'gycem', 'gymnast', 'haag', 'habanaro', 'haddock', 'haemlyn', 'haff', 'hafiz', 'hagaman', 'haggen', 'haida', 'hairnet', 'halcyon', 'haledon', 'halftim', 'halfway', 'halogen', 'halvorsen', 'hamburg', 'hammond', 'hampsir', 'handcream', 'handful', 'handiwork', 'handler', 'hangout', 'hanker', 'hanley', 'hanout', 'hanson', 'haphazard', 'happend', 'happybelli', 'happyhalloween', 'hardboil', 'hardest', 'hardl', 'hardship', 'harken', 'harlem', 'harmful', 'harrass', 'harsh', 'hartley', 'harvard', 'hasen', 'hasher', 'hasselnuss', 'hassl', 'havahart', 'have', 'havng', 'hawaii', 'hawaiian', 'hayden', 'hazard', 'hazelnut', 'hazi', 'hazl', 'hazmat', 'head', 'headmast', 'headset', 'healthcheck', 'healtheir', 'healthlier', 'healthnik', 'heap', 'hearrtburn', 'hearsay', 'hearth', 'heath', 'heathi', 'heathwis', 'heav', 'heavan', 'heaviest', 'heavyweight', 'heb', 'hec', 'heck', 'heckl', 'heehe', 'heftier', 'heimlich', 'hela', 'hellrais', 'helper', 'hemispher', 'hemp', 'hempshak', 'hep', 'hepat', 'hepburn', 'herbamar', 'herbi', 'herbolog', 'hercul', 'herein', 'herp', 'herpanacin', 'herr', 'hesperia', 'heywood', 'hiatus', 'hibern', 'hic', 'hichew', 'hige', 'highris', 'hightail', 'hilton', 'hindenburg', 'hindi', 'hindu', 'hine', 'hinz', 'hipcat', 'hipster', 'hitchhik', 'hitchik', 'hither', 'hiv', 'hmm', 'hmmmmmm', 'hob', 'hogan', 'hogson', 'hoi', 'hole', 'holi', 'holiest', 'hollywood', 'homefront', 'homegrown', 'homeland', 'homer', 'homogen', 'honcho', 'honeybel', 'honib', 'honyock', 'hoof', 'hoofi', 'hooter', 'hoover', 'hop', 'hormon', 'hormorn', 'horni', 'horrend', 'horriabl', 'horseback', 'host', 'hostil', 'hoswick', 'hotlin', 'hotpod', 'hotr', 'hotta', 'housewhol', 'houtt', 'howdi', 'howov', 'hoy', 'hoyo', 'hsn', 'html', 'huang', 'huangshan', 'huband', 'hudsonvill', 'huevo', 'hullabaloo', 'hum', 'humect', 'humid', 'humidifi', 'humongo', 'hunan', 'hungarian', 'hungiez', 'hungov', 'huntress', 'husbandri', 'hush', 'huski', 'hyderabadi', 'hydoxicut', 'hydrocholorid', 'hydrogin', 'hydrol', 'hydrolysi', 'hydroscop', 'hydrotherapist', 'hydrox', 'hydroxi', 'hydroxytyrosol', 'hyman', 'hyperbol', 'hyperbolium', 'hyperglycemia', 'hyperlink', 'hyperthroid', 'iaam', 'icebox', 'icu', 'identif', 'idividu', 'ifa', 'ige', 'igg', 'ileg', 'iliada', 'illus', 'illusori', 'illustr', 'im', 'imag', 'imaginari', 'immatur', 'immeadi', 'immeasur', 'immers', 'immunosuppres', 'impact', 'impec', 'imperil', 'impetus', 'implor', 'importfood', 'imposs', 'impot', 'impromptu', 'improvis', 'ina', 'inadequt', 'inappropri', 'inattent', 'inaugur', 'inbed', 'inbetween', 'inbreed', 'incandesc', 'inccompet', 'incens', 'incent', 'incess', 'incl', 'inclan', 'includ', 'incompetit', 'inconsequenti', 'incontrovert', 'inconvenienc', 'increas', 'incredul', 'incumb', 'inde', 'indefatigu', 'indefinit', 'indianapoli', 'indicatour', 'indiffer', 'individud', 'indoor', 'indredi', 'induct', 'ineleg', 'inert', 'inexact', 'inexcus', 'inexpedi', 'inexperi', 'infam', 'infarct', 'infatu', 'infecti', 'infinit', 'infinitum', 'inflat', 'ingred', 'ingrid', 'inher', 'inhibit', 'init', 'initi', 'injun', 'inki', 'inlieu', 'inner', 'innless', 'innoc', 'inositol', 'inprov', 'inquir', 'inquiri', 'insalata', 'insecticid', 'insfus', 'insidi', 'insight', 'insignia', 'insinu', 'instinct', 'insulin', 'insurg', 'insurmount', 'intenseley', 'intenti', 'interchang', 'interferon', 'interim', 'intermuscular', 'interrest', 'intertwin', 'interven', 'interwov', 'intestin', 'intox', 'invar', 'inventor', 'inviron', 'invoic', 'inward', 'ipo', 'ipp', 'ir', 'ira', 'iraq', 'iraqi', 'ironi', 'ironwork', 'irrelev', 'irreplac', 'irresist', 'iself', 'isin', 'isl', 'islay', 'isoflavon', 'isomaltulos', 'isopropanol', 'issu', 'istanbul', 'istead', 'ital', 'iterest', 'itw', 'itza', 'iykwim', 'jail', 'jalepeno', 'jalepino', 'jalopeno', 'jamacian', 'jamaica', 'jambo', 'jameson', 'jami', 'januari', 'japanes', 'japapeno', 'japonais', 'jar', 'jargon', 'jarlsberg', 'jaunti', 'javahol', 'javalim', 'javan', 'jawin', 'jedi', 'jeera', 'jeez', 'jefferi', 'jefferson', 'jersey', 'jet', 'jewish', 'jiggler', 'jiic', 'jing', 'jitteri', 'jockey', 'jodhpur', 'joel', 'joey', 'joke', 'jook', 'jose', 'josey', 'josi', 'jostl', 'jovial', 'joyva', 'jtc', 'juicier', 'juicyjuic', 'juli', 'junqu', 'justic', 'justif', 'kal', 'kale', 'kaluha', 'kalustyan', 'kandi', 'kara', 'karaok', 'kasey', 'kashrus', 'kate', 'kathryn', 'kavla', 'kay', 'kbr', 'keaton', 'keebler', 'keem', 'keemun', 'keiller', 'kelsey', 'kenai', 'kenyan', 'kestekidi', 'ketsup', 'keylim', 'kfc', 'khatta', 'khoi', 'kibbl', 'kickback', 'kickbal', 'kidnap', 'kikko', 'kilimanjaro', 'kilo', 'kim', 'kincaid', 'kinda', 'kingston', 'kinship', 'kipl', 'kitchen', 'kitchenless', 'kitchenwar', 'klonopin', 'klos', 'klub', 'knight', 'knockin', 'knowedg', 'knowlton', 'koaoa', 'kobayashi', 'kodiac', 'kogelschatz', 'kool', 'koolaid', 'kopali', 'kopiko', 'korea', 'kosciusko', 'kousmichoff', 'kraft', 'kream', 'krigsman', 'krispe', 'kritter', 'krumpet', 'krup', 'krusteaz', 'krustez', 'kuma', 'kun', 'kunati', 'kusugai', 'kwakiutl', 'laboratori', 'lace', 'lacer', 'lachu', 'lactos', 'ladi', 'lagass', 'lah', 'laidlaw', 'lair', 'lamb', 'lamington', 'lamp', 'lana', 'lancast', 'lantchip', 'lap', 'laphroaig', 'lapiana', 'laps', 'laryng', 'lasi', 'last', 'later', 'latharg', 'lavatori', 'laver', 'laxaton', 'leaden', 'leagu', 'leakag', 'lean', 'lee', 'leevel', 'leg', 'legum', 'leib', 'lelit', 'lem', 'lemm', 'lemoney', 'lenghth', 'lengthi', 'lenient', 'leon', 'lessen', 'lest', 'lewi', 'lhasa', 'liabl', 'liberia', 'libido', 'licenc', 'lidia', 'lifebit', 'lift', 'lighthead', 'lightpost', 'lightweight', 'likker', 'likt', 'lili', 'limpli', 'lindt', 'lintel', 'lipas', 'liquamen', 'liqueur', 'liquid', 'listin', 'listmania', 'litani', 'litll', 'litmus', 'litr', 'litt', 'llasa', 'loami', 'loc', 'local', 'locavor', 'lock', 'logist', 'lolipop', 'loneliest', 'loner', 'longcoat', 'longibrachiatum', 'longstand', 'longterm', 'looong', 'loooong', 'looos', 'loop', 'loosey', 'lord', 'lordship', 'lorenzen', 'loud', 'lovecraft', 'loveeee', 'lowcarbfriend', 'lowney', 'ltr', 'lubeck', 'lubi', 'lucaf', 'luckiest', 'lull', 'lumin', 'lumpi', 'lunchroom', 'lund', 'lutefisk', 'lve', 'lycasin', 'lyceum', 'lyle', 'lymphocyt', 'lysol', 'lysozym', 'macaroni', 'macaroon', 'macasur', 'macdonnald', 'mace', 'macedonia', 'machet', 'machinc', 'macht', 'mad', 'madagascariensi', 'madden', 'madhavahoney', 'madra', 'magarin', 'magazin', 'magician', 'magnanim', 'magnesium', 'magnifici', 'magnifico', 'magnus', 'mailer', 'mainlin', 'maintan', 'maitak', 'majest', 'majic', 'makeshift', 'malais', 'malaria', 'malfunct', 'malinda', 'malipoo', 'mallet', 'mallow', 'mamad', 'mamaeun', 'mamakitti', 'maman', 'mamaroneck', 'manadarin', 'mandala', 'mang', 'manga', 'mangoj', 'manhattan', 'manhol', 'manufacturor', 'manx', 'mao', 'maofeng', 'mapl', 'marasca', 'marbella', 'marbl', 'mardi', 'margaret', 'margrita', 'marinad', 'marinara', 'marinho', 'marion', 'marketplac', 'markup', 'marlon', 'marrakesh', 'marriag', 'marscapon', 'martelli', 'marti', 'martial', 'marukan', 'marzapan', 'masago', 'master', 'masterpiec', 'matar', 'matcha', 'mathew', 'maverick', 'maxhous', 'maxim', 'mayham', 'mayhem', 'mazipan', 'mcfas', 'mcg', 'mcgillicutti', 'mcgovern', 'mchaiku', 'mckinney', 'mcmeal', 'mdx', 'mea', 'meaningless', 'meanwhil', 'measli', 'mechan', 'mediam', 'medihoney', 'meditaion', 'mediteranean', 'mediunm', 'medlin', 'meetha', 'mega', 'megabox', 'melanoma', 'melitta', 'melter', 'membership', 'memento', 'menchan', 'menstrual', 'mentha', 'meowmix', 'mepal', 'merchant', 'messier', 'messs', 'metal', 'metaphor', 'metaplus', 'mete', 'methoci', 'methodolog', 'methysticum', 'metrosexu', 'mexico', 'meyenburg', 'meyerberg', 'mgo', 'miami', 'michael', 'michel', 'michigan', 'micro', 'microbi', 'microfoam', 'microorgan', 'midnight', 'midsumm', 'midterm', 'miga', 'mikethemadbiologist', 'mikhail', 'mil', 'milag', 'mildi', 'miligram', 'millan', 'millennium', 'millet', 'millilit', 'millisecond', 'millit', 'milwake', 'mimick', 'mind', 'mindel', 'mini', 'minifridg', 'minist', 'minn', 'minumum', 'minuscul', 'minut', 'miracul', 'mirin', 'mirki', 'misadvertis', 'misbehav', 'misconcept', 'mislabel', 'mismatch', 'mispric', 'misprint', 'mississipi', 'mistif', 'mit', 'miwauke', 'mix', 'mixibl', 'mixup', 'mllk', 'mocha', 'modern', 'mogul', 'moh', 'moistest', 'moistur', 'molino', 'moma', 'monarch', 'monger', 'mongut', 'monica', 'monin', 'monk', 'monkeychew', 'monolith', 'monosat', 'montebello', 'montepulciano', 'monterari', 'monteverdi', 'moolah', 'moonlight', 'moorjani', 'moos', 'morain', 'morbid', 'moreabl', 'morinaga', 'mornin', 'morningstar', 'morrocan', 'morsal', 'morter', 'morton', 'mosey', 'mosquito', 'moss', 'mosto', 'motabol', 'moth', 'motivati', 'mougat', 'mouldi', 'mount', 'mountainsid', 'moutain', 'mouthi', 'moveov', 'moviego', 'mozzarello', 'mpaa', 'mroe', 'mske', 'mth', 'mucus', 'muffen', 'mugg', 'multifacet', 'multigrain', 'multipack', 'multivit', 'multiyear', 'mumbl', 'mundt', 'murakawa', 'murcian', 'muriel', 'murray', 'mus', 'muskett', 'musroom', 'must', 'mustafa', 'mutil', 'mutt', 'myocardi', 'myojo', 'myriad', 'mysteri', 'myt', 'nabob', 'nadda', 'nadin', 'nagel', 'nake', 'namibia', 'napa', 'napolitain', 'nappa', 'narnian', 'narrat', 'narrowli', 'nascar', 'nasturtium', 'natar', 'nation', 'natsum', 'natura', 'natural', 'naturalnew', 'naught', 'navita', 'neanderth', 'nector', 'needen', 'neelam', 'neg', 'neglect', 'neglig', 'neigborhood', 'neighborhood', 'nekkid', 'neolith', 'neon', 'neotam', 'nepot', 'nerchinsk', 'nescaf', 'nesquik', 'ness', 'nest', 'neubrand', 'neuropathi', 'neurosci', 'neurotoxin', 'neurotransmitt', 'never', 'newman', 'newmansownorgan', 'news', 'newspap', 'newsweek', 'ngapi', 'ngredient', 'niacinimid', 'niblet', 'nickel', 'nigel', 'niger', 'nightfal', 'nightmarish', 'nikki', 'nill', 'nintendo', 'niro', 'nitric', 'njoy', 'nob', 'nobless', 'noe', 'noisili', 'noitc', 'nomshim', 'noncommit', 'nonpluss', 'nook', 'noontim', 'northa', 'northland', 'nose', 'notfal', 'notifi', 'nourish', 'nourishedkitchen', 'nourritur', 'novel', 'noway', 'noxious', 'ntingw', 'nuclear', 'nucleophil', 'nuditi', 'nuke', 'null', 'nullifi', 'nunatur', 'nunez', 'nuoc', 'nurd', 'nuremburg', 'nurit', 'nutcrack', 'nuti', 'nutiva', 'nutr', 'nutric', 'nutrion', 'nutriot', 'nutritionless', 'nutrtion', 'nutshel', 'nuvet', 'nyc', 'nytim', 'nyu', 'nyugen', 'oakland', 'oasi', 'oatey', 'obgyn', 'obsidian', 'obtus', 'obviosuli', 'obviousl', 'obvisouli', 'occassion', 'occultist', 'oceania', 'och', 'octav', 'oder', 'odey', 'odyssey', 'oelek', 'oetkar', 'offer', 'offici', 'officinal', 'officionado', 'oftern', 'ogan', 'ohama', 'ohio', 'ohioan', 'oif', 'oilv', 'oinion', 'okonomi', 'okra', 'older', 'oldest', 'oligosaccharid', 'oliotaibi', 'omen', 'omg', 'omiss', 'ondcp', 'oner', 'ontrac', 'oof', 'oooey', 'ooooooooh', 'oooop', 'oopen', 'opa', 'ope', 'opera', 'opi', 'opium', 'opnen', 'oppressor', 'optim', 'optima', 'orac', 'oran', 'orangead', 'orbit', 'ore', 'organicsyrup', 'orhan', 'orm', 'ornament', 'orvil', 'oryza', 'osama', 'osh', 'oskri', 'oter', 'ottoman', 'oughtta', 'out', 'outdoorsi', 'outer', 'outfit', 'outlier', 'outpac', 'outsmart', 'ovalbumin', 'ovat', 'overacid', 'overbak', 'overcompens', 'overconsum', 'overdevelop', 'overdid', 'overdu', 'overfiend', 'overmix', 'overpump', 'overridden', 'overrip', 'overroast', 'oversel', 'overstew', 'overthink', 'overtim', 'overview', 'overwat', 'overwhelmv', 'ovomucin', 'ovomucoid', 'ovul', 'owl', 'pablum', 'pacer', 'packer', 'paco', 'pad', 'paddl', 'painter', 'pale', 'palin', 'palit', 'pallid', 'palpabl', 'pamphlet', 'pamula', 'pan', 'paniss', 'pantri', 'panwich', 'pao', 'papadam', 'papillon', 'paraben', 'paraffin', 'paragraph', 'parasit', 'paratha', 'parboil', 'parmesiana', 'parsec', 'part', 'particip', 'particluar', 'partum', 'partway', 'pas', 'pastel', 'pastor', 'patella', 'patent', 'paterson', 'pateur', 'pati', 'patient', 'patina', 'patisseri', 'patooi', 'patri', 'patrol', 'paul', 'paycheck', 'paydirt', 'payrol', 'pba', 'peantus', 'pearland', 'peati', 'peditirician', 'peeerrrfect', 'peev', 'pefer', 'pegasus', 'pekines', 'pekinges', 'pelmehni', 'pend', 'pendent', 'pendleton', 'penelop', 'peni', 'peninsula', 'pepporni', 'pepto', 'perahp', 'percentag', 'percnt', 'perfecti', 'perform', 'peri', 'perki', 'peroxid', 'perpetu', 'perplexion', 'perruch', 'pers', 'persist', 'perski', 'personnel', 'perspect', 'persu', 'persuad', 'perus', 'pet', 'petag', 'petramalt', 'pew', 'pgg', 'phantasm', 'phantom', 'pharamaci', 'phenomena', 'phenylalanin', 'pheromon', 'philipin', 'philippin', 'phooey', 'phospholipid', 'phosphorus', 'picholin', 'pick', 'pickest', 'pickup', 'piecem', 'pienaroma', 'pierc', 'pignolia', 'pilaf', 'pill', 'pillgun', 'pilliow', 'pillow', 'pilsner', 'pinciotti', 'pineapl', 'pinewood', 'pinstrip', 'pinwheel', 'piquin', 'piramid', 'pirat', 'pitachio', 'pite', 'pitti', 'pituitari', 'pizzazz', 'pizzeria', 'pjs', 'pks', 'place', 'planck', 'plano', 'plasic', 'platic', 'playdoh', 'playground', 'plaza', 'plazma', 'plump', 'plung', 'poa', 'pod', 'poduct', 'poet', 'poke', 'polinari', 'polish', 'polk', 'pollack', 'pollin', 'pollux', 'polycarbon', 'polyfilt', 'polyflor', 'polysaccharid', 'polyunsat', 'pomac', 'pomad', 'pomberri', 'pomeranian', 'pommi', 'ponderosa', 'poni', 'poopcorn', 'popcorn', 'popov', 'popp', 'porcelana', 'porcini', 'porcupin', 'porport', 'portho', 'porti', 'portland', 'pos', 'possiblitii', 'possilb', 'post', 'postassium', 'postiv', 'postpartum', 'postul', 'potatato', 'potato', 'potent', 'pothold', 'pouchworthi', 'pounch', 'poundcak', 'poupon', 'powerscoop', 'prado', 'pragma', 'pramesan', 'pray', 'pre', 'prearl', 'preasur', 'precook', 'preexist', 'preferabley', 'preggo', 'pregnant', 'pregnat', 'prejudg', 'premier', 'preoccup', 'preppi', 'preschedul', 'prescrib', 'present', 'presev', 'press', 'prestigi', 'pretel', 'pretens', 'pria', 'price', 'priester', 'priestley', 'primer', 'primordi', 'princess', 'principia', 'printer', 'prior', 'proactiv', 'prob', 'probabl', 'problemat', 'problum', 'proced', 'proceed', 'proces', 'procrastin', 'prod', 'pronounci', 'propaganda', 'proper', 'properit', 'properlli', 'propon', 'proportion', 'prosecco', 'protain', 'protect', 'protector', 'protien', 'prove', 'pryidoxin', 'psych', 'psyllium', 'publish', 'pubm', 'pudgi', 'puf', 'puke', 'puksi', 'pullback', 'pullux', 'puls', 'pulveris', 'pumper', 'punchier', 'punctur', 'pungeant', 'pungent', 'pupcak', 'puppadum', 'purcahs', 'purcas', 'purchus', 'purdu', 'purebit', 'pureh', 'purew', 'purpos', 'purtain', 'purti', 'puzzel', 'qout', 'qu', 'quado', 'quadrelli', 'quadroopl', 'quakier', 'qualitycontrol', 'qualiy', 'quart', 'quarterback', 'quazi', 'quench', 'quencher', 'quenci', 'quercetin', 'quibbl', 'quicken', 'quickest', 'quiona', 'quisp', 'quonset', 'rabbitini', 'rabid', 'radial', 'radiat', 'radioact', 'rag', 'rage', 'ragwe', 'raider', 'rainforest', 'rait', 'raja', 'rajastan', 'ramiel', 'ramien', 'ramif', 'ramsay', 'random', 'rank', 'rapadura', 'ras', 'rasmussen', 'raspi', 'raulph', 'ravag', 'ravenova', 'ravioletti', 'readi', 'readout', 'real', 'realer', 'reali', 'realllllyyi', 'reat', 'reattach', 'reb', 'rebag', 'rebel', 'rebound', 'rebuilt', 'recal', 'reccogmend', 'reccomend', 'reccommend', 'reced', 'recemmend', 'recharg', 'recipe', 'recipezaar', 'recognis', 'reconnaiss', 'recuper', 'red', 'reddenbock', 'reddish', 'redhand', 'redhead', 'redhot', 'redicul', 'reealli', 'reenerg', 'reenforc', 'refidg', 'reflector', 'refrider', 'refridger', 'refus', 'refut', 'regain', 'regard', 'regener', 'reggio', 'region', 'reignit', 'reinhart', 'reinvent', 'reinvigor', 'reivew', 'reject', 'relationship', 'relaxman', 'releas', 'releg', 'relev', 'reliev', 'relinquish', 'relit', 'remast', 'remidi', 'reminis', 'reminisc', 'reminsci', 'remnent', 'remoulad', 'remsain', 'renam', 'rendezvouz', 'renov', 'rental', 'repairman', 'repetit', 'repetoir', 'repriev', 'reproduct', 'repsons', 'reptilian', 'repugn', 'request', 'reschedul', 'rescuer', 'resear', 'resect', 'reserch', 'reserv', 'reserva', 'residu', 'restir', 'retangular', 'reunif', 'reunit', 'reus', 'reusag', 'reveiw', 'reverend', 'reviewd', 'revisit', 'reviw', 'revolut', 'revolutionari', 'revolutionis', 'revolv', 'rhaj', 'rhapsod', 'rhetor', 'rheumatoid', 'rhythmic', 'rib', 'rice', 'ricemak', 'ricemellow', 'richess', 'ridden', 'riddl', 'rigat', 'rigid', 'rile', 'ringer', 'rioja', 'riparian', 'ripley', 'risen', 'ritter', 'river', 'rivera', 'rizopia', 'roach', 'roadi', 'roasted', 'roberto', 'robinson', 'robot', 'rocamojo', 'roch', 'rollup', 'romanoff', 'romanov', 'ronald', 'rooiboss', 'roomi', 'roosevelt', 'rop', 'roquefort', 'rosario', 'rosell', 'rosett', 'rosmarini', 'rossa', 'rote', 'rotti', 'rough', 'row', 'rowel', 'rox', 'royal', 'rrc', 'rthan', 'rubbish', 'rubiana', 'rug', 'rumsfeld', 'runningrabbit', 'runzo', 'rural', 'russian', 'rusti', 'rwandan', 'rye', 'ryvita', 'rêveri', 'sabdariffa', 'saccarin', 'saccharomyc', 'sacharin', 'sachet', 'sacr', 'sacrif', 'sacrifici', 'sadden', 'sadler', 'safe', 'safeguard', 'safer', 'safeti', 'safina', 'saga', 'sahal', 'saigon', 'sal', 'salada', 'salespeopl', 'salina', 'salton', 'saltwat', 'sam', 'sambal', 'sammybearsay', 'samosa', 'samovar', 'sanctimoni', 'sander', 'sangioves', 'sanitari', 'sank', 'saponin', 'sapori', 'sara', 'sarg', 'sarrano', 'sat', 'satan', 'sather', 'satisi', 'satisif', 'satisti', 'sauc', 'saugag', 'saurpris', 'sauseg', 'saute', 'sauvignon', 'savi', 'savour', 'savoy', 'saw', 'sawdust', 'scabi', 'scancal', 'scanner', 'scarc', 'scarlt', 'scedul', 'scenario', 'scenic', 'scheubl', 'schewpp', 'schidigera', 'schipperk', 'schizandra', 'schlocki', 'schmooz', 'schnauzer', 'schnere', 'schoeberl', 'schokolad', 'schooler', 'schrod', 'schwarzenegg', 'schwepp', 'sciatica', 'scienceblog', 'sclerosi', 'scosh', 'scotsman', 'scour', 'scowl', 'scrammbl', 'scratch', 'scrawl', 'scream', 'screwdriv', 'scruffi', 'scrumptuuti', 'scrumtuuti', 'scsss', 'seaalo', 'seacrest', 'seahawk', 'seal', 'sealham', 'seam', 'searl', 'seasilv', 'seasnon', 'seasoningss', 'seawe', 'second', 'secondarili', 'sector', 'sedat', 'sediment', 'seelig', 'segment', 'seizor', 'selentro', 'semblenc', 'semin', 'sencha', 'sendak', 'senora', 'senseless', 'sensitv', 'sentiment', 'sentuous', 'sequel', 'sequenti', 'serendipi', 'serial', 'serpent', 'serrat', 'sesmark', 'setiment', 'seventh', 'sewn', 'sexual', 'shack', 'shade', 'shahda', 'shalimar', 'shall', 'shampoo', 'shapnress', 'sharehold', 'sharpi', 'shave', 'sheba', 'sheeeez', 'sheen', 'shelf', 'shell', 'shelton', 'shenanigan', 'shhhh', 'shield', 'shih', 'shill', 'shimmer', 'shipo', 'shirataki', 'shirley', 'shishkebob', 'shizuo', 'shke', 'shmutz', 'shockey', 'sholder', 'shop', 'shopworn', 'shortbead', 'shortchang', 'shortsuppli', 'shoud', 'shovel', 'shredder', 'shrede', 'shrinkag', 'shup', 'shurfin', 'shurocka', 'shut', 'shutter', 'siam', 'siberia', 'sic', 'sickbay', 'sidelin', 'sidenot', 'siena', 'siez', 'sift', 'signfic', 'significan', 'signifig', 'silenc', 'silhouett', 'silicoalumin', 'silki', 'silkiest', 'silv', 'similac', 'simliar', 'simplepac', 'simpson', 'sinew', 'sinewi', 'sing', 'singapor', 'sit', 'site', 'sizabl', 'skelet', 'skeptism', 'skiddoo', 'skimp', 'skipjack', 'skippi', 'skone', 'skull', 'skylin', 'slacker', 'slang', 'slather', 'slavic', 'slc', 'sleazi', 'sleepaway', 'sleepless', 'sleepytim', 'slept', 'slice', 'slim', 'slite', 'slowli', 'sls', 'slug', 'slugger', 'slum', 'slumber', 'slurpi', 'smacck', 'smackt', 'small', 'smart', 'smartmonkey', 'smash', 'smear', 'smelli', 'smith', 'smok', 'smooshi', 'smug', 'sneakili', 'snifter', 'snip', 'snore', 'snowmobil', 'snowsho', 'snug', 'socco', 'socialist', 'societi', 'socket', 'sod', 'sodawork', 'softi', 'soium', 'solic', 'someonels', 'somer', 'somon', 'sontava', 'sooolit', 'soourc', 'sopft', 'sore', 'sorghum', 'sorrow', 'sought', 'soundingveri', 'soupbas', 'sour', 'sourc', 'sourdough', 'soy', 'soya', 'soybean', 'spacecraft', 'spacey', 'spaghetti', 'spain', 'sparta', 'spasm', 'spate', 'specul', 'speechless', 'spell', 'sperri', 'spi', 'spicata', 'spice', 'spider', 'spiff', 'spill', 'spillov', 'spilt', 'spin', 'spinal', 'spindl', 'spinkl', 'spite', 'splash', 'spoili', 'spoke', 'spokesman', 'spong', 'spoof', 'spot', 'spotless', 'sprang', 'spread', 'sprightli', 'spritz', 'sprue', 'sprung', 'spungi', 'spurtl', 'squad', 'squander', 'squash', 'squeaker', 'squealer', 'squelch', 'squidi', 'sriarcha', 'srimp', 'sriracha', 'ssn', 'ssooooooo', 'ssshh', 'stab', 'stae', 'staek', 'stage', 'stain', 'stakich', 'stalker', 'stamford', 'starberri', 'starchier', 'starflak', 'starkist', 'starter', 'state', 'statesman', 'staunchest', 'stave', 'staw', 'steam', 'stear', 'steelcut', 'steeler', 'steinway', 'stemwar', 'stength', 'stereotyp', 'steviatab', 'stewardship', 'stewart', 'sticker', 'stict', 'stiff', 'stik', 'stil', 'still', 'stimul', 'stirrer', 'stoe', 'stoganoff', 'stonehous', 'storabl', 'storesthey', 'storytel', 'stovetop', 'strait', 'strawberi', 'strawberryish', 'stretch', 'strict', 'striliz', 'stripe', 'strwaberri', 'stubbi', 'stud', 'student', 'stuffer', 'stumach', 'stumpi', 'stumptown', 'stun', 'stylist', 'styro', 'styrofoami', 'sub', 'subconsci', 'subfamili', 'sublingu', 'subscib', 'subscribt', 'subsititut', 'substit', 'substutit', 'subtley', 'subtrop', 'succeed', 'succinct', 'suckin', 'suction', 'suet', 'suffic', 'sugarcan', 'sugarfre', 'sugarless', 'sugartwin', 'sugur', 'suicid', 'suit', 'sulfur', 'sulphat', 'sultana', 'summar', 'summaris', 'summerglow', 'sumprem', 'sunbutt', 'sunchip', 'sunless', 'superautomatica', 'superchoc', 'superh', 'superstit', 'supliment', 'supplementari', 'support', 'surefoot', 'surnam', 'surpriz', 'surrend', 'surround', 'suscript', 'suspcript', 'suspici', 'suspiria', 'sutler', 'svc', 'svg', 'swamp', 'swap', 'swat', 'sway', 'swaziland', 'swear', 'sweeeeeeet', 'sweeetner', 'sweeper', 'sweet', 'sweetleaf', 'sweetnesss', 'sweetz', 'swheat', 'swig', 'swill', 'swim', 'swindler', 'swissgold', 'swither', 'switzerland', 'swollen', 'swoon', 'swordfish', 'swtich', 'syfi', 'sympathet', 'syncron', 'synthroid', 'syntrax', 'syrup', 'syrupi', 'systemat', 'syurp', 'szege', 'tablet', 'tacki', 'tagalog', 'tagless', 'taht', 'taiwanes', 'takeru', 'takuan', 'talapia', 'talea', 'talent', 'talk', 'tallboy', 'tamarind', 'tamaya', 'tamayokucha', 'tamp', 'tangl', 'tanic', 'tank', 'tanner', 'tansi', 'tao', 'tape', 'tapenad', 'tapeworm', 'tapizol', 'tapor', 'tarmac', 'tarnish', 'tarrot', 'tasi', 'tastest', 'tastier', 'tasy', 'tata', 'tater', 'taut', 'tazmo', 'tdisc', 'teach', 'teadrop', 'teagarden', 'teaposi', 'teari', 'teashop', 'teasoon', 'teeli', 'teeninsi', 'teidious', 'tejava', 'telescop', 'teller', 'temperament', 'temperatur', 'templat', 'tenctones', 'tenfold', 'tennant', 'tennesse', 'tenochitlan', 'tensil', 'tentat', 'tenur', 'tepenad', 'tequila', 'teralingua', 'terroir', 'terror', 'testi', 'texa', 'textbook', 'tge', 'thae', 'thali', 'theater', 'themslev', 'thepowd', 'thereon', 'thermogen', 'thermogenesi', 'thermonuclear', 'theyr', 'thieveri', 'thighmast', 'thine', 'thinkorgan', 'thng', 'tho', 'thoughtful', 'thougnt', 'thow', 'threee', 'thrid', 'thrifti', 'thrush', 'thusli', 'thw', 'thymus', 'thyself', 'tiberius', 'tibetian', 'tickl', 'tid', 'tidal', 'tight', 'tighter', 'tightwad', 'tike', 'timet', 'tinier', 'tinkiyada', 'tircon', 'tiresom', 'titusvill', 'tlingit', 'toasti', 'today', 'toesi', 'toffe', 'tofurkey', 'tofurki', 'togeht', 'toghter', 'toh', 'toilet', 'toilett', 'told', 'tolenc', 'tomat', 'tomatillo', 'tomoato', 'tone', 'tongkat', 'tonsilectomi', 'tooni', 'toooooo', 'tootsi', 'tope', 'topic', 'topsi', 'topsid', 'torii', 'tormentor', 'torso', 'tortois', 'tortoiseshel', 'torula', 'tout', 'tova', 'tovolo', 'tower', 'toxcic', 'toxin', 'trachea', 'tracker', 'tractor', 'tradicion', 'traditon', 'transcendent', 'transfer', 'transfix', 'transient', 'transluec', 'transport', 'trape', 'trashcan', 'tray', 'treasur', 'treati', 'treatsin', 'treke', 'trendier', 'trhwo', 'tri', 'triad', 'triangl', 'tribal', 'tribul', 'trichlorosucros', 'trichoderma', 'tricia', 'triclopyr', 'trigylcerid', 'triphala', 'tripper', 'triumphant', 'trivet', 'trixi', 'troll', 'trooper', 'trophi', 'tropica', 'trot', 'trough', 'troy', 'trree', 'truer', 'truest', 'tsuji', 'tuberos', 'tull', 'tulli', 'tunafish', 'tunea', 'turano', 'turd', 'turntabl', 'turpentin', 'turquois', 'turvi', 'tuscan', 'tuvi', 'tvs', 'twangin', 'twigletz', 'twix', 'twizzler', 'tyner', 'type', 'typograph', 'tyrosol', 'tzatziki', 'ubiquit', 'ucla', 'uder', 'uhm', 'uisgu', 'ukra', 'ulgi', 'ultra', 'ultraviolet', 'umber', 'umeboshi', 'ummmmm', 'unadorn', 'unadultar', 'unagi', 'unannounc', 'unattend', 'unbalanc', 'unbear', 'unblend', 'unbrew', 'unbridl', 'unbrown', 'uncanni', 'uncertain', 'unchees', 'unclean', 'unconcsiouli', 'uncoop', 'uncoordin', 'und', 'undamag', 'undebat', 'under', 'underachiev', 'underact', 'undercook', 'undercurr', 'underfoot', 'undergradu', 'undernourish', 'underpin', 'underr', 'underscor', 'underseason', 'undersid', 'underwood', 'undiagnos', 'undrank', 'uneasi', 'uneat', 'unfer', 'unfett', 'unfix', 'unfortu', 'unfortunat', 'unfrozen', 'ungaili', 'unglu', 'unground', 'unguard', 'unhind', 'unhydrogen', 'unhygen', 'uninterest', 'uninvent', 'unkind', 'unlead', 'unlon', 'unnaccept', 'unnessecari', 'unnot', 'unnotic', 'unobjection', 'unobstruct', 'unobtain', 'unoccupi', 'unpastur', 'unplug', 'unprocess', 'unprofesion', 'unquench', 'unrat', 'unreadi', 'unremark', 'unsaf', 'unscrupul', 'unsight', 'unsign', 'unsolv', 'unspread', 'unstabl', 'unsurpris', 'unsustain', 'unsweaten', 'unsweeten', 'unsweetend', 'unten', 'untest', 'unthink', 'until', 'untoward', 'unturn', 'unwilling', 'unworthi', 'unwound', 'upcom', 'upheav', 'upholsteri', 'upright', 'upsiz', 'upun', 'urband', 'urea', 'uret', 'urethra', 'urgent', 'uric', 'urologist', 'usag', 'usc', 'usher', 'usp', 'uwe', 'vagin', 'valium', 'vapor', 'varment', 'varti', 'vascular', 'vasicular', 'vasodil', 'vatican', 'vbg', 'vcr', 'vecchia', 'vecon', 'veeeeeeeri', 'vegan', 'vegancompass', 'vegannais', 'vegatarian', 'vegetabley', 'veggiepro', 'vegicap', 'vegtiabl', 'velleron', 'velva', 'vendor', 'veng', 'ventur', 'venus', 'verb', 'verbag', 'vereda', 'vernor', 'vespina', 'vesuvius', 'vet', 'veteran', 'vetsuppli', 'vey', 'via', 'viactiv', 'vial', 'vibranc', 'vic', 'vicar', 'victor', 'video', 'videodrom', 'viga', 'vinagri', 'vinum', 'viral', 'virus', 'visa', 'visag', 'viscos', 'visibl', 'visitor', 'visual', 'vitamin', 'vitaminer', 'vitiamin', 'vitro', 'vizla', 'vocal', 'vodka', 'vol', 'volcan', 'volum', 'volumi', 'vrey', 'vsop', 'waco', 'wad', 'waffler', 'waft', 'wagatha', 'wager', 'wait', 'walden', 'waldorf', 'wallenford', 'wannabe', 'war', 'warbl', 'ward', 'warfight', 'wargam', 'warlord', 'warrior', 'wasabi', 'washabl', 'washingtonian', 'waterbug', 'waterey', 'waterfront', 'waterproof', 'watkin', 'wattag', 'waukesha', 'wayyy', 'weather', 'weav', 'weavil', 'webist', 'webshop', 'webvitamin', 'wee', 'weederspoon', 'wehani', 'weigh', 'weinbrand', 'weiser', 'weissenbach', 'wellb', 'wellbuilt', 'welll', 'wend', 'westchest', 'weston', 'whatev', 'whateverwork', 'whatta', 'whatziata', 'whcih', 'wheee', 'wheeler', 'whelp', 'whenver', 'wherea', 'whichev', 'whili', 'whimpi', 'whimsey', 'whine', 'whiney', 'whiskey', 'whitehal', 'whiter', 'whitewav', 'whoa', 'whoah', 'wholeheart', 'wholeheartd', 'whoo', 'whore', 'wick', 'wicker', 'wide', 'wigh', 'wilder', 'willett', 'williamsburg', 'wimbledon', 'win', 'winc', 'windpip', 'winemak', 'winonna', 'wintergreen', 'witmer', 'wive', 'wjt', 'wls', 'wolfgang', 'wolfi', 'women', 'wonderbread', 'wondercocoa', 'wonton', 'woodpil', 'woof', 'worcestershir', 'worker', 'workstyl', 'worldwid', 'worrisom', 'worsterchir', 'woth', 'woven', 'wrangl', 'wrath', 'wrestler', 'wriggler', 'write', 'wrongo', 'wsj', 'wtihout', 'wuz', 'wyona', 'xanax', 'xantham', 'xiv', 'xmas', 'xvi', 'xxxbuck', 'xyloburst', 'xyltol', 'yakitori', 'yankeeism', 'yardbird', 'ycca', 'yeck', 'yeech', 'yell', 'yellowjacket', 'yerba', 'yield', 'ying', 'yipe', 'yogic', 'yoo', 'yor', 'yore', 'yougrt', 'youngin', 'yucchhh', 'yucko', 'yuexi', 'yukkkkk', 'yummmmmmmi', 'yummmmmmmm', 'yummmmmmmmm', 'yumsi', 'yuuuuuummmmmm', 'yyou', 'zact', 'zappo', 'zaraphina', 'zatarain', 'zatarian', 'zeal', 'zelben', 'zergut', 'zico', 'zigzag', 'zingib', 'zojirushi', 'zola', 'zoloft', 'zoom', 'zowi', 'zuke', 'zulu']\n"
          ],
          "name": "stdout"
        }
      ]
    },
    {
      "cell_type": "code",
      "metadata": {
        "id": "S1IMTIOo7pQF",
        "colab_type": "code",
        "colab": {}
      },
      "source": [
        ""
      ],
      "execution_count": 0,
      "outputs": []
    },
    {
      "cell_type": "markdown",
      "metadata": {
        "id": "EfPSe__bpR3x",
        "colab_type": "text"
      },
      "source": [
        "### FIND THE TOP 20 POSITIVE AND NEGATIVE FEATURES"
      ]
    },
    {
      "cell_type": "code",
      "metadata": {
        "id": "Mva4WPaB4TLP",
        "colab_type": "code",
        "outputId": "eb19dbea-6494-45d2-8f25-e4d84f331bc1",
        "colab": {
          "base_uri": "https://localhost:8080/",
          "height": 372
        }
      },
      "source": [
        "feature_names = count_vector.get_feature_names()\n",
        "coefs_with_fns = sorted(zip(logistic_reg_new.coef_[0], feature_names))\n",
        "top_features = zip(coefs_with_fns[:20], coefs_with_fns[:-(20 + 1):-1])\n",
        "list(top_features)"
      ],
      "execution_count": 0,
      "outputs": [
        {
          "output_type": "execute_result",
          "data": {
            "text/plain": [
              "[((-2.1897087580522707, 'worst'), (1.4799395787392793, 'delici')),\n",
              " ((-1.622620925667345, 'disappoint'), (1.4381802487889659, 'excel')),\n",
              " ((-1.4680016561065057, 'horribl'), (1.338581505468097, 'perfect')),\n",
              " ((-1.4536479455687588, 'terribl'), (1.2757553991400303, 'best')),\n",
              " ((-1.3420854783555103, 'aw'), (1.2052891739908673, 'great')),\n",
              " ((-1.324114576615227, 'bland'), (1.136149304462042, 'yummi')),\n",
              " ((-1.3144308941094085, 'return'), (1.0849946002814685, 'addict')),\n",
              " ((-1.266831934326799, 'threw'), (1.0585243927196422, 'amaz')),\n",
              " ((-1.1413144677765867, 'unfortun'), (1.0050624821153975, 'awesom')),\n",
              " ((-1.124400385988919, 'stale'), (0.9842678362137236, 'refresh')),\n",
              " ((-1.0949639099000745, 'yuck'), (0.9643267000433828, 'beat')),\n",
              " ((-1.086558885923567, 'tasteless'), (0.9237078205821216, 'nice')),\n",
              " ((-1.0851015614217796, 'poor'), (0.9139233994354666, 'wonder')),\n",
              " ((-1.0567803708722718, 'dissapoint'), (0.8976226027764952, 'glad')),\n",
              " ((-1.031581732109198, 'unpleas'), (0.8933028806429271, 'smooth')),\n",
              " ((-1.029185841192754, 'weak'), (0.8929004659141696, 'hook')),\n",
              " ((-1.009397479392787, 'disgust'), (0.8548719395738693, 'favorit')),\n",
              " ((-0.9879711261291, 'money'), (0.8440101397384687, 'uniqu')),\n",
              " ((-0.9877179182942307, 'sorri'), (0.8206886668205972, 'satisfi')),\n",
              " ((-0.9655446083447002, 'stuck'), (0.8099747518424147, 'happi'))]"
            ]
          },
          "metadata": {
            "tags": []
          },
          "execution_count": 55
        }
      ]
    },
    {
      "cell_type": "code",
      "metadata": {
        "id": "iPihwDmx6Kez",
        "colab_type": "code",
        "colab": {}
      },
      "source": [
        "def imp_features(model,classifier):\n",
        "    voc = model.get_feature_names()\n",
        "    w = list(classifier.coef_[0])\n",
        "    pos_coef = []\n",
        "    neg_coef = []\n",
        "    pos_words = []\n",
        "    neg_words = []\n",
        "    for i,c in enumerate(w):\n",
        "        if c > 0:\n",
        "            pos_coef.append(c)\n",
        "            pos_words.append(voc[i])\n",
        "        if c < 0:\n",
        "            neg_coef.append(abs(c))\n",
        "            neg_words.append(voc[i])\n",
        "    pos_df = pd.DataFrame(columns = ['Words','Coef'])\n",
        "    neg_df = pd.DataFrame(columns = ['Words','Coef'])\n",
        "    pos_df['Words'] = pos_words\n",
        "    pos_df['Coef'] = pos_coef\n",
        "    neg_df['Words'] = neg_words\n",
        "    neg_df['Coef'] = neg_coef\n",
        "    pos_df = pos_df.sort_values(\"Coef\",axis = 0,ascending = False).reset_index(drop=True)\n",
        "    neg_df = neg_df.sort_values(\"Coef\",axis = 0,ascending = False).reset_index(drop=True)\n",
        "    print(\"Shape of Positive dataframe:- ,\",pos_df.shape)\n",
        "    print(\"Shape of Negative dataframe:- \",neg_df.shape)\n",
        "    print(\"Top ten positive predictors:- \\n\",pos_df.head(10))\n",
        "    print(\"\\nTop ten negative predictors:- \\n\",neg_df.head(10))    "
      ],
      "execution_count": 0,
      "outputs": []
    },
    {
      "cell_type": "markdown",
      "metadata": {
        "id": "YyP3vsJvpins",
        "colab_type": "text"
      },
      "source": [
        "## THE POSTIVE POINT = (21767,2) \n",
        "## THE NEGATIVE POINT = (7626,2)"
      ]
    },
    {
      "cell_type": "code",
      "metadata": {
        "id": "ZMCIp0MU6LnC",
        "colab_type": "code",
        "outputId": "dfa29027-3e37-486f-cd58-ecccc19cdeff",
        "colab": {
          "base_uri": "https://localhost:8080/",
          "height": 497
        }
      },
      "source": [
        "imp_features(count_vector,logistic_reg_new)"
      ],
      "execution_count": 0,
      "outputs": [
        {
          "output_type": "stream",
          "text": [
            "Shape of Positive dataframe:- , (21767, 2)\n",
            "Shape of Negative dataframe:-  (7626, 2)\n",
            "Top ten positive predictors:- \n",
            "      Words      Coef\n",
            "0   delici  1.479940\n",
            "1    excel  1.438180\n",
            "2  perfect  1.338582\n",
            "3     best  1.275755\n",
            "4    great  1.205289\n",
            "5    yummi  1.136149\n",
            "6   addict  1.084995\n",
            "7     amaz  1.058524\n",
            "8   awesom  1.005062\n",
            "9  refresh  0.984268\n",
            "\n",
            "Top ten negative predictors:- \n",
            "         Words      Coef\n",
            "0       worst  2.189709\n",
            "1  disappoint  1.622621\n",
            "2     horribl  1.468002\n",
            "3     terribl  1.453648\n",
            "4          aw  1.342085\n",
            "5       bland  1.324115\n",
            "6      return  1.314431\n",
            "7       threw  1.266832\n",
            "8    unfortun  1.141314\n",
            "9       stale  1.124400\n"
          ],
          "name": "stdout"
        }
      ]
    },
    {
      "cell_type": "markdown",
      "metadata": {
        "id": "n7fnZur_AYft",
        "colab_type": "text"
      },
      "source": [
        "### SPARSITY OF WEIGHT VECTOR ON BAG OF WORDS VECTORIZATION TECHNIQUE"
      ]
    },
    {
      "cell_type": "code",
      "metadata": {
        "id": "dWTmwzTlDKw9",
        "colab_type": "code",
        "colab": {}
      },
      "source": [
        "logistic_reg_l1 = LogisticRegression(C=best_c,random_state=None, class_weight=None,penalty='l1',solver='liblinear')\n",
        "logistic_reg_l1.fit(X_Train_data_bow,Y_Train)\n",
        "weight_w1_l1=logistic_reg_l1.coef_"
      ],
      "execution_count": 0,
      "outputs": []
    },
    {
      "cell_type": "code",
      "metadata": {
        "id": "TlCR9m2OnLmP",
        "colab_type": "code",
        "outputId": "b1065c1d-12d4-4434-89d3-e4be9d672caf",
        "colab": {
          "base_uri": "https://localhost:8080/",
          "height": 497
        }
      },
      "source": [
        "imp_features(count_vector,logistic_reg_l1)"
      ],
      "execution_count": 0,
      "outputs": [
        {
          "output_type": "stream",
          "text": [
            "Shape of Positive dataframe:- , (382, 2)\n",
            "Shape of Negative dataframe:-  (373, 2)\n",
            "Top ten positive predictors:- \n",
            "      Words      Coef\n",
            "0   delici  1.576014\n",
            "1    excel  1.445582\n",
            "2  perfect  1.383116\n",
            "3     best  1.229966\n",
            "4    yummi  1.215222\n",
            "5    great  1.168915\n",
            "6     amaz  1.160982\n",
            "7   addict  1.103060\n",
            "8   awesom  1.036212\n",
            "9  refresh  1.012890\n",
            "\n",
            "Top ten negative predictors:- \n",
            "         Words      Coef\n",
            "0       worst  2.644614\n",
            "1  disappoint  1.603224\n",
            "2     horribl  1.597010\n",
            "3     terribl  1.553291\n",
            "4          aw  1.440146\n",
            "5       threw  1.365178\n",
            "6        yuck  1.350889\n",
            "7      return  1.318721\n",
            "8       bland  1.274205\n",
            "9    unfortun  1.198295\n"
          ],
          "name": "stdout"
        }
      ]
    },
    {
      "cell_type": "code",
      "metadata": {
        "id": "KZPbcYk1AXML",
        "colab_type": "code",
        "colab": {}
      },
      "source": [
        "logistic_reg_new_l1 = LogisticRegression(C=best_c,random_state=None, class_weight=None,penalty='l1',solver='liblinear')\n",
        "logistic_reg_new_l1.fit(noise_data,Y_Train)\n",
        "weight_w2=logistic_reg_new_l1.coef_"
      ],
      "execution_count": 0,
      "outputs": []
    },
    {
      "cell_type": "markdown",
      "metadata": {
        "id": "cZqeVzxRqHPe",
        "colab_type": "text"
      },
      "source": [
        "## AFTER SPARSITY , THE NUMBER OF ZEROS REMOVED \n",
        "## THE POSITIVE DATAPOINT = (382,2)\n",
        "## AND THE NEGATIVE DATAPOINT = (372,2)"
      ]
    },
    {
      "cell_type": "code",
      "metadata": {
        "id": "a4941-FKncx6",
        "colab_type": "code",
        "outputId": "c369345d-fa7f-4d5b-e647-6af9b1a98395",
        "colab": {
          "base_uri": "https://localhost:8080/",
          "height": 497
        }
      },
      "source": [
        "imp_features(count_vector,logistic_reg_new_l1)"
      ],
      "execution_count": 0,
      "outputs": [
        {
          "output_type": "stream",
          "text": [
            "Shape of Positive dataframe:- , (382, 2)\n",
            "Shape of Negative dataframe:-  (372, 2)\n",
            "Top ten positive predictors:- \n",
            "      Words      Coef\n",
            "0   delici  1.585864\n",
            "1    excel  1.454302\n",
            "2  perfect  1.391040\n",
            "3     best  1.236530\n",
            "4    yummi  1.221394\n",
            "5    great  1.175115\n",
            "6     amaz  1.166880\n",
            "7   addict  1.107871\n",
            "8   awesom  1.040926\n",
            "9  refresh  1.015497\n",
            "\n",
            "Top ten negative predictors:- \n",
            "         Words      Coef\n",
            "0       worst  2.658635\n",
            "1  disappoint  1.613068\n",
            "2     horribl  1.607020\n",
            "3     terribl  1.562023\n",
            "4          aw  1.448828\n",
            "5       threw  1.373219\n",
            "6        yuck  1.354739\n",
            "7      return  1.325813\n",
            "8       bland  1.280382\n",
            "9    unfortun  1.205609\n"
          ],
          "name": "stdout"
        }
      ]
    },
    {
      "cell_type": "markdown",
      "metadata": {
        "id": "uUk1mscPeheA",
        "colab_type": "text"
      },
      "source": [
        "## TF-IDF Vectorization Technique on Logistic Regression Algorithm"
      ]
    },
    {
      "cell_type": "code",
      "metadata": {
        "id": "u0n8LFldem8D",
        "colab_type": "code",
        "outputId": "d03fa993-0c77-4928-9e84-bce37ae6118f",
        "colab": {
          "base_uri": "https://localhost:8080/",
          "height": 177
        }
      },
      "source": [
        "from sklearn.feature_extraction.text import TfidfVectorizer\n",
        "\n",
        "print(X_Train.shape, Y_Train.shape)\n",
        "print(X_CV.shape, Y_CV.shape)\n",
        "print(X_Test.shape, Y_Test.shape)\n",
        "\n",
        "print(\"=\"*100)\n",
        "\n",
        "\n",
        "tfidf_vector=TfidfVectorizer(min_df=10)\n",
        "X_Train_data_tfidf=(tfidf_vector.fit_transform(X_Train['Cleaned_text'].values))\n",
        "X_Test_data_tfidf=(tfidf_vector.transform(X_Test['Cleaned_text'].values))\n",
        "X_CV_data_tfidf=(tfidf_vector.transform(X_CV['Cleaned_text'].values))\n",
        "\n",
        "print(\"After vectorizations\")\n",
        "print(X_Train_data_tfidf.shape, Y_Train.shape)\n",
        "print(X_CV_data_tfidf.shape, Y_CV.shape)\n",
        "print(X_Test_data_tfidf.shape, Y_Test.shape)\n",
        "print(\"=\"*100)"
      ],
      "execution_count": 0,
      "outputs": [
        {
          "output_type": "stream",
          "text": [
            "(64000, 12) (64000,)\n",
            "(16000, 12) (16000,)\n",
            "(20000, 12) (20000,)\n",
            "====================================================================================================\n",
            "After vectorizations\n",
            "(64000, 6794) (64000,)\n",
            "(16000, 6794) (16000,)\n",
            "(20000, 6794) (20000,)\n",
            "====================================================================================================\n"
          ],
          "name": "stdout"
        }
      ]
    },
    {
      "cell_type": "code",
      "metadata": {
        "id": "YG4n8BwBe8DE",
        "colab_type": "code",
        "outputId": "1aa3894b-6c54-4311-f999-5d36cad39b52",
        "colab": {
          "base_uri": "https://localhost:8080/",
          "height": 612
        }
      },
      "source": [
        "results,best_c,Logistic_Regression_Optimal_C = Logistic_Regression_Optimal_C(X_Train_data_tfidf,Y_Train)\n",
        "results.head()"
      ],
      "execution_count": 0,
      "outputs": [
        {
          "output_type": "stream",
          "text": [
            "0.940703952138698\n",
            "{'C': 1}\n"
          ],
          "name": "stdout"
        },
        {
          "output_type": "display_data",
          "data": {
            "image/png": "[encoded data removed]",
            "text/plain": [
              "<Figure size 432x288 with 1 Axes>"
            ]
          },
          "metadata": {
            "tags": []
          }
        },
        {
          "output_type": "execute_result",
          "data": {
            "text/html": [
              "<div>\n",
              "<style scoped>\n",
              "    .dataframe tbody tr th:only-of-type {\n",
              "        vertical-align: middle;\n",
              "    }\n",
              "\n",
              "    .dataframe tbody tr th {\n",
              "        vertical-align: top;\n",
              "    }\n",
              "\n",
              "    .dataframe thead th {\n",
              "        text-align: right;\n",
              "    }\n",
              "</style>\n",
              "<table border=\"1\" class=\"dataframe\">\n",
              "  <thead>\n",
              "    <tr style=\"text-align: right;\">\n",
              "      <th></th>\n",
              "      <th>mean_fit_time</th>\n",
              "      <th>std_fit_time</th>\n",
              "      <th>mean_score_time</th>\n",
              "      <th>std_score_time</th>\n",
              "      <th>param_C</th>\n",
              "      <th>params</th>\n",
              "      <th>split0_test_score</th>\n",
              "      <th>split1_test_score</th>\n",
              "      <th>split2_test_score</th>\n",
              "      <th>split3_test_score</th>\n",
              "      <th>split4_test_score</th>\n",
              "      <th>split5_test_score</th>\n",
              "      <th>split6_test_score</th>\n",
              "      <th>split7_test_score</th>\n",
              "      <th>split8_test_score</th>\n",
              "      <th>split9_test_score</th>\n",
              "      <th>mean_test_score</th>\n",
              "      <th>std_test_score</th>\n",
              "      <th>rank_test_score</th>\n",
              "      <th>split0_train_score</th>\n",
              "      <th>split1_train_score</th>\n",
              "      <th>split2_train_score</th>\n",
              "      <th>split3_train_score</th>\n",
              "      <th>split4_train_score</th>\n",
              "      <th>split5_train_score</th>\n",
              "      <th>split6_train_score</th>\n",
              "      <th>split7_train_score</th>\n",
              "      <th>split8_train_score</th>\n",
              "      <th>split9_train_score</th>\n",
              "      <th>mean_train_score</th>\n",
              "      <th>std_train_score</th>\n",
              "    </tr>\n",
              "  </thead>\n",
              "  <tbody>\n",
              "    <tr>\n",
              "      <th>0</th>\n",
              "      <td>0.223514</td>\n",
              "      <td>0.006442</td>\n",
              "      <td>0.014594</td>\n",
              "      <td>0.000381</td>\n",
              "      <td>1e-05</td>\n",
              "      <td>{'C': 1e-05}</td>\n",
              "      <td>0.898880</td>\n",
              "      <td>0.900700</td>\n",
              "      <td>0.895971</td>\n",
              "      <td>0.897278</td>\n",
              "      <td>0.894968</td>\n",
              "      <td>0.906497</td>\n",
              "      <td>0.896815</td>\n",
              "      <td>0.898146</td>\n",
              "      <td>0.898021</td>\n",
              "      <td>0.893408</td>\n",
              "      <td>0.898068</td>\n",
              "      <td>0.003414</td>\n",
              "      <td>9</td>\n",
              "      <td>0.903783</td>\n",
              "      <td>0.903030</td>\n",
              "      <td>0.904050</td>\n",
              "      <td>0.903812</td>\n",
              "      <td>0.903951</td>\n",
              "      <td>0.902578</td>\n",
              "      <td>0.902994</td>\n",
              "      <td>0.903685</td>\n",
              "      <td>0.903858</td>\n",
              "      <td>0.903268</td>\n",
              "      <td>0.903501</td>\n",
              "      <td>0.000472</td>\n",
              "    </tr>\n",
              "    <tr>\n",
              "      <th>1</th>\n",
              "      <td>0.182328</td>\n",
              "      <td>0.001241</td>\n",
              "      <td>0.014044</td>\n",
              "      <td>0.000183</td>\n",
              "      <td>0.0001</td>\n",
              "      <td>{'C': 0.0001}</td>\n",
              "      <td>0.898969</td>\n",
              "      <td>0.900827</td>\n",
              "      <td>0.896087</td>\n",
              "      <td>0.897397</td>\n",
              "      <td>0.895064</td>\n",
              "      <td>0.906632</td>\n",
              "      <td>0.896941</td>\n",
              "      <td>0.898231</td>\n",
              "      <td>0.898117</td>\n",
              "      <td>0.893562</td>\n",
              "      <td>0.898183</td>\n",
              "      <td>0.003415</td>\n",
              "      <td>8</td>\n",
              "      <td>0.903899</td>\n",
              "      <td>0.903149</td>\n",
              "      <td>0.904164</td>\n",
              "      <td>0.903930</td>\n",
              "      <td>0.904067</td>\n",
              "      <td>0.902692</td>\n",
              "      <td>0.903114</td>\n",
              "      <td>0.903802</td>\n",
              "      <td>0.903975</td>\n",
              "      <td>0.903387</td>\n",
              "      <td>0.903618</td>\n",
              "      <td>0.000471</td>\n",
              "    </tr>\n",
              "    <tr>\n",
              "      <th>2</th>\n",
              "      <td>0.206218</td>\n",
              "      <td>0.002766</td>\n",
              "      <td>0.013947</td>\n",
              "      <td>0.000166</td>\n",
              "      <td>0.001</td>\n",
              "      <td>{'C': 0.001}</td>\n",
              "      <td>0.899903</td>\n",
              "      <td>0.902008</td>\n",
              "      <td>0.897106</td>\n",
              "      <td>0.898557</td>\n",
              "      <td>0.895965</td>\n",
              "      <td>0.907762</td>\n",
              "      <td>0.898215</td>\n",
              "      <td>0.899173</td>\n",
              "      <td>0.899074</td>\n",
              "      <td>0.894996</td>\n",
              "      <td>0.899276</td>\n",
              "      <td>0.003399</td>\n",
              "      <td>7</td>\n",
              "      <td>0.905032</td>\n",
              "      <td>0.904288</td>\n",
              "      <td>0.905267</td>\n",
              "      <td>0.905056</td>\n",
              "      <td>0.905205</td>\n",
              "      <td>0.903801</td>\n",
              "      <td>0.904271</td>\n",
              "      <td>0.904951</td>\n",
              "      <td>0.905101</td>\n",
              "      <td>0.904541</td>\n",
              "      <td>0.904751</td>\n",
              "      <td>0.000469</td>\n",
              "    </tr>\n",
              "    <tr>\n",
              "      <th>3</th>\n",
              "      <td>0.281825</td>\n",
              "      <td>0.003033</td>\n",
              "      <td>0.014030</td>\n",
              "      <td>0.000241</td>\n",
              "      <td>0.01</td>\n",
              "      <td>{'C': 0.01}</td>\n",
              "      <td>0.906732</td>\n",
              "      <td>0.910477</td>\n",
              "      <td>0.904298</td>\n",
              "      <td>0.906898</td>\n",
              "      <td>0.902603</td>\n",
              "      <td>0.916517</td>\n",
              "      <td>0.907079</td>\n",
              "      <td>0.906258</td>\n",
              "      <td>0.906317</td>\n",
              "      <td>0.904712</td>\n",
              "      <td>0.907189</td>\n",
              "      <td>0.003678</td>\n",
              "      <td>6</td>\n",
              "      <td>0.913340</td>\n",
              "      <td>0.912714</td>\n",
              "      <td>0.913453</td>\n",
              "      <td>0.913364</td>\n",
              "      <td>0.913568</td>\n",
              "      <td>0.911995</td>\n",
              "      <td>0.912768</td>\n",
              "      <td>0.913375</td>\n",
              "      <td>0.913389</td>\n",
              "      <td>0.912970</td>\n",
              "      <td>0.913094</td>\n",
              "      <td>0.000461</td>\n",
              "    </tr>\n",
              "    <tr>\n",
              "      <th>4</th>\n",
              "      <td>0.614663</td>\n",
              "      <td>0.043245</td>\n",
              "      <td>0.014329</td>\n",
              "      <td>0.000435</td>\n",
              "      <td>0.1</td>\n",
              "      <td>{'C': 0.1}</td>\n",
              "      <td>0.926466</td>\n",
              "      <td>0.931131</td>\n",
              "      <td>0.925219</td>\n",
              "      <td>0.928125</td>\n",
              "      <td>0.922530</td>\n",
              "      <td>0.939979</td>\n",
              "      <td>0.929531</td>\n",
              "      <td>0.925905</td>\n",
              "      <td>0.926550</td>\n",
              "      <td>0.927601</td>\n",
              "      <td>0.928304</td>\n",
              "      <td>0.004488</td>\n",
              "      <td>3</td>\n",
              "      <td>0.937291</td>\n",
              "      <td>0.937056</td>\n",
              "      <td>0.937368</td>\n",
              "      <td>0.937296</td>\n",
              "      <td>0.937636</td>\n",
              "      <td>0.935834</td>\n",
              "      <td>0.937028</td>\n",
              "      <td>0.937566</td>\n",
              "      <td>0.937302</td>\n",
              "      <td>0.937080</td>\n",
              "      <td>0.937146</td>\n",
              "      <td>0.000478</td>\n",
              "    </tr>\n",
              "  </tbody>\n",
              "</table>\n",
              "</div>"
            ],
            "text/plain": [
              "   mean_fit_time  std_fit_time  ...  mean_train_score  std_train_score\n",
              "0       0.223514      0.006442  ...          0.903501         0.000472\n",
              "1       0.182328      0.001241  ...          0.903618         0.000471\n",
              "2       0.206218      0.002766  ...          0.904751         0.000469\n",
              "3       0.281825      0.003033  ...          0.913094         0.000461\n",
              "4       0.614663      0.043245  ...          0.937146         0.000478\n",
              "\n",
              "[5 rows x 31 columns]"
            ]
          },
          "metadata": {
            "tags": []
          },
          "execution_count": 57
        }
      ]
    },
    {
      "cell_type": "code",
      "metadata": {
        "id": "MY9AQsBGiEIs",
        "colab_type": "code",
        "outputId": "e1896edc-6263-4b6f-80c6-c0bf9b2ce91e",
        "colab": {
          "base_uri": "https://localhost:8080/",
          "height": 35
        }
      },
      "source": [
        "best_C = best_c.best_params_\n",
        "best_c=best_C.get(\"C\")\n",
        "print(best_c)"
      ],
      "execution_count": 0,
      "outputs": [
        {
          "output_type": "stream",
          "text": [
            "1\n"
          ],
          "name": "stdout"
        }
      ]
    },
    {
      "cell_type": "code",
      "metadata": {
        "id": "4g4g2NDyiOy6",
        "colab_type": "code",
        "outputId": "1040b5fa-c1fc-4f90-9b6c-c438cbd910ba",
        "colab": {
          "base_uri": "https://localhost:8080/",
          "height": 295
        }
      },
      "source": [
        "logistic_reg = LogisticRegression(C=best_c,random_state=None, class_weight=None)\n",
        "logistic_reg.fit(X_Train_data_tfidf,Y_Train)\n",
        "pred_test_data=logistic_reg.predict(X_Test_data_tfidf)\n",
        "y_train_predicted_prob = logistic_reg.predict_proba(X_Train_data_tfidf)[:,1]\n",
        "y_test_predicted_prob=logistic_reg.predict_proba(X_Test_data_tfidf)[:,1]\n",
        "train_fpr, train_tpr, train_thresholds=roc_curve(Y_Train,y_train_predicted_prob,pos_label='positive')\n",
        "test_fpr, test_tpr, test_thresholds = roc_curve(Y_Test, y_test_predicted_prob,pos_label='positive')\n",
        "plt.plot(train_fpr, train_tpr, label=\"train AUC =\"+str(auc(train_fpr, train_tpr)))\n",
        "plt.plot(test_fpr, test_tpr, label=\"test AUC =\"+str(auc(test_fpr, test_tpr)))\n",
        "plt.legend()\n",
        "plt.xlabel(\"C: hyperparameter\")\n",
        "plt.ylabel(\"AUC\")\n",
        "plt.title(\"ERROR PLOTS\")\n",
        "plt.grid()\n",
        "plt.show()"
      ],
      "execution_count": 0,
      "outputs": [
        {
          "output_type": "display_data",
          "data": {
            "image/png": "[encoded data removed]",
            "text/plain": [
              "<Figure size 432x288 with 1 Axes>"
            ]
          },
          "metadata": {
            "tags": []
          }
        }
      ]
    },
    {
      "cell_type": "code",
      "metadata": {
        "id": "3-zBzIFcnVT7",
        "colab_type": "code",
        "outputId": "159a903b-a1e9-430b-a225-c8ded98b5e50",
        "colab": {
          "base_uri": "https://localhost:8080/",
          "height": 410
        }
      },
      "source": [
        "feature_names = tfidf_vector.get_feature_names()\n",
        "print(feature_names)\n",
        "coefs_with_fns = sorted(zip(logistic_reg.coef_[0], feature_names))\n",
        "top_features = zip(coefs_with_fns[:20], coefs_with_fns[:-(20 + 1):-1])\n",
        "list(top_features)"
      ],
      "execution_count": 0,
      "outputs": [
        {
          "output_type": "stream",
          "text": [
            "['abandon', 'abc', 'abdomin', 'abil', 'abl', 'abnorm', 'abroad', 'absenc', 'absolut', 'absorb', 'absorpt', 'absurd', 'abund', 'abus', 'academi', 'acai', 'accent', 'accept', 'access', 'accid', 'accident', 'accommod', 'accompani', 'accomplish', 'accord', 'account', 'accur', 'accustom', 'acerola', 'ach', 'achiev', 'acid', 'acknowledg', 'acn', 'acquaint', 'acquir', 'acr', 'acrid', 'across', 'act', 'action', 'activ', 'actor', 'actual', 'ad', 'adagio', 'adam', 'adapt', 'add', 'addict', 'addit', 'address', 'adequ', 'adher', 'adhes', 'adjust', 'administ', 'admir', 'admit', 'adobo', 'adopt', 'ador', 'adult', 'adulter', 'advanc', 'advantag', 'adventur', 'advers', 'advert', 'advertis', 'advic', 'advis', 'advoc', 'aerat', 'aero', 'aerogarden', 'aerogrow', 'aesthet', 'affair', 'affect', 'afficionado', 'affili', 'afford', 'afghanistan', 'aficionado', 'aforement', 'afraid', 'africa', 'african', 'afterlif', 'afternoon', 'aftertast', 'afterward', 'agav', 'age', 'agenc', 'agent', 'aggrav', 'aggress', 'agil', 'ago', 'agre', 'agreeabl', 'agricultur', 'ahead', 'ahhh', 'ahmad', 'ahoy', 'aid', 'ailment', 'aim', 'air', 'airi', 'airlin', 'airplan', 'airport', 'airtight', 'aisl', 'aka', 'akin', 'akita', 'ala', 'alabama', 'alarm', 'alaska', 'alaskan', 'albacor', 'albeit', 'albertson', 'alcohol', 'ale', 'alec', 'alert', 'alessi', 'alfalfa', 'alfredo', 'alga', 'alien', 'alik', 'alittl', 'aliv', 'alkali', 'alkalin', 'alleg', 'allerg', 'allergen', 'allergi', 'allevi', 'alley', 'allot', 'allow', 'allspic', 'almond', 'almost', 'alo', 'aloha', 'alon', 'along', 'alongsid', 'alot', 'alreadi', 'alright', 'also', 'alter', 'altern', 'altho', 'although', 'altitud', 'altogeth', 'altoid', 'alton', 'altura', 'aluminum', 'alway', 'amaranth', 'amaretto', 'amaz', 'amazon', 'amber', 'ambrosia', 'amd', 'america', 'american', 'americano', 'ami', 'amino', 'amish', 'among', 'amongst', 'amount', 'amp', 'ampl', 'amus', 'analysi', 'anchor', 'anchovi', 'ancient', 'angel', 'angelina', 'angl', 'angostura', 'angri', 'anim', 'anis', 'ann', 'anna', 'anni', 'anniversari', 'announc', 'annoy', 'annual', 'anoth', 'answer', 'ant', 'antibiot', 'anticip', 'antioxid', 'anxieti', 'anxious', 'anybodi', 'anyhow', 'anymor', 'anyon', 'anyth', 'anytim', 'anyway', 'anywher', 'apart', 'apiec', 'apolog', 'appal', 'appar', 'appeal', 'appear', 'appet', 'appetit', 'appl', 'applaud', 'applesauc', 'appli', 'applianc', 'applic', 'appreci', 'apprehens', 'approach', 'appropri', 'approv', 'approx', 'approxim', 'apricot', 'april', 'apso', 'apt', 'aquir', 'ara', 'arab', 'arabica', 'arctic', 'area', 'arent', 'argentina', 'argu', 'aris', 'arizona', 'arm', 'armi', 'aroma', 'aromat', 'around', 'arrang', 'array', 'arriv', 'arrowhead', 'arrowroot', 'arsenal', 'art', 'arteri', 'arthriti', 'arthur', 'artichok', 'articl', 'artif', 'artifici', 'artisan', 'artist', 'asap', 'ascorb', 'asept', 'ash', 'asham', 'asia', 'asian', 'asid', 'ask', 'asleep', 'asparagus', 'aspartam', 'aspect', 'aspen', 'assam', 'assault', 'assembl', 'assert', 'assess', 'assist', 'associ', 'assort', 'assum', 'assumpt', 'assur', 'asthma', 'astonish', 'astound', 'astring', 'ate', 'athlet', 'atkin', 'atlant', 'atlanta', 'atleast', 'atmospher', 'atom', 'atop', 'attach', 'attack', 'attempt', 'attend', 'attent', 'attest', 'attitud', 'attract', 'attribut', 'audienc', 'augment', 'august', 'aunt', 'aussi', 'austin', 'australia', 'australian', 'authent', 'author', 'autism', 'autist', 'auto', 'automat', 'autoship', 'autumn', 'avail', 'avenu', 'averag', 'avers', 'avid', 'avocado', 'avoderm', 'avoid', 'aw', 'await', 'awak', 'awaken', 'awar', 'award', 'away', 'awe', 'awesom', 'awhil', 'awkward', 'awsom', 'ayurved', 'babi', 'bachelor', 'back', 'background', 'backord', 'backpack', 'backup', 'backyard', 'bacon', 'baconnais', 'bacteria', 'bad', 'bag', 'bagel', 'baggi', 'baguett', 'bahama', 'bahlsen', 'bailey', 'bait', 'baja', 'bake', 'baker', 'bakeri', 'baklava', 'balanc', 'baldwin', 'ball', 'balm', 'balsam', 'bam', 'bamboo', 'ban', 'banana', 'band', 'bang', 'bank', 'bar', 'barbara', 'barbecu', 'barbequ', 'bare', 'barefoot', 'bargain', 'bargin', 'barilla', 'barista', 'bark', 'barley', 'barn', 'barney', 'baronet', 'barrel', 'barri', 'base', 'basebal', 'basement', 'bash', 'basi', 'basic', 'basil', 'basket', 'basmati', 'bast', 'bat', 'batch', 'bath', 'bathroom', 'batman', 'batter', 'batteri', 'battl', 'bay', 'bbq', 'be', 'beach', 'bead', 'beagl', 'beam', 'bean', 'beani', 'bear', 'bearabl', 'beast', 'beat', 'beaten', 'beauti', 'becam', 'becasu', 'becom', 'becuas', 'bed', 'bedroom', 'bedtim', 'bee', 'beef', 'beefi', 'beer', 'beet', 'beetlejuic', 'beforehand', 'beg', 'began', 'begin', 'beginn', 'begun', 'behav', 'behavior', 'behind', 'behold', 'beleiv', 'belgian', 'belgium', 'belief', 'believ', 'beliv', 'bell', 'bella', 'belli', 'belong', 'belov', 'belt', 'ben', 'bend', 'bene', 'beneath', 'benecol', 'benefici', 'benefit', 'bengal', 'benifit', 'bent', 'bentley', 'benzoat', 'bergamont', 'bergamot', 'bergin', 'berkeley', 'berri', 'besid', 'best', 'bet', 'better', 'betti', 'beverag', 'bewar', 'beyond', 'bha', 'bht', 'bialetti', 'bias', 'bichon', 'big', 'bigelow', 'bigger', 'biggest', 'biggi', 'bike', 'bill', 'billion', 'bin', 'bind', 'binder', 'bing', 'bingo', 'biodegrad', 'birch', 'bird', 'birth', 'birthday', 'biryani', 'biscotti', 'biscuit', 'bisqu', 'bisquick', 'bisquit', 'bistro', 'bit', 'bite', 'bitten', 'bitter', 'bittersweet', 'bizarr', 'black', 'blackberri', 'blackcurr', 'blacken', 'bladder', 'blade', 'blah', 'blair', 'blame', 'bland', 'blander', 'blank', 'blanket', 'blast', 'blatant', 'bleach', 'blech', 'bleed', 'blend', 'blender', 'bless', 'bleu', 'blew', 'blind', 'bliss', 'blister', 'bloat', 'blob', 'block', 'blockag', 'blog', 'blood', 'bloodi', 'bloom', 'blossom', 'blow', 'blown', 'blue', 'blueberri', 'board', 'boast', 'boat', 'bob', 'boba', 'bodi', 'bodum', 'boil', 'bold', 'bolder', 'bomb', 'bombay', 'bon', 'bond', 'bone', 'boneless', 'bonito', 'bonker', 'bonn', 'bonsai', 'bonus', 'boo', 'book', 'booklet', 'boon', 'boost', 'booster', 'boot', 'booti', 'border', 'borderlin', 'bore', 'born', 'boss', 'boston', 'bother', 'bottl', 'bottom', 'bought', 'bouillon', 'boulder', 'boullion', 'bounc', 'bounci', 'bound', 'bounti', 'bouquet', 'bourbon', 'bout', 'boutiqu', 'bow', 'bowel', 'bowl', 'box', 'boxer', 'boy', 'boyarde', 'boyfriend', 'boylan', 'boysenberri', 'bpa', 'brace', 'brach', 'brag', 'bragg', 'braid', 'brain', 'brainer', 'bran', 'branch', 'brand', 'brandi', 'brat', 'bratwurst', 'brave', 'bravo', 'brazil', 'brazilian', 'bread', 'breadcrumb', 'breadmak', 'breadstick', 'break', 'breakag', 'breakdown', 'breaker', 'breakfast', 'breast', 'breastf', 'breastfe', 'breastfeed', 'breastmilk', 'breath', 'breed', 'breeder', 'breez', 'brevill', 'brew', 'brewer', 'brian', 'brick', 'bridg', 'brie', 'brief', 'briefcas', 'briefli', 'bright', 'brighten', 'brighter', 'brilliant', 'brine', 'bring', 'brisk', 'brisl', 'brit', 'britain', 'british', 'britt', 'brittl', 'broccoli', 'broil', 'broiler', 'broke', 'broken', 'brooklyn', 'bros', 'broth', 'brother', 'brought', 'brown', 'browni', 'brownish', 'brows', 'bruce', 'bruis', 'brule', 'brunch', 'bruschetta', 'brush', 'brussel', 'btw', 'bubbl', 'bubblegum', 'buck', 'bucket', 'buckwheat', 'bud', 'buddi', 'budget', 'bueno', 'buffalo', 'buffet', 'bug', 'bugger', 'build', 'buildup', 'built', 'bulb', 'bulk', 'bulki', 'bull', 'bulldog', 'bullet', 'bulli', 'bullion', 'bum', 'bummer', 'bump', 'bun', 'bunch', 'bundl', 'bundt', 'bunn', 'bunni', 'burger', 'buri', 'burn', 'burner', 'burnt', 'burp', 'burr', 'burrito', 'burst', 'burton', 'bus', 'bush', 'busi', 'bust', 'bustelo', 'buster', 'butcher', 'butt', 'butter', 'buttercream', 'butterfing', 'butteri', 'buttermilk', 'butternut', 'butterscotch', 'button', 'buy', 'buyer', 'buzz', 'bypass', 'byproduct', 'cabbag', 'cabin', 'cabinet', 'cabl', 'cacao', 'cactus', 'cadburi', 'cadet', 'caesar', 'caf', 'cafe', 'cafeteria', 'caff', 'caffein', 'caffien', 'caffin', 'cafix', 'cage', 'cajun', 'cake', 'cakey', 'cal', 'calcium', 'calcul', 'calib', 'california', 'call', 'calm', 'calor', 'calori', 'calzon', 'camano', 'came', 'camel', 'camellia', 'camp', 'campaign', 'campbel', 'camper', 'campfir', 'can', 'canada', 'canadian', 'cancel', 'cancer', 'candi', 'candida', 'candl', 'cane', 'canida', 'canin', 'canist', 'canning', 'cannist', 'cannot', 'canola', 'cant', 'cap', 'capabl', 'capac', 'cape', 'caper', 'capit', 'cappuccino', 'cappucino', 'capresso', 'capsul', 'captain', 'captiv', 'captur', 'capuccino', 'car', 'caraf', 'caramel', 'caraway', 'carb', 'carbohydr', 'carbon', 'carcass', 'carcinogen', 'card', 'cardamom', 'cardamon', 'cardboard', 'cardio', 'cardiovascular', 'care', 'careless', 'caribbean', 'caribou', 'carmel', 'carnat', 'carniv', 'carnivor', 'carob', 'carolina', 'carpet', 'carr', 'carri', 'carrier', 'carrot', 'cart', 'carton', 'cartoon', 'casa', 'cascadian', 'case', 'casein', 'cash', 'cashew', 'casserol', 'cast', 'castor', 'casual', 'cat', 'catalog', 'catch', 'catechin', 'categori', 'cater', 'catfood', 'catherin', 'catnip', 'cattl', 'caught', 'cauliflow', 'caus', 'caution', 'cautious', 'cavali', 'cave', 'caveat', 'cavend', 'caviar', 'caviti', 'cayenn', 'cayman', 'ceas', 'celebr', 'celeri', 'celesti', 'celiac', 'cell', 'cellar', 'cellophan', 'cellulos', 'celsius', 'celtic', 'cent', 'center', 'centerpiec', 'cento', 'central', 'centuri', 'ceo', 'ceral', 'ceram', 'cereal', 'cerelac', 'ceremoni', 'certain', 'certif', 'certifi', 'cesar', 'cet', 'ceylon', 'cha', 'chai', 'chain', 'chair', 'chakra', 'chalk', 'chalki', 'challeng', 'chamber', 'chamomil', 'champagn', 'chana', 'chanc', 'chang', 'channel', 'char', 'charact', 'characterist', 'charcoal', 'charg', 'charit', 'chariti', 'charl', 'charm', 'chart', 'chase', 'cheap', 'cheaper', 'cheapest', 'cheapli', 'cheapo', 'cheat', 'chebe', 'check', 'checkout', 'checkup', 'cheddar', 'chedder', 'cheek', 'cheer', 'cheerio', 'chees', 'cheesecak', 'cheesi', 'cheeto', 'cheez', 'chef', 'chemic', 'chemistri', 'chemo', 'cheri', 'cherri', 'cherrybrook', 'chest', 'chestnut', 'chew', 'chewabl', 'chewer', 'chewey', 'chewi', 'chewier', 'chex', 'chi', 'chia', 'chicago', 'chick', 'chicken', 'chickpea', 'chicori', 'chihuahua', 'chik', 'child', 'childhood', 'children', 'chile', 'chili', 'chill', 'chilli', 'china', 'chinatown', 'chines', 'chip', 'chipotl', 'chive', 'chlorid', 'chlorin', 'choc', 'chocal', 'chock', 'choclat', 'choco', 'chocohol', 'chocol', 'chocolatey', 'chocolati', 'choic', 'choke', 'cholesterol', 'cholin', 'cholula', 'chomp', 'chondroitin', 'choos', 'chop', 'chopstick', 'chore', 'chorizo', 'chose', 'chosen', 'chow', 'chowder', 'choy', 'christma', 'chronic', 'chuck', 'chug', 'chummi', 'chun', 'chunk', 'chunki', 'church', 'chutney', 'cider', 'cigar', 'cigarett', 'cilantro', 'cinammon', 'cinch', 'cincinnati', 'cinnamon', 'cinnamoni', 'circl', 'circul', 'circular', 'circumst', 'cite', 'citi', 'citizen', 'citric', 'citrus', 'citrusi', 'civil', 'claim', 'clam', 'clarifi', 'clariti', 'class', 'classi', 'classic', 'classifi', 'classmat', 'claw', 'clay', 'clean', 'cleaner', 'cleans', 'cleanser', 'cleanup', 'clear', 'clearanc', 'clementin', 'clerk', 'clever', 'click', 'client', 'clif', 'cliff', 'climat', 'climb', 'cling', 'clinic', 'clip', 'clock', 'clog', 'close', 'closer', 'closest', 'closet', 'closur', 'cloth', 'cloud', 'cloudi', 'clove', 'clover', 'cloy', 'club', 'clue', 'clump', 'clumpi', 'cluster', 'coars', 'coast', 'coat', 'coax', 'cob', 'cobbler', 'coca', 'cocker', 'cocktail', 'coco', 'cocoa', 'coconut', 'coconutti', 'cod', 'code', 'cofe', 'coff', 'coffe', 'coffeehous', 'coffeem', 'coffeemak', 'coin', 'coincid', 'coke', 'cola', 'colada', 'coland', 'cold', 'colder', 'colic', 'collaps', 'collard', 'colleagu', 'collect', 'collector', 'colleg', 'colli', 'colombia', 'colombian', 'colon', 'coloni', 'color', 'colorado', 'colour', 'columbia', 'columbian', 'com', 'combat', 'combin', 'combo', 'come', 'comedi', 'comfort', 'command', 'commend', 'comment', 'commer', 'commerci', 'commissari', 'commit', 'common', 'communic', 'communiti', 'commut', 'compact', 'compani', 'companion', 'compar', 'comparison', 'compart', 'compat', 'compel', 'compens', 'compet', 'competit', 'competitor', 'complain', 'complaint', 'compleat', 'complement', 'complementari', 'complet', 'complex', 'complic', 'compliment', 'complimentari', 'compon', 'compos', 'composit', 'compost', 'compound', 'compress', 'compris', 'compromis', 'comput', 'con', 'conceiv', 'concentr', 'concept', 'concern', 'conclud', 'conclus', 'concoct', 'concord', 'concur', 'condens', 'condiment', 'condit', 'condition', 'conduct', 'cone', 'confect', 'confection', 'confectionari', 'confess', 'confid', 'configur', 'confirm', 'confus', 'congeal', 'congest', 'conjunct', 'connect', 'connoisseur', 'conscienc', 'conscious', 'consensus', 'consequ', 'conserv', 'consid', 'consider', 'consist', 'constant', 'constip', 'constitut', 'construct', 'consult', 'consum', 'consumpt', 'contact', 'contain', 'contamin', 'contempl', 'contend', 'content', 'contest', 'context', 'continent', 'continu', 'contract', 'contrari', 'contrast', 'contribut', 'control', 'controversi', 'conveni', 'convent', 'convers', 'convert', 'convien', 'convieni', 'convient', 'convinc', 'cook', 'cookbook', 'cooker', 'cooki', 'cool', 'cooler', 'coolest', 'coomb', 'coon', 'coop', 'cooper', 'coordin', 'copi', 'copious', 'copper', 'cord', 'cordial', 'core', 'corgi', 'coriand', 'cork', 'corn', 'cornbread', 'corner', 'cornflak', 'corni', 'cornmeal', 'cornstarch', 'corpor', 'correct', 'correspond', 'cosmet', 'cost', 'costa', 'costco', 'cottag', 'cotton', 'couch', 'cough', 'could', 'couldnt', 'count', 'counter', 'counteract', 'counterpart', 'countertop', 'counti', 'countless', 'countri', 'coupl', 'coupon', 'courag', 'cours', 'court', 'courteous', 'cous', 'couscous', 'cousin', 'cover', 'cow', 'cowboy', 'cowork', 'cozi', 'crab', 'crack', 'cracker', 'crackl', 'craft', 'craisin', 'cram', 'cramp', 'cranberri', 'crank', 'cranki', 'crap', 'crappi', 'crash', 'crate', 'crave', 'crawl', 'craze', 'crazi', 'cream', 'creamer', 'creami', 'creamier', 'creat', 'creation', 'creativ', 'creatur', 'credit', 'creek', 'creep', 'crema', 'creme', 'creol', 'crepe', 'crew', 'cri', 'crimin', 'cring', 'crisp', 'crispbread', 'crisper', 'crispi', 'crispier', 'criteria', 'critic', 'critter', 'crock', 'crocker', 'crockpot', 'crohn', 'croissant', 'crop', 'cross', 'crouton', 'crowd', 'crown', 'cruchi', 'crucial', 'crud', 'cruis', 'crumb', 'crumbl', 'crunch', 'crunchi', 'crunchier', 'crunci', 'crush', 'crust', 'crusti', 'crystal', 'cuban', 'cube', 'cucumb', 'cuisin', 'cuisinart', 'culinari', 'culprit', 'cultiv', 'cultur', 'cumin', 'cup', 'cupboard', 'cupcak', 'cuppa', 'cur', 'curb', 'curd', 'cure', 'curios', 'curious', 'curl', 'currant', 'current', 'curri', 'cushion', 'custard', 'custom', 'cut', 'cute', 'cutlet', 'cutter', 'cuz', 'cvs', 'cycl', 'cylind', 'cytomax', 'dab', 'dachshund', 'dad', 'daddi', 'dagoba', 'daili', 'dairi', 'daisi', 'dal', 'dalfour', 'dalla', 'damag', 'damn', 'damp', 'dan', 'danc', 'dandelion', 'dandi', 'dandruff', 'dane', 'dang', 'danger', 'daniel', 'danish', 'dare', 'darjeel', 'dark', 'darker', 'darkest', 'darn', 'dash', 'dashi', 'data', 'date', 'daughter', 'daunt', 'dave', 'davi', 'david', 'davidson', 'davinci', 'dawn', 'day', 'daycar', 'dead', 'deal', 'dealer', 'dealt', 'dean', 'dear', 'death', 'debat', 'debbi', 'debri', 'dec', 'decad', 'decaf', 'decaff', 'decaffein', 'decaffin', 'decant', 'decay', 'deceiv', 'decemb', 'decent', 'decept', 'decid', 'decis', 'deck', 'declar', 'declin', 'decor', 'decreas', 'dedic', 'deduct', 'deem', 'deep', 'deeper', 'deepli', 'deer', 'def', 'default', 'defeat', 'defect', 'defens', 'defici', 'defin', 'definat', 'definet', 'definit', 'definitley', 'defint', 'defrost', 'degrad', 'degre', 'dehydr', 'del', 'delay', 'delect', 'delet', 'deli', 'deliber', 'delic', 'delicaci', 'delici', 'delight', 'delish', 'deliv', 'deliveri', 'delux', 'demand', 'demolish', 'demonstr', 'deni', 'dens', 'denser', 'densiti', 'dent', 'dental', 'dentist', 'dentur', 'dentyn', 'denver', 'deodor', 'depart', 'departur', 'depend', 'depict', 'deploy', 'deposit', 'depot', 'depress', 'depriv', 'dept', 'depth', 'deriv', 'describ', 'descript', 'desert', 'deserv', 'design', 'desir', 'desk', 'desper', 'despis', 'despit', 'dessert', 'destin', 'destroy', 'detail', 'detect', 'deter', 'deterior', 'determin', 'detest', 'detox', 'detoxifi', 'detract', 'detriment', 'devast', 'develop', 'devic', 'devil', 'devoid', 'devot', 'devour', 'dew', 'dextros', 'dha', 'diabet', 'diagnos', 'diagnosi', 'dial', 'diamet', 'diamond', 'diaper', 'diarrhea', 'dice', 'dick', 'dictionari', 'didnt', 'die', 'diedrich', 'diego', 'diet', 'dietari', 'dieter', 'dietitian', 'diff', 'differ', 'differenti', 'differnt', 'difficult', 'difficulti', 'dig', 'digest', 'digit', 'digress', 'dijon', 'dilig', 'dill', 'dilmah', 'dilut', 'dim', 'dime', 'dimens', 'diminish', 'dine', 'diner', 'ding', 'dingo', 'dinner', 'dinosaur', 'dioxid', 'dip', 'direct', 'director', 'dirt', 'dirti', 'disabl', 'disadvantag', 'disagre', 'disapoint', 'disappear', 'disappoint', 'disast', 'disc', 'discard', 'discern', 'disclaim', 'disclos', 'discolor', 'discomfort', 'discontinu', 'discount', 'discourag', 'discov', 'discoveri', 'discrimin', 'discuss', 'diseas', 'disguis', 'disgust', 'dish', 'dishwash', 'dishwat', 'disintegr', 'disk', 'dislik', 'dismay', 'disney', 'disolv', 'disord', 'dispens', 'display', 'dispos', 'disregard', 'disrupt', 'dissapoint', 'dissappoint', 'dissip', 'dissolv', 'distanc', 'distant', 'distil', 'distinct', 'distinguish', 'distract', 'distress', 'distribut', 'distributor', 'district', 'disturb', 'diuret', 'dive', 'divers', 'divid', 'divin', 'dixi', 'dizzi', 'doc', 'doctor', 'document', 'doesnt', 'dog', 'doggi', 'dogswel', 'dolc', 'dole', 'dollar', 'dollop', 'domatcha', 'domest', 'domin', 'donat', 'done', 'dont', 'donut', 'doodl', 'door', 'doorstep', 'dorito', 'dorm', 'dosag', 'dose', 'dot', 'doubl', 'doubt', 'dough', 'doughi', 'doughnut', 'dous', 'douw', 'dove', 'down', 'downfal', 'downgrad', 'downright', 'downsid', 'dozen', 'drag', 'dragon', 'drain', 'drama', 'dramat', 'drank', 'drastic', 'draw', 'drawback', 'drawer', 'drawn', 'dread', 'dream', 'dreamfield', 'dreami', 'dredg', 'dress', 'drew', 'dri', 'drier', 'drift', 'drink', 'drinkabl', 'drinker', 'drip', 'drive', 'driven', 'driver', 'drizzl', 'drool', 'drop', 'dropper', 'drost', 'drove', 'drown', 'drowsi', 'drug', 'drugstor', 'drunk', 'dryer', 'dryness', 'drysdal', 'dubious', 'duck', 'dud', 'dude', 'due', 'dug', 'duh', 'dulc', 'dull', 'dumb', 'dump', 'dumpl', 'duncan', 'dunk', 'dunkin', 'dunno', 'duplic', 'durabl', 'durke', 'durum', 'dust', 'dusti', 'dutch', 'duti', 'dvd', 'dwindl', 'dy', 'dye', 'dynam', 'dynasti', 'eager', 'eagl', 'ear', 'earl', 'earli', 'earlier', 'earn', 'earth', 'earthi', 'eas', 'easi', 'easier', 'easiest', 'easili', 'east', 'easter', 'eastern', 'eat', 'eaten', 'eater', 'eateri', 'eatin', 'ebay', 'echinacea', 'echo', 'eclips', 'eco', 'ecolog', 'econom', 'economi', 'ecstat', 'ect', 'eczema', 'edamam', 'eden', 'edg', 'edibl', 'edit', 'educ', 'edward', 'effect', 'effici', 'effort', 'effortless', 'egbert', 'egg', 'eggi', 'eggnog', 'eggplant', 'egyptian', 'eight', 'either', 'elabor', 'elast', 'elat', 'elbow', 'elder', 'electr', 'electrolyt', 'electron', 'eleg', 'element', 'elementari', 'elev', 'eleven', 'elig', 'elimin', 'elixir', 'els', 'elsewher', 'elus', 'email', 'embarrass', 'embed', 'embrac', 'emerald', 'emerg', 'emeril', 'emot', 'emphas', 'emphasi', 'empir', 'employ', 'employe', 'empti', 'emulsifi', 'enabl', 'encas', 'enchant', 'enchilada', 'enclos', 'encount', 'encourag', 'end', 'endang', 'endeavor', 'endless', 'endocrin', 'endors', 'endur', 'enemi', 'energ', 'energet', 'energi', 'enfamil', 'engag', 'engin', 'england', 'english', 'enhanc', 'enjoy', 'enlighten', 'enorm', 'enough', 'enought', 'enrich', 'ensur', 'enter', 'enterpris', 'entertain', 'enthusiasm', 'enthusiast', 'entic', 'entir', 'entre', 'entri', 'envelop', 'envirokidz', 'environ', 'environment', 'envis', 'enzym', 'episod', 'equal', 'equat', 'equip', 'equival', 'er', 'era', 'erewhon', 'eric', 'erin', 'errand', 'error', 'erythritol', 'escap', 'escargot', 'ese', 'esp', 'especi', 'espression', 'espresso', 'esq', 'essenc', 'essenti', 'est', 'establish', 'estat', 'estim', 'estrogen', 'etc', 'ethic', 'ethiopian', 'ethnic', 'eukanuba', 'euro', 'europ', 'european', 'evalu', 'evapor', 'eve', 'even', 'event', 'eventu', 'ever', 'everi', 'everlast', 'everybodi', 'everyday', 'everyon', 'everyth', 'everytim', 'everywher', 'evid', 'evil', 'evo', 'evok', 'evolut', 'evolv', 'evoo', 'exact', 'exagger', 'exam', 'examin', 'exampl', 'exceed', 'excel', 'except', 'excercis', 'excess', 'exchang', 'excit', 'exclaim', 'exclud', 'exclus', 'excus', 'execut', 'exercis', 'exfoli', 'exhaust', 'exhibit', 'exist', 'exit', 'exorbit', 'exot', 'expand', 'expans', 'expect', 'expedit', 'expel', 'expens', 'experi', 'experienc', 'experiment', 'expert', 'expir', 'expiri', 'explain', 'explan', 'explod', 'explor', 'explos', 'export', 'expos', 'exposur', 'express', 'expresso', 'exquisit', 'extend', 'extens', 'extent', 'exterior', 'extern', 'extra', 'extract', 'extraordinari', 'extraordinarili', 'extrem', 'eye', 'ezekiel', 'fab', 'fabric', 'fabul', 'face', 'facebook', 'facial', 'facil', 'fact', 'factor', 'factori', 'fade', 'fail', 'failur', 'faint', 'fair', 'faith', 'fajita', 'fake', 'falafel', 'falcon', 'fall', 'fallen', 'fals', 'famili', 'familia', 'familiar', 'famous', 'fan', 'fanat', 'fanci', 'fancier', 'fantast', 'far', 'fare', 'farm', 'farmer', 'fart', 'farther', 'fascin', 'fashion', 'fast', 'faster', 'fastest', 'fat', 'fatal', 'fate', 'father', 'fatigu', 'fatten', 'fatti', 'fault', 'faulti', 'faux', 'fav', 'fave', 'favor', 'favorit', 'favourit', 'fda', 'fear', 'feast', 'feat', 'featur', 'feb', 'februari', 'fed', 'fedex', 'fee', 'feed', 'feedback', 'feeder', 'feel', 'feet', 'felin', 'fell', 'fellow', 'felt', 'femal', 'fenc', 'fennel', 'fenugreek', 'feral', 'ferment', 'ferrara', 'ferrero', 'fertil', 'festiv', 'feta', 'fetch', 'fettuccin', 'fever', 'fewer', 'fianc', 'fiber', 'fibr', 'field', 'fiend', 'fiesta', 'fifteen', 'fifth', 'fifti', 'fig', 'fight', 'figur', 'fiji', 'filbert', 'file', 'filet', 'fill', 'filler', 'fillet', 'film', 'filter', 'final', 'financi', 'find', 'fine', 'finer', 'finest', 'finger', 'fingertip', 'finicki', 'finish', 'finland', 'fire', 'firm', 'firmer', 'first', 'fish', 'fishi', 'fist', 'fit', 'five', 'fix', 'fixtur', 'fizz', 'fizzi', 'flake', 'flaki', 'flame', 'flan', 'flap', 'flare', 'flash', 'flat', 'flatbread', 'flatten', 'flatul', 'flaver', 'flavor', 'flavorless', 'flavour', 'flaw', 'flawless', 'flax', 'flaxse', 'flea', 'flesh', 'fleur', 'flew', 'flexibl', 'fli', 'flick', 'flight', 'flimsi', 'flip', 'float', 'flood', 'floor', 'flop', 'floral', 'florida', 'floss', 'flossi', 'flour', 'flourish', 'flow', 'flower', 'floweri', 'flu', 'fluctuat', 'fluff', 'fluffi', 'fluffier', 'fluid', 'fluke', 'fluorid', 'flush', 'foam', 'foami', 'focus', 'fog', 'fogbust', 'foil', 'fold', 'folger', 'folic', 'folk', 'follow', 'fond', 'fondant', 'fondu', 'fong', 'food', 'foodi', 'foodstuff', 'fool', 'foolish', 'foolproof', 'foot', 'footbal', 'footprint', 'forc', 'foreign', 'foremost', 'forest', 'forev', 'forewarn', 'forget', 'forgiv', 'forgot', 'forgotten', 'fork', 'form', 'format', 'former', 'formul', 'formula', 'fort', 'forth', 'forti', 'fortifi', 'fortun', 'forum', 'forward', 'foster', 'foul', 'found', 'foundat', 'founder', 'fountain', 'four', 'fourth', 'fowl', 'fox', 'fraction', 'fragil', 'fragment', 'fragranc', 'fragrant', 'frame', 'franc', 'franci', 'francisco', 'frank', 'frantic', 'frapp', 'freak', 'freakin', 'free', 'freedom', 'freeli', 'freez', 'freezer', 'freight', 'french', 'frequenc', 'frequent', 'fresca', 'fresh', 'freshen', 'fresher', 'freshest', 'fri', 'friday', 'fridg', 'friend', 'friendship', 'frig', 'frighten', 'friski', 'frito', 'frog', 'front', 'frontier', 'frost', 'froth', 'frothi', 'froze', 'frozen', 'fructos', 'frugal', 'fruit', 'fruitcak', 'fruiti', 'fruition', 'frustrat', 'fudg', 'fudgi', 'fuel', 'fuji', 'fulfil', 'full', 'fuller', 'fulli', 'fun', 'function', 'fund', 'fundrais', 'fungus', 'funki', 'funnel', 'funni', 'fur', 'furnitur', 'furri', 'furthermor', 'fusion', 'fuss', 'fussi', 'futur', 'fuzzi', 'fyi', 'gadget', 'gag', 'gaggia', 'gain', 'gal', 'galileo', 'gallo', 'gallon', 'gambl', 'game', 'ganach', 'gap', 'garag', 'garbag', 'garbanzo', 'garden', 'gardenia', 'garlic', 'garlicki', 'garnish', 'garvey', 'gas', 'gassi', 'gastric', 'gastrointestin', 'gate', 'gather', 'gatorad', 'gaug', 'gave', 'gear', 'geena', 'gel', 'gelatin', 'gem', 'gene', 'general', 'generat', 'generic', 'generous', 'genet', 'genisoy', 'genius', 'genmai', 'genr', 'gentl', 'gentler', 'genuin', 'georg', 'georgia', 'gerber', 'germ', 'german', 'germani', 'germin', 'get', 'gevalia', 'gfcf', 'ghee', 'ghiradelli', 'ghirardelli', 'ghost', 'giant', 'gift', 'gigant', 'giggl', 'gimmick', 'gin', 'ginger', 'gingerbread', 'gingeri', 'ginseng', 'girl', 'girlfriend', 'give', 'given', 'glace', 'glad', 'glanc', 'glass', 'glaze', 'glen', 'glenni', 'glob', 'global', 'gloppi', 'glori', 'gloria', 'glorifi', 'glorious', 'glossari', 'glossi', 'glove', 'glow', 'glu', 'glucos', 'glucosamin', 'glue', 'gluey', 'glutam', 'gluten', 'glutenfreeda', 'glutino', 'glycem', 'glycerin', 'gmo', 'gms', 'gnat', 'gnaw', 'gnocchi', 'go', 'goal', 'goat', 'gobbl', 'god', 'goddess', 'godiva', 'godsend', 'goe', 'goji', 'gold', 'golden', 'goldfish', 'golean', 'golf', 'gone', 'gonna', 'goo', 'good', 'goodi', 'gooey', 'googl', 'goood', 'goos', 'gooseberri', 'gopher', 'gorg', 'gorgeous', 'gorilla', 'gormet', 'gosh', 'got', 'gotta', 'gotten', 'gouda', 'goug', 'gourmet', 'gout', 'govern', 'goya', 'grab', 'grace', 'gracious', 'grade', 'gradual', 'graduat', 'graham', 'grain', 'graini', 'gram', 'gran', 'grand', 'grandaught', 'grandchildren', 'granddaught', 'grandfath', 'grandkid', 'grandma', 'grandmoth', 'grandpa', 'grandpar', 'grandson', 'granni', 'granola', 'grant', 'granul', 'granular', 'grape', 'grapefruit', 'grapese', 'graphic', 'grass', 'grassi', 'grate', 'grave', 'gravel', 'gravi', 'gray', 'graze', 'greas', 'greasi', 'great', 'greater', 'greatest', 'greec', 'greek', 'green', 'greener', 'greeni', 'greenish', 'greet', 'grew', 'grey', 'greyhound', 'grill', 'grind', 'grinder', 'grip', 'gripe', 'gristed', 'gristl', 'grit', 'gritti', 'groat', 'grocer', 'groceri', 'groom', 'gross', 'grossli', 'ground', 'group', 'grow', 'grower', 'growl', 'grown', 'growth', 'guacamol', 'guar', 'guarante', 'guard', 'guava', 'guess', 'guest', 'guid', 'guidelin', 'guilt', 'guilti', 'guiltless', 'gulp', 'gum', 'gumbal', 'gumbo', 'gummi', 'gun', 'gunk', 'gunpowd', 'gusto', 'gut', 'guy', 'guzzl', 'gym', 'gypsi', 'habanero', 'habit', 'hagen', 'haggi', 'haha', 'hail', 'hair', 'hairbal', 'half', 'halfway', 'hall', 'halloween', 'halo', 'halv', 'halva', 'halvah', 'ham', 'hamburg', 'hammer', 'hand', 'handbag', 'handful', 'handi', 'handl', 'hang', 'hangov', 'hanker', 'hansen', 'happen', 'happi', 'happier', 'happili', 'hara', 'harbor', 'hard', 'harden', 'harder', 'hardest', 'hardi', 'hardwar', 'haribo', 'harm', 'harmless', 'harmoni', 'harney', 'harri', 'harrog', 'harsh', 'hartz', 'harvest', 'hash', 'hassl', 'hat', 'hatch', 'hate', 'hater', 'haul', 'haunt', 'havent', 'havoc', 'hawaii', 'hawaiian', 'hay', 'hazard', 'hazelnut', 'hazlenut', 'hcg', 'hdl', 'head', 'headach', 'headi', 'heal', 'health', 'healthfood', 'healthi', 'healthier', 'healthiest', 'healthili', 'healti', 'heap', 'hear', 'heard', 'heart', 'heartburn', 'hearti', 'heartier', 'heartili', 'heat', 'heaven', 'heavi', 'heavier', 'heavili', 'heb', 'heck', 'hectic', 'heel', 'hefti', 'hehe', 'height', 'heinz', 'held', 'hell', 'hello', 'help', 'helper', 'hemp', 'hempse', 'henc', 'henri', 'herb', 'herbal', 'heritag', 'hero', 'herring', 'hershey', 'hesit', 'hextra', 'hey', 'hfcs', 'hibiscus', 'hickori', 'hid', 'hidden', 'hide', 'high', 'higher', 'highest', 'highland', 'highlight', 'highway', 'hike', 'hilari', 'hill', 'himalayan', 'hine', 'hing', 'hint', 'hip', 'hippi', 'hispan', 'histor', 'histori', 'hit', 'hive', 'hmm', 'hmmm', 'hoard', 'hodgson', 'hold', 'holder', 'hole', 'holi', 'holiday', 'holist', 'holland', 'holli', 'hollow', 'hollywood', 'home', 'homegrown', 'homemad', 'homestyl', 'hometown', 'homework', 'honest', 'honesti', 'honey', 'honeybush', 'honeycomb', 'honeymoon', 'honeyvill', 'honor', 'hook', 'hooray', 'hoov', 'hop', 'hope', 'hor', 'horizon', 'hormel', 'hormon', 'horrend', 'horribl', 'horrid', 'horrif', 'horrifi', 'horror', 'hors', 'horseradish', 'hose', 'hospit', 'host', 'hostess', 'hot', 'hotdog', 'hotel', 'hotter', 'hottest', 'hound', 'hour', 'hous', 'household', 'houston', 'houtt', 'howard', 'howev', 'hrs', 'hubbi', 'huckleberri', 'hue', 'hug', 'huge', 'hugger', 'huh', 'hull', 'human', 'humbl', 'humid', 'hummus', 'humor', 'hundr', 'hung', 'hungarian', 'hunger', 'hungri', 'hunk', 'hunt', 'hunter', 'hurri', 'hurrican', 'hurt', 'husband', 'husk', 'huski', 'huy', 'hybrid', 'hydrat', 'hydrochlorid', 'hydrogen', 'hydrolyz', 'hydropon', 'hygien', 'hype', 'hyper', 'hypertens', 'hypoglycem', 'iam', 'ib', 'ice', 'icecream', 'ici', 'ick', 'icki', 'idaho', 'idea', 'ideal', 'ident', 'identifi', 'idiot', 'iffi', 'ignor', 'igourmet', 'ill', 'illeg', 'illi', 'illinoi', 'illustr', 'imag', 'imagin', 'imbib', 'imho', 'imit', 'immedi', 'immens', 'immers', 'immun', 'imo', 'impact', 'impart', 'impati', 'impli', 'import', 'imposs', 'impress', 'improp', 'improv', 'impuls', 'inadvert', 'inbetween', 'inc', 'inca', 'incent', 'inch', 'incid', 'incident', 'inclin', 'includ', 'inclus', 'incompar', 'inconsist', 'inconveni', 'incorpor', 'incorrect', 'increas', 'incred', 'inde', 'indefinit', 'indent', 'independ', 'indescrib', 'indestruct', 'index', 'india', 'indian', 'indiana', 'indic', 'indiffer', 'indigest', 'indispens', 'indistinguish', 'individu', 'indonesia', 'indonesian', 'indoor', 'induc', 'indulg', 'industri', 'ined', 'ineffect', 'inevit', 'inexpens', 'infact', 'infant', 'infect', 'inferior', 'infest', 'infinit', 'inflamm', 'inflat', 'influenc', 'info', 'inform', 'infus', 'ing', 'ingeni', 'ingest', 'ingredi', 'inhal', 'inher', 'inhibit', 'initi', 'inject', 'injuri', 'ink', 'inn', 'inner', 'innoc', 'innov', 'innova', 'input', 'inquir', 'inquiri', 'insan', 'insect', 'insert', 'insid', 'insipid', 'insist', 'insolubl', 'insomnia', 'inspect', 'inspir', 'instal', 'instanc', 'instant', 'instead', 'instinct', 'institut', 'instruct', 'insuffici', 'insul', 'insulin', 'insult', 'insur', 'intact', 'intak', 'integr', 'intellig', 'intend', 'intens', 'intensifi', 'intent', 'interact', 'interest', 'interfer', 'interior', 'intern', 'internet', 'interrupt', 'interv', 'intestin', 'intoler', 'intox', 'intrigu', 'introduc', 'introduct', 'inulin', 'invad', 'invari', 'invas', 'invent', 'inventori', 'invest', 'investig', 'invigor', 'invis', 'invit', 'involv', 'iraq', 'ireland', 'irish', 'iron', 'irregular', 'irresist', 'irrit', 'isl', 'island', 'isnt', 'isol', 'isra', 'issu', 'itali', 'italian', 'itch', 'itchi', 'item', 'ito', 'ive', 'izz', 'jack', 'jacob', 'jade', 'jalapeno', 'jalepeno', 'jam', 'jamaica', 'jamaican', 'jambalaya', 'jame', 'jan', 'jane', 'januari', 'japan', 'japanes', 'jar', 'jasmin', 'java', 'jaw', 'jazz', 'jealous', 'jean', 'jeffrey', 'jelli', 'jello', 'jemima', 'jeremiah', 'jerk', 'jerkey', 'jerki', 'jerri', 'jersey', 'jet', 'jewel', 'jewish', 'jif', 'jiffi', 'jim', 'jitter', 'jitteri', 'job', 'joe', 'john', 'johnni', 'johnson', 'join', 'joint', 'joke', 'jolli', 'jolokia', 'jolt', 'jone', 'joseph', 'journal', 'journey', 'joy', 'joyva', 'juan', 'judg', 'judi', 'jug', 'juic', 'juici', 'juli', 'jumbo', 'jump', 'june', 'junip', 'junk', 'junki', 'jus', 'justic', 'justifi', 'justin', 'jyoti', 'kahlua', 'kalamata', 'kale', 'kamut', 'kansa', 'kashi', 'kasugai', 'kat', 'kava', 'kaviar', 'kay', 'kcal', 'kcup', 'keaton', 'kee', 'keebler', 'keemun', 'keen', 'keep', 'keeper', 'kefir', 'kellog', 'kellogg', 'kelp', 'kenya', 'kenyan', 'kept', 'kernal', 'kernel', 'ketchup', 'kettl', 'keurig', 'key', 'kibbl', 'kick', 'kid', 'kiddi', 'kiddo', 'kidney', 'kikkoman', 'kill', 'killer', 'kilo', 'kimbo', 'kimchi', 'kind', 'kinda', 'kinder', 'kindergarten', 'kindl', 'king', 'kingdom', 'kipper', 'kirkland', 'kiss', 'kit', 'kitchen', 'kitten', 'kitti', 'kiwi', 'kix', 'knead', 'knee', 'knew', 'knife', 'knob', 'knock', 'knorr', 'knot', 'know', 'knowledg', 'known', 'kola', 'kombucha', 'kona', 'kong', 'kookaburra', 'kool', 'kopali', 'korea', 'korean', 'korma', 'kosher', 'kraft', 'krinkl', 'krispi', 'kroger', 'krup', 'krusteaz', 'kudo', 'kum', 'lab', 'label', 'labl', 'labor', 'laboratori', 'labrador', 'lace', 'lack', 'lactaid', 'lactic', 'lactos', 'laden', 'ladi', 'laffi', 'laid', 'lait', 'lake', 'lakewood', 'lamb', 'lame', 'land', 'landfil', 'lane', 'languag', 'lanka', 'lap', 'lapsang', 'lara', 'larabar', 'lard', 'larg', 'larger', 'largest', 'larri', 'las', 'lasagn', 'lasagna', 'last', 'late', 'later', 'latest', 'lather', 'latin', 'latt', 'latter', 'laugh', 'launch', 'laundri', 'lavazza', 'lavend', 'law', 'lawn', 'lawri', 'laxat', 'lay', 'layer', 'lazi', 'lbs', 'ldl', 'lea', 'leach', 'lead', 'leader', 'leaf', 'leafi', 'leagu', 'leak', 'leakag', 'lean', 'leap', 'leari', 'learn', 'leash', 'least', 'leather', 'leatheri', 'leav', 'leaven', 'lech', 'lecithin', 'led', 'lee', 'leeper', 'leeri', 'left', 'leftov', 'leg', 'legal', 'legend', 'legum', 'lemon', 'lemonad', 'lemongrass', 'lemoni', 'lend', 'length', 'lentil', 'leonida', 'less', 'lessen', 'lesser', 'lesson', 'lest', 'let', 'letharg', 'letter', 'lettuc', 'level', 'liber', 'librari', 'lick', 'licoric', 'lid', 'lie', 'lieu', 'life', 'lifelong', 'lifesav', 'lifestyl', 'lifetim', 'lift', 'light', 'lighten', 'lighter', 'lightn', 'lightweight', 'like', 'liken', 'likewis', 'lil', 'lili', 'lime', 'limit', 'limp', 'linda', 'lindor', 'lindt', 'line', 'liner', 'linger', 'linguin', 'link', 'lion', 'lip', 'lipil', 'lipton', 'liqueur', 'liquid', 'liquidi', 'liquifi', 'liquor', 'liquoric', 'list', 'listen', 'listmania', 'lit', 'lite', 'liter', 'literatur', 'litl', 'litt', 'litter', 'litterbox', 'littl', 'live', 'liven', 'liver', 'lizano', 'loa', 'load', 'loaf', 'loav', 'lobster', 'local', 'locat', 'lock', 'lodg', 'log', 'logic', 'logo', 'lol', 'lolli', 'lollipop', 'loma', 'london', 'lone', 'long', 'longer', 'longest', 'longev', 'look', 'lookout', 'loooov', 'loop', 'loos', 'loosen', 'lord', 'los', 'lose', 'loss', 'lost', 'lot', 'lotion', 'lotus', 'lou', 'loud', 'loui', 'louisiana', 'lousi', 'love', 'lover', 'lovin', 'low', 'lower', 'lowest', 'lowfat', 'loyal', 'luci', 'luck', 'lucki', 'luckili', 'lug', 'luggag', 'lump', 'lumpi', 'luna', 'lunch', 'lunchbox', 'lunchtim', 'lundberg', 'lung', 'lure', 'luscious', 'lush', 'luv', 'luxuri', 'luziann', 'lyche', 'mac', 'maca', 'macadamia', 'macaroni', 'macaroon', 'macchiato', 'machin', 'macrobiot', 'mad', 'madagascar', 'made', 'madhava', 'madhous', 'madra', 'mae', 'magazin', 'maggi', 'magic', 'magnesium', 'magnet', 'magnific', 'magnolia', 'mai', 'maid', 'mail', 'mailbox', 'main', 'mainstay', 'mainstream', 'maintain', 'mainten', 'major', 'make', 'maker', 'makeup', 'male', 'mall', 'mallomar', 'malt', 'maltes', 'malti', 'maltitol', 'maltodextrin', 'mama', 'maman', 'man', 'manag', 'mandarin', 'manganes', 'mango', 'manhattan', 'mani', 'manipul', 'manner', 'manual', 'manufactur', 'manuka', 'mapl', 'mar', 'marathon', 'marbl', 'march', 'marcona', 'margarin', 'margarita', 'margin', 'mari', 'marin', 'marinad', 'marinara', 'marjoram', 'mark', 'market', 'marketplac', 'marketspic', 'markup', 'marmalad', 'marmit', 'marri', 'marriag', 'marshal', 'marshmallow', 'marshmellow', 'mart', 'martini', 'maruchan', 'marvel', 'maryland', 'marzano', 'marzipan', 'masa', 'masala', 'mash', 'mask', 'mason', 'mass', 'massag', 'massiv', 'master', 'masterpiec', 'mastiff', 'mat', 'match', 'matcha', 'mate', 'materi', 'math', 'matter', 'matur', 'matzo', 'maui', 'max', 'maxim', 'maximum', 'maxwel', 'may', 'mayb', 'mayo', 'mayonais', 'mayonnais', 'mccann', 'mccormick', 'mcdonald', 'mcdougal', 'meal', 'meali', 'mealtim', 'mean', 'meant', 'meantim', 'meanwhil', 'measur', 'meat', 'meatbal', 'meati', 'meatless', 'meatloaf', 'mechan', 'med', 'media', 'medic', 'medicin', 'mediocr', 'mediterranean', 'medium', 'medley', 'meet', 'mega', 'meh', 'meijer', 'mein', 'melamin', 'meld', 'melissa', 'melitta', 'mellow', 'melon', 'melt', 'melti', 'member', 'membership', 'memor', 'memori', 'men', 'menadion', 'menstrual', 'mental', 'menthol', 'mention', 'menu', 'meow', 'merchandis', 'merchant', 'merci', 'mercuri', 'mere', 'meringu', 'merit', 'merrick', 'mesa', 'mesh', 'mesquit', 'mess', 'messag', 'messi', 'met', 'metabol', 'metal', 'method', 'meticul', 'mexican', 'mexico', 'meyer', 'miami', 'mice', 'michael', 'michigan', 'micro', 'microwav', 'mid', 'middl', 'midnight', 'midwest', 'might', 'mighti', 'mignon', 'migrain', 'mike', 'mikel', 'mild', 'milder', 'mile', 'mileag', 'militari', 'milk', 'milka', 'milkbon', 'milki', 'milkshak', 'mill', 'millet', 'milligram', 'million', 'millston', 'min', 'minc', 'mind', 'mindless', 'mine', 'miner', 'minestron', 'mingl', 'mini', 'miniatur', 'minim', 'minimum', 'minnesota', 'minor', 'mint', 'minti', 'minus', 'minut', 'miracl', 'miracul', 'miser', 'mislead', 'misnom', 'miso', 'miss', 'mission', 'mississippi', 'missouri', 'mist', 'mistak', 'mistaken', 'mite', 'mitig', 'mix', 'mixer', 'mixtur', 'mmm', 'mmmm', 'mmmmm', 'mmmmmm', 'mmmmmmm', 'mobil', 'mocha', 'mock', 'mode', 'model', 'moder', 'modern', 'modest', 'modif', 'modifi', 'moist', 'moisten', 'moister', 'moistur', 'moka', 'molar', 'molass', 'mold', 'moldi', 'mole', 'molecul', 'molli', 'mom', 'moment', 'mommi', 'mon', 'mond', 'monday', 'money', 'monin', 'monitor', 'monkey', 'monosodium', 'monounsatur', 'monster', 'montana', 'month', 'mood', 'moon', 'moreov', 'morn', 'moroccan', 'morsel', 'mortar', 'morton', 'mos', 'most', 'moth', 'mother', 'motion', 'motiv', 'motor', 'motto', 'mound', 'mount', 'mountain', 'mous', 'mouss', 'mouth', 'mouthfeel', 'move', 'movement', 'movi', 'mozzarella', 'mrs', 'msg', 'mtr', 'much', 'mud', 'muddi', 'muddl', 'mudslid', 'muesli', 'muffin', 'mug', 'muir', 'mull', 'multi', 'multigrain', 'multipl', 'multitud', 'multivitamin', 'mum', 'munch', 'munchi', 'murray', 'muscl', 'muscovado', 'mush', 'mushi', 'mushroom', 'music', 'muss', 'mussel', 'must', 'mustard', 'musti', 'mutt', 'myriad', 'myrtl', 'mysteri', 'naan', 'nabisco', 'nacho', 'nail', 'nake', 'namast', 'name', 'nana', 'nanci', 'nantucket', 'nap', 'napa', 'napkin', 'napl', 'narrow', 'nasal', 'nashvill', 'nasti', 'nation', 'nativ', 'natur', 'nausea', 'nauseat', 'nauseous', 'navi', 'navita', 'near', 'nearbi', 'nearest', 'neat', 'necco', 'necess', 'necessari', 'necessarili', 'neck', 'nectar', 'need', 'needl', 'needless', 'negat', 'neglect', 'neglig', 'neighbor', 'neighborhood', 'neither', 'nephew', 'nerd', 'nerv', 'nervous', 'nescaf', 'nesquik', 'nest', 'nestl', 'net', 'netherland', 'network', 'neutral', 'never', 'nevertheless', 'new', 'newer', 'newest', 'newli', 'newman', 'news', 'newspap', 'newton', 'next', 'niacin', 'nib', 'nibbl', 'nice', 'nicer', 'nicest', 'nich', 'nicknam', 'nido', 'niec', 'nifti', 'night', 'nightmar', 'nighttim', 'nine', 'nip', 'nippl', 'nirvana', 'nitrit', 'nitrogen', 'nobl', 'nobodi', 'nod', 'noir', 'nois', 'noisi', 'non', 'none', 'nonetheless', 'nonfat', 'nong', 'nonni', 'nonsens', 'noodl', 'noon', 'nope', 'nora', 'nordic', 'nori', 'norm', 'normal', 'north', 'northeast', 'northern', 'northwest', 'norwegian', 'nose', 'nostalg', 'nostalgia', 'notabl', 'notch', 'note', 'noth', 'nothin', 'notic', 'notif', 'notifi', 'notori', 'nougat', 'nourish', 'nov', 'novel', 'novelti', 'novemb', 'novic', 'nowaday', 'nowher', 'nuanc', 'nuclear', 'nugget', 'nuke', 'numb', 'number', 'numer', 'numi', 'nurs', 'nurseri', 'nut', 'nutella', 'nutiva', 'nutmeg', 'nutramigen', 'nutrasweet', 'nutric', 'nutrici', 'nutrient', 'nutrit', 'nutriti', 'nutritionist', 'nutro', 'nutti', 'nuttier', 'nyc', 'nylabon', 'nylon', 'oak', 'oat', 'oatmeal', 'obedi', 'oberto', 'obes', 'object', 'objection', 'oblig', 'obscur', 'observ', 'obsess', 'obtain', 'obvious', 'occas', 'occasion', 'occass', 'occassion', 'occupi', 'occur', 'occurr', 'ocean', 'octob', 'octopus', 'odd', 'odor', 'oeuvr', 'offend', 'offens', 'offer', 'offic', 'offici', 'offset', 'often', 'ohio', 'oil', 'oili', 'okay', 'okra', 'old', 'older', 'oldest', 'ole', 'olio', 'oliv', 'omaha', 'omega', 'omelet', 'omelett', 'omg', 'omit', 'omnivor', 'one', 'ongo', 'onion', 'onlin', 'onto', 'ooh', 'oolong', 'oomph', 'ooz', 'open', 'oper', 'opinion', 'opportun', 'oppos', 'opposit', 'oprah', 'opt', 'optim', 'optimum', 'option', 'oral', 'orang', 'orangey', 'orangina', 'orbit', 'orchard', 'order', 'orderd', 'ordinari', 'ordinarili', 'oregano', 'oregon', 'oreo', 'organ', 'organix', 'orgin', 'orgran', 'orient', 'origin', 'orijen', 'orlean', 'oro', 'orvill', 'orzo', 'oscar', 'other', 'otherwis', 'ouch', 'ought', 'ounc', 'out', 'outcom', 'outdat', 'outdoor', 'outer', 'outing', 'outlet', 'output', 'outrag', 'outsid', 'outstand', 'outta', 'outweigh', 'ovaltin', 'oven', 'over', 'overal', 'overbear', 'overboard', 'overcom', 'overcook', 'overdo', 'overdon', 'overdos', 'overeat', 'overflow', 'overindulg', 'overjoy', 'overkil', 'overload', 'overlook', 'overnight', 'overpow', 'overpr', 'oversea', 'oversteep', 'overton', 'overweight', 'overwhelm', 'owe', 'own', 'owner', 'oxid', 'oxygen', 'oyster', 'oz', 'pace', 'pacif', 'pack', 'packag', 'packet', 'pad', 'paella', 'page', 'paid', 'pail', 'pain', 'painless', 'paint', 'pair', 'pak', 'pal', 'palat', 'pale', 'palett', 'pallet', 'palm', 'pam', 'pamela', 'pamper', 'pamphlet', 'pan', 'panang', 'pancak', 'panda', 'paneer', 'panel', 'pang', 'panic', 'panick', 'panko', 'pant', 'pantri', 'papaya', 'paper', 'paperboard', 'papillon', 'paprika', 'par', 'parchment', 'parent', 'pari', 'parisian', 'park', 'parm', 'parmesan', 'parmigiano', 'parsley', 'part', 'partak', 'parti', 'partial', 'particip', 'particl', 'particular', 'partner', 'parv', 'pass', 'passabl', 'passion', 'passov', 'past', 'pasta', 'pasteur', 'pasti', 'pastri', 'pat', 'patak', 'patch', 'pate', 'patent', 'path', 'patienc', 'patient', 'patio', 'patron', 'pattern', 'patti', 'paul', 'paw', 'pay', 'payday', 'pea', 'peac', 'peach', 'peachi', 'peak', 'peanut', 'peanutti', 'pear', 'pearl', 'pebbl', 'pecan', 'pectin', 'pediatr', 'pediatrician', 'pedigre', 'pee', 'peel', 'peet', 'peic', 'peko', 'pellegrino', 'pellet', 'pencil', 'penetr', 'penn', 'penni', 'pennsylvania', 'peopl', 'pep', 'pepper', 'peppercorn', 'pepperi', 'peppermint', 'pepperoni', 'pepsi', 'per', 'perceiv', 'percent', 'percentag', 'percept', 'percol', 'perfect', 'perfor', 'perform', 'perfum', 'perhap', 'period', 'perish', 'perk', 'perman', 'permeat', 'permiss', 'permit', 'pero', 'perrier', 'persian', 'persist', 'person', 'perspect', 'peru', 'peski', 'pest', 'pesticid', 'pestl', 'pesto', 'pet', 'petal', 'petco', 'pete', 'peter', 'peterson', 'petit', 'petsmart', 'pez', 'pharmaci', 'pharmacist', 'phase', 'phenomen', 'pheromon', 'philadelphia', 'philip', 'philli', 'philosophi', 'pho', 'phoenix', 'phone', 'phosphat', 'phosphor', 'phosphorus', 'photo', 'phrase', 'physic', 'physician', 'picant', 'pick', 'picki', 'pickiest', 'pickl', 'pickup', 'picnic', 'pico', 'pictur', 'pie', 'piec', 'pierc', 'pig', 'pike', 'pilaf', 'pile', 'pill', 'pillow', 'pillsburi', 'pilon', 'pin', 'pina', 'pinch', 'pine', 'pineappl', 'pink', 'pint', 'pinto', 'pipe', 'piquant', 'pirat', 'piss', 'pistachio', 'pit', 'pita', 'pitbul', 'pitch', 'pitcher', 'piti', 'pittsburgh', 'pizza', 'pkg', 'place', 'placebo', 'plagu', 'plain', 'plan', 'plane', 'planet', 'plant', 'plantat', 'planter', 'plaqu', 'plastic', 'plate', 'platinum', 'platter', 'play', 'pleas', 'pleasant', 'pleasent', 'pleaser', 'pleasur', 'plenti', 'plethora', 'pliabl', 'ploy', 'pluck', 'plug', 'plum', 'plump', 'plung', 'plunger', 'plus', 'pms', 'poach', 'pocket', 'pocketbook', 'pocki', 'pod', 'point', 'poison', 'poke', 'polar', 'polenta', 'poli', 'polic', 'polici', 'polish', 'polit', 'pollen', 'pollut', 'pollux', 'polyphenol', 'pom', 'pomegran', 'pomegranit', 'pomeranian', 'pond', 'ponder', 'poo', 'pooch', 'poodl', 'pool', 'poop', 'poor', 'pop', 'popchip', 'popcorn', 'popper', 'poppi', 'poptart', 'popul', 'popular', 'porch', 'porcini', 'pore', 'pork', 'porridg', 'port', 'portabl', 'portion', 'portland', 'portug', 'pose', 'posit', 'possess', 'possibl', 'post', 'postag', 'postal', 'poster', 'postum', 'pot', 'potassium', 'potato', 'potenc', 'potent', 'potenti', 'potion', 'potluck', 'potpourri', 'potti', 'pouch', 'poultri', 'pounc', 'pound', 'pounder', 'pour', 'powder', 'powderi', 'power', 'powerbar', 'practic', 'practition', 'prais', 'pralin', 'pray', 'prayer', 'pre', 'preced', 'precious', 'precis', 'precook', 'predict', 'predomin', 'prefect', 'prefer', 'pregnanc', 'pregnant', 'preheat', 'premad', 'premier', 'premium', 'premix', 'prep', 'prepackag', 'prepar', 'preschool', 'prescrib', 'prescript', 'presenc', 'present', 'preserv', 'presid', 'press', 'pressur', 'presto', 'presum', 'pretend', 'pretti', 'pretzel', 'preval', 'prevent', 'previous', 'pri', 'price', 'priceless', 'pricey', 'prici', 'pricier', 'prick', 'pride', 'primal', 'primari', 'primarili', 'prime', 'princ', 'princess', 'principl', 'pringl', 'print', 'prior', 'prioriti', 'pristin', 'privat', 'prize', 'pro', 'prob', 'probabl', 'probar', 'probiot', 'problem', 'problemat', 'procedur', 'proceed', 'process', 'processor', 'proclaim', 'produc', 'product', 'profession', 'profil', 'profit', 'program', 'progress', 'progresso', 'prohibit', 'project', 'prolong', 'promin', 'promis', 'promo', 'promot', 'prompt', 'prone', 'pronounc', 'proof', 'prop', 'proper', 'properti', 'proport', 'proprietari', 'pros', 'protect', 'protein', 'protien', 'proud', 'prove', 'proven', 'provenc', 'provid', 'provinc', 'prune', 'psycholog', 'pub', 'public', 'publish', 'publix', 'puchas', 'puck', 'pucker', 'pud', 'puerh', 'puerto', 'puf', 'puff', 'puffi', 'pug', 'puke', 'pull', 'pulp', 'puls', 'pulver', 'pump', 'pumpkin', 'pun', 'punch', 'punctur', 'pungent', 'punish', 'pup', 'puppi', 'purchas', 'pure', 'purest', 'purifi', 'purina', 'purist', 'puriti', 'purpl', 'purport', 'purpos', 'purr', 'purs', 'purveyor', 'push', 'put', 'puzzl', 'pyramid', 'pyrex', 'pyridoxin', 'quaker', 'qualifi', 'qualita', 'qualiti', 'quaniti', 'quantiti', 'quart', 'quarter', 'queasi', 'queen', 'quench', 'quencher', 'quesadilla', 'queso', 'quest', 'question', 'quibbl', 'quick', 'quicker', 'quicki', 'quiet', 'quik', 'quinoa', 'quirki', 'quit', 'quot', 'rabbit', 'raccoon', 'race', 'rack', 'radiat', 'radic', 'radish', 'rage', 'raid', 'rain', 'rainbow', 'rainforest', 'raini', 'rais', 'raisen', 'raisin', 'raison', 'ralph', 'ramen', 'ramun', 'ramyun', 'ran', 'ranch', 'rancher', 'rancid', 'random', 'rang', 'rank', 'rant', 'rapid', 'rare', 'rasberri', 'rash', 'raspberri', 'rat', 'rate', 'rather', 'ratio', 'ration', 'rattl', 'rave', 'raven', 'ravioli', 'raw', 'rawhid', 'ray', 'rda', 'reach', 'react', 'reaction', 'read', 'reader', 'readi', 'readili', 'real', 'reali', 'realist', 'realiti', 'realiz', 'realli', 'rear', 'reason', 'reassur', 'rebecca', 'rec', 'recal', 'reccomend', 'reccommend', 'receip', 'receipt', 'receiv', 'recent', 'recept', 'reciev', 'recip', 'recipi', 'reclos', 'recogn', 'recognit', 'recogniz', 'recom', 'recomend', 'recommen', 'recommend', 'reconsid', 'reconstitut', 'record', 'recov', 'recoveri', 'recreat', 'rectangular', 'rectifi', 'recycl', 'red', 'redbul', 'reddish', 'redeem', 'redenbach', 'reduc', 'reduct', 'reed', 'rees', 'refer', 'refil', 'refin', 'reflect', 'reflux', 'reformul', 'refresh', 'refri', 'refridger', 'refriger', 'refund', 'refus', 'reg', 'regard', 'regardless', 'reggi', 'reggiano', 'regimen', 'region', 'regist', 'regret', 'regul', 'regular', 'reheat', 'rehydr', 'reimburs', 'reincarn', 'reinforc', 'reject', 'rejoic', 'rejuven', 'relat', 'relationship', 'relax', 'releas', 'reli', 'reliabl', 'relief', 'reliev', 'religi', 'relish', 'reloc', 'reluct', 'remain', 'remaind', 'remark', 'remedi', 'rememb', 'remind', 'reminisc', 'remot', 'remov', 'renal', 'renam', 'render', 'renew', 'renown', 'reorder', 'rep', 'repackag', 'repair', 'repeat', 'repel', 'replac', 'replenish', 'repli', 'replic', 'report', 'repres', 'republ', 'repuls', 'repurchas', 'reput', 'request', 'requir', 'rescu', 'reseal', 'research', 'resembl', 'reserv', 'reservoir', 'reset', 'resid', 'residu', 'resign', 'resist', 'resolv', 'reson', 'resort', 'resourc', 'respect', 'respiratori', 'respond', 'respons', 'rest', 'restaur', 'restock', 'restor', 'restrict', 'restur', 'result', 'resum', 'retail', 'retain', 'retent', 'rethink', 'retir', 'retriev', 'retro', 'return', 'reus', 'reusabl', 'reveal', 'revel', 'reveng', 'revers', 'review', 'revis', 'reviv', 'revolt', 'revolut', 'reward', 'rhubarb', 'rib', 'ribbon', 'riboflavin', 'rica', 'rican', 'rice', 'riceselect', 'rich', 'richard', 'richer', 'richest', 'rid', 'ride', 'ridg', 'ridicul', 'right', 'rim', 'rind', 'ring', 'rins', 'rio', 'rip', 'ripe', 'ripen', 'ripoff', 'rise', 'risen', 'rishi', 'risk', 'risotto', 'rite', 'ritter', 'ritual', 'ritz', 'rival', 'river', 'roach', 'road', 'roast', 'roaster', 'robert', 'robust', 'robusta', 'roca', 'rock', 'rocket', 'rocki', 'rockstar', 'rod', 'roland', 'role', 'roll', 'roma', 'romain', 'roman', 'romano', 'romant', 'rome', 'roni', 'roof', 'rooibo', 'room', 'roommat', 'rooster', 'root', 'rootbeer', 'rope', 'rose', 'rosebud', 'rosehip', 'rosemari', 'ross', 'rossa', 'rot', 'rotat', 'rotini', 'rotten', 'rotti', 'rough', 'round', 'rout', 'routin', 'row', 'royal', 'rub', 'rubber', 'rubberi', 'rubi', 'rude', 'rug', 'ruin', 'rule', 'rum', 'rumbl', 'run', 'runner', 'runni', 'rural', 'rush', 'rusk', 'russel', 'russian', 'ruth', 'ryder', 'rye', 'ryvita', 'saccharin', 'sachet', 'sack', 'saco', 'sacrif', 'sacrific', 'sad', 'sadden', 'safe', 'safer', 'safeti', 'safeway', 'safflow', 'saffron', 'sage', 'sahal', 'said', 'saint', 'sake', 'salad', 'salami', 'sale', 'saliv', 'saliva', 'salmon', 'salsa', 'salt', 'salti', 'saltier', 'saltin', 'salvag', 'sam', 'sampl', 'sampler', 'san', 'sand', 'sandi', 'sandwich', 'santa', 'sardin', 'sarsaparilla', 'sat', 'satiat', 'satifi', 'satisfact', 'satisfactori', 'satisfi', 'satur', 'saturday', 'sauc', 'saucepan', 'sauci', 'saus', 'sausag', 'saut', 'saute', 'save', 'saver', 'savior', 'savor', 'savori', 'saw', 'sawdust', 'say', 'scale', 'scallion', 'scallop', 'scam', 'scandinavian', 'scant', 'scar', 'scarc', 'scare', 'scarf', 'scari', 'scarpetta', 'scatter', 'scene', 'scent', 'sceptic', 'schar', 'schedul', 'schnauzer', 'school', 'scienc', 'scientif', 'scientist', 'scissor', 'scone', 'scoop', 'scorch', 'score', 'scotch', 'scotland', 'scotti', 'scottish', 'scour', 'scout', 'scovill', 'scrambl', 'scrap', 'scrape', 'scratch', 'scream', 'screen', 'screw', 'scrub', 'scrumptious', 'sea', 'seafood', 'seal', 'seam', 'sear', 'search', 'season', 'seat', 'seattl', 'seawe', 'sec', 'second', 'secondari', 'secret', 'section', 'secur', 'sediment', 'seduct', 'see', 'seed', 'seek', 'seem', 'seen', 'seep', 'segment', 'seitan', 'seizur', 'sel', 'seldom', 'select', 'self', 'sell', 'seller', 'seltzer', 'semi', 'semolina', 'sencha', 'send', 'senior', 'sens', 'sensat', 'senseo', 'sensibl', 'sensit', 'sensual', 'sent', 'sentenc', 'sentiment', 'separ', 'seper', 'septemb', 'serendip', 'seri', 'serious', 'serrano', 'serv', 'server', 'servic', 'sesam', 'session', 'set', 'settl', 'setup', 'seven', 'seventh', 'sever', 'sex', 'shade', 'shake', 'shaken', 'shaker', 'shall', 'shallot', 'shallow', 'shame', 'shampoo', 'shape', 'shard', 'share', 'sharp', 'sharper', 'shatter', 'shave', 'shed', 'sheen', 'sheep', 'sheepdog', 'sheer', 'sheet', 'shelf', 'shell', 'shellfish', 'shelter', 'shelti', 'shelv', 'shepard', 'shepherd', 'sherri', 'shi', 'shift', 'shih', 'shim', 'shin', 'shine', 'shini', 'shinier', 'ship', 'shipment', 'shipper', 'shippment', 'shirataki', 'shirt', 'shock', 'shoe', 'shook', 'shoot', 'shop', 'shopp', 'shopper', 'short', 'shortag', 'shortbread', 'shortcak', 'shorten', 'shorter', 'shot', 'shoulder', 'shove', 'shovel', 'show', 'showcas', 'shower', 'shown', 'shred', 'shrimp', 'shrink', 'shrub', 'shudder', 'shut', 'siames', 'siberian', 'sibl', 'sicilian', 'sick', 'sicken', 'side', 'sift', 'sigh', 'sight', 'sign', 'signal', 'signatur', 'signific', 'silent', 'silicon', 'silk', 'silken', 'silki', 'silli', 'silver', 'similac', 'similar', 'similiar', 'simmer', 'simpl', 'simpler', 'simplest', 'simpli', 'simplic', 'simplifi', 'simul', 'simultan', 'sin', 'sinc', 'sincer', 'sing', 'singer', 'singl', 'sink', 'sinus', 'sip', 'sir', 'sirloin', 'sister', 'sit', 'site', 'situat', 'six', 'sixth', 'sixti', 'size', 'skeptic', 'skill', 'skillet', 'skim', 'skimp', 'skimpi', 'skin', 'skinless', 'skinner', 'skinni', 'skip', 'skippi', 'skittl', 'sky', 'slab', 'slam', 'slap', 'slather', 'slave', 'sleep', 'sleepi', 'sleepytim', 'slept', 'slew', 'slice', 'slick', 'slide', 'slight', 'slightest', 'slim', 'slimi', 'slip', 'slipperi', 'slit', 'sliver', 'sloppi', 'slosh', 'slot', 'slow', 'slower', 'slowli', 'sludg', 'slurp', 'slushi', 'smack', 'small', 'smaller', 'smallest', 'smallish', 'smart', 'smarter', 'smash', 'smear', 'smell', 'smelli', 'smile', 'smith', 'smoke', 'smokehous', 'smoker', 'smokey', 'smoki', 'smoosh', 'smooth', 'smoother', 'smoothest', 'smoothi', 'smother', 'smucker', 'snack', 'snacker', 'snag', 'snail', 'snake', 'snap', 'snapea', 'snapper', 'snappi', 'snappl', 'snatch', 'sneak', 'sneez', 'snicker', 'snickerdoodl', 'snif', 'sniff', 'snob', 'snow', 'snub', 'snyder', 'soak', 'soap', 'soapi', 'soba', 'soccer', 'social', 'societi', 'sock', 'soda', 'sodium', 'sofa', 'soft', 'soften', 'softer', 'softest', 'soggi', 'soil', 'sold', 'soldier', 'sole', 'solid', 'solidifi', 'solo', 'solubl', 'solut', 'solv', 'solvent', 'somebodi', 'someday', 'somehow', 'someon', 'someplac', 'someth', 'sometim', 'somewhat', 'somewher', 'somth', 'son', 'song', 'sonoma', 'soo', 'soon', 'sooner', 'sooo', 'soooo', 'sooooo', 'soooooo', 'sooooooo', 'soooooooo', 'sooth', 'sophist', 'sorbat', 'sorbet', 'sorbitol', 'sore', 'sorghum', 'sorri', 'sort', 'sorta', 'souchong', 'sought', 'soul', 'sound', 'soup', 'soupi', 'sour', 'sourc', 'sourdough', 'south', 'southeast', 'southern', 'southwest', 'southwestern', 'soy', 'soybean', 'soymilk', 'soynut', 'spa', 'space', 'spagetti', 'spaghetti', 'spain', 'spam', 'span', 'spaniel', 'spanish', 'spare', 'spark', 'sparkl', 'spars', 'spatula', 'speak', 'spearmint', 'spec', 'speci', 'special', 'specialist', 'specialti', 'specif', 'specifi', 'speck', 'spectacular', 'spectrum', 'speed', 'speedi', 'spell', 'spelt', 'spend', 'spendi', 'spent', 'spice', 'spicey', 'spici', 'spicier', 'spider', 'spike', 'spill', 'spillag', 'spin', 'spinach', 'spiral', 'spirit', 'spirulina', 'spit', 'spite', 'splash', 'splatter', 'splenda', 'splendid', 'splinter', 'split', 'splurg', 'spoil', 'spoilag', 'spoke', 'spong', 'spongi', 'spontan', 'spoon', 'sporad', 'sport', 'spot', 'spous', 'spout', 'spray', 'spread', 'spreadabl', 'spri', 'spring', 'sprinkl', 'sprite', 'spritz', 'spritzer', 'sprout', 'sprouter', 'sprue', 'squar', 'squash', 'squeak', 'squeez', 'squid', 'squirrel', 'squirt', 'squish', 'squishi', 'sri', 'sriracha', 'stabil', 'stabl', 'staci', 'stack', 'staff', 'stage', 'stain', 'stainless', 'stair', 'stake', 'stale', 'stalk', 'stamp', 'stand', 'standard', 'standbi', 'standout', 'standpoint', 'stapl', 'star', 'starbuck', 'starburst', 'starch', 'starchi', 'stare', 'starkist', 'start', 'starter', 'startl', 'starv', 'stash', 'stat', 'state', 'statement', 'statin', 'station', 'status', 'stave', 'stay', 'steadi', 'steak', 'steal', 'steam', 'steamer', 'steami', 'steel', 'steep', 'steer', 'stellar', 'stem', 'step', 'stephen', 'steril', 'steroid', 'stevia', 'stevita', 'stew', 'stewart', 'stick', 'sticker', 'sticki', 'stiff', 'still', 'stimul', 'sting', 'stink', 'stinki', 'stir', 'stix', 'stock', 'stockpil', 'stole', 'stomach', 'stone', 'stonewal', 'stood', 'stool', 'stop', 'stopper', 'storag', 'store', 'stori', 'storm', 'stout', 'stove', 'stovetop', 'straight', 'straighten', 'straightforward', 'strain', 'strainer', 'strand', 'strang', 'stranger', 'strategi', 'straw', 'strawberri', 'stray', 'stream', 'street', 'strength', 'strengthen', 'stress', 'stretch', 'strict', 'strike', 'string', 'stringi', 'strip', 'stripe', 'stroganoff', 'stroke', 'stroll', 'strong', 'stronger', 'strongest', 'struck', 'structur', 'struggl', 'stubborn', 'stuck', 'student', 'studi', 'stuf', 'stuff', 'stuffer', 'stumbl', 'stun', 'stupid', 'sturdi', 'sturdier', 'style', 'stylish', 'styrofoam', 'sub', 'subdu', 'subject', 'sublim', 'submit', 'subscrib', 'subscript', 'subsequ', 'subsid', 'subsitut', 'substanc', 'substanti', 'substitu', 'substitut', 'subt', 'subtl', 'subtleti', 'subtract', 'suburb', 'succeed', 'success', 'succul', 'sucess', 'suck', 'sucker', 'sucralos', 'sucros', 'sudden', 'sue', 'suffer', 'suffic', 'suffici', 'sugar', 'sugarfre', 'sugari', 'sugarless', 'suger', 'suggest', 'suit', 'suitabl', 'suitcas', 'sulfat', 'sulfit', 'sulfur', 'sum', 'sumatra', 'sumatran', 'summari', 'summer', 'summertim', 'sun', 'sunbutt', 'sunda', 'sunday', 'sundri', 'sunflow', 'sunkist', 'sunlight', 'sunmaid', 'sunni', 'sunris', 'sunset', 'sunshin', 'super', 'superb', 'superfood', 'superior', 'supermarket', 'supersav', 'superstor', 'supervis', 'supper', 'suppl', 'supplement', 'suppli', 'supplier', 'suppliment', 'support', 'suppos', 'suppress', 'suprem', 'supris', 'sure', 'surf', 'surfac', 'surgeri', 'surpass', 'surpris', 'surpriz', 'surround', 'surviv', 'sushi', 'suspect', 'suspici', 'suspicion', 'sustain', 'swallow', 'swanson', 'swap', 'swear', 'sweat', 'swedish', 'sweep', 'sweet', 'sweeten', 'sweeter', 'sweetest', 'sweetleaf', 'sweetner', 'swell', 'swheat', 'swift', 'swig', 'swill', 'swim', 'swing', 'swirl', 'swish', 'swiss', 'switch', 'switzerland', 'sworn', 'sylvia', 'symbol', 'symptom', 'syndrom', 'synthet', 'syrup', 'syrupi', 'system', 'tab', 'tabasco', 'tabbi', 'tabl', 'tablespoon', 'tablet', 'taco', 'tact', 'tad', 'taffi', 'tag', 'tahini', 'tai', 'taibi', 'tail', 'tailor', 'taint', 'taiwan', 'take', 'taken', 'tale', 'talent', 'talk', 'tall', 'tam', 'tamal', 'tamari', 'tamarind', 'tame', 'tamp', 'tamper', 'tan', 'tandoori', 'tang', 'tangerin', 'tangi', 'tango', 'tank', 'tannic', 'tannin', 'tantal', 'tao', 'tap', 'tape', 'tapioca', 'target', 'tart', 'tartar', 'tarter', 'tase', 'tasi', 'task', 'tassimo', 'tast', 'tastebud', 'tasteless', 'taster', 'tastey', 'tasti', 'tastier', 'tastiest', 'taught', 'taurin', 'tax', 'taylor', 'tazo', 'tbs', 'tbsp', 'tea', 'teabag', 'teach', 'teacher', 'teacup', 'team', 'teapot', 'tear', 'teas', 'teasan', 'teaspoon', 'teavana', 'tech', 'technic', 'techniqu', 'technolog', 'teddi', 'tedious', 'teeccino', 'teen', 'teenag', 'teeni', 'teeth', 'teff', 'teh', 'telephon', 'televis', 'tell', 'temp', 'temper', 'temperatur', 'templ', 'temporari', 'tempt', 'temptat', 'ten', 'tend', 'tendenc', 'tender', 'tenderloin', 'tendon', 'tennesse', 'tenni', 'tension', 'tequila', 'teriyaki', 'term', 'terra', 'terribl', 'terrier', 'terrif', 'territori', 'test', 'tester', 'tetley', 'tetra', 'texa', 'texmati', 'text', 'textur', 'thai', 'thailand', 'thank', 'thanksgiv', 'that', 'thaw', 'theater', 'theatr', 'theme', 'theori', 'ther', 'therapi', 'there', 'thereaft', 'therebi', 'therefor', 'thermo', 'thermomet', 'these', 'theyr', 'thiamin', 'thick', 'thicken', 'thicker', 'thier', 'thigh', 'thin', 'thing', 'think', 'thinner', 'third', 'thirst', 'thirsti', 'thirti', 'thistl', 'tho', 'thoma', 'thorough', 'though', 'thought', 'thousand', 'thread', 'threat', 'threaten', 'three', 'threw', 'thrill', 'thrive', 'throat', 'throughout', 'throw', 'thrown', 'thru', 'thumb', 'thunder', 'thursday', 'thus', 'thyme', 'thyroid', 'tick', 'ticket', 'tickl', 'tidbit', 'tide', 'tidi', 'tie', 'tiger', 'tight', 'tikka', 'til', 'till', 'tim', 'time', 'timeless', 'timer', 'timothi', 'tin', 'ting', 'tingl', 'tini', 'tiniest', 'tinkyada', 'tinni', 'tint', 'tip', 'tiramisu', 'tire', 'tissu', 'titl', 'tlc', 'toast', 'toaster', 'toasti', 'tobacco', 'tobasco', 'tocopherol', 'today', 'toddler', 'toe', 'toffe', 'tofu', 'togeth', 'toilet', 'told', 'toler', 'toll', 'tom', 'tomato', 'tommi', 'tomorrow', 'ton', 'tone', 'tongu', 'toni', 'tonic', 'tonight', 'took', 'tool', 'tooth', 'toothbrush', 'toothpast', 'toothpick', 'tootsi', 'top', 'topic', 'topper', 'torani', 'tore', 'torn', 'torron', 'tortellini', 'tortilla', 'tortuga', 'tortur', 'toss', 'tot', 'total', 'tote', 'touch', 'tough', 'tougher', 'toung', 'tour', 'tourangell', 'tourist', 'tout', 'toward', 'towel', 'tower', 'town', 'toxic', 'toxin', 'toy', 'trace', 'track', 'tract', 'trade', 'trader', 'tradit', 'traffic', 'trail', 'trailer', 'train', 'trainer', 'tran', 'tranquil', 'transact', 'transfat', 'transfer', 'transform', 'transit', 'translat', 'transpar', 'transplant', 'transport', 'trap', 'trash', 'travel', 'travers', 'tray', 'treacl', 'treasur', 'treat', 'treatment', 'tree', 'trek', 'tremend', 'trend', 'trendi', 'tri', 'trial', 'tribut', 'trick', 'tricki', 'trident', 'trigger', 'triglycerid', 'trim', 'trio', 'trip', 'tripl', 'triscuit', 'troop', 'tropic', 'troubl', 'truck', 'true', 'trueli', 'truffl', 'truli', 'trunk', 'trust', 'truth', 'truvia', 'tsp', 'tub', 'tube', 'tuck', 'tucson', 'tuesday', 'tug', 'tulli', 'tulsi', 'tumbler', 'tumer', 'tummi', 'tuna', 'tune', 'tunnel', 'tupperwar', 'turbinado', 'turkey', 'turkish', 'turmer', 'turn', 'turtl', 'tuscan', 'tuscani', 'twang', 'tweak', 'twelv', 'twenti', 'twice', 'twig', 'twin', 'twine', 'twist', 'twizzler', 'two', 'type', 'typic', 'tzu', 'ubiquit', 'udi', 'udon', 'ugh', 'ugli', 'ulcer', 'ultim', 'ultra', 'unabl', 'unaccept', 'unadulter', 'unapp', 'unappet', 'unavail', 'unawar', 'unbear', 'unbeat', 'unbeliev', 'unbleach', 'unbroken', 'uncertain', 'unchang', 'uncl', 'unclear', 'uncomfort', 'uncommon', 'uncook', 'uncov', 'uncut', 'undamag', 'under', 'undercook', 'undergo', 'underneath', 'underst', 'understand', 'understat', 'understood', 'underton', 'underwhelm', 'undesir', 'undoubt', 'undrink', 'uneven', 'unexpect', 'unfair', 'unfamiliar', 'unfilt', 'unflavor', 'unfold', 'unfortun', 'unfortunat', 'unfrost', 'unfurl', 'unhappi', 'unhealthi', 'uniform', 'unimpress', 'uniniti', 'union', 'uniqu', 'unit', 'univers', 'unknown', 'unless', 'unlik', 'unnatur', 'unnecessari', 'unopen', 'unpalat', 'unpleas', 'unpop', 'unprocess', 'unreason', 'unrefin', 'unsaf', 'unsalt', 'unsatisfi', 'unsatur', 'unscrew', 'unseal', 'unsuccess', 'unsur', 'unsurpass', 'unsuspect', 'unsweeten', 'until', 'unus', 'unusu', 'unwant', 'unwind', 'unwrap', 'up', 'upcom', 'updat', 'upgrad', 'uplift', 'upon', 'upper', 'upright', 'upscal', 'upset', 'upsid', 'upstat', 'upward', 'urban', 'urg', 'urin', 'urinari', 'usa', 'usabl', 'usag', 'usda', 'use', 'useless', 'user', 'usp', 'usual', 'utah', 'utensil', 'uti', 'util', 'utter', 'vacat', 'vacuum', 'vagu', 'vain', 'valentin', 'valerian', 'valid', 'valley', 'valu', 'valuabl', 'van', 'vanilla', 'vanish', 'vari', 'variabl', 'varianc', 'variant', 'variat', 'variet', 'varieti', 'various', 'variti', 'vase', 'vast', 'veg', 'vega', 'vegan', 'vegancompass', 'vege', 'vegemit', 'veget', 'vegetarian', 'veggi', 'vegi', 'vehicl', 'velveeta', 'velvet', 'velveti', 'vend', 'vender', 'vendor', 'venison', 'vent', 'ventur', 'verbena', 'verdict', 'verifi', 'vermont', 'verona', 'vers', 'versatil', 'version', 'versitil', 'versus', 'vertic', 'vessel', 'vet', 'veterinari', 'veterinarian', 'via', 'viabl', 'vibrant', 'vice', 'victim', 'victor', 'victoria', 'video', 'vienna', 'vietnam', 'vietnames', 'view', 'vigor', 'vile', 'villag', 'vinaigrett', 'vine', 'vinegar', 'vinegari', 'vino', 'vintag', 'violent', 'violet', 'virgin', 'virginia', 'virtual', 'virus', 'viscos', 'visibl', 'vision', 'visit', 'visitor', 'visual', 'vit', 'vita', 'vitacoco', 'vital', 'vitamin', 'vivid', 'vodka', 'voic', 'void', 'voila', 'volcan', 'volum', 'volunt', 'vomit', 'von', 'vote', 'vouch', 'waaaay', 'wabash', 'wafer', 'waffl', 'waft', 'wag', 'wage', 'wagon', 'waist', 'waistlin', 'wait', 'waiter', 'wakam', 'wake', 'wal', 'walden', 'wale', 'walgreen', 'walk', 'walker', 'wall', 'wallet', 'wallop', 'walmart', 'walnut', 'wand', 'wander', 'wanna', 'want', 'war', 'ward', 'ware', 'warehous', 'warhead', 'wari', 'warm', 'warmer', 'warmth', 'warn', 'warrant', 'wasa', 'wasabi', 'wash', 'washington', 'wasnt', 'wast', 'watch', 'watcher', 'water', 'wateri', 'watermelon', 'watt', 'wave', 'wax', 'waxi', 'way', 'weak', 'weaken', 'weaker', 'wean', 'weapon', 'wear', 'weather', 'web', 'websit', 'wed', 'wedderspoon', 'wedg', 'wednesday', 'wee', 'weed', 'week', 'weekday', 'weekend', 'wegman', 'weigh', 'weight', 'weird', 'welch', 'welcom', 'well', 'welsh', 'went', 'werther', 'weruva', 'west', 'western', 'westi', 'wet', 'whack', 'what', 'whatev', 'whatnot', 'whatsoev', 'wheat', 'wheatena', 'wheati', 'wheel', 'whenev', 'wherea', 'wherev', 'whether', 'whey', 'whichev', 'whiff', 'whilst', 'whim', 'whine', 'whip', 'whirl', 'whirley', 'whisk', 'whiska', 'whisker', 'whiskey', 'whisper', 'white', 'whitefish', 'whoever', 'whole', 'wholefood', 'wholeheart', 'wholesal', 'wholesom', 'whop', 'whopper', 'whose', 'wick', 'wide', 'wider', 'wierd', 'wife', 'wikipedia', 'wild', 'wilder', 'will', 'willi', 'william', 'willpow', 'wilt', 'wimp', 'wimpi', 'win', 'wind', 'window', 'wine', 'wineri', 'wing', 'winner', 'winona', 'winter', 'wintergreen', 'wipe', 'wire', 'wisconsin', 'wisdom', 'wise', 'wish', 'wisk', 'wit', 'withdraw', 'wither', 'within', 'without', 'withstand', 'woke', 'wolf', 'wolfgang', 'woman', 'women', 'wonder', 'wonderful', 'wonka', 'wont', 'wood', 'wooden', 'woodi', 'woodsi', 'worcestershir', 'word', 'wore', 'work', 'workday', 'worker', 'workout', 'world', 'worldwid', 'worm', 'worn', 'worri', 'wors', 'worst', 'worth', 'worthi', 'worthington', 'worthless', 'worthwhil', 'would', 'wouldnt', 'wound', 'wow', 'wrap', 'wrapper', 'wrestl', 'wretch', 'wrigley', 'wrinkl', 'write', 'written', 'wrong', 'wrote', 'www', 'wysong', 'xanthan', 'xmas', 'xylichew', 'xylitol', 'yahoo', 'yam', 'yamamotoyama', 'yard', 'yay', 'yea', 'yeah', 'year', 'yearn', 'yeast', 'yell', 'yellow', 'yellowfin', 'yellowish', 'yep', 'yerba', 'yes', 'yesterday', 'yet', 'yield', 'yike', 'yoga', 'yoghurt', 'yogi', 'yogourmet', 'yogurt', 'yolk', 'york', 'yorker', 'yorki', 'yorkshir', 'young', 'younger', 'youngest', 'youngster', 'youth', 'youtub', 'yrs', 'yuban', 'yuck', 'yucki', 'yuk', 'yum', 'yumm', 'yummi', 'yummier', 'yummiest', 'yummm', 'yummyearth', 'yunnan', 'yup', 'zap', 'zatarain', 'zealand', 'zen', 'zero', 'zest', 'zesti', 'zevia', 'zhena', 'zico', 'ziggi', 'zinc', 'zing', 'zinger', 'zip', 'ziploc', 'ziplock', 'zipper', 'zippi', 'ziti', 'zoe', 'zojirushi', 'zone', 'zucchini', 'zuke']\n"
          ],
          "name": "stdout"
        },
        {
          "output_type": "execute_result",
          "data": {
            "text/plain": [
              "[((-7.748687485272045, 'disappoint'), (10.339448027879326, 'great')),\n",
              " ((-7.622673795053763, 'worst'), (8.486116395757557, 'best')),\n",
              " ((-5.9005000634955875, 'terribl'), (7.68466693659498, 'delici')),\n",
              " ((-5.579915691392207, 'horribl'), (7.3817152671250845, 'love')),\n",
              " ((-5.295137172971102, 'aw'), (6.762914343760864, 'perfect')),\n",
              " ((-5.040232601297126, 'bland'), (6.3577495135318225, 'excel')),\n",
              " ((-4.9987251867463165, 'return'), (5.1498910605369135, 'nice')),\n",
              " ((-4.8335094257523865, 'stale'), (5.148119141672898, 'favorit')),\n",
              " ((-4.772733337902024, 'threw'), (5.074128994392021, 'amaz')),\n",
              " ((-4.675868642865835, 'tasteless'), (5.068752716930844, 'good')),\n",
              " ((-4.530295948623052, 'unfortun'), (5.023669033728019, 'wonder')),\n",
              " ((-4.205660835924637, 'weak'), (4.240576065719856, 'addict')),\n",
              " ((-4.173129569188836, 'money'), (4.089643153159445, 'yummi')),\n",
              " ((-4.120068588911006, 'wast'), (3.8270174695946784, 'awesom')),\n",
              " ((-3.8335856171096605, 'wors'), (3.7711143383792556, 'alway')),\n",
              " ((-3.760560772946229, 'disgust'), (3.7388272339085047, 'tasti')),\n",
              " ((-3.64913321087239, 'bad'), (3.7093388092836515, 'beat')),\n",
              " ((-3.520109301365229, 'stuck'), (3.5431488028219014, 'find')),\n",
              " ((-3.512229111711405, 'unpleas'), (3.4367258483602066, 'smooth')),\n",
              " ((-3.501584488910644, 'sorri'), (3.4217965398833345, 'keep'))]"
            ]
          },
          "metadata": {
            "tags": []
          },
          "execution_count": 64
        }
      ]
    },
    {
      "cell_type": "code",
      "metadata": {
        "id": "bSw4E-ai5c_E",
        "colab_type": "code",
        "outputId": "98bd8da5-2530-442e-8949-8cc53247abce",
        "colab": {
          "base_uri": "https://localhost:8080/",
          "height": 35
        }
      },
      "source": [
        "roc_auc_score(Y_Test,y_test_predicted_prob)"
      ],
      "execution_count": 0,
      "outputs": [
        {
          "output_type": "execute_result",
          "data": {
            "text/plain": [
              "0.9402528367357645"
            ]
          },
          "metadata": {
            "tags": []
          },
          "execution_count": 65
        }
      ]
    },
    {
      "cell_type": "code",
      "metadata": {
        "id": "RZgCiXYn5vQp",
        "colab_type": "code",
        "outputId": "342c694c-30ff-4240-baa8-4610c4a12949",
        "colab": {
          "base_uri": "https://localhost:8080/",
          "height": 212
        }
      },
      "source": [
        "print(classification_report(Y_Test,pred_test_data))\n",
        "print(confusion_matrix(Y_Test,pred_test_data))"
      ],
      "execution_count": 0,
      "outputs": [
        {
          "output_type": "stream",
          "text": [
            "              precision    recall  f1-score   support\n",
            "\n",
            "    negative       0.83      0.50      0.62      2457\n",
            "    positive       0.93      0.99      0.96     17543\n",
            "\n",
            "    accuracy                           0.93     20000\n",
            "   macro avg       0.88      0.74      0.79     20000\n",
            "weighted avg       0.92      0.93      0.92     20000\n",
            "\n",
            "[[ 1218  1239]\n",
            " [  255 17288]]\n"
          ],
          "name": "stdout"
        }
      ]
    },
    {
      "cell_type": "markdown",
      "metadata": {
        "id": "eymZjMEw6i3S",
        "colab_type": "text"
      },
      "source": [
        "## Avg Word2Vec Vectorization Technique on Logistic Regression Algorithm"
      ]
    },
    {
      "cell_type": "code",
      "metadata": {
        "id": "WYjxvY_t6sVN",
        "colab_type": "code",
        "outputId": "997a684c-7ac1-4b21-efb4-4e3f95148579",
        "colab": {
          "base_uri": "https://localhost:8080/",
          "height": 35
        }
      },
      "source": [
        "from gensim.models import Word2Vec\n",
        "from gensim.models import KeyedVectors\n",
        "import pickle\n",
        "\n",
        "list_of_sent_train_avgw2v=[]\n",
        "list_of_sent_test_avgw2v=[]\n",
        "list_of_sent_cv_avgw2v=[]\n",
        "for sent_train_avgw2v in tqdm(X_Train['Cleaned_text'].values):\n",
        "    list_of_sent_train_avgw2v.append(sent_train_avgw2v.split())"
      ],
      "execution_count": 0,
      "outputs": [
        {
          "output_type": "stream",
          "text": [
            "100%|██████████| 64000/64000 [00:00<00:00, 101284.36it/s]\n"
          ],
          "name": "stderr"
        }
      ]
    },
    {
      "cell_type": "code",
      "metadata": {
        "id": "_OG-Jxa_gyBb",
        "colab_type": "code",
        "outputId": "c66d650d-00d7-4e92-a8fa-666305f97e03",
        "colab": {
          "base_uri": "https://localhost:8080/",
          "height": 52
        }
      },
      "source": [
        "for sent_test_avgw2v in tqdm(X_Test['Cleaned_text'].values):\n",
        "    list_of_sent_test_avgw2v.append(sent_test_avgw2v.split())\n",
        "    \n",
        "for sent_cv_avgw2v in tqdm(X_CV['Cleaned_text'].values):\n",
        "    list_of_sent_cv_avgw2v.append(sent_cv_avgw2v.split())"
      ],
      "execution_count": 0,
      "outputs": [
        {
          "output_type": "stream",
          "text": [
            "100%|██████████| 20000/20000 [00:00<00:00, 176735.48it/s]\n",
            "100%|██████████| 16000/16000 [00:00<00:00, 201002.38it/s]\n"
          ],
          "name": "stderr"
        }
      ]
    },
    {
      "cell_type": "code",
      "metadata": {
        "id": "AAPZbIzP8M7s",
        "colab_type": "code",
        "colab": {}
      },
      "source": [
        "w2v_model_train = Word2Vec(list_of_sent_train_avgw2v,min_count=5,size=50,workers=4)\n",
        "w2v_words_Logistic_reg_train=list(w2v_model_train.wv.vocab)"
      ],
      "execution_count": 0,
      "outputs": []
    },
    {
      "cell_type": "code",
      "metadata": {
        "id": "QXPSZrEV8U8N",
        "colab_type": "code",
        "colab": {}
      },
      "source": [
        "w2v_model_test = Word2Vec(list_of_sent_test_avgw2v,min_count=5,size=50,workers=4)\n",
        "w2v_words_Logistic_reg_test=list(w2v_model_test.wv.vocab)"
      ],
      "execution_count": 0,
      "outputs": []
    },
    {
      "cell_type": "code",
      "metadata": {
        "id": "RU9xLIx08XFL",
        "colab_type": "code",
        "colab": {}
      },
      "source": [
        "w2v_model_cv = Word2Vec(list_of_sent_cv_avgw2v,min_count=5,size=50,workers=4)\n",
        "w2v_words_Logistic_reg_cv=list(w2v_model_cv.wv.vocab)"
      ],
      "execution_count": 0,
      "outputs": []
    },
    {
      "cell_type": "code",
      "metadata": {
        "id": "PSBDFC4F8XpT",
        "colab_type": "code",
        "outputId": "5997bd72-cc2c-4ec2-ea6b-d44443d1da91",
        "colab": {
          "base_uri": "https://localhost:8080/",
          "height": 72
        }
      },
      "source": [
        "print(len(w2v_words_Logistic_reg_train))\n",
        "print(w2v_words_Logistic_reg_train[0:50])"
      ],
      "execution_count": 0,
      "outputs": [
        {
          "output_type": "stream",
          "text": [
            "10246\n",
            "['continu', 'enjoy', 'dove', 'dark', 'chocol', 'order', 'receiv', 'par', 'one', 'reason', 'close', 'expir', 'date', 'distribut', 'consum', 'short', 'receipt', 'second', 'everi', 'bar', 'color', 'smooth', 'great', 'tast', 'chalki', 'white', 'bitter', 'even', 'look', 'though', 'melt', 'pour', 'wrapper', 'absolut', 'love', 'product', 'share', 'mani', 'friend', 'equal', 'delight', 'would', 'purchas', 'without', 'hesit', 'quit', 'dissappoint', 'deliveri', 'time', 'push']\n"
          ],
          "name": "stdout"
        }
      ]
    },
    {
      "cell_type": "code",
      "metadata": {
        "id": "DFWs2R7ziEZ6",
        "colab_type": "code",
        "outputId": "e7e0523b-9570-4875-df13-2f351612c8b6",
        "colab": {
          "base_uri": "https://localhost:8080/",
          "height": 52
        }
      },
      "source": [
        "train_vectors=[];\n",
        "for sent in list_of_sent_train_avgw2v:\n",
        "    sent_vec=np.zeros(50)\n",
        "    cnt_words=0;\n",
        "    for word in sent:\n",
        "        if word in w2v_words_Logistic_reg_train:\n",
        "            vec=w2v_model_train.wv[word]\n",
        "            sent_vec+=vec\n",
        "            cnt_words+=1\n",
        "    if cnt_words !=0:\n",
        "        sent_vec/=cnt_words\n",
        "    train_vectors.append(sent_vec)\n",
        "print(len(train_vectors))\n",
        "print(len(train_vectors[0]))"
      ],
      "execution_count": 0,
      "outputs": [
        {
          "output_type": "stream",
          "text": [
            "64000\n",
            "50\n"
          ],
          "name": "stdout"
        }
      ]
    },
    {
      "cell_type": "code",
      "metadata": {
        "id": "fQkJkWvnjMp8",
        "colab_type": "code",
        "outputId": "3d4c8fe3-4076-4b68-f244-58cbf581c938",
        "colab": {
          "base_uri": "https://localhost:8080/",
          "height": 52
        }
      },
      "source": [
        "test_vectors=[];\n",
        "for sent in list_of_sent_test_avgw2v:\n",
        "    sent_vec=np.zeros(50)\n",
        "    cnt_words=0;\n",
        "    for word in sent:\n",
        "        if word in w2v_words_Logistic_reg_test:\n",
        "            vec=w2v_model_test.wv[word]\n",
        "            sent_vec+=vec\n",
        "            cnt_words+=1\n",
        "    if cnt_words !=0:\n",
        "        sent_vec/=cnt_words\n",
        "    test_vectors.append(sent_vec)\n",
        "print(len(test_vectors))\n",
        "print(len(test_vectors[0]))"
      ],
      "execution_count": 0,
      "outputs": [
        {
          "output_type": "stream",
          "text": [
            "20000\n",
            "50\n"
          ],
          "name": "stdout"
        }
      ]
    },
    {
      "cell_type": "code",
      "metadata": {
        "id": "qHHanHipj9v-",
        "colab_type": "code",
        "outputId": "c2a23e08-e97f-45dc-8f8d-58095d4c6981",
        "colab": {
          "base_uri": "https://localhost:8080/",
          "height": 52
        }
      },
      "source": [
        "cv_vectors=[];\n",
        "for sent in list_of_sent_cv_avgw2v:\n",
        "    sent_vec=np.zeros(50)\n",
        "    cnt_words=0;\n",
        "    for word in sent:\n",
        "        if word in w2v_words_Logistic_reg_cv:\n",
        "            vec=w2v_model_cv.wv[word]\n",
        "            sent_vec+=vec\n",
        "            cnt_words+=1\n",
        "    if cnt_words !=0:\n",
        "        sent_vec/=cnt_words\n",
        "    cv_vectors.append(sent_vec)\n",
        "print(len(cv_vectors))\n",
        "print(len(cv_vectors[0]))"
      ],
      "execution_count": 0,
      "outputs": [
        {
          "output_type": "stream",
          "text": [
            "16000\n",
            "50\n"
          ],
          "name": "stdout"
        }
      ]
    },
    {
      "cell_type": "code",
      "metadata": {
        "id": "Di-xysxslgcp",
        "colab_type": "code",
        "outputId": "70d76eda-4342-4595-fd16-7a29ce325a25",
        "colab": {
          "base_uri": "https://localhost:8080/",
          "height": 612
        }
      },
      "source": [
        "results,best_c,Logistic_Regression_Optimal_C = Logistic_Regression_Optimal_C(train_vectors,Y_Train)\n",
        "results.head()"
      ],
      "execution_count": 0,
      "outputs": [
        {
          "output_type": "stream",
          "text": [
            "0.8916826145952774\n",
            "{'C': 1}\n"
          ],
          "name": "stdout"
        },
        {
          "output_type": "display_data",
          "data": {
            "image/png": "[encoded data removed]",
            "text/plain": [
              "<Figure size 432x288 with 1 Axes>"
            ]
          },
          "metadata": {
            "tags": []
          }
        },
        {
          "output_type": "execute_result",
          "data": {
            "text/html": [
              "<div>\n",
              "<style scoped>\n",
              "    .dataframe tbody tr th:only-of-type {\n",
              "        vertical-align: middle;\n",
              "    }\n",
              "\n",
              "    .dataframe tbody tr th {\n",
              "        vertical-align: top;\n",
              "    }\n",
              "\n",
              "    .dataframe thead th {\n",
              "        text-align: right;\n",
              "    }\n",
              "</style>\n",
              "<table border=\"1\" class=\"dataframe\">\n",
              "  <thead>\n",
              "    <tr style=\"text-align: right;\">\n",
              "      <th></th>\n",
              "      <th>mean_fit_time</th>\n",
              "      <th>std_fit_time</th>\n",
              "      <th>mean_score_time</th>\n",
              "      <th>std_score_time</th>\n",
              "      <th>param_C</th>\n",
              "      <th>params</th>\n",
              "      <th>split0_test_score</th>\n",
              "      <th>split1_test_score</th>\n",
              "      <th>split2_test_score</th>\n",
              "      <th>split3_test_score</th>\n",
              "      <th>split4_test_score</th>\n",
              "      <th>split5_test_score</th>\n",
              "      <th>split6_test_score</th>\n",
              "      <th>split7_test_score</th>\n",
              "      <th>split8_test_score</th>\n",
              "      <th>split9_test_score</th>\n",
              "      <th>mean_test_score</th>\n",
              "      <th>std_test_score</th>\n",
              "      <th>rank_test_score</th>\n",
              "      <th>split0_train_score</th>\n",
              "      <th>split1_train_score</th>\n",
              "      <th>split2_train_score</th>\n",
              "      <th>split3_train_score</th>\n",
              "      <th>split4_train_score</th>\n",
              "      <th>split5_train_score</th>\n",
              "      <th>split6_train_score</th>\n",
              "      <th>split7_train_score</th>\n",
              "      <th>split8_train_score</th>\n",
              "      <th>split9_train_score</th>\n",
              "      <th>mean_train_score</th>\n",
              "      <th>std_train_score</th>\n",
              "    </tr>\n",
              "  </thead>\n",
              "  <tbody>\n",
              "    <tr>\n",
              "      <th>0</th>\n",
              "      <td>0.440008</td>\n",
              "      <td>0.010672</td>\n",
              "      <td>0.040468</td>\n",
              "      <td>0.006611</td>\n",
              "      <td>1e-05</td>\n",
              "      <td>{'C': 1e-05}</td>\n",
              "      <td>0.839766</td>\n",
              "      <td>0.830403</td>\n",
              "      <td>0.844125</td>\n",
              "      <td>0.845508</td>\n",
              "      <td>0.845092</td>\n",
              "      <td>0.847584</td>\n",
              "      <td>0.840284</td>\n",
              "      <td>0.834949</td>\n",
              "      <td>0.834959</td>\n",
              "      <td>0.844485</td>\n",
              "      <td>0.840715</td>\n",
              "      <td>0.005376</td>\n",
              "      <td>9</td>\n",
              "      <td>0.840097</td>\n",
              "      <td>0.839422</td>\n",
              "      <td>0.838771</td>\n",
              "      <td>0.840361</td>\n",
              "      <td>0.840840</td>\n",
              "      <td>0.842481</td>\n",
              "      <td>0.843342</td>\n",
              "      <td>0.842940</td>\n",
              "      <td>0.842631</td>\n",
              "      <td>0.840779</td>\n",
              "      <td>0.841167</td>\n",
              "      <td>0.001503</td>\n",
              "    </tr>\n",
              "    <tr>\n",
              "      <th>1</th>\n",
              "      <td>0.460969</td>\n",
              "      <td>0.008436</td>\n",
              "      <td>0.039006</td>\n",
              "      <td>0.000848</td>\n",
              "      <td>0.0001</td>\n",
              "      <td>{'C': 0.0001}</td>\n",
              "      <td>0.863514</td>\n",
              "      <td>0.855393</td>\n",
              "      <td>0.869674</td>\n",
              "      <td>0.867823</td>\n",
              "      <td>0.866962</td>\n",
              "      <td>0.866095</td>\n",
              "      <td>0.858876</td>\n",
              "      <td>0.855444</td>\n",
              "      <td>0.854978</td>\n",
              "      <td>0.865501</td>\n",
              "      <td>0.862426</td>\n",
              "      <td>0.005409</td>\n",
              "      <td>8</td>\n",
              "      <td>0.862129</td>\n",
              "      <td>0.861924</td>\n",
              "      <td>0.861029</td>\n",
              "      <td>0.862346</td>\n",
              "      <td>0.862549</td>\n",
              "      <td>0.863765</td>\n",
              "      <td>0.864291</td>\n",
              "      <td>0.864042</td>\n",
              "      <td>0.864015</td>\n",
              "      <td>0.862541</td>\n",
              "      <td>0.862863</td>\n",
              "      <td>0.001040</td>\n",
              "    </tr>\n",
              "    <tr>\n",
              "      <th>2</th>\n",
              "      <td>0.691445</td>\n",
              "      <td>0.008001</td>\n",
              "      <td>0.038812</td>\n",
              "      <td>0.000781</td>\n",
              "      <td>0.001</td>\n",
              "      <td>{'C': 0.001}</td>\n",
              "      <td>0.886444</td>\n",
              "      <td>0.881964</td>\n",
              "      <td>0.895437</td>\n",
              "      <td>0.887896</td>\n",
              "      <td>0.889613</td>\n",
              "      <td>0.882109</td>\n",
              "      <td>0.879274</td>\n",
              "      <td>0.877316</td>\n",
              "      <td>0.874925</td>\n",
              "      <td>0.886391</td>\n",
              "      <td>0.884137</td>\n",
              "      <td>0.005883</td>\n",
              "      <td>7</td>\n",
              "      <td>0.884328</td>\n",
              "      <td>0.884410</td>\n",
              "      <td>0.883219</td>\n",
              "      <td>0.884430</td>\n",
              "      <td>0.884133</td>\n",
              "      <td>0.885149</td>\n",
              "      <td>0.885148</td>\n",
              "      <td>0.885297</td>\n",
              "      <td>0.885597</td>\n",
              "      <td>0.884347</td>\n",
              "      <td>0.884606</td>\n",
              "      <td>0.000664</td>\n",
              "    </tr>\n",
              "    <tr>\n",
              "      <th>3</th>\n",
              "      <td>1.172471</td>\n",
              "      <td>0.044348</td>\n",
              "      <td>0.038245</td>\n",
              "      <td>0.000290</td>\n",
              "      <td>0.01</td>\n",
              "      <td>{'C': 0.01}</td>\n",
              "      <td>0.891425</td>\n",
              "      <td>0.889958</td>\n",
              "      <td>0.902040</td>\n",
              "      <td>0.893312</td>\n",
              "      <td>0.896411</td>\n",
              "      <td>0.886780</td>\n",
              "      <td>0.887714</td>\n",
              "      <td>0.883466</td>\n",
              "      <td>0.882427</td>\n",
              "      <td>0.892531</td>\n",
              "      <td>0.890606</td>\n",
              "      <td>0.005634</td>\n",
              "      <td>6</td>\n",
              "      <td>0.891257</td>\n",
              "      <td>0.891256</td>\n",
              "      <td>0.890001</td>\n",
              "      <td>0.891145</td>\n",
              "      <td>0.890830</td>\n",
              "      <td>0.891841</td>\n",
              "      <td>0.891616</td>\n",
              "      <td>0.892124</td>\n",
              "      <td>0.892223</td>\n",
              "      <td>0.891028</td>\n",
              "      <td>0.891332</td>\n",
              "      <td>0.000626</td>\n",
              "    </tr>\n",
              "    <tr>\n",
              "      <th>4</th>\n",
              "      <td>1.584745</td>\n",
              "      <td>0.055563</td>\n",
              "      <td>0.038497</td>\n",
              "      <td>0.000528</td>\n",
              "      <td>0.1</td>\n",
              "      <td>{'C': 0.1}</td>\n",
              "      <td>0.891924</td>\n",
              "      <td>0.891071</td>\n",
              "      <td>0.902860</td>\n",
              "      <td>0.894313</td>\n",
              "      <td>0.897375</td>\n",
              "      <td>0.887535</td>\n",
              "      <td>0.889607</td>\n",
              "      <td>0.884015</td>\n",
              "      <td>0.884301</td>\n",
              "      <td>0.893013</td>\n",
              "      <td>0.891601</td>\n",
              "      <td>0.005488</td>\n",
              "      <td>5</td>\n",
              "      <td>0.892387</td>\n",
              "      <td>0.892457</td>\n",
              "      <td>0.891141</td>\n",
              "      <td>0.892191</td>\n",
              "      <td>0.891969</td>\n",
              "      <td>0.892989</td>\n",
              "      <td>0.892696</td>\n",
              "      <td>0.893309</td>\n",
              "      <td>0.893267</td>\n",
              "      <td>0.892186</td>\n",
              "      <td>0.892459</td>\n",
              "      <td>0.000620</td>\n",
              "    </tr>\n",
              "  </tbody>\n",
              "</table>\n",
              "</div>"
            ],
            "text/plain": [
              "   mean_fit_time  std_fit_time  ...  mean_train_score  std_train_score\n",
              "0       0.440008      0.010672  ...          0.841167         0.001503\n",
              "1       0.460969      0.008436  ...          0.862863         0.001040\n",
              "2       0.691445      0.008001  ...          0.884606         0.000664\n",
              "3       1.172471      0.044348  ...          0.891332         0.000626\n",
              "4       1.584745      0.055563  ...          0.892459         0.000620\n",
              "\n",
              "[5 rows x 31 columns]"
            ]
          },
          "metadata": {
            "tags": []
          },
          "execution_count": 63
        }
      ]
    },
    {
      "cell_type": "code",
      "metadata": {
        "id": "wM3xXytommdo",
        "colab_type": "code",
        "outputId": "a3c490db-e531-45f1-fe61-c8a9f7cf79a6",
        "colab": {
          "base_uri": "https://localhost:8080/",
          "height": 35
        }
      },
      "source": [
        "best_C = best_c.best_params_\n",
        "best_c=best_C.get(\"C\")\n",
        "print(best_c)"
      ],
      "execution_count": 0,
      "outputs": [
        {
          "output_type": "stream",
          "text": [
            "1\n"
          ],
          "name": "stdout"
        }
      ]
    },
    {
      "cell_type": "code",
      "metadata": {
        "id": "mt-hV3nDm45k",
        "colab_type": "code",
        "outputId": "9974dc1f-582b-426e-eb4e-e51bd2178f29",
        "colab": {
          "base_uri": "https://localhost:8080/",
          "height": 295
        }
      },
      "source": [
        "from sklearn.metrics import roc_curve, auc\n",
        "\n",
        "logistic_reg = LogisticRegression(C=best_c,random_state=None, class_weight=None)\n",
        "logistic_reg.fit(train_vectors,Y_Train)\n",
        "pred_test_data=logistic_reg.predict(test_vectors)\n",
        "y_train_predicted_prob = logistic_reg.predict_proba(train_vectors)[:,1]\n",
        "y_test_predicted_prob=logistic_reg.predict_proba(test_vectors)[:,1]\n",
        "train_fpr, train_tpr, train_thresholds=roc_curve(Y_Train,y_train_predicted_prob,pos_label='positive')\n",
        "test_fpr, test_tpr, test_thresholds = roc_curve(Y_Test, y_test_predicted_prob,pos_label='positive')\n",
        "plt.plot(train_fpr, train_tpr, label=\"train AUC =\"+str(auc(train_fpr, train_tpr)))\n",
        "plt.plot(test_fpr, test_tpr, label=\"test AUC =\"+str(auc(test_fpr, test_tpr)))\n",
        "plt.legend()\n",
        "plt.xlabel(\"C: hyperparameter\")\n",
        "plt.ylabel(\"AUC\")\n",
        "plt.title(\"ERROR PLOTS\")\n",
        "plt.grid()\n",
        "plt.show()"
      ],
      "execution_count": 0,
      "outputs": [
        {
          "output_type": "display_data",
          "data": {
            "image/png": "[encoded data removed]",
            "text/plain": [
              "<Figure size 432x288 with 1 Axes>"
            ]
          },
          "metadata": {
            "tags": []
          }
        }
      ]
    },
    {
      "cell_type": "code",
      "metadata": {
        "id": "30hsRYTjnzqD",
        "colab_type": "code",
        "outputId": "99eae608-a764-49ef-d7ef-09129e15411f",
        "colab": {
          "base_uri": "https://localhost:8080/",
          "height": 35
        }
      },
      "source": [
        "from sklearn.metrics import roc_auc_score\n",
        "from sklearn.metrics import classification_report,confusion_matrix\n",
        "\n",
        "roc_auc_score(Y_Test,y_test_predicted_prob)"
      ],
      "execution_count": 0,
      "outputs": [
        {
          "output_type": "execute_result",
          "data": {
            "text/plain": [
              "0.8265664614635715"
            ]
          },
          "metadata": {
            "tags": []
          },
          "execution_count": 67
        }
      ]
    },
    {
      "cell_type": "code",
      "metadata": {
        "id": "bvEiGXfzoFY2",
        "colab_type": "code",
        "outputId": "168d1a45-6ede-4280-dd51-a9370884a868",
        "colab": {
          "base_uri": "https://localhost:8080/",
          "height": 212
        }
      },
      "source": [
        "print(classification_report(Y_Test,pred_test_data))\n",
        "print(confusion_matrix(Y_Test,pred_test_data))"
      ],
      "execution_count": 0,
      "outputs": [
        {
          "output_type": "stream",
          "text": [
            "              precision    recall  f1-score   support\n",
            "\n",
            "    negative       0.75      0.01      0.01      2457\n",
            "    positive       0.88      1.00      0.93     17543\n",
            "\n",
            "    accuracy                           0.88     20000\n",
            "   macro avg       0.81      0.50      0.47     20000\n",
            "weighted avg       0.86      0.88      0.82     20000\n",
            "\n",
            "[[   15  2442]\n",
            " [    5 17538]]\n"
          ],
          "name": "stdout"
        }
      ]
    },
    {
      "cell_type": "markdown",
      "metadata": {
        "id": "fOuBGDD9q2D6",
        "colab_type": "text"
      },
      "source": [
        "## TF-IDF Word2Vec Vectorization Technique for Logistic Regression on Amazon Fine Food Review"
      ]
    },
    {
      "cell_type": "code",
      "metadata": {
        "id": "CvMcj2njsB1N",
        "colab_type": "code",
        "colab": {}
      },
      "source": [
        "model_Avgw2v = TfidfVectorizer()\n",
        "X_Train_Avgw2v=model_Avgw2v.fit_transform(X_Train['Cleaned_text'].values)"
      ],
      "execution_count": 0,
      "outputs": []
    },
    {
      "cell_type": "code",
      "metadata": {
        "id": "3MttxLHQtRG1",
        "colab_type": "code",
        "colab": {}
      },
      "source": [
        "X_Test_Avgw2v=model_Avgw2v.transform(X_Test['Cleaned_text'].values)\n",
        "X_CV_Avgw2v=model_Avgw2v.transform(X_CV['Cleaned_text'].values)"
      ],
      "execution_count": 0,
      "outputs": []
    },
    {
      "cell_type": "code",
      "metadata": {
        "id": "FFE7Z3gitTYu",
        "colab_type": "code",
        "colab": {}
      },
      "source": [
        "dictionary = dict(zip(model_Avgw2v.get_feature_names(), list(model_Avgw2v.idf_)))"
      ],
      "execution_count": 0,
      "outputs": []
    },
    {
      "cell_type": "code",
      "metadata": {
        "id": "5oJeiAshtlCc",
        "colab_type": "code",
        "outputId": "45375694-6700-4210-d155-0330b1ba244c",
        "colab": {
          "base_uri": "https://localhost:8080/",
          "height": 35
        }
      },
      "source": [
        "tfidf_feature=model_Avgw2v.get_feature_names()\n",
        "\n",
        "tfidf_sent_vectors_train=[];\n",
        "#final_tf_idf = [];\n",
        "row=0;\n",
        "\n",
        "for sent in tqdm(list_of_sent_train_avgw2v):\n",
        "    sent_vec=np.zeros(50)\n",
        "    weight_sum=0;\n",
        "    for word in sent :\n",
        "        if word in w2v_words_Logistic_reg_train and word in tfidf_feature :\n",
        "            vec=w2v_model_train.wv[word]\n",
        "            #tf_idf=final_tf_idf[row,tfidf_feature.index(word)]\n",
        "            tf_idf=dictionary[word]*(sent.count(word)/len(sent))\n",
        "            sent_vec+=(vec*tf_idf)\n",
        "            weight_sum+=tf_idf\n",
        "    \n",
        "    if weight_sum!=0:\n",
        "        sent_vec/=weight_sum\n",
        "    tfidf_sent_vectors_train.append(sent_vec)\n",
        "    row+=1"
      ],
      "execution_count": 0,
      "outputs": [
        {
          "output_type": "stream",
          "text": [
            "100%|██████████| 64000/64000 [12:17<00:00, 110.80it/s]\n"
          ],
          "name": "stderr"
        }
      ]
    },
    {
      "cell_type": "code",
      "metadata": {
        "id": "CI5Wf4YNuGpZ",
        "colab_type": "code",
        "outputId": "83f0af0f-3c4d-4781-ea24-ac6d1a79622b",
        "colab": {
          "base_uri": "https://localhost:8080/",
          "height": 35
        }
      },
      "source": [
        "tfidf_sent_vectors_test=[];\n",
        "#final_tf_idf = [];\n",
        "row=0;\n",
        "\n",
        "for sent in tqdm(list_of_sent_test_avgw2v):\n",
        "    sent_vec=np.zeros(50)\n",
        "    weight_sum=0;\n",
        "    for word in sent :\n",
        "        if word in w2v_words_Logistic_reg_test and word in tfidf_feature :\n",
        "            vec=w2v_model_test.wv[word]\n",
        "            #tf_idf=final_tf_idf[row,tfidf_feature.index(word)]\n",
        "            tf_idf=dictionary[word]*(sent.count(word)/len(sent))\n",
        "            sent_vec+=(vec*tf_idf)\n",
        "            weight_sum+=tf_idf\n",
        "    \n",
        "    if weight_sum!=0:\n",
        "        sent_vec/=weight_sum\n",
        "    tfidf_sent_vectors_test.append(sent_vec)\n",
        "    row+=1"
      ],
      "execution_count": 0,
      "outputs": [
        {
          "output_type": "stream",
          "text": [
            "100%|██████████| 20000/20000 [03:48<00:00, 87.35it/s]\n"
          ],
          "name": "stderr"
        }
      ]
    },
    {
      "cell_type": "code",
      "metadata": {
        "id": "5mf4eECBw70D",
        "colab_type": "code",
        "outputId": "fe527f52-7bcf-40ee-c25b-ed44f46b62e1",
        "colab": {
          "base_uri": "https://localhost:8080/",
          "height": 612
        }
      },
      "source": [
        "results,best_c,Logistic_Regression_Optimal_C = Logistic_Regression_Optimal_C(tfidf_sent_vectors_train,Y_Train)\n",
        "results.head()"
      ],
      "execution_count": 0,
      "outputs": [
        {
          "output_type": "stream",
          "text": [
            "0.8673362513641042\n",
            "{'C': 0.1}\n"
          ],
          "name": "stdout"
        },
        {
          "output_type": "display_data",
          "data": {
            "image/png": "[encoded data removed]",
            "text/plain": [
              "<Figure size 432x288 with 1 Axes>"
            ]
          },
          "metadata": {
            "tags": []
          }
        },
        {
          "output_type": "execute_result",
          "data": {
            "text/html": [
              "<div>\n",
              "<style scoped>\n",
              "    .dataframe tbody tr th:only-of-type {\n",
              "        vertical-align: middle;\n",
              "    }\n",
              "\n",
              "    .dataframe tbody tr th {\n",
              "        vertical-align: top;\n",
              "    }\n",
              "\n",
              "    .dataframe thead th {\n",
              "        text-align: right;\n",
              "    }\n",
              "</style>\n",
              "<table border=\"1\" class=\"dataframe\">\n",
              "  <thead>\n",
              "    <tr style=\"text-align: right;\">\n",
              "      <th></th>\n",
              "      <th>mean_fit_time</th>\n",
              "      <th>std_fit_time</th>\n",
              "      <th>mean_score_time</th>\n",
              "      <th>std_score_time</th>\n",
              "      <th>param_C</th>\n",
              "      <th>params</th>\n",
              "      <th>split0_test_score</th>\n",
              "      <th>split1_test_score</th>\n",
              "      <th>split2_test_score</th>\n",
              "      <th>split3_test_score</th>\n",
              "      <th>split4_test_score</th>\n",
              "      <th>split5_test_score</th>\n",
              "      <th>split6_test_score</th>\n",
              "      <th>split7_test_score</th>\n",
              "      <th>split8_test_score</th>\n",
              "      <th>split9_test_score</th>\n",
              "      <th>mean_test_score</th>\n",
              "      <th>std_test_score</th>\n",
              "      <th>rank_test_score</th>\n",
              "      <th>split0_train_score</th>\n",
              "      <th>split1_train_score</th>\n",
              "      <th>split2_train_score</th>\n",
              "      <th>split3_train_score</th>\n",
              "      <th>split4_train_score</th>\n",
              "      <th>split5_train_score</th>\n",
              "      <th>split6_train_score</th>\n",
              "      <th>split7_train_score</th>\n",
              "      <th>split8_train_score</th>\n",
              "      <th>split9_train_score</th>\n",
              "      <th>mean_train_score</th>\n",
              "      <th>std_train_score</th>\n",
              "    </tr>\n",
              "  </thead>\n",
              "  <tbody>\n",
              "    <tr>\n",
              "      <th>0</th>\n",
              "      <td>0.467593</td>\n",
              "      <td>0.010707</td>\n",
              "      <td>0.039096</td>\n",
              "      <td>0.001151</td>\n",
              "      <td>1e-05</td>\n",
              "      <td>{'C': 1e-05}</td>\n",
              "      <td>0.809282</td>\n",
              "      <td>0.797226</td>\n",
              "      <td>0.799375</td>\n",
              "      <td>0.791666</td>\n",
              "      <td>0.779877</td>\n",
              "      <td>0.803385</td>\n",
              "      <td>0.803838</td>\n",
              "      <td>0.795537</td>\n",
              "      <td>0.801208</td>\n",
              "      <td>0.804749</td>\n",
              "      <td>0.798614</td>\n",
              "      <td>0.007871</td>\n",
              "      <td>9</td>\n",
              "      <td>0.799657</td>\n",
              "      <td>0.797732</td>\n",
              "      <td>0.799523</td>\n",
              "      <td>0.798343</td>\n",
              "      <td>0.801003</td>\n",
              "      <td>0.799045</td>\n",
              "      <td>0.799319</td>\n",
              "      <td>0.799351</td>\n",
              "      <td>0.799340</td>\n",
              "      <td>0.799199</td>\n",
              "      <td>0.799251</td>\n",
              "      <td>0.000807</td>\n",
              "    </tr>\n",
              "    <tr>\n",
              "      <th>1</th>\n",
              "      <td>0.480854</td>\n",
              "      <td>0.005201</td>\n",
              "      <td>0.039248</td>\n",
              "      <td>0.001363</td>\n",
              "      <td>0.0001</td>\n",
              "      <td>{'C': 0.0001}</td>\n",
              "      <td>0.834692</td>\n",
              "      <td>0.827639</td>\n",
              "      <td>0.828188</td>\n",
              "      <td>0.823253</td>\n",
              "      <td>0.808282</td>\n",
              "      <td>0.829981</td>\n",
              "      <td>0.831220</td>\n",
              "      <td>0.824202</td>\n",
              "      <td>0.829459</td>\n",
              "      <td>0.831494</td>\n",
              "      <td>0.826841</td>\n",
              "      <td>0.006971</td>\n",
              "      <td>8</td>\n",
              "      <td>0.827480</td>\n",
              "      <td>0.826527</td>\n",
              "      <td>0.827560</td>\n",
              "      <td>0.827253</td>\n",
              "      <td>0.829253</td>\n",
              "      <td>0.827277</td>\n",
              "      <td>0.827603</td>\n",
              "      <td>0.827424</td>\n",
              "      <td>0.827381</td>\n",
              "      <td>0.827150</td>\n",
              "      <td>0.827491</td>\n",
              "      <td>0.000655</td>\n",
              "    </tr>\n",
              "    <tr>\n",
              "      <th>2</th>\n",
              "      <td>0.718839</td>\n",
              "      <td>0.010308</td>\n",
              "      <td>0.038745</td>\n",
              "      <td>0.000836</td>\n",
              "      <td>0.001</td>\n",
              "      <td>{'C': 0.001}</td>\n",
              "      <td>0.863065</td>\n",
              "      <td>0.859881</td>\n",
              "      <td>0.859227</td>\n",
              "      <td>0.855291</td>\n",
              "      <td>0.840429</td>\n",
              "      <td>0.858673</td>\n",
              "      <td>0.858376</td>\n",
              "      <td>0.855736</td>\n",
              "      <td>0.859938</td>\n",
              "      <td>0.861355</td>\n",
              "      <td>0.857197</td>\n",
              "      <td>0.006009</td>\n",
              "      <td>7</td>\n",
              "      <td>0.857381</td>\n",
              "      <td>0.857630</td>\n",
              "      <td>0.857747</td>\n",
              "      <td>0.858220</td>\n",
              "      <td>0.859567</td>\n",
              "      <td>0.857700</td>\n",
              "      <td>0.858093</td>\n",
              "      <td>0.857947</td>\n",
              "      <td>0.857644</td>\n",
              "      <td>0.857424</td>\n",
              "      <td>0.857935</td>\n",
              "      <td>0.000601</td>\n",
              "    </tr>\n",
              "    <tr>\n",
              "      <th>3</th>\n",
              "      <td>1.343019</td>\n",
              "      <td>0.066285</td>\n",
              "      <td>0.039566</td>\n",
              "      <td>0.000806</td>\n",
              "      <td>0.01</td>\n",
              "      <td>{'C': 0.01}</td>\n",
              "      <td>0.871818</td>\n",
              "      <td>0.868895</td>\n",
              "      <td>0.867375</td>\n",
              "      <td>0.863984</td>\n",
              "      <td>0.850901</td>\n",
              "      <td>0.868529</td>\n",
              "      <td>0.865603</td>\n",
              "      <td>0.862757</td>\n",
              "      <td>0.869871</td>\n",
              "      <td>0.872110</td>\n",
              "      <td>0.866184</td>\n",
              "      <td>0.005876</td>\n",
              "      <td>6</td>\n",
              "      <td>0.866636</td>\n",
              "      <td>0.867052</td>\n",
              "      <td>0.867176</td>\n",
              "      <td>0.867501</td>\n",
              "      <td>0.868805</td>\n",
              "      <td>0.866804</td>\n",
              "      <td>0.867274</td>\n",
              "      <td>0.867470</td>\n",
              "      <td>0.866812</td>\n",
              "      <td>0.866552</td>\n",
              "      <td>0.867208</td>\n",
              "      <td>0.000617</td>\n",
              "    </tr>\n",
              "    <tr>\n",
              "      <th>4</th>\n",
              "      <td>1.728029</td>\n",
              "      <td>0.072872</td>\n",
              "      <td>0.038878</td>\n",
              "      <td>0.000352</td>\n",
              "      <td>0.1</td>\n",
              "      <td>{'C': 0.1}</td>\n",
              "      <td>0.872574</td>\n",
              "      <td>0.869171</td>\n",
              "      <td>0.867665</td>\n",
              "      <td>0.865074</td>\n",
              "      <td>0.852681</td>\n",
              "      <td>0.870448</td>\n",
              "      <td>0.867444</td>\n",
              "      <td>0.862687</td>\n",
              "      <td>0.871667</td>\n",
              "      <td>0.873951</td>\n",
              "      <td>0.867336</td>\n",
              "      <td>0.005870</td>\n",
              "      <td>1</td>\n",
              "      <td>0.867977</td>\n",
              "      <td>0.868436</td>\n",
              "      <td>0.868525</td>\n",
              "      <td>0.868798</td>\n",
              "      <td>0.870122</td>\n",
              "      <td>0.867996</td>\n",
              "      <td>0.868488</td>\n",
              "      <td>0.868836</td>\n",
              "      <td>0.868098</td>\n",
              "      <td>0.867809</td>\n",
              "      <td>0.868509</td>\n",
              "      <td>0.000633</td>\n",
              "    </tr>\n",
              "  </tbody>\n",
              "</table>\n",
              "</div>"
            ],
            "text/plain": [
              "   mean_fit_time  std_fit_time  ...  mean_train_score  std_train_score\n",
              "0       0.467593      0.010707  ...          0.799251         0.000807\n",
              "1       0.480854      0.005201  ...          0.827491         0.000655\n",
              "2       0.718839      0.010308  ...          0.857935         0.000601\n",
              "3       1.343019      0.066285  ...          0.867208         0.000617\n",
              "4       1.728029      0.072872  ...          0.868509         0.000633\n",
              "\n",
              "[5 rows x 31 columns]"
            ]
          },
          "metadata": {
            "tags": []
          },
          "execution_count": 50
        }
      ]
    },
    {
      "cell_type": "code",
      "metadata": {
        "id": "gKk74sDbCmyN",
        "colab_type": "code",
        "outputId": "15b631d8-2dea-44f5-b34a-b24f04c570c8",
        "colab": {
          "base_uri": "https://localhost:8080/",
          "height": 35
        }
      },
      "source": [
        "best_C = best_c.best_params_\n",
        "best_c=best_C.get(\"C\")\n",
        "print(best_c)"
      ],
      "execution_count": 0,
      "outputs": [
        {
          "output_type": "stream",
          "text": [
            "0.1\n"
          ],
          "name": "stdout"
        }
      ]
    },
    {
      "cell_type": "code",
      "metadata": {
        "id": "5wTld-IpECmT",
        "colab_type": "code",
        "outputId": "4df19f52-be07-407f-80f6-816a233e6e89",
        "colab": {
          "base_uri": "https://localhost:8080/",
          "height": 295
        }
      },
      "source": [
        "from sklearn.metrics import roc_curve, auc\n",
        "\n",
        "logistic_reg = LogisticRegression(C=best_c,random_state=None, class_weight=None)\n",
        "logistic_reg.fit(tfidf_sent_vectors_train,Y_Train)\n",
        "pred_test_data=logistic_reg.predict(tfidf_sent_vectors_test)\n",
        "y_train_predicted_prob = logistic_reg.predict_proba(tfidf_sent_vectors_train)[:,1]\n",
        "y_test_predicted_prob=logistic_reg.predict_proba(tfidf_sent_vectors_test)[:,1]\n",
        "train_fpr, train_tpr, train_thresholds=roc_curve(Y_Train,y_train_predicted_prob,pos_label='positive')\n",
        "test_fpr, test_tpr, test_thresholds = roc_curve(Y_Test, y_test_predicted_prob,pos_label='positive')\n",
        "plt.plot(train_fpr, train_tpr, label=\"train AUC =\"+str(auc(train_fpr, train_tpr)))\n",
        "plt.plot(test_fpr, test_tpr, label=\"test AUC =\"+str(auc(test_fpr, test_tpr)))\n",
        "plt.legend()\n",
        "plt.xlabel(\"C: hyperparameter\")\n",
        "plt.ylabel(\"AUC\")\n",
        "plt.title(\"ERROR PLOTS\")\n",
        "plt.grid()\n",
        "plt.show()"
      ],
      "execution_count": 0,
      "outputs": [
        {
          "output_type": "display_data",
          "data": {
            "image/png": "[encoded data removed]",
            "text/plain": [
              "<Figure size 432x288 with 1 Axes>"
            ]
          },
          "metadata": {
            "tags": []
          }
        }
      ]
    },
    {
      "cell_type": "code",
      "metadata": {
        "id": "Qi_zIMU-FSEr",
        "colab_type": "code",
        "outputId": "10782102-e571-4ad6-ee66-31b29c12831d",
        "colab": {
          "base_uri": "https://localhost:8080/",
          "height": 35
        }
      },
      "source": [
        "from sklearn.metrics import roc_auc_score\n",
        "from sklearn.metrics import classification_report,confusion_matrix\n",
        "\n",
        "roc_auc_score(Y_Test,y_test_predicted_prob)"
      ],
      "execution_count": 0,
      "outputs": [
        {
          "output_type": "execute_result",
          "data": {
            "text/plain": [
              "0.7479608393363167"
            ]
          },
          "metadata": {
            "tags": []
          },
          "execution_count": 53
        }
      ]
    },
    {
      "cell_type": "code",
      "metadata": {
        "id": "sP5O2g0GFYgt",
        "colab_type": "code",
        "outputId": "dddbe3d7-cb57-4af8-8eb1-4c951add127a",
        "colab": {
          "base_uri": "https://localhost:8080/",
          "height": 212
        }
      },
      "source": [
        "print(classification_report(Y_Test,pred_test_data))\n",
        "print(confusion_matrix(Y_Test,pred_test_data))"
      ],
      "execution_count": 0,
      "outputs": [
        {
          "output_type": "stream",
          "text": [
            "              precision    recall  f1-score   support\n",
            "\n",
            "    negative       0.38      0.05      0.09      2457\n",
            "    positive       0.88      0.99      0.93     17543\n",
            "\n",
            "    accuracy                           0.87     20000\n",
            "   macro avg       0.63      0.52      0.51     20000\n",
            "weighted avg       0.82      0.87      0.83     20000\n",
            "\n",
            "[[  130  2327]\n",
            " [  214 17329]]\n"
          ],
          "name": "stdout"
        }
      ]
    },
    {
      "cell_type": "code",
      "metadata": {
        "id": "dsbwUZckrHnH",
        "colab_type": "code",
        "outputId": "6b17c417-21a9-498b-c733-64f9f6e8b2df",
        "colab": {
          "base_uri": "https://localhost:8080/",
          "height": 177
        }
      },
      "source": [
        "pip install -U PTable"
      ],
      "execution_count": 0,
      "outputs": [
        {
          "output_type": "stream",
          "text": [
            "Collecting PTable\n",
            "  Downloading https://files.pythonhosted.org/packages/ab/b3/b54301811173ca94119eb474634f120a49cd370f257d1aae5a4abaf12729/PTable-0.9.2.tar.gz\n",
            "Building wheels for collected packages: PTable\n",
            "  Building wheel for PTable (setup.py) ... \u001b[?25l\u001b[?25hdone\n",
            "  Created wheel for PTable: filename=PTable-0.9.2-cp36-none-any.whl size=22908 sha256=47f54d5b1c93581e6d9d5a49e612518dbb2062b206b92b21e3543afa1ad79684\n",
            "  Stored in directory: /root/.cache/pip/wheels/22/cc/2e/55980bfe86393df3e9896146a01f6802978d09d7ebcba5ea56\n",
            "Successfully built PTable\n",
            "Installing collected packages: PTable\n",
            "Successfully installed PTable-0.9.2\n"
          ],
          "name": "stdout"
        }
      ]
    },
    {
      "cell_type": "code",
      "metadata": {
        "id": "RGtZh8ckrKTl",
        "colab_type": "code",
        "outputId": "d3685779-e228-4b34-d9f1-af29d3ae3727",
        "colab": {
          "base_uri": "https://localhost:8080/",
          "height": 159
        }
      },
      "source": [
        "from prettytable import PrettyTable\n",
        "\n",
        "x= PrettyTable()\n",
        "x.field_names = [\"Vectorizer\" , \"Hyperparameter\", \"AUC\"]\n",
        "x.add_row([\"Bag Of Words\",0.1,0.923486])\n",
        "x.add_row([\"Tf-Idf\",1,0.945869])\n",
        "x.add_row([\"Avg Word2Vec \", 1,0.826496])\n",
        "x.add_row([\"Avg Tf-Idf\",0.1,0.723985])\n",
        "print(x)"
      ],
      "execution_count": 0,
      "outputs": [
        {
          "output_type": "stream",
          "text": [
            "+---------------+----------------+----------+\n",
            "|   Vectorizer  | Hyperparameter |   AUC    |\n",
            "+---------------+----------------+----------+\n",
            "|  Bag Of Words |      0.1       | 0.923486 |\n",
            "|     Tf-Idf    |       1        | 0.945869 |\n",
            "| Avg Word2Vec  |       1        | 0.826496 |\n",
            "|   Avg Tf-Idf  |      0.1       | 0.723985 |\n",
            "+---------------+----------------+----------+\n"
          ],
          "name": "stdout"
        }
      ]
    },
    {
      "cell_type": "markdown",
      "metadata": {
        "id": "FGbCjTAOsFbi",
        "colab_type": "text"
      },
      "source": [
        "## CONCLUSION \n",
        "## BEST C = 1 , ACCURACY = 0.94589 USING TF-IDF EATUREIZATION TECHNIQUE \n",
        "## BAG OF WORDS AND TF-IDF PERFORMED WELL \n",
        "## AFTER SPARSITY THE DATAPOINT DRACTICALLY GET REDUCED."
      ]
    },
    {
      "cell_type": "code",
      "metadata": {
        "id": "YMvF7FCRsktF",
        "colab_type": "code",
        "colab": {}
      },
      "source": [
        "....."
      ],
      "execution_count": 0,
      "outputs": []
    }
  ]
}